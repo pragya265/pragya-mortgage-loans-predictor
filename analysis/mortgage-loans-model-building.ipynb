{
 "cells": [
  {
   "cell_type": "markdown",
   "id": "sexual-dependence",
   "metadata": {},
   "source": [
    "## Predicting Home Loans"
   ]
  },
  {
   "cell_type": "markdown",
   "id": "several-wednesday",
   "metadata": {},
   "source": [
    "Source: https://www.kaggle.com/ufffnick/loan-prediction-dream-housing-finance   \n",
    "Data: https://www.kaggle.com/burak3ergun/loan-data-set"
   ]
  },
  {
   "cell_type": "code",
   "execution_count": 208,
   "id": "aggressive-mayor",
   "metadata": {},
   "outputs": [
    {
     "name": "stdout",
     "output_type": "stream",
     "text": [
      "Requirement already satisfied: seaborn in /home/studio-lab-user/.conda/envs/default/lib/python3.9/site-packages (0.11.2)\n",
      "Requirement already satisfied: numpy>=1.15 in /home/studio-lab-user/.conda/envs/default/lib/python3.9/site-packages (from seaborn) (1.22.3)\n",
      "Requirement already satisfied: matplotlib>=2.2 in /home/studio-lab-user/.conda/envs/default/lib/python3.9/site-packages (from seaborn) (3.5.2)\n",
      "Requirement already satisfied: pandas>=0.23 in /home/studio-lab-user/.conda/envs/default/lib/python3.9/site-packages (from seaborn) (1.4.2)\n",
      "Requirement already satisfied: scipy>=1.0 in /home/studio-lab-user/.conda/envs/default/lib/python3.9/site-packages (from seaborn) (1.8.1)\n",
      "Requirement already satisfied: fonttools>=4.22.0 in /home/studio-lab-user/.conda/envs/default/lib/python3.9/site-packages (from matplotlib>=2.2->seaborn) (4.33.3)\n",
      "Requirement already satisfied: kiwisolver>=1.0.1 in /home/studio-lab-user/.conda/envs/default/lib/python3.9/site-packages (from matplotlib>=2.2->seaborn) (1.4.3)\n",
      "Requirement already satisfied: pyparsing>=2.2.1 in /home/studio-lab-user/.conda/envs/default/lib/python3.9/site-packages (from matplotlib>=2.2->seaborn) (3.0.8)\n",
      "Requirement already satisfied: python-dateutil>=2.7 in /home/studio-lab-user/.conda/envs/default/lib/python3.9/site-packages (from matplotlib>=2.2->seaborn) (2.8.2)\n",
      "Requirement already satisfied: pillow>=6.2.0 in /home/studio-lab-user/.conda/envs/default/lib/python3.9/site-packages (from matplotlib>=2.2->seaborn) (9.1.1)\n",
      "Requirement already satisfied: cycler>=0.10 in /home/studio-lab-user/.conda/envs/default/lib/python3.9/site-packages (from matplotlib>=2.2->seaborn) (0.11.0)\n",
      "Requirement already satisfied: packaging>=20.0 in /home/studio-lab-user/.conda/envs/default/lib/python3.9/site-packages (from matplotlib>=2.2->seaborn) (21.3)\n",
      "Requirement already satisfied: pytz>=2020.1 in /home/studio-lab-user/.conda/envs/default/lib/python3.9/site-packages (from pandas>=0.23->seaborn) (2022.1)\n",
      "Requirement already satisfied: six>=1.5 in /home/studio-lab-user/.conda/envs/default/lib/python3.9/site-packages (from python-dateutil>=2.7->matplotlib>=2.2->seaborn) (1.16.0)\n"
     ]
    }
   ],
   "source": [
    "!pip install seaborn\n",
    "import pandas as pd\n",
    "import numpy as np\n",
    "import seaborn as sns\n",
    "import matplotlib.pyplot as plt\n",
    "import matplotlib.axes\n",
    "import pickle\n",
    "\n",
    "from sklearn.svm import SVC\n",
    "from sklearn.ensemble import RandomForestClassifier\n",
    "from sklearn.naive_bayes import GaussianNB\n",
    "from sklearn.linear_model import LogisticRegression\n",
    "from sklearn.ensemble import AdaBoostClassifier\n",
    "\n",
    "from sklearn.preprocessing import OneHotEncoder, StandardScaler\n",
    "from sklearn.model_selection import train_test_split, cross_val_score\n",
    "from sklearn.model_selection import GridSearchCV\n",
    "\n",
    "from sklearn.metrics import roc_auc_score, precision_recall_fscore_support, classification_report \n",
    "from sklearn.metrics import precision_recall_curve, confusion_matrix, roc_curve, auc"
   ]
  },
  {
   "cell_type": "markdown",
   "id": "polar-aging",
   "metadata": {},
   "source": [
    "### import data"
   ]
  },
  {
   "cell_type": "code",
   "execution_count": 209,
   "id": "apart-netscape",
   "metadata": {},
   "outputs": [
    {
     "data": {
      "text/html": [
       "<div>\n",
       "<style scoped>\n",
       "    .dataframe tbody tr th:only-of-type {\n",
       "        vertical-align: middle;\n",
       "    }\n",
       "\n",
       "    .dataframe tbody tr th {\n",
       "        vertical-align: top;\n",
       "    }\n",
       "\n",
       "    .dataframe thead th {\n",
       "        text-align: right;\n",
       "    }\n",
       "</style>\n",
       "<table border=\"1\" class=\"dataframe\">\n",
       "  <thead>\n",
       "    <tr style=\"text-align: right;\">\n",
       "      <th></th>\n",
       "      <th>Loan_ID</th>\n",
       "      <th>Gender</th>\n",
       "      <th>Married</th>\n",
       "      <th>Dependents</th>\n",
       "      <th>Education</th>\n",
       "      <th>Self_Employed</th>\n",
       "      <th>ApplicantIncome</th>\n",
       "      <th>CoapplicantIncome</th>\n",
       "      <th>LoanAmount</th>\n",
       "      <th>Loan_Amount_Term</th>\n",
       "      <th>Credit_History</th>\n",
       "      <th>Property_Area</th>\n",
       "      <th>Loan_Status</th>\n",
       "    </tr>\n",
       "  </thead>\n",
       "  <tbody>\n",
       "    <tr>\n",
       "      <th>0</th>\n",
       "      <td>LP001002</td>\n",
       "      <td>Male</td>\n",
       "      <td>No</td>\n",
       "      <td>0</td>\n",
       "      <td>Graduate</td>\n",
       "      <td>No</td>\n",
       "      <td>5849</td>\n",
       "      <td>0.0</td>\n",
       "      <td>NaN</td>\n",
       "      <td>360.0</td>\n",
       "      <td>1.0</td>\n",
       "      <td>Urban</td>\n",
       "      <td>Y</td>\n",
       "    </tr>\n",
       "    <tr>\n",
       "      <th>1</th>\n",
       "      <td>LP001003</td>\n",
       "      <td>Male</td>\n",
       "      <td>Yes</td>\n",
       "      <td>1</td>\n",
       "      <td>Graduate</td>\n",
       "      <td>No</td>\n",
       "      <td>4583</td>\n",
       "      <td>1508.0</td>\n",
       "      <td>128.0</td>\n",
       "      <td>360.0</td>\n",
       "      <td>1.0</td>\n",
       "      <td>Rural</td>\n",
       "      <td>N</td>\n",
       "    </tr>\n",
       "    <tr>\n",
       "      <th>2</th>\n",
       "      <td>LP001005</td>\n",
       "      <td>Male</td>\n",
       "      <td>Yes</td>\n",
       "      <td>0</td>\n",
       "      <td>Graduate</td>\n",
       "      <td>Yes</td>\n",
       "      <td>3000</td>\n",
       "      <td>0.0</td>\n",
       "      <td>66.0</td>\n",
       "      <td>360.0</td>\n",
       "      <td>1.0</td>\n",
       "      <td>Urban</td>\n",
       "      <td>Y</td>\n",
       "    </tr>\n",
       "    <tr>\n",
       "      <th>3</th>\n",
       "      <td>LP001006</td>\n",
       "      <td>Male</td>\n",
       "      <td>Yes</td>\n",
       "      <td>0</td>\n",
       "      <td>Not Graduate</td>\n",
       "      <td>No</td>\n",
       "      <td>2583</td>\n",
       "      <td>2358.0</td>\n",
       "      <td>120.0</td>\n",
       "      <td>360.0</td>\n",
       "      <td>1.0</td>\n",
       "      <td>Urban</td>\n",
       "      <td>Y</td>\n",
       "    </tr>\n",
       "    <tr>\n",
       "      <th>4</th>\n",
       "      <td>LP001008</td>\n",
       "      <td>Male</td>\n",
       "      <td>No</td>\n",
       "      <td>0</td>\n",
       "      <td>Graduate</td>\n",
       "      <td>No</td>\n",
       "      <td>6000</td>\n",
       "      <td>0.0</td>\n",
       "      <td>141.0</td>\n",
       "      <td>360.0</td>\n",
       "      <td>1.0</td>\n",
       "      <td>Urban</td>\n",
       "      <td>Y</td>\n",
       "    </tr>\n",
       "  </tbody>\n",
       "</table>\n",
       "</div>"
      ],
      "text/plain": [
       "    Loan_ID Gender Married Dependents     Education Self_Employed  \\\n",
       "0  LP001002   Male      No          0      Graduate            No   \n",
       "1  LP001003   Male     Yes          1      Graduate            No   \n",
       "2  LP001005   Male     Yes          0      Graduate           Yes   \n",
       "3  LP001006   Male     Yes          0  Not Graduate            No   \n",
       "4  LP001008   Male      No          0      Graduate            No   \n",
       "\n",
       "   ApplicantIncome  CoapplicantIncome  LoanAmount  Loan_Amount_Term  \\\n",
       "0             5849                0.0         NaN             360.0   \n",
       "1             4583             1508.0       128.0             360.0   \n",
       "2             3000                0.0        66.0             360.0   \n",
       "3             2583             2358.0       120.0             360.0   \n",
       "4             6000                0.0       141.0             360.0   \n",
       "\n",
       "   Credit_History Property_Area Loan_Status  \n",
       "0             1.0         Urban           Y  \n",
       "1             1.0         Rural           N  \n",
       "2             1.0         Urban           Y  \n",
       "3             1.0         Urban           Y  \n",
       "4             1.0         Urban           Y  "
      ]
     },
     "execution_count": 209,
     "metadata": {},
     "output_type": "execute_result"
    }
   ],
   "source": [
    "loans_df = pd.read_csv('../data/loan_data_set.csv')\n",
    "loans_df.shape\n",
    "loans_df.head()"
   ]
  },
  {
   "cell_type": "markdown",
   "id": "under-instrument",
   "metadata": {},
   "source": [
    "## Exploratory Data Analysis"
   ]
  },
  {
   "cell_type": "code",
   "execution_count": 210,
   "id": "specific-theory",
   "metadata": {},
   "outputs": [
    {
     "name": "stdout",
     "output_type": "stream",
     "text": [
      "Loan_Status\n",
      "Y              422\n",
      "N              192\n",
      "dtype: int64\n"
     ]
    }
   ],
   "source": [
    "# target variable: Approval of Mortgage Loan\n",
    "print(loans_df[['Loan_Status']].value_counts())"
   ]
  },
  {
   "cell_type": "code",
   "execution_count": 211,
   "id": "controlled-postcard",
   "metadata": {},
   "outputs": [
    {
     "name": "stdout",
     "output_type": "stream",
     "text": [
      "\n",
      "         ApplicantIncome\n",
      "mean        5403.459283\n",
      "median      3812.500000\n",
      "min          150.000000\n",
      "max        81000.000000\n",
      "std         6109.041673\n",
      "\n",
      "         CoapplicantIncome\n",
      "mean          1621.245798\n",
      "median        1188.500000\n",
      "min              0.000000\n",
      "max          41667.000000\n",
      "std           2926.248369\n",
      "\n",
      "         LoanAmount\n",
      "mean    146.412162\n",
      "median  128.000000\n",
      "min       9.000000\n",
      "max     700.000000\n",
      "std      85.587325\n"
     ]
    }
   ],
   "source": [
    "# continuous variables\n",
    "print('\\n',loans_df[['ApplicantIncome']].agg(['mean','median','min','max', 'std']))\n",
    "print('\\n',loans_df[['CoapplicantIncome']].agg(['mean','median','min','max', 'std']))\n",
    "print('\\n',loans_df[['LoanAmount']].agg(['mean','median','min','max', 'std']))"
   ]
  },
  {
   "cell_type": "code",
   "execution_count": 212,
   "id": "eleven-ladder",
   "metadata": {},
   "outputs": [
    {
     "name": "stdout",
     "output_type": "stream",
     "text": [
      "\n",
      " Loan_Amount_Term\n",
      "360.0               512\n",
      "180.0                44\n",
      "480.0                15\n",
      "300.0                13\n",
      "84.0                  4\n",
      "dtype: int64\n",
      "\n",
      " Property_Area\n",
      "Semiurban        233\n",
      "Urban            202\n",
      "Rural            179\n",
      "dtype: int64\n",
      "\n",
      " Gender\n",
      "Male      489\n",
      "Female    112\n",
      "dtype: int64\n",
      "\n",
      " Education   \n",
      "Graduate        480\n",
      "Not Graduate    134\n",
      "dtype: int64\n",
      "\n",
      " Self_Employed\n",
      "No               500\n",
      "Yes               82\n",
      "dtype: int64\n",
      "\n",
      " Credit_History\n",
      "1.0               475\n",
      "0.0                89\n",
      "dtype: int64\n",
      "\n",
      " Married\n",
      "Yes        398\n",
      "No         213\n",
      "dtype: int64\n"
     ]
    }
   ],
   "source": [
    "# categorical variables\n",
    "print('\\n',loans_df[['Loan_Amount_Term']].value_counts().head())\n",
    "print('\\n',loans_df[['Property_Area']].value_counts())\n",
    "print('\\n',loans_df[['Gender']].value_counts())\n",
    "print('\\n',loans_df[['Education']].value_counts())\n",
    "print('\\n',loans_df[['Self_Employed']].value_counts())\n",
    "print('\\n', loans_df[['Credit_History']].value_counts())\n",
    "print('\\n', loans_df[['Married']].value_counts())"
   ]
  },
  {
   "cell_type": "code",
   "execution_count": 213,
   "id": "documentary-flesh",
   "metadata": {},
   "outputs": [],
   "source": [
    "# combine the incomes (because sometimes coapplicant is missing)\n",
    "loans_df['Combined_Income']=loans_df['ApplicantIncome'] + loans_df['CoapplicantIncome']"
   ]
  },
  {
   "cell_type": "markdown",
   "id": "native-african",
   "metadata": {},
   "source": [
    "#### Visualize the relationships with the target"
   ]
  },
  {
   "cell_type": "code",
   "execution_count": 216,
   "id": "protective-plain",
   "metadata": {},
   "outputs": [
    {
     "data": {
      "application/vnd.plotly.v1+json": {
       "config": {
        "plotlyServerURL": "https://plot.ly"
       },
       "data": [
        {
         "hoverinfo": "text",
         "marker": {
          "color": "blue",
          "opacity": 0.4,
          "size": 5
         },
         "mode": "markers",
         "name": "approved",
         "text": [
          "('Credit: 1.0', 'Education: Graduate', 'Property Area: Urban', 'Gender: Male', 'Married: No', 'Education: Graduate', 'Self-Employed: No')",
          "('Credit: 1.0', 'Education: Graduate', 'Property Area: Rural', 'Gender: Male', 'Married: Yes', 'Education: Graduate', 'Self-Employed: No')",
          "('Credit: 1.0', 'Education: Graduate', 'Property Area: Urban', 'Gender: Male', 'Married: Yes', 'Education: Graduate', 'Self-Employed: Yes')",
          "('Credit: 1.0', 'Education: Not Graduate', 'Property Area: Urban', 'Gender: Male', 'Married: Yes', 'Education: Not Graduate', 'Self-Employed: No')",
          "('Credit: 1.0', 'Education: Graduate', 'Property Area: Urban', 'Gender: Male', 'Married: No', 'Education: Graduate', 'Self-Employed: No')",
          "('Credit: 1.0', 'Education: Graduate', 'Property Area: Urban', 'Gender: Male', 'Married: Yes', 'Education: Graduate', 'Self-Employed: Yes')",
          "('Credit: 1.0', 'Education: Not Graduate', 'Property Area: Urban', 'Gender: Male', 'Married: Yes', 'Education: Not Graduate', 'Self-Employed: No')",
          "('Credit: 0.0', 'Education: Graduate', 'Property Area: Semiurban', 'Gender: Male', 'Married: Yes', 'Education: Graduate', 'Self-Employed: No')",
          "('Credit: 1.0', 'Education: Graduate', 'Property Area: Urban', 'Gender: Male', 'Married: Yes', 'Education: Graduate', 'Self-Employed: No')",
          "('Credit: 1.0', 'Education: Graduate', 'Property Area: Semiurban', 'Gender: Male', 'Married: Yes', 'Education: Graduate', 'Self-Employed: No')",
          "('Credit: 1.0', 'Education: Graduate', 'Property Area: Urban', 'Gender: Male', 'Married: Yes', 'Education: Graduate', 'Self-Employed: No')",
          "('Credit: 1.0', 'Education: Graduate', 'Property Area: Urban', 'Gender: Male', 'Married: Yes', 'Education: Graduate', 'Self-Employed: nan')",
          "('Credit: 1.0', 'Education: Graduate', 'Property Area: Urban', 'Gender: Male', 'Married: Yes', 'Education: Graduate', 'Self-Employed: No')",
          "('Credit: 1.0', 'Education: Graduate', 'Property Area: Rural', 'Gender: Male', 'Married: No', 'Education: Graduate', 'Self-Employed: No')",
          "('Credit: 1.0', 'Education: Graduate', 'Property Area: Urban', 'Gender: Male', 'Married: Yes', 'Education: Graduate', 'Self-Employed: No')",
          "('Credit: 1.0', 'Education: Graduate', 'Property Area: Urban', 'Gender: Male', 'Married: No', 'Education: Graduate', 'Self-Employed: No')",
          "('Credit: nan', 'Education: Not Graduate', 'Property Area: Urban', 'Gender: Male', 'Married: No', 'Education: Not Graduate', 'Self-Employed: No')",
          "('Credit: 0.0', 'Education: Graduate', 'Property Area: Urban', 'Gender: Female', 'Married: No', 'Education: Graduate', 'Self-Employed: No')",
          "('Credit: 1.0', 'Education: Not Graduate', 'Property Area: Rural', 'Gender: Male', 'Married: Yes', 'Education: Not Graduate', 'Self-Employed: No')",
          "('Credit: 1.0', 'Education: Graduate', 'Property Area: Urban', 'Gender: Male', 'Married: Yes', 'Education: Graduate', 'Self-Employed: nan')",
          "('Credit: 0.0', 'Education: Not Graduate', 'Property Area: Urban', 'Gender: Male', 'Married: Yes', 'Education: Not Graduate', 'Self-Employed: No')",
          "('Credit: 1.0', 'Education: Graduate', 'Property Area: Urban', 'Gender: Male', 'Married: Yes', 'Education: Graduate', 'Self-Employed: No')",
          "('Credit: 0.0', 'Education: Not Graduate', 'Property Area: Semiurban', 'Gender: Male', 'Married: Yes', 'Education: Not Graduate', 'Self-Employed: No')",
          "('Credit: 0.0', 'Education: Not Graduate', 'Property Area: Rural', 'Gender: nan', 'Married: Yes', 'Education: Not Graduate', 'Self-Employed: No')",
          "('Credit: nan', 'Education: Graduate', 'Property Area: Semiurban', 'Gender: Male', 'Married: Yes', 'Education: Graduate', 'Self-Employed: nan')",
          "('Credit: 1.0', 'Education: Graduate', 'Property Area: Semiurban', 'Gender: Male', 'Married: Yes', 'Education: Graduate', 'Self-Employed: Yes')",
          "('Credit: 1.0', 'Education: Graduate', 'Property Area: Semiurban', 'Gender: Male', 'Married: Yes', 'Education: Graduate', 'Self-Employed: No')",
          "('Credit: 1.0', 'Education: Not Graduate', 'Property Area: Urban', 'Gender: Male', 'Married: Yes', 'Education: Not Graduate', 'Self-Employed: No')",
          "('Credit: 1.0', 'Education: Not Graduate', 'Property Area: Urban', 'Gender: Male', 'Married: No', 'Education: Not Graduate', 'Self-Employed: No')",
          "('Credit: 1.0', 'Education: Graduate', 'Property Area: Semiurban', 'Gender: Female', 'Married: No', 'Education: Graduate', 'Self-Employed: nan')",
          "('Credit: nan', 'Education: Graduate', 'Property Area: Urban', 'Gender: Male', 'Married: Yes', 'Education: Graduate', 'Self-Employed: nan')",
          "('Credit: 1.0', 'Education: Graduate', 'Property Area: Urban', 'Gender: Male', 'Married: No', 'Education: Graduate', 'Self-Employed: No')",
          "('Credit: 1.0', 'Education: Graduate', 'Property Area: Rural', 'Gender: Male', 'Married: No', 'Education: Graduate', 'Self-Employed: Yes')",
          "('Credit: 1.0', 'Education: Graduate', 'Property Area: Semiurban', 'Gender: Male', 'Married: Yes', 'Education: Graduate', 'Self-Employed: No')",
          "('Credit: 1.0', 'Education: Graduate', 'Property Area: Rural', 'Gender: Male', 'Married: No', 'Education: Graduate', 'Self-Employed: No')",
          "('Credit: 1.0', 'Education: Graduate', 'Property Area: Urban', 'Gender: Male', 'Married: Yes', 'Education: Graduate', 'Self-Employed: No')",
          "('Credit: 0.0', 'Education: Graduate', 'Property Area: Urban', 'Gender: Male', 'Married: Yes', 'Education: Graduate', 'Self-Employed: No')",
          "('Credit: 1.0', 'Education: Graduate', 'Property Area: Semiurban', 'Gender: Female', 'Married: Yes', 'Education: Graduate', 'Self-Employed: No')",
          "('Credit: 1.0', 'Education: Graduate', 'Property Area: Urban', 'Gender: Male', 'Married: No', 'Education: Graduate', 'Self-Employed: No')",
          "('Credit: 1.0', 'Education: Not Graduate', 'Property Area: Semiurban', 'Gender: Male', 'Married: No', 'Education: Not Graduate', 'Self-Employed: No')",
          "('Credit: 1.0', 'Education: Graduate', 'Property Area: Urban', 'Gender: Male', 'Married: No', 'Education: Graduate', 'Self-Employed: No')",
          "('Credit: 1.0', 'Education: Graduate', 'Property Area: Urban', 'Gender: Male', 'Married: No', 'Education: Graduate', 'Self-Employed: No')",
          "('Credit: nan', 'Education: Graduate', 'Property Area: Urban', 'Gender: Male', 'Married: Yes', 'Education: Graduate', 'Self-Employed: No')",
          "('Credit: 1.0', 'Education: Graduate', 'Property Area: Semiurban', 'Gender: Male', 'Married: Yes', 'Education: Graduate', 'Self-Employed: No')",
          "('Credit: 1.0', 'Education: Not Graduate', 'Property Area: Urban', 'Gender: Male', 'Married: Yes', 'Education: Not Graduate', 'Self-Employed: Yes')",
          "('Credit: 1.0', 'Education: Graduate', 'Property Area: Urban', 'Gender: Female', 'Married: No', 'Education: Graduate', 'Self-Employed: No')",
          "('Credit: 1.0', 'Education: Graduate', 'Property Area: Urban', 'Gender: Male', 'Married: Yes', 'Education: Graduate', 'Self-Employed: No')",
          "('Credit: 1.0', 'Education: Graduate', 'Property Area: Urban', 'Gender: Male', 'Married: Yes', 'Education: Graduate', 'Self-Employed: No')",
          "('Credit: 0.0', 'Education: Graduate', 'Property Area: Urban', 'Gender: Female', 'Married: Yes', 'Education: Graduate', 'Self-Employed: No')",
          "('Credit: 1.0', 'Education: Graduate', 'Property Area: Semiurban', 'Gender: Female', 'Married: No', 'Education: Graduate', 'Self-Employed: No')",
          "('Credit: 1.0', 'Education: Not Graduate', 'Property Area: Semiurban', 'Gender: Female', 'Married: Yes', 'Education: Not Graduate', 'Self-Employed: No')",
          "('Credit: 1.0', 'Education: Graduate', 'Property Area: Semiurban', 'Gender: Female', 'Married: No', 'Education: Graduate', 'Self-Employed: No')",
          "('Credit: 1.0', 'Education: Graduate', 'Property Area: Semiurban', 'Gender: Female', 'Married: No', 'Education: Graduate', 'Self-Employed: No')",
          "('Credit: 1.0', 'Education: Graduate', 'Property Area: Urban', 'Gender: Male', 'Married: Yes', 'Education: Graduate', 'Self-Employed: No')",
          "('Credit: 0.0', 'Education: Graduate', 'Property Area: Urban', 'Gender: Female', 'Married: Yes', 'Education: Graduate', 'Self-Employed: Yes')",
          "('Credit: 1.0', 'Education: Graduate', 'Property Area: Semiurban', 'Gender: Male', 'Married: Yes', 'Education: Graduate', 'Self-Employed: No')",
          "('Credit: 1.0', 'Education: Graduate', 'Property Area: Semiurban', 'Gender: Male', 'Married: Yes', 'Education: Graduate', 'Self-Employed: No')",
          "('Credit: 1.0', 'Education: Graduate', 'Property Area: Rural', 'Gender: Male', 'Married: Yes', 'Education: Graduate', 'Self-Employed: No')",
          "('Credit: 1.0', 'Education: Graduate', 'Property Area: Urban', 'Gender: Male', 'Married: Yes', 'Education: Graduate', 'Self-Employed: No')",
          "('Credit: 1.0', 'Education: Not Graduate', 'Property Area: Urban', 'Gender: Male', 'Married: Yes', 'Education: Not Graduate', 'Self-Employed: No')",
          "('Credit: 1.0', 'Education: Graduate', 'Property Area: Urban', 'Gender: Male', 'Married: Yes', 'Education: Graduate', 'Self-Employed: No')",
          "('Credit: 1.0', 'Education: Graduate', 'Property Area: Urban', 'Gender: Male', 'Married: Yes', 'Education: Graduate', 'Self-Employed: No')",
          "('Credit: 0.0', 'Education: Not Graduate', 'Property Area: Rural', 'Gender: Male', 'Married: Yes', 'Education: Not Graduate', 'Self-Employed: Yes')",
          "('Credit: 0.0', 'Education: Graduate', 'Property Area: Rural', 'Gender: Male', 'Married: Yes', 'Education: Graduate', 'Self-Employed: No')",
          "('Credit: 0.0', 'Education: Graduate', 'Property Area: Semiurban', 'Gender: Female', 'Married: No', 'Education: Graduate', 'Self-Employed: No')",
          "('Credit: 1.0', 'Education: Graduate', 'Property Area: Semiurban', 'Gender: Male', 'Married: Yes', 'Education: Graduate', 'Self-Employed: No')",
          "('Credit: 0.0', 'Education: Not Graduate', 'Property Area: Urban', 'Gender: Male', 'Married: No', 'Education: Not Graduate', 'Self-Employed: No')",
          "('Credit: 1.0', 'Education: Graduate', 'Property Area: Urban', 'Gender: Male', 'Married: Yes', 'Education: Graduate', 'Self-Employed: No')",
          "('Credit: 1.0', 'Education: Not Graduate', 'Property Area: Urban', 'Gender: Male', 'Married: Yes', 'Education: Not Graduate', 'Self-Employed: Yes')",
          "('Credit: 0.0', 'Education: Graduate', 'Property Area: Semiurban', 'Gender: Female', 'Married: No', 'Education: Graduate', 'Self-Employed: No')",
          "('Credit: 1.0', 'Education: Graduate', 'Property Area: Urban', 'Gender: Male', 'Married: Yes', 'Education: Graduate', 'Self-Employed: No')",
          "('Credit: 1.0', 'Education: Not Graduate', 'Property Area: Semiurban', 'Gender: Male', 'Married: Yes', 'Education: Not Graduate', 'Self-Employed: Yes')",
          "('Credit: 1.0', 'Education: Graduate', 'Property Area: Semiurban', 'Gender: Male', 'Married: No', 'Education: Graduate', 'Self-Employed: No')",
          "('Credit: 0.0', 'Education: Not Graduate', 'Property Area: Semiurban', 'Gender: Male', 'Married: Yes', 'Education: Not Graduate', 'Self-Employed: No')",
          "('Credit: 1.0', 'Education: Graduate', 'Property Area: Semiurban', 'Gender: Male', 'Married: Yes', 'Education: Graduate', 'Self-Employed: Yes')",
          "('Credit: 1.0', 'Education: Graduate', 'Property Area: Urban', 'Gender: Male', 'Married: No', 'Education: Graduate', 'Self-Employed: No')",
          "('Credit: 1.0', 'Education: Graduate', 'Property Area: Urban', 'Gender: Male', 'Married: No', 'Education: Graduate', 'Self-Employed: No')",
          "('Credit: 1.0', 'Education: Graduate', 'Property Area: Urban', 'Gender: Male', 'Married: Yes', 'Education: Graduate', 'Self-Employed: Yes')",
          "('Credit: 0.0', 'Education: Graduate', 'Property Area: Semiurban', 'Gender: Male', 'Married: Yes', 'Education: Graduate', 'Self-Employed: No')",
          "('Credit: nan', 'Education: Not Graduate', 'Property Area: Semiurban', 'Gender: Male', 'Married: Yes', 'Education: Not Graduate', 'Self-Employed: Yes')",
          "('Credit: 1.0', 'Education: Graduate', 'Property Area: Semiurban', 'Gender: Female', 'Married: No', 'Education: Graduate', 'Self-Employed: No')",
          "('Credit: 1.0', 'Education: Graduate', 'Property Area: Semiurban', 'Gender: Male', 'Married: Yes', 'Education: Graduate', 'Self-Employed: Yes')",
          "('Credit: 1.0', 'Education: Graduate', 'Property Area: Urban', 'Gender: Female', 'Married: Yes', 'Education: Graduate', 'Self-Employed: No')",
          "('Credit: nan', 'Education: Graduate', 'Property Area: Semiurban', 'Gender: Male', 'Married: Yes', 'Education: Graduate', 'Self-Employed: No')",
          "('Credit: 1.0', 'Education: Graduate', 'Property Area: Urban', 'Gender: Male', 'Married: Yes', 'Education: Graduate', 'Self-Employed: No')",
          "('Credit: 1.0', 'Education: Graduate', 'Property Area: Semiurban', 'Gender: Male', 'Married: No', 'Education: Graduate', 'Self-Employed: No')",
          "('Credit: nan', 'Education: Not Graduate', 'Property Area: Semiurban', 'Gender: Male', 'Married: Yes', 'Education: Not Graduate', 'Self-Employed: No')",
          "('Credit: 1.0', 'Education: Graduate', 'Property Area: Semiurban', 'Gender: Male', 'Married: Yes', 'Education: Graduate', 'Self-Employed: No')",
          "('Credit: 1.0', 'Education: Graduate', 'Property Area: Urban', 'Gender: Male', 'Married: No', 'Education: Graduate', 'Self-Employed: No')",
          "('Credit: 1.0', 'Education: Graduate', 'Property Area: Semiurban', 'Gender: Male', 'Married: Yes', 'Education: Graduate', 'Self-Employed: No')",
          "('Credit: 1.0', 'Education: Graduate', 'Property Area: Semiurban', 'Gender: Male', 'Married: Yes', 'Education: Graduate', 'Self-Employed: No')",
          "('Credit: 1.0', 'Education: Graduate', 'Property Area: Semiurban', 'Gender: Male', 'Married: Yes', 'Education: Graduate', 'Self-Employed: No')",
          "('Credit: 1.0', 'Education: Not Graduate', 'Property Area: Urban', 'Gender: Male', 'Married: Yes', 'Education: Not Graduate', 'Self-Employed: No')",
          "('Credit: 1.0', 'Education: Graduate', 'Property Area: Semiurban', 'Gender: Male', 'Married: No', 'Education: Graduate', 'Self-Employed: No')",
          "('Credit: 1.0', 'Education: Not Graduate', 'Property Area: Semiurban', 'Gender: Male', 'Married: No', 'Education: Not Graduate', 'Self-Employed: No')",
          "('Credit: nan', 'Education: Graduate', 'Property Area: Urban', 'Gender: Male', 'Married: No', 'Education: Graduate', 'Self-Employed: nan')",
          "('Credit: 1.0', 'Education: Graduate', 'Property Area: Semiurban', 'Gender: Female', 'Married: Yes', 'Education: Graduate', 'Self-Employed: No')",
          "('Credit: 1.0', 'Education: Graduate', 'Property Area: Semiurban', 'Gender: Male', 'Married: Yes', 'Education: Graduate', 'Self-Employed: No')",
          "('Credit: 1.0', 'Education: Not Graduate', 'Property Area: Semiurban', 'Gender: Male', 'Married: Yes', 'Education: Not Graduate', 'Self-Employed: No')",
          "('Credit: 1.0', 'Education: Graduate', 'Property Area: Semiurban', 'Gender: Male', 'Married: Yes', 'Education: Graduate', 'Self-Employed: No')",
          "('Credit: 1.0', 'Education: Not Graduate', 'Property Area: Urban', 'Gender: Male', 'Married: Yes', 'Education: Not Graduate', 'Self-Employed: No')",
          "('Credit: 1.0', 'Education: Graduate', 'Property Area: Semiurban', 'Gender: Male', 'Married: No', 'Education: Graduate', 'Self-Employed: No')",
          "('Credit: 1.0', 'Education: Graduate', 'Property Area: Urban', 'Gender: Male', 'Married: Yes', 'Education: Graduate', 'Self-Employed: No')",
          "('Credit: 1.0', 'Education: Graduate', 'Property Area: Semiurban', 'Gender: Male', 'Married: Yes', 'Education: Graduate', 'Self-Employed: No')",
          "('Credit: 1.0', 'Education: Graduate', 'Property Area: Urban', 'Gender: Male', 'Married: nan', 'Education: Graduate', 'Self-Employed: No')",
          "('Credit: 1.0', 'Education: Graduate', 'Property Area: Urban', 'Gender: Male', 'Married: Yes', 'Education: Graduate', 'Self-Employed: No')",
          "('Credit: 1.0', 'Education: Graduate', 'Property Area: Urban', 'Gender: Male', 'Married: Yes', 'Education: Graduate', 'Self-Employed: No')",
          "('Credit: 1.0', 'Education: Not Graduate', 'Property Area: Rural', 'Gender: Male', 'Married: No', 'Education: Not Graduate', 'Self-Employed: nan')",
          "('Credit: 0.0', 'Education: Graduate', 'Property Area: Urban', 'Gender: Male', 'Married: Yes', 'Education: Graduate', 'Self-Employed: No')",
          "('Credit: 1.0', 'Education: Not Graduate', 'Property Area: Semiurban', 'Gender: Male', 'Married: Yes', 'Education: Not Graduate', 'Self-Employed: No')",
          "('Credit: 1.0', 'Education: Graduate', 'Property Area: Urban', 'Gender: Male', 'Married: No', 'Education: Graduate', 'Self-Employed: No')",
          "('Credit: 1.0', 'Education: Graduate', 'Property Area: Semiurban', 'Gender: Female', 'Married: Yes', 'Education: Graduate', 'Self-Employed: nan')",
          "('Credit: 0.0', 'Education: Not Graduate', 'Property Area: Rural', 'Gender: Male', 'Married: Yes', 'Education: Not Graduate', 'Self-Employed: No')",
          "('Credit: 1.0', 'Education: Graduate', 'Property Area: Semiurban', 'Gender: Female', 'Married: No', 'Education: Graduate', 'Self-Employed: Yes')",
          "('Credit: 1.0', 'Education: Graduate', 'Property Area: Semiurban', 'Gender: Male', 'Married: No', 'Education: Graduate', 'Self-Employed: nan')",
          "('Credit: 1.0', 'Education: Graduate', 'Property Area: Rural', 'Gender: Male', 'Married: Yes', 'Education: Graduate', 'Self-Employed: No')",
          "('Credit: 1.0', 'Education: Graduate', 'Property Area: Semiurban', 'Gender: Female', 'Married: Yes', 'Education: Graduate', 'Self-Employed: No')",
          "('Credit: nan', 'Education: Graduate', 'Property Area: Urban', 'Gender: Male', 'Married: Yes', 'Education: Graduate', 'Self-Employed: No')",
          "('Credit: 1.0', 'Education: Graduate', 'Property Area: Rural', 'Gender: Male', 'Married: Yes', 'Education: Graduate', 'Self-Employed: No')",
          "('Credit: 1.0', 'Education: Graduate', 'Property Area: Urban', 'Gender: Female', 'Married: No', 'Education: Graduate', 'Self-Employed: No')",
          "('Credit: 1.0', 'Education: Graduate', 'Property Area: Rural', 'Gender: Male', 'Married: Yes', 'Education: Graduate', 'Self-Employed: No')",
          "('Credit: 1.0', 'Education: Graduate', 'Property Area: Semiurban', 'Gender: Female', 'Married: No', 'Education: Graduate', 'Self-Employed: No')",
          "('Credit: 0.0', 'Education: Graduate', 'Property Area: Semiurban', 'Gender: Female', 'Married: No', 'Education: Graduate', 'Self-Employed: No')",
          "('Credit: 1.0', 'Education: Graduate', 'Property Area: Semiurban', 'Gender: Male', 'Married: Yes', 'Education: Graduate', 'Self-Employed: No')",
          "('Credit: 1.0', 'Education: Not Graduate', 'Property Area: Rural', 'Gender: Male', 'Married: Yes', 'Education: Not Graduate', 'Self-Employed: No')",
          "('Credit: nan', 'Education: Graduate', 'Property Area: Rural', 'Gender: Female', 'Married: No', 'Education: Graduate', 'Self-Employed: No')",
          "('Credit: 1.0', 'Education: Graduate', 'Property Area: Rural', 'Gender: nan', 'Married: Yes', 'Education: Graduate', 'Self-Employed: No')",
          "('Credit: 1.0', 'Education: Graduate', 'Property Area: Rural', 'Gender: Male', 'Married: No', 'Education: Graduate', 'Self-Employed: No')",
          "('Credit: 0.0', 'Education: Graduate', 'Property Area: Urban', 'Gender: Male', 'Married: Yes', 'Education: Graduate', 'Self-Employed: Yes')",
          "('Credit: nan', 'Education: Graduate', 'Property Area: Rural', 'Gender: Male', 'Married: Yes', 'Education: Graduate', 'Self-Employed: No')",
          "('Credit: nan', 'Education: Graduate', 'Property Area: Urban', 'Gender: Male', 'Married: No', 'Education: Graduate', 'Self-Employed: Yes')",
          "('Credit: 1.0', 'Education: Graduate', 'Property Area: Urban', 'Gender: Male', 'Married: No', 'Education: Graduate', 'Self-Employed: No')",
          "('Credit: 1.0', 'Education: Graduate', 'Property Area: Semiurban', 'Gender: Male', 'Married: No', 'Education: Graduate', 'Self-Employed: No')",
          "('Credit: 1.0', 'Education: Graduate', 'Property Area: Semiurban', 'Gender: Male', 'Married: Yes', 'Education: Graduate', 'Self-Employed: Yes')",
          "('Credit: 1.0', 'Education: Graduate', 'Property Area: Semiurban', 'Gender: Male', 'Married: No', 'Education: Graduate', 'Self-Employed: No')",
          "('Credit: 1.0', 'Education: Graduate', 'Property Area: Semiurban', 'Gender: Male', 'Married: Yes', 'Education: Graduate', 'Self-Employed: No')",
          "('Credit: 1.0', 'Education: Graduate', 'Property Area: Rural', 'Gender: Female', 'Married: Yes', 'Education: Graduate', 'Self-Employed: No')",
          "('Credit: 1.0', 'Education: Graduate', 'Property Area: Urban', 'Gender: Male', 'Married: Yes', 'Education: Graduate', 'Self-Employed: Yes')",
          "('Credit: 0.0', 'Education: Graduate', 'Property Area: Semiurban', 'Gender: Male', 'Married: No', 'Education: Graduate', 'Self-Employed: No')",
          "('Credit: 1.0', 'Education: Not Graduate', 'Property Area: Rural', 'Gender: Male', 'Married: Yes', 'Education: Not Graduate', 'Self-Employed: No')",
          "('Credit: 1.0', 'Education: Graduate', 'Property Area: Rural', 'Gender: Male', 'Married: Yes', 'Education: Graduate', 'Self-Employed: No')",
          "('Credit: 1.0', 'Education: Graduate', 'Property Area: Urban', 'Gender: Male', 'Married: No', 'Education: Graduate', 'Self-Employed: No')",
          "('Credit: 1.0', 'Education: Graduate', 'Property Area: Semiurban', 'Gender: Male', 'Married: No', 'Education: Graduate', 'Self-Employed: Yes')",
          "('Credit: 1.0', 'Education: Graduate', 'Property Area: Semiurban', 'Gender: Male', 'Married: Yes', 'Education: Graduate', 'Self-Employed: No')",
          "('Credit: 1.0', 'Education: Graduate', 'Property Area: Urban', 'Gender: Male', 'Married: Yes', 'Education: Graduate', 'Self-Employed: No')",
          "('Credit: 1.0', 'Education: Graduate', 'Property Area: Semiurban', 'Gender: Female', 'Married: Yes', 'Education: Graduate', 'Self-Employed: No')",
          "('Credit: 1.0', 'Education: Graduate', 'Property Area: Urban', 'Gender: Female', 'Married: Yes', 'Education: Graduate', 'Self-Employed: No')",
          "('Credit: 1.0', 'Education: Graduate', 'Property Area: Urban', 'Gender: Male', 'Married: Yes', 'Education: Graduate', 'Self-Employed: No')",
          "('Credit: 1.0', 'Education: Graduate', 'Property Area: Rural', 'Gender: Female', 'Married: No', 'Education: Graduate', 'Self-Employed: No')",
          "('Credit: 1.0', 'Education: Graduate', 'Property Area: Semiurban', 'Gender: Male', 'Married: Yes', 'Education: Graduate', 'Self-Employed: No')",
          "('Credit: 0.0', 'Education: Graduate', 'Property Area: Rural', 'Gender: Male', 'Married: No', 'Education: Graduate', 'Self-Employed: No')",
          "('Credit: 1.0', 'Education: Graduate', 'Property Area: Rural', 'Gender: Male', 'Married: Yes', 'Education: Graduate', 'Self-Employed: Yes')",
          "('Credit: 1.0', 'Education: Graduate', 'Property Area: Urban', 'Gender: Male', 'Married: No', 'Education: Graduate', 'Self-Employed: No')",
          "('Credit: 1.0', 'Education: Not Graduate', 'Property Area: Rural', 'Gender: Male', 'Married: Yes', 'Education: Not Graduate', 'Self-Employed: No')",
          "('Credit: 1.0', 'Education: Graduate', 'Property Area: Urban', 'Gender: Male', 'Married: No', 'Education: Graduate', 'Self-Employed: No')",
          "('Credit: 0.0', 'Education: Graduate', 'Property Area: Semiurban', 'Gender: Male', 'Married: Yes', 'Education: Graduate', 'Self-Employed: No')",
          "('Credit: nan', 'Education: Graduate', 'Property Area: Rural', 'Gender: Male', 'Married: Yes', 'Education: Graduate', 'Self-Employed: No')",
          "('Credit: 1.0', 'Education: Graduate', 'Property Area: Urban', 'Gender: Male', 'Married: Yes', 'Education: Graduate', 'Self-Employed: No')",
          "('Credit: 1.0', 'Education: Graduate', 'Property Area: Rural', 'Gender: Male', 'Married: No', 'Education: Graduate', 'Self-Employed: nan')",
          "('Credit: 1.0', 'Education: Graduate', 'Property Area: Semiurban', 'Gender: Male', 'Married: Yes', 'Education: Graduate', 'Self-Employed: No')",
          "('Credit: 1.0', 'Education: Not Graduate', 'Property Area: Semiurban', 'Gender: Male', 'Married: Yes', 'Education: Not Graduate', 'Self-Employed: No')",
          "('Credit: 1.0', 'Education: Graduate', 'Property Area: Urban', 'Gender: Male', 'Married: Yes', 'Education: Graduate', 'Self-Employed: No')",
          "('Credit: 0.0', 'Education: Graduate', 'Property Area: Semiurban', 'Gender: Male', 'Married: Yes', 'Education: Graduate', 'Self-Employed: No')",
          "('Credit: 1.0', 'Education: Graduate', 'Property Area: Rural', 'Gender: Male', 'Married: Yes', 'Education: Graduate', 'Self-Employed: No')",
          "('Credit: 1.0', 'Education: Graduate', 'Property Area: Urban', 'Gender: Male', 'Married: Yes', 'Education: Graduate', 'Self-Employed: No')",
          "('Credit: 1.0', 'Education: Graduate', 'Property Area: Rural', 'Gender: Male', 'Married: Yes', 'Education: Graduate', 'Self-Employed: No')",
          "('Credit: 1.0', 'Education: Graduate', 'Property Area: Rural', 'Gender: Female', 'Married: Yes', 'Education: Graduate', 'Self-Employed: No')",
          "('Credit: 1.0', 'Education: Graduate', 'Property Area: Rural', 'Gender: Male', 'Married: Yes', 'Education: Graduate', 'Self-Employed: No')",
          "('Credit: 0.0', 'Education: Graduate', 'Property Area: Semiurban', 'Gender: Male', 'Married: No', 'Education: Graduate', 'Self-Employed: No')",
          "('Credit: 1.0', 'Education: Graduate', 'Property Area: Semiurban', 'Gender: Male', 'Married: Yes', 'Education: Graduate', 'Self-Employed: No')",
          "('Credit: 1.0', 'Education: Not Graduate', 'Property Area: Rural', 'Gender: Male', 'Married: Yes', 'Education: Not Graduate', 'Self-Employed: nan')",
          "('Credit: 1.0', 'Education: Graduate', 'Property Area: Urban', 'Gender: nan', 'Married: Yes', 'Education: Graduate', 'Self-Employed: No')",
          "('Credit: 1.0', 'Education: Not Graduate', 'Property Area: Rural', 'Gender: Male', 'Married: Yes', 'Education: Not Graduate', 'Self-Employed: No')",
          "('Credit: 1.0', 'Education: Graduate', 'Property Area: Semiurban', 'Gender: Male', 'Married: Yes', 'Education: Graduate', 'Self-Employed: No')",
          "('Credit: 1.0', 'Education: Not Graduate', 'Property Area: Semiurban', 'Gender: Male', 'Married: Yes', 'Education: Not Graduate', 'Self-Employed: Yes')",
          "('Credit: 1.0', 'Education: Graduate', 'Property Area: Rural', 'Gender: Male', 'Married: Yes', 'Education: Graduate', 'Self-Employed: No')",
          "('Credit: 1.0', 'Education: Graduate', 'Property Area: Rural', 'Gender: Male', 'Married: Yes', 'Education: Graduate', 'Self-Employed: No')",
          "('Credit: 0.0', 'Education: Graduate', 'Property Area: Semiurban', 'Gender: Male', 'Married: Yes', 'Education: Graduate', 'Self-Employed: No')",
          "('Credit: 1.0', 'Education: Graduate', 'Property Area: Semiurban', 'Gender: Male', 'Married: Yes', 'Education: Graduate', 'Self-Employed: No')",
          "('Credit: 0.0', 'Education: Not Graduate', 'Property Area: Urban', 'Gender: Male', 'Married: No', 'Education: Not Graduate', 'Self-Employed: No')",
          "('Credit: 0.0', 'Education: Graduate', 'Property Area: Urban', 'Gender: Male', 'Married: Yes', 'Education: Graduate', 'Self-Employed: No')",
          "('Credit: nan', 'Education: Graduate', 'Property Area: Rural', 'Gender: Male', 'Married: No', 'Education: Graduate', 'Self-Employed: No')",
          "('Credit: 1.0', 'Education: Graduate', 'Property Area: Semiurban', 'Gender: Male', 'Married: Yes', 'Education: Graduate', 'Self-Employed: No')",
          "('Credit: 1.0', 'Education: Graduate', 'Property Area: Semiurban', 'Gender: Male', 'Married: Yes', 'Education: Graduate', 'Self-Employed: No')",
          "('Credit: 1.0', 'Education: Graduate', 'Property Area: Semiurban', 'Gender: Female', 'Married: Yes', 'Education: Graduate', 'Self-Employed: No')",
          "('Credit: 1.0', 'Education: Graduate', 'Property Area: Semiurban', 'Gender: Male', 'Married: Yes', 'Education: Graduate', 'Self-Employed: Yes')",
          "('Credit: 0.0', 'Education: Graduate', 'Property Area: Rural', 'Gender: Male', 'Married: Yes', 'Education: Graduate', 'Self-Employed: Yes')",
          "('Credit: nan', 'Education: Graduate', 'Property Area: Rural', 'Gender: Male', 'Married: Yes', 'Education: Graduate', 'Self-Employed: No')",
          "('Credit: 1.0', 'Education: Graduate', 'Property Area: Rural', 'Gender: nan', 'Married: Yes', 'Education: Graduate', 'Self-Employed: Yes')",
          "('Credit: 1.0', 'Education: Graduate', 'Property Area: Rural', 'Gender: Male', 'Married: Yes', 'Education: Graduate', 'Self-Employed: No')",
          "('Credit: 1.0', 'Education: Not Graduate', 'Property Area: Rural', 'Gender: Male', 'Married: No', 'Education: Not Graduate', 'Self-Employed: No')",
          "('Credit: 1.0', 'Education: Graduate', 'Property Area: Semiurban', 'Gender: Male', 'Married: No', 'Education: Graduate', 'Self-Employed: No')",
          "('Credit: 1.0', 'Education: Not Graduate', 'Property Area: Urban', 'Gender: Male', 'Married: Yes', 'Education: Not Graduate', 'Self-Employed: No')",
          "('Credit: 1.0', 'Education: Graduate', 'Property Area: Semiurban', 'Gender: Male', 'Married: No', 'Education: Graduate', 'Self-Employed: No')",
          "('Credit: 1.0', 'Education: Graduate', 'Property Area: Rural', 'Gender: Male', 'Married: No', 'Education: Graduate', 'Self-Employed: No')",
          "('Credit: 1.0', 'Education: Graduate', 'Property Area: Semiurban', 'Gender: Male', 'Married: Yes', 'Education: Graduate', 'Self-Employed: No')",
          "('Credit: 1.0', 'Education: Graduate', 'Property Area: Rural', 'Gender: Male', 'Married: No', 'Education: Graduate', 'Self-Employed: No')",
          "('Credit: 1.0', 'Education: Not Graduate', 'Property Area: Urban', 'Gender: Female', 'Married: No', 'Education: Not Graduate', 'Self-Employed: No')",
          "('Credit: nan', 'Education: Graduate', 'Property Area: Semiurban', 'Gender: Female', 'Married: Yes', 'Education: Graduate', 'Self-Employed: No')",
          "('Credit: 1.0', 'Education: Graduate', 'Property Area: Urban', 'Gender: Male', 'Married: No', 'Education: Graduate', 'Self-Employed: Yes')",
          "('Credit: 1.0', 'Education: Not Graduate', 'Property Area: Semiurban', 'Gender: Male', 'Married: Yes', 'Education: Not Graduate', 'Self-Employed: No')",
          "('Credit: 0.0', 'Education: Graduate', 'Property Area: Semiurban', 'Gender: Male', 'Married: No', 'Education: Graduate', 'Self-Employed: No')",
          "('Credit: 1.0', 'Education: Not Graduate', 'Property Area: Urban', 'Gender: Male', 'Married: Yes', 'Education: Not Graduate', 'Self-Employed: No')",
          "('Credit: 1.0', 'Education: Not Graduate', 'Property Area: Urban', 'Gender: Male', 'Married: Yes', 'Education: Not Graduate', 'Self-Employed: No')",
          "('Credit: 1.0', 'Education: Not Graduate', 'Property Area: Semiurban', 'Gender: Male', 'Married: Yes', 'Education: Not Graduate', 'Self-Employed: No')",
          "('Credit: 1.0', 'Education: Not Graduate', 'Property Area: Semiurban', 'Gender: Female', 'Married: No', 'Education: Not Graduate', 'Self-Employed: No')",
          "('Credit: 1.0', 'Education: Graduate', 'Property Area: Urban', 'Gender: Female', 'Married: No', 'Education: Graduate', 'Self-Employed: No')",
          "('Credit: 1.0', 'Education: Not Graduate', 'Property Area: Rural', 'Gender: Male', 'Married: No', 'Education: Not Graduate', 'Self-Employed: No')",
          "('Credit: 1.0', 'Education: Graduate', 'Property Area: Urban', 'Gender: Male', 'Married: No', 'Education: Graduate', 'Self-Employed: No')",
          "('Credit: 1.0', 'Education: Graduate', 'Property Area: Semiurban', 'Gender: Male', 'Married: No', 'Education: Graduate', 'Self-Employed: No')",
          "('Credit: 1.0', 'Education: Graduate', 'Property Area: Semiurban', 'Gender: Female', 'Married: No', 'Education: Graduate', 'Self-Employed: No')",
          "('Credit: 0.0', 'Education: Graduate', 'Property Area: Semiurban', 'Gender: Male', 'Married: Yes', 'Education: Graduate', 'Self-Employed: No')",
          "('Credit: 1.0', 'Education: Graduate', 'Property Area: Urban', 'Gender: Male', 'Married: Yes', 'Education: Graduate', 'Self-Employed: Yes')",
          "('Credit: 1.0', 'Education: Not Graduate', 'Property Area: Rural', 'Gender: Male', 'Married: Yes', 'Education: Not Graduate', 'Self-Employed: Yes')",
          "('Credit: 1.0', 'Education: Graduate', 'Property Area: Urban', 'Gender: Male', 'Married: Yes', 'Education: Graduate', 'Self-Employed: No')",
          "('Credit: 1.0', 'Education: Not Graduate', 'Property Area: Semiurban', 'Gender: Male', 'Married: Yes', 'Education: Not Graduate', 'Self-Employed: No')",
          "('Credit: 1.0', 'Education: Graduate', 'Property Area: Rural', 'Gender: Male', 'Married: Yes', 'Education: Graduate', 'Self-Employed: No')",
          "('Credit: 1.0', 'Education: Graduate', 'Property Area: Semiurban', 'Gender: Male', 'Married: Yes', 'Education: Graduate', 'Self-Employed: No')",
          "('Credit: 0.0', 'Education: Graduate', 'Property Area: Semiurban', 'Gender: Male', 'Married: Yes', 'Education: Graduate', 'Self-Employed: nan')",
          "('Credit: nan', 'Education: Graduate', 'Property Area: Semiurban', 'Gender: Female', 'Married: Yes', 'Education: Graduate', 'Self-Employed: No')",
          "('Credit: 0.0', 'Education: Graduate', 'Property Area: Urban', 'Gender: Male', 'Married: Yes', 'Education: Graduate', 'Self-Employed: No')",
          "('Credit: 1.0', 'Education: Graduate', 'Property Area: Semiurban', 'Gender: Male', 'Married: Yes', 'Education: Graduate', 'Self-Employed: No')",
          "('Credit: 1.0', 'Education: Graduate', 'Property Area: Semiurban', 'Gender: Male', 'Married: No', 'Education: Graduate', 'Self-Employed: No')",
          "('Credit: 1.0', 'Education: Graduate', 'Property Area: Semiurban', 'Gender: Male', 'Married: Yes', 'Education: Graduate', 'Self-Employed: No')",
          "('Credit: 1.0', 'Education: Graduate', 'Property Area: Semiurban', 'Gender: Male', 'Married: Yes', 'Education: Graduate', 'Self-Employed: No')",
          "('Credit: 1.0', 'Education: Graduate', 'Property Area: Rural', 'Gender: Male', 'Married: Yes', 'Education: Graduate', 'Self-Employed: No')",
          "('Credit: 1.0', 'Education: Not Graduate', 'Property Area: Urban', 'Gender: Male', 'Married: Yes', 'Education: Not Graduate', 'Self-Employed: Yes')",
          "('Credit: 1.0', 'Education: Graduate', 'Property Area: Semiurban', 'Gender: Male', 'Married: Yes', 'Education: Graduate', 'Self-Employed: No')",
          "('Credit: 1.0', 'Education: Graduate', 'Property Area: Semiurban', 'Gender: Male', 'Married: nan', 'Education: Graduate', 'Self-Employed: No')",
          "('Credit: 1.0', 'Education: Graduate', 'Property Area: Rural', 'Gender: Male', 'Married: No', 'Education: Graduate', 'Self-Employed: Yes')",
          "('Credit: 1.0', 'Education: Graduate', 'Property Area: Semiurban', 'Gender: Male', 'Married: Yes', 'Education: Graduate', 'Self-Employed: No')",
          "('Credit: 1.0', 'Education: Graduate', 'Property Area: Rural', 'Gender: Male', 'Married: Yes', 'Education: Graduate', 'Self-Employed: nan')",
          "('Credit: 1.0', 'Education: Not Graduate', 'Property Area: Rural', 'Gender: Male', 'Married: No', 'Education: Not Graduate', 'Self-Employed: No')",
          "('Credit: 1.0', 'Education: Graduate', 'Property Area: Semiurban', 'Gender: Female', 'Married: No', 'Education: Graduate', 'Self-Employed: No')",
          "('Credit: 1.0', 'Education: Graduate', 'Property Area: Semiurban', 'Gender: Male', 'Married: Yes', 'Education: Graduate', 'Self-Employed: No')",
          "('Credit: 1.0', 'Education: Graduate', 'Property Area: Rural', 'Gender: Male', 'Married: Yes', 'Education: Graduate', 'Self-Employed: No')",
          "('Credit: nan', 'Education: Graduate', 'Property Area: Urban', 'Gender: Male', 'Married: Yes', 'Education: Graduate', 'Self-Employed: nan')",
          "('Credit: nan', 'Education: Graduate', 'Property Area: Urban', 'Gender: Female', 'Married: No', 'Education: Graduate', 'Self-Employed: Yes')",
          "('Credit: 1.0', 'Education: Graduate', 'Property Area: Rural', 'Gender: Female', 'Married: No', 'Education: Graduate', 'Self-Employed: No')",
          "('Credit: 1.0', 'Education: Graduate', 'Property Area: Semiurban', 'Gender: Male', 'Married: Yes', 'Education: Graduate', 'Self-Employed: No')",
          "('Credit: 1.0', 'Education: Graduate', 'Property Area: Rural', 'Gender: Male', 'Married: Yes', 'Education: Graduate', 'Self-Employed: No')",
          "('Credit: 1.0', 'Education: Not Graduate', 'Property Area: Urban', 'Gender: Male', 'Married: Yes', 'Education: Not Graduate', 'Self-Employed: No')",
          "('Credit: 1.0', 'Education: Graduate', 'Property Area: Urban', 'Gender: Male', 'Married: No', 'Education: Graduate', 'Self-Employed: No')",
          "('Credit: 1.0', 'Education: Graduate', 'Property Area: Rural', 'Gender: Male', 'Married: Yes', 'Education: Graduate', 'Self-Employed: Yes')",
          "('Credit: 1.0', 'Education: Not Graduate', 'Property Area: Semiurban', 'Gender: Male', 'Married: Yes', 'Education: Not Graduate', 'Self-Employed: No')",
          "('Credit: 1.0', 'Education: Graduate', 'Property Area: Urban', 'Gender: Male', 'Married: No', 'Education: Graduate', 'Self-Employed: Yes')",
          "('Credit: 1.0', 'Education: Graduate', 'Property Area: Urban', 'Gender: Male', 'Married: Yes', 'Education: Graduate', 'Self-Employed: No')",
          "('Credit: 1.0', 'Education: Not Graduate', 'Property Area: Urban', 'Gender: Male', 'Married: Yes', 'Education: Not Graduate', 'Self-Employed: No')",
          "('Credit: 1.0', 'Education: Graduate', 'Property Area: Semiurban', 'Gender: Male', 'Married: Yes', 'Education: Graduate', 'Self-Employed: No')",
          "('Credit: 1.0', 'Education: Graduate', 'Property Area: Urban', 'Gender: Male', 'Married: Yes', 'Education: Graduate', 'Self-Employed: No')",
          "('Credit: 0.0', 'Education: Not Graduate', 'Property Area: Semiurban', 'Gender: Male', 'Married: Yes', 'Education: Not Graduate', 'Self-Employed: No')",
          "('Credit: 1.0', 'Education: Graduate', 'Property Area: Urban', 'Gender: Female', 'Married: No', 'Education: Graduate', 'Self-Employed: No')",
          "('Credit: 1.0', 'Education: Not Graduate', 'Property Area: Rural', 'Gender: Male', 'Married: No', 'Education: Not Graduate', 'Self-Employed: Yes')",
          "('Credit: 1.0', 'Education: Not Graduate', 'Property Area: Semiurban', 'Gender: Male', 'Married: Yes', 'Education: Not Graduate', 'Self-Employed: No')",
          "('Credit: 0.0', 'Education: Graduate', 'Property Area: Urban', 'Gender: Male', 'Married: No', 'Education: Graduate', 'Self-Employed: Yes')",
          "('Credit: 1.0', 'Education: Graduate', 'Property Area: Rural', 'Gender: Female', 'Married: No', 'Education: Graduate', 'Self-Employed: No')",
          "('Credit: 0.0', 'Education: Not Graduate', 'Property Area: Rural', 'Gender: Male', 'Married: No', 'Education: Not Graduate', 'Self-Employed: No')",
          "('Credit: 1.0', 'Education: Graduate', 'Property Area: Urban', 'Gender: Male', 'Married: Yes', 'Education: Graduate', 'Self-Employed: No')",
          "('Credit: 1.0', 'Education: Graduate', 'Property Area: Rural', 'Gender: Male', 'Married: Yes', 'Education: Graduate', 'Self-Employed: No')",
          "('Credit: nan', 'Education: Not Graduate', 'Property Area: Semiurban', 'Gender: Male', 'Married: Yes', 'Education: Not Graduate', 'Self-Employed: No')",
          "('Credit: nan', 'Education: Graduate', 'Property Area: Urban', 'Gender: Male', 'Married: Yes', 'Education: Graduate', 'Self-Employed: No')",
          "('Credit: 1.0', 'Education: Graduate', 'Property Area: Semiurban', 'Gender: Male', 'Married: No', 'Education: Graduate', 'Self-Employed: No')",
          "('Credit: 1.0', 'Education: Graduate', 'Property Area: Semiurban', 'Gender: Female', 'Married: No', 'Education: Graduate', 'Self-Employed: No')",
          "('Credit: 1.0', 'Education: Graduate', 'Property Area: Rural', 'Gender: Female', 'Married: No', 'Education: Graduate', 'Self-Employed: No')",
          "('Credit: 1.0', 'Education: Graduate', 'Property Area: Semiurban', 'Gender: Male', 'Married: No', 'Education: Graduate', 'Self-Employed: Yes')",
          "('Credit: 1.0', 'Education: Graduate', 'Property Area: Rural', 'Gender: Male', 'Married: No', 'Education: Graduate', 'Self-Employed: No')",
          "('Credit: 1.0', 'Education: Graduate', 'Property Area: Semiurban', 'Gender: Male', 'Married: Yes', 'Education: Graduate', 'Self-Employed: No')",
          "('Credit: 0.0', 'Education: Graduate', 'Property Area: Urban', 'Gender: Male', 'Married: Yes', 'Education: Graduate', 'Self-Employed: No')",
          "('Credit: 1.0', 'Education: Graduate', 'Property Area: Rural', 'Gender: Female', 'Married: No', 'Education: Graduate', 'Self-Employed: nan')",
          "('Credit: 1.0', 'Education: Graduate', 'Property Area: Urban', 'Gender: Female', 'Married: No', 'Education: Graduate', 'Self-Employed: No')",
          "('Credit: 1.0', 'Education: Graduate', 'Property Area: Urban', 'Gender: Female', 'Married: No', 'Education: Graduate', 'Self-Employed: No')",
          "('Credit: 1.0', 'Education: Graduate', 'Property Area: Urban', 'Gender: Male', 'Married: Yes', 'Education: Graduate', 'Self-Employed: No')",
          "('Credit: 1.0', 'Education: Graduate', 'Property Area: Rural', 'Gender: Male', 'Married: No', 'Education: Graduate', 'Self-Employed: No')",
          "('Credit: 1.0', 'Education: Graduate', 'Property Area: Semiurban', 'Gender: Male', 'Married: Yes', 'Education: Graduate', 'Self-Employed: No')",
          "('Credit: 1.0', 'Education: Graduate', 'Property Area: Semiurban', 'Gender: Male', 'Married: Yes', 'Education: Graduate', 'Self-Employed: No')",
          "('Credit: 1.0', 'Education: Graduate', 'Property Area: Semiurban', 'Gender: Male', 'Married: Yes', 'Education: Graduate', 'Self-Employed: No')",
          "('Credit: 1.0', 'Education: Graduate', 'Property Area: Semiurban', 'Gender: Male', 'Married: Yes', 'Education: Graduate', 'Self-Employed: No')",
          "('Credit: 1.0', 'Education: Graduate', 'Property Area: Urban', 'Gender: Male', 'Married: Yes', 'Education: Graduate', 'Self-Employed: No')",
          "('Credit: 1.0', 'Education: Graduate', 'Property Area: Semiurban', 'Gender: Male', 'Married: Yes', 'Education: Graduate', 'Self-Employed: No')",
          "('Credit: nan', 'Education: Not Graduate', 'Property Area: Rural', 'Gender: Female', 'Married: Yes', 'Education: Not Graduate', 'Self-Employed: No')",
          "('Credit: 0.0', 'Education: Not Graduate', 'Property Area: Urban', 'Gender: Male', 'Married: No', 'Education: Not Graduate', 'Self-Employed: Yes')",
          "('Credit: 1.0', 'Education: Graduate', 'Property Area: Semiurban', 'Gender: Male', 'Married: Yes', 'Education: Graduate', 'Self-Employed: No')",
          "('Credit: 1.0', 'Education: Graduate', 'Property Area: Urban', 'Gender: Male', 'Married: Yes', 'Education: Graduate', 'Self-Employed: No')",
          "('Credit: 1.0', 'Education: Graduate', 'Property Area: Urban', 'Gender: Female', 'Married: No', 'Education: Graduate', 'Self-Employed: No')",
          "('Credit: 1.0', 'Education: Graduate', 'Property Area: Rural', 'Gender: Male', 'Married: Yes', 'Education: Graduate', 'Self-Employed: No')",
          "('Credit: 1.0', 'Education: Graduate', 'Property Area: Rural', 'Gender: Male', 'Married: No', 'Education: Graduate', 'Self-Employed: No')",
          "('Credit: 1.0', 'Education: Graduate', 'Property Area: Semiurban', 'Gender: Female', 'Married: No', 'Education: Graduate', 'Self-Employed: Yes')",
          "('Credit: 1.0', 'Education: Graduate', 'Property Area: Rural', 'Gender: Male', 'Married: Yes', 'Education: Graduate', 'Self-Employed: No')",
          "('Credit: 1.0', 'Education: Graduate', 'Property Area: Semiurban', 'Gender: Female', 'Married: No', 'Education: Graduate', 'Self-Employed: No')",
          "('Credit: 1.0', 'Education: Graduate', 'Property Area: Rural', 'Gender: Male', 'Married: No', 'Education: Graduate', 'Self-Employed: No')",
          "('Credit: 1.0', 'Education: Graduate', 'Property Area: Rural', 'Gender: Male', 'Married: Yes', 'Education: Graduate', 'Self-Employed: No')",
          "('Credit: 0.0', 'Education: Graduate', 'Property Area: Semiurban', 'Gender: Male', 'Married: Yes', 'Education: Graduate', 'Self-Employed: No')",
          "('Credit: 1.0', 'Education: Graduate', 'Property Area: Urban', 'Gender: Male', 'Married: Yes', 'Education: Graduate', 'Self-Employed: No')",
          "('Credit: 0.0', 'Education: Graduate', 'Property Area: Urban', 'Gender: Female', 'Married: No', 'Education: Graduate', 'Self-Employed: No')",
          "('Credit: 1.0', 'Education: Graduate', 'Property Area: Semiurban', 'Gender: Male', 'Married: Yes', 'Education: Graduate', 'Self-Employed: No')",
          "('Credit: 1.0', 'Education: Graduate', 'Property Area: Urban', 'Gender: Male', 'Married: Yes', 'Education: Graduate', 'Self-Employed: nan')",
          "('Credit: 1.0', 'Education: Graduate', 'Property Area: Semiurban', 'Gender: Male', 'Married: Yes', 'Education: Graduate', 'Self-Employed: No')",
          "('Credit: 1.0', 'Education: Graduate', 'Property Area: Urban', 'Gender: Female', 'Married: Yes', 'Education: Graduate', 'Self-Employed: No')",
          "('Credit: 1.0', 'Education: Graduate', 'Property Area: Rural', 'Gender: Female', 'Married: No', 'Education: Graduate', 'Self-Employed: No')",
          "('Credit: 1.0', 'Education: Graduate', 'Property Area: Urban', 'Gender: Male', 'Married: Yes', 'Education: Graduate', 'Self-Employed: No')",
          "('Credit: 0.0', 'Education: Not Graduate', 'Property Area: Urban', 'Gender: Male', 'Married: Yes', 'Education: Not Graduate', 'Self-Employed: No')",
          "('Credit: 1.0', 'Education: Not Graduate', 'Property Area: Semiurban', 'Gender: Male', 'Married: Yes', 'Education: Not Graduate', 'Self-Employed: No')",
          "('Credit: 1.0', 'Education: Graduate', 'Property Area: Rural', 'Gender: Female', 'Married: No', 'Education: Graduate', 'Self-Employed: No')",
          "('Credit: 1.0', 'Education: Graduate', 'Property Area: Urban', 'Gender: Male', 'Married: Yes', 'Education: Graduate', 'Self-Employed: No')",
          "('Credit: 1.0', 'Education: Graduate', 'Property Area: Rural', 'Gender: Male', 'Married: No', 'Education: Graduate', 'Self-Employed: No')",
          "('Credit: 1.0', 'Education: Not Graduate', 'Property Area: Urban', 'Gender: Male', 'Married: No', 'Education: Not Graduate', 'Self-Employed: No')",
          "('Credit: 1.0', 'Education: Graduate', 'Property Area: Rural', 'Gender: Female', 'Married: No', 'Education: Graduate', 'Self-Employed: No')",
          "('Credit: 0.0', 'Education: Graduate', 'Property Area: Urban', 'Gender: Female', 'Married: No', 'Education: Graduate', 'Self-Employed: No')",
          "('Credit: 1.0', 'Education: Graduate', 'Property Area: Rural', 'Gender: Male', 'Married: No', 'Education: Graduate', 'Self-Employed: No')",
          "('Credit: nan', 'Education: Not Graduate', 'Property Area: Rural', 'Gender: Male', 'Married: Yes', 'Education: Not Graduate', 'Self-Employed: No')",
          "('Credit: 1.0', 'Education: Graduate', 'Property Area: Semiurban', 'Gender: Female', 'Married: No', 'Education: Graduate', 'Self-Employed: No')",
          "('Credit: 1.0', 'Education: Not Graduate', 'Property Area: Semiurban', 'Gender: Male', 'Married: No', 'Education: Not Graduate', 'Self-Employed: No')",
          "('Credit: 1.0', 'Education: Graduate', 'Property Area: Rural', 'Gender: Female', 'Married: No', 'Education: Graduate', 'Self-Employed: No')",
          "('Credit: nan', 'Education: Graduate', 'Property Area: Rural', 'Gender: Male', 'Married: Yes', 'Education: Graduate', 'Self-Employed: Yes')",
          "('Credit: 1.0', 'Education: Graduate', 'Property Area: Rural', 'Gender: nan', 'Married: Yes', 'Education: Graduate', 'Self-Employed: No')",
          "('Credit: 1.0', 'Education: Not Graduate', 'Property Area: Urban', 'Gender: Male', 'Married: Yes', 'Education: Not Graduate', 'Self-Employed: No')",
          "('Credit: 1.0', 'Education: Graduate', 'Property Area: Semiurban', 'Gender: Male', 'Married: Yes', 'Education: Graduate', 'Self-Employed: No')",
          "('Credit: nan', 'Education: Graduate', 'Property Area: Urban', 'Gender: Male', 'Married: Yes', 'Education: Graduate', 'Self-Employed: No')",
          "('Credit: nan', 'Education: Graduate', 'Property Area: Semiurban', 'Gender: Female', 'Married: No', 'Education: Graduate', 'Self-Employed: No')",
          "('Credit: 1.0', 'Education: Graduate', 'Property Area: Rural', 'Gender: Male', 'Married: Yes', 'Education: Graduate', 'Self-Employed: Yes')",
          "('Credit: 1.0', 'Education: Graduate', 'Property Area: Semiurban', 'Gender: Male', 'Married: Yes', 'Education: Graduate', 'Self-Employed: No')",
          "('Credit: 1.0', 'Education: Graduate', 'Property Area: Semiurban', 'Gender: Male', 'Married: Yes', 'Education: Graduate', 'Self-Employed: No')",
          "('Credit: 1.0', 'Education: Not Graduate', 'Property Area: Rural', 'Gender: Male', 'Married: Yes', 'Education: Not Graduate', 'Self-Employed: No')",
          "('Credit: nan', 'Education: Graduate', 'Property Area: Rural', 'Gender: Female', 'Married: No', 'Education: Graduate', 'Self-Employed: No')",
          "('Credit: 1.0', 'Education: Graduate', 'Property Area: Rural', 'Gender: Male', 'Married: Yes', 'Education: Graduate', 'Self-Employed: No')",
          "('Credit: 0.0', 'Education: Graduate', 'Property Area: Rural', 'Gender: Male', 'Married: Yes', 'Education: Graduate', 'Self-Employed: Yes')",
          "('Credit: 0.0', 'Education: Graduate', 'Property Area: Rural', 'Gender: Male', 'Married: No', 'Education: Graduate', 'Self-Employed: No')",
          "('Credit: 1.0', 'Education: Graduate', 'Property Area: Semiurban', 'Gender: Male', 'Married: Yes', 'Education: Graduate', 'Self-Employed: Yes')",
          "('Credit: 1.0', 'Education: Graduate', 'Property Area: Urban', 'Gender: Female', 'Married: Yes', 'Education: Graduate', 'Self-Employed: No')",
          "('Credit: 1.0', 'Education: Graduate', 'Property Area: Urban', 'Gender: Female', 'Married: No', 'Education: Graduate', 'Self-Employed: No')",
          "('Credit: 1.0', 'Education: Graduate', 'Property Area: Urban', 'Gender: Male', 'Married: No', 'Education: Graduate', 'Self-Employed: No')",
          "('Credit: 1.0', 'Education: Graduate', 'Property Area: Semiurban', 'Gender: Male', 'Married: No', 'Education: Graduate', 'Self-Employed: No')",
          "('Credit: 1.0', 'Education: Graduate', 'Property Area: Urban', 'Gender: Male', 'Married: No', 'Education: Graduate', 'Self-Employed: No')",
          "('Credit: 1.0', 'Education: Graduate', 'Property Area: Urban', 'Gender: Male', 'Married: Yes', 'Education: Graduate', 'Self-Employed: nan')",
          "('Credit: 1.0', 'Education: Graduate', 'Property Area: Urban', 'Gender: nan', 'Married: Yes', 'Education: Graduate', 'Self-Employed: Yes')",
          "('Credit: 1.0', 'Education: Graduate', 'Property Area: Semiurban', 'Gender: Male', 'Married: Yes', 'Education: Graduate', 'Self-Employed: Yes')",
          "('Credit: 1.0', 'Education: Graduate', 'Property Area: Rural', 'Gender: Male', 'Married: Yes', 'Education: Graduate', 'Self-Employed: nan')",
          "('Credit: 1.0', 'Education: Graduate', 'Property Area: Rural', 'Gender: Male', 'Married: Yes', 'Education: Graduate', 'Self-Employed: Yes')",
          "('Credit: 0.0', 'Education: Not Graduate', 'Property Area: Urban', 'Gender: Female', 'Married: No', 'Education: Not Graduate', 'Self-Employed: No')",
          "('Credit: 1.0', 'Education: Graduate', 'Property Area: Semiurban', 'Gender: Female', 'Married: No', 'Education: Graduate', 'Self-Employed: No')",
          "('Credit: 1.0', 'Education: Not Graduate', 'Property Area: Rural', 'Gender: Male', 'Married: Yes', 'Education: Not Graduate', 'Self-Employed: No')",
          "('Credit: 1.0', 'Education: Graduate', 'Property Area: Rural', 'Gender: Female', 'Married: No', 'Education: Graduate', 'Self-Employed: No')",
          "('Credit: 1.0', 'Education: Not Graduate', 'Property Area: Urban', 'Gender: Male', 'Married: Yes', 'Education: Not Graduate', 'Self-Employed: No')",
          "('Credit: 1.0', 'Education: Not Graduate', 'Property Area: Semiurban', 'Gender: Male', 'Married: Yes', 'Education: Not Graduate', 'Self-Employed: No')",
          "('Credit: 1.0', 'Education: Graduate', 'Property Area: Rural', 'Gender: Male', 'Married: Yes', 'Education: Graduate', 'Self-Employed: nan')",
          "('Credit: 1.0', 'Education: Graduate', 'Property Area: Semiurban', 'Gender: Male', 'Married: Yes', 'Education: Graduate', 'Self-Employed: No')",
          "('Credit: 0.0', 'Education: Not Graduate', 'Property Area: Rural', 'Gender: Male', 'Married: Yes', 'Education: Not Graduate', 'Self-Employed: No')",
          "('Credit: 1.0', 'Education: Not Graduate', 'Property Area: Urban', 'Gender: Male', 'Married: Yes', 'Education: Not Graduate', 'Self-Employed: No')",
          "('Credit: nan', 'Education: Graduate', 'Property Area: Semiurban', 'Gender: Male', 'Married: Yes', 'Education: Graduate', 'Self-Employed: No')",
          "('Credit: 1.0', 'Education: Graduate', 'Property Area: Rural', 'Gender: Male', 'Married: Yes', 'Education: Graduate', 'Self-Employed: No')",
          "('Credit: 1.0', 'Education: Graduate', 'Property Area: Semiurban', 'Gender: Male', 'Married: Yes', 'Education: Graduate', 'Self-Employed: No')",
          "('Credit: 1.0', 'Education: Graduate', 'Property Area: Rural', 'Gender: Male', 'Married: No', 'Education: Graduate', 'Self-Employed: No')",
          "('Credit: 1.0', 'Education: Graduate', 'Property Area: Rural', 'Gender: Male', 'Married: Yes', 'Education: Graduate', 'Self-Employed: No')",
          "('Credit: 0.0', 'Education: Graduate', 'Property Area: Rural', 'Gender: Female', 'Married: Yes', 'Education: Graduate', 'Self-Employed: Yes')",
          "('Credit: 1.0', 'Education: Graduate', 'Property Area: Semiurban', 'Gender: Female', 'Married: Yes', 'Education: Graduate', 'Self-Employed: No')",
          "('Credit: 1.0', 'Education: Graduate', 'Property Area: Urban', 'Gender: Female', 'Married: No', 'Education: Graduate', 'Self-Employed: No')",
          "('Credit: 1.0', 'Education: Graduate', 'Property Area: Rural', 'Gender: Male', 'Married: Yes', 'Education: Graduate', 'Self-Employed: No')",
          "('Credit: 1.0', 'Education: Graduate', 'Property Area: Urban', 'Gender: Male', 'Married: Yes', 'Education: Graduate', 'Self-Employed: No')",
          "('Credit: 0.0', 'Education: Not Graduate', 'Property Area: Urban', 'Gender: Male', 'Married: Yes', 'Education: Not Graduate', 'Self-Employed: No')",
          "('Credit: 1.0', 'Education: Graduate', 'Property Area: Semiurban', 'Gender: Male', 'Married: Yes', 'Education: Graduate', 'Self-Employed: No')",
          "('Credit: 1.0', 'Education: Graduate', 'Property Area: Semiurban', 'Gender: Female', 'Married: No', 'Education: Graduate', 'Self-Employed: No')",
          "('Credit: 1.0', 'Education: Graduate', 'Property Area: Semiurban', 'Gender: Male', 'Married: Yes', 'Education: Graduate', 'Self-Employed: No')",
          "('Credit: 1.0', 'Education: Graduate', 'Property Area: Urban', 'Gender: Male', 'Married: Yes', 'Education: Graduate', 'Self-Employed: No')",
          "('Credit: nan', 'Education: Graduate', 'Property Area: Urban', 'Gender: Male', 'Married: Yes', 'Education: Graduate', 'Self-Employed: No')",
          "('Credit: 1.0', 'Education: Graduate', 'Property Area: Rural', 'Gender: Male', 'Married: No', 'Education: Graduate', 'Self-Employed: Yes')",
          "('Credit: 1.0', 'Education: Not Graduate', 'Property Area: Rural', 'Gender: Male', 'Married: No', 'Education: Not Graduate', 'Self-Employed: No')",
          "('Credit: 1.0', 'Education: Graduate', 'Property Area: Semiurban', 'Gender: Male', 'Married: No', 'Education: Graduate', 'Self-Employed: No')",
          "('Credit: 0.0', 'Education: Graduate', 'Property Area: Rural', 'Gender: Male', 'Married: No', 'Education: Graduate', 'Self-Employed: No')",
          "('Credit: 1.0', 'Education: Graduate', 'Property Area: Semiurban', 'Gender: Male', 'Married: Yes', 'Education: Graduate', 'Self-Employed: No')",
          "('Credit: 1.0', 'Education: Graduate', 'Property Area: Rural', 'Gender: Male', 'Married: Yes', 'Education: Graduate', 'Self-Employed: No')",
          "('Credit: 1.0', 'Education: Graduate', 'Property Area: Semiurban', 'Gender: Female', 'Married: No', 'Education: Graduate', 'Self-Employed: Yes')",
          "('Credit: 1.0', 'Education: Graduate', 'Property Area: Semiurban', 'Gender: Male', 'Married: Yes', 'Education: Graduate', 'Self-Employed: No')",
          "('Credit: 1.0', 'Education: Graduate', 'Property Area: Rural', 'Gender: Male', 'Married: Yes', 'Education: Graduate', 'Self-Employed: Yes')",
          "('Credit: 0.0', 'Education: Graduate', 'Property Area: Urban', 'Gender: Male', 'Married: No', 'Education: Graduate', 'Self-Employed: No')",
          "('Credit: 1.0', 'Education: Graduate', 'Property Area: Urban', 'Gender: Female', 'Married: No', 'Education: Graduate', 'Self-Employed: nan')",
          "('Credit: 1.0', 'Education: Graduate', 'Property Area: Urban', 'Gender: Male', 'Married: Yes', 'Education: Graduate', 'Self-Employed: No')",
          "('Credit: 1.0', 'Education: Graduate', 'Property Area: Rural', 'Gender: Male', 'Married: Yes', 'Education: Graduate', 'Self-Employed: No')",
          "('Credit: nan', 'Education: Graduate', 'Property Area: Semiurban', 'Gender: Male', 'Married: Yes', 'Education: Graduate', 'Self-Employed: No')",
          "('Credit: 1.0', 'Education: Graduate', 'Property Area: Urban', 'Gender: Male', 'Married: No', 'Education: Graduate', 'Self-Employed: No')",
          "('Credit: 1.0', 'Education: Graduate', 'Property Area: Urban', 'Gender: Male', 'Married: Yes', 'Education: Graduate', 'Self-Employed: No')",
          "('Credit: 1.0', 'Education: Graduate', 'Property Area: Semiurban', 'Gender: Male', 'Married: Yes', 'Education: Graduate', 'Self-Employed: nan')",
          "('Credit: 1.0', 'Education: Graduate', 'Property Area: Semiurban', 'Gender: Male', 'Married: No', 'Education: Graduate', 'Self-Employed: No')",
          "('Credit: 1.0', 'Education: Graduate', 'Property Area: Urban', 'Gender: Female', 'Married: No', 'Education: Graduate', 'Self-Employed: No')",
          "('Credit: 1.0', 'Education: Graduate', 'Property Area: Urban', 'Gender: Male', 'Married: No', 'Education: Graduate', 'Self-Employed: Yes')",
          "('Credit: 1.0', 'Education: Graduate', 'Property Area: Urban', 'Gender: Male', 'Married: Yes', 'Education: Graduate', 'Self-Employed: No')",
          "('Credit: 1.0', 'Education: Graduate', 'Property Area: Urban', 'Gender: Male', 'Married: No', 'Education: Graduate', 'Self-Employed: nan')",
          "('Credit: 1.0', 'Education: Not Graduate', 'Property Area: Semiurban', 'Gender: Male', 'Married: No', 'Education: Not Graduate', 'Self-Employed: No')",
          "('Credit: 0.0', 'Education: Not Graduate', 'Property Area: Urban', 'Gender: Male', 'Married: Yes', 'Education: Not Graduate', 'Self-Employed: No')",
          "('Credit: 1.0', 'Education: Graduate', 'Property Area: Urban', 'Gender: Male', 'Married: Yes', 'Education: Graduate', 'Self-Employed: No')",
          "('Credit: 1.0', 'Education: Graduate', 'Property Area: Rural', 'Gender: Male', 'Married: Yes', 'Education: Graduate', 'Self-Employed: No')",
          "('Credit: 1.0', 'Education: Graduate', 'Property Area: Rural', 'Gender: Male', 'Married: No', 'Education: Graduate', 'Self-Employed: No')",
          "('Credit: 1.0', 'Education: Graduate', 'Property Area: Rural', 'Gender: Male', 'Married: Yes', 'Education: Graduate', 'Self-Employed: No')",
          "('Credit: nan', 'Education: Graduate', 'Property Area: Urban', 'Gender: Male', 'Married: Yes', 'Education: Graduate', 'Self-Employed: No')",
          "('Credit: 1.0', 'Education: Not Graduate', 'Property Area: Semiurban', 'Gender: Male', 'Married: Yes', 'Education: Not Graduate', 'Self-Employed: No')",
          "('Credit: 1.0', 'Education: Graduate', 'Property Area: Urban', 'Gender: Male', 'Married: Yes', 'Education: Graduate', 'Self-Employed: No')",
          "('Credit: nan', 'Education: Graduate', 'Property Area: Semiurban', 'Gender: Male', 'Married: Yes', 'Education: Graduate', 'Self-Employed: No')",
          "('Credit: 0.0', 'Education: Graduate', 'Property Area: Urban', 'Gender: Female', 'Married: No', 'Education: Graduate', 'Self-Employed: No')",
          "('Credit: 1.0', 'Education: Graduate', 'Property Area: Urban', 'Gender: Male', 'Married: Yes', 'Education: Graduate', 'Self-Employed: No')",
          "('Credit: 1.0', 'Education: Not Graduate', 'Property Area: Rural', 'Gender: Male', 'Married: No', 'Education: Not Graduate', 'Self-Employed: No')",
          "('Credit: 0.0', 'Education: Graduate', 'Property Area: Semiurban', 'Gender: Female', 'Married: No', 'Education: Graduate', 'Self-Employed: No')",
          "('Credit: 0.0', 'Education: Not Graduate', 'Property Area: Urban', 'Gender: Male', 'Married: Yes', 'Education: Not Graduate', 'Self-Employed: No')",
          "('Credit: 1.0', 'Education: Not Graduate', 'Property Area: Rural', 'Gender: Male', 'Married: No', 'Education: Not Graduate', 'Self-Employed: No')",
          "('Credit: 1.0', 'Education: Graduate', 'Property Area: Semiurban', 'Gender: Male', 'Married: No', 'Education: Graduate', 'Self-Employed: No')",
          "('Credit: 1.0', 'Education: Not Graduate', 'Property Area: Semiurban', 'Gender: Female', 'Married: No', 'Education: Not Graduate', 'Self-Employed: No')",
          "('Credit: 1.0', 'Education: Graduate', 'Property Area: Rural', 'Gender: Female', 'Married: No', 'Education: Graduate', 'Self-Employed: Yes')",
          "('Credit: 1.0', 'Education: Graduate', 'Property Area: Semiurban', 'Gender: Female', 'Married: No', 'Education: Graduate', 'Self-Employed: No')",
          "('Credit: 1.0', 'Education: Not Graduate', 'Property Area: Urban', 'Gender: Male', 'Married: Yes', 'Education: Not Graduate', 'Self-Employed: No')",
          "('Credit: 1.0', 'Education: Not Graduate', 'Property Area: Rural', 'Gender: Female', 'Married: No', 'Education: Not Graduate', 'Self-Employed: No')",
          "('Credit: 0.0', 'Education: Graduate', 'Property Area: Semiurban', 'Gender: Male', 'Married: Yes', 'Education: Graduate', 'Self-Employed: No')",
          "('Credit: 0.0', 'Education: Graduate', 'Property Area: Rural', 'Gender: Male', 'Married: Yes', 'Education: Graduate', 'Self-Employed: No')",
          "('Credit: 1.0', 'Education: Not Graduate', 'Property Area: Semiurban', 'Gender: Female', 'Married: No', 'Education: Not Graduate', 'Self-Employed: Yes')",
          "('Credit: nan', 'Education: Graduate', 'Property Area: Urban', 'Gender: Male', 'Married: Yes', 'Education: Graduate', 'Self-Employed: nan')",
          "('Credit: 0.0', 'Education: Not Graduate', 'Property Area: Rural', 'Gender: Male', 'Married: Yes', 'Education: Not Graduate', 'Self-Employed: No')",
          "('Credit: 1.0', 'Education: Not Graduate', 'Property Area: Rural', 'Gender: Male', 'Married: Yes', 'Education: Not Graduate', 'Self-Employed: No')",
          "('Credit: 0.0', 'Education: Not Graduate', 'Property Area: Semiurban', 'Gender: Female', 'Married: Yes', 'Education: Not Graduate', 'Self-Employed: No')",
          "('Credit: 1.0', 'Education: Graduate', 'Property Area: Urban', 'Gender: Female', 'Married: No', 'Education: Graduate', 'Self-Employed: No')",
          "('Credit: 1.0', 'Education: Graduate', 'Property Area: Urban', 'Gender: Female', 'Married: No', 'Education: Graduate', 'Self-Employed: No')",
          "('Credit: 1.0', 'Education: Graduate', 'Property Area: Urban', 'Gender: Male', 'Married: Yes', 'Education: Graduate', 'Self-Employed: Yes')",
          "('Credit: 1.0', 'Education: Graduate', 'Property Area: Rural', 'Gender: Male', 'Married: Yes', 'Education: Graduate', 'Self-Employed: No')",
          "('Credit: 1.0', 'Education: Graduate', 'Property Area: Semiurban', 'Gender: Male', 'Married: Yes', 'Education: Graduate', 'Self-Employed: No')",
          "('Credit: 1.0', 'Education: Graduate', 'Property Area: Rural', 'Gender: Male', 'Married: Yes', 'Education: Graduate', 'Self-Employed: No')",
          "('Credit: 0.0', 'Education: Not Graduate', 'Property Area: Urban', 'Gender: Female', 'Married: No', 'Education: Not Graduate', 'Self-Employed: No')",
          "('Credit: 1.0', 'Education: Graduate', 'Property Area: Urban', 'Gender: Male', 'Married: Yes', 'Education: Graduate', 'Self-Employed: No')",
          "('Credit: 0.0', 'Education: Graduate', 'Property Area: Urban', 'Gender: Male', 'Married: Yes', 'Education: Graduate', 'Self-Employed: No')",
          "('Credit: 1.0', 'Education: Graduate', 'Property Area: Semiurban', 'Gender: Male', 'Married: Yes', 'Education: Graduate', 'Self-Employed: No')",
          "('Credit: 1.0', 'Education: Graduate', 'Property Area: Rural', 'Gender: Male', 'Married: Yes', 'Education: Graduate', 'Self-Employed: No')",
          "('Credit: 1.0', 'Education: Not Graduate', 'Property Area: Rural', 'Gender: Female', 'Married: No', 'Education: Not Graduate', 'Self-Employed: No')",
          "('Credit: 1.0', 'Education: Graduate', 'Property Area: Semiurban', 'Gender: Male', 'Married: Yes', 'Education: Graduate', 'Self-Employed: No')",
          "('Credit: 1.0', 'Education: Graduate', 'Property Area: Rural', 'Gender: Male', 'Married: Yes', 'Education: Graduate', 'Self-Employed: No')",
          "('Credit: 1.0', 'Education: Not Graduate', 'Property Area: Urban', 'Gender: Male', 'Married: No', 'Education: Not Graduate', 'Self-Employed: No')",
          "('Credit: 1.0', 'Education: Graduate', 'Property Area: Semiurban', 'Gender: Female', 'Married: No', 'Education: Graduate', 'Self-Employed: Yes')",
          "('Credit: 0.0', 'Education: Graduate', 'Property Area: Rural', 'Gender: Male', 'Married: No', 'Education: Graduate', 'Self-Employed: No')",
          "('Credit: 1.0', 'Education: Graduate', 'Property Area: Semiurban', 'Gender: Male', 'Married: No', 'Education: Graduate', 'Self-Employed: nan')",
          "('Credit: 1.0', 'Education: Graduate', 'Property Area: Semiurban', 'Gender: Male', 'Married: Yes', 'Education: Graduate', 'Self-Employed: No')",
          "('Credit: 1.0', 'Education: Graduate', 'Property Area: Urban', 'Gender: Male', 'Married: No', 'Education: Graduate', 'Self-Employed: No')",
          "('Credit: 1.0', 'Education: Graduate', 'Property Area: Semiurban', 'Gender: Female', 'Married: nan', 'Education: Graduate', 'Self-Employed: No')",
          "('Credit: 1.0', 'Education: Graduate', 'Property Area: Semiurban', 'Gender: Male', 'Married: No', 'Education: Graduate', 'Self-Employed: No')",
          "('Credit: 1.0', 'Education: Graduate', 'Property Area: Urban', 'Gender: Male', 'Married: Yes', 'Education: Graduate', 'Self-Employed: No')",
          "('Credit: 0.0', 'Education: Graduate', 'Property Area: Urban', 'Gender: Male', 'Married: No', 'Education: Graduate', 'Self-Employed: Yes')",
          "('Credit: 1.0', 'Education: Not Graduate', 'Property Area: Rural', 'Gender: Female', 'Married: Yes', 'Education: Not Graduate', 'Self-Employed: Yes')",
          "('Credit: 1.0', 'Education: Graduate', 'Property Area: Semiurban', 'Gender: Male', 'Married: No', 'Education: Graduate', 'Self-Employed: No')",
          "('Credit: 1.0', 'Education: Graduate', 'Property Area: Rural', 'Gender: Male', 'Married: Yes', 'Education: Graduate', 'Self-Employed: No')",
          "('Credit: 1.0', 'Education: Not Graduate', 'Property Area: Semiurban', 'Gender: Male', 'Married: No', 'Education: Not Graduate', 'Self-Employed: No')",
          "('Credit: 1.0', 'Education: Graduate', 'Property Area: Semiurban', 'Gender: Male', 'Married: No', 'Education: Graduate', 'Self-Employed: No')",
          "('Credit: nan', 'Education: Graduate', 'Property Area: Rural', 'Gender: Male', 'Married: Yes', 'Education: Graduate', 'Self-Employed: No')",
          "('Credit: 1.0', 'Education: Graduate', 'Property Area: Rural', 'Gender: Male', 'Married: Yes', 'Education: Graduate', 'Self-Employed: Yes')",
          "('Credit: 1.0', 'Education: Not Graduate', 'Property Area: Rural', 'Gender: Male', 'Married: Yes', 'Education: Not Graduate', 'Self-Employed: No')",
          "('Credit: 1.0', 'Education: Graduate', 'Property Area: Rural', 'Gender: Male', 'Married: Yes', 'Education: Graduate', 'Self-Employed: nan')",
          "('Credit: 0.0', 'Education: Graduate', 'Property Area: Rural', 'Gender: Male', 'Married: Yes', 'Education: Graduate', 'Self-Employed: No')",
          "('Credit: nan', 'Education: Not Graduate', 'Property Area: Semiurban', 'Gender: Male', 'Married: No', 'Education: Not Graduate', 'Self-Employed: Yes')",
          "('Credit: 0.0', 'Education: Not Graduate', 'Property Area: Rural', 'Gender: Male', 'Married: Yes', 'Education: Not Graduate', 'Self-Employed: No')",
          "('Credit: nan', 'Education: Not Graduate', 'Property Area: Urban', 'Gender: Male', 'Married: Yes', 'Education: Not Graduate', 'Self-Employed: No')",
          "('Credit: 0.0', 'Education: Graduate', 'Property Area: Rural', 'Gender: Male', 'Married: Yes', 'Education: Graduate', 'Self-Employed: No')",
          "('Credit: 0.0', 'Education: Graduate', 'Property Area: Rural', 'Gender: Male', 'Married: Yes', 'Education: Graduate', 'Self-Employed: No')",
          "('Credit: 1.0', 'Education: Graduate', 'Property Area: Semiurban', 'Gender: Male', 'Married: No', 'Education: Graduate', 'Self-Employed: Yes')",
          "('Credit: 1.0', 'Education: Graduate', 'Property Area: Semiurban', 'Gender: Male', 'Married: Yes', 'Education: Graduate', 'Self-Employed: No')",
          "('Credit: 1.0', 'Education: Graduate', 'Property Area: Urban', 'Gender: Male', 'Married: Yes', 'Education: Graduate', 'Self-Employed: No')",
          "('Credit: 1.0', 'Education: Graduate', 'Property Area: Urban', 'Gender: Male', 'Married: Yes', 'Education: Graduate', 'Self-Employed: No')",
          "('Credit: 1.0', 'Education: Graduate', 'Property Area: Rural', 'Gender: Male', 'Married: No', 'Education: Graduate', 'Self-Employed: No')",
          "('Credit: 1.0', 'Education: Graduate', 'Property Area: Semiurban', 'Gender: Male', 'Married: Yes', 'Education: Graduate', 'Self-Employed: No')",
          "('Credit: nan', 'Education: Graduate', 'Property Area: Semiurban', 'Gender: nan', 'Married: Yes', 'Education: Graduate', 'Self-Employed: Yes')",
          "('Credit: 1.0', 'Education: Graduate', 'Property Area: Urban', 'Gender: Male', 'Married: Yes', 'Education: Graduate', 'Self-Employed: No')",
          "('Credit: 1.0', 'Education: Graduate', 'Property Area: Rural', 'Gender: Male', 'Married: Yes', 'Education: Graduate', 'Self-Employed: No')",
          "('Credit: 1.0', 'Education: Not Graduate', 'Property Area: Semiurban', 'Gender: Female', 'Married: No', 'Education: Not Graduate', 'Self-Employed: nan')",
          "('Credit: 0.0', 'Education: Graduate', 'Property Area: Semiurban', 'Gender: Male', 'Married: No', 'Education: Graduate', 'Self-Employed: No')",
          "('Credit: 1.0', 'Education: Graduate', 'Property Area: Rural', 'Gender: Male', 'Married: No', 'Education: Graduate', 'Self-Employed: No')",
          "('Credit: 0.0', 'Education: Not Graduate', 'Property Area: Urban', 'Gender: Male', 'Married: Yes', 'Education: Not Graduate', 'Self-Employed: No')",
          "('Credit: 1.0', 'Education: Graduate', 'Property Area: Semiurban', 'Gender: nan', 'Married: Yes', 'Education: Graduate', 'Self-Employed: No')",
          "('Credit: 1.0', 'Education: Not Graduate', 'Property Area: Semiurban', 'Gender: Female', 'Married: Yes', 'Education: Not Graduate', 'Self-Employed: nan')",
          "('Credit: 1.0', 'Education: Graduate', 'Property Area: Urban', 'Gender: Male', 'Married: Yes', 'Education: Graduate', 'Self-Employed: No')",
          "('Credit: 1.0', 'Education: Graduate', 'Property Area: Semiurban', 'Gender: Male', 'Married: Yes', 'Education: Graduate', 'Self-Employed: Yes')",
          "('Credit: 0.0', 'Education: Not Graduate', 'Property Area: Rural', 'Gender: Male', 'Married: Yes', 'Education: Not Graduate', 'Self-Employed: No')",
          "('Credit: 1.0', 'Education: Graduate', 'Property Area: Semiurban', 'Gender: Male', 'Married: Yes', 'Education: Graduate', 'Self-Employed: No')",
          "('Credit: nan', 'Education: Graduate', 'Property Area: Urban', 'Gender: Female', 'Married: No', 'Education: Graduate', 'Self-Employed: Yes')",
          "('Credit: 1.0', 'Education: Graduate', 'Property Area: Rural', 'Gender: Male', 'Married: No', 'Education: Graduate', 'Self-Employed: No')",
          "('Credit: 1.0', 'Education: Graduate', 'Property Area: Rural', 'Gender: Male', 'Married: Yes', 'Education: Graduate', 'Self-Employed: Yes')",
          "('Credit: 1.0', 'Education: Graduate', 'Property Area: Semiurban', 'Gender: Male', 'Married: Yes', 'Education: Graduate', 'Self-Employed: No')",
          "('Credit: 0.0', 'Education: Graduate', 'Property Area: Semiurban', 'Gender: nan', 'Married: Yes', 'Education: Graduate', 'Self-Employed: No')",
          "('Credit: 1.0', 'Education: Graduate', 'Property Area: Semiurban', 'Gender: Male', 'Married: Yes', 'Education: Graduate', 'Self-Employed: Yes')",
          "('Credit: 1.0', 'Education: Graduate', 'Property Area: Urban', 'Gender: Male', 'Married: Yes', 'Education: Graduate', 'Self-Employed: No')",
          "('Credit: 1.0', 'Education: Not Graduate', 'Property Area: Rural', 'Gender: Female', 'Married: No', 'Education: Not Graduate', 'Self-Employed: No')",
          "('Credit: 1.0', 'Education: Not Graduate', 'Property Area: Rural', 'Gender: Male', 'Married: Yes', 'Education: Not Graduate', 'Self-Employed: No')",
          "('Credit: 1.0', 'Education: Graduate', 'Property Area: Semiurban', 'Gender: Male', 'Married: Yes', 'Education: Graduate', 'Self-Employed: No')",
          "('Credit: 1.0', 'Education: Graduate', 'Property Area: Semiurban', 'Gender: Male', 'Married: Yes', 'Education: Graduate', 'Self-Employed: No')",
          "('Credit: 1.0', 'Education: Graduate', 'Property Area: Semiurban', 'Gender: Male', 'Married: Yes', 'Education: Graduate', 'Self-Employed: No')",
          "('Credit: 1.0', 'Education: Not Graduate', 'Property Area: Rural', 'Gender: Male', 'Married: Yes', 'Education: Not Graduate', 'Self-Employed: No')",
          "('Credit: 0.0', 'Education: Graduate', 'Property Area: Rural', 'Gender: Male', 'Married: No', 'Education: Graduate', 'Self-Employed: No')",
          "('Credit: 1.0', 'Education: Graduate', 'Property Area: Urban', 'Gender: Male', 'Married: Yes', 'Education: Graduate', 'Self-Employed: No')",
          "('Credit: 1.0', 'Education: Graduate', 'Property Area: Semiurban', 'Gender: Male', 'Married: Yes', 'Education: Graduate', 'Self-Employed: Yes')",
          "('Credit: 1.0', 'Education: Graduate', 'Property Area: Urban', 'Gender: Male', 'Married: No', 'Education: Graduate', 'Self-Employed: No')",
          "('Credit: nan', 'Education: Not Graduate', 'Property Area: Semiurban', 'Gender: Male', 'Married: No', 'Education: Not Graduate', 'Self-Employed: No')",
          "('Credit: nan', 'Education: Not Graduate', 'Property Area: Urban', 'Gender: Male', 'Married: Yes', 'Education: Not Graduate', 'Self-Employed: No')",
          "('Credit: 1.0', 'Education: Not Graduate', 'Property Area: Rural', 'Gender: Male', 'Married: No', 'Education: Not Graduate', 'Self-Employed: No')",
          "('Credit: 1.0', 'Education: Not Graduate', 'Property Area: Semiurban', 'Gender: Female', 'Married: No', 'Education: Not Graduate', 'Self-Employed: Yes')",
          "('Credit: 0.0', 'Education: Graduate', 'Property Area: Rural', 'Gender: Male', 'Married: Yes', 'Education: Graduate', 'Self-Employed: No')",
          "('Credit: 1.0', 'Education: Graduate', 'Property Area: Semiurban', 'Gender: Female', 'Married: Yes', 'Education: Graduate', 'Self-Employed: No')",
          "('Credit: 1.0', 'Education: Not Graduate', 'Property Area: Rural', 'Gender: Male', 'Married: Yes', 'Education: Not Graduate', 'Self-Employed: No')",
          "('Credit: nan', 'Education: Graduate', 'Property Area: Urban', 'Gender: Male', 'Married: Yes', 'Education: Graduate', 'Self-Employed: No')",
          "('Credit: 1.0', 'Education: Graduate', 'Property Area: Semiurban', 'Gender: Male', 'Married: Yes', 'Education: Graduate', 'Self-Employed: Yes')",
          "('Credit: 0.0', 'Education: Graduate', 'Property Area: Rural', 'Gender: Male', 'Married: No', 'Education: Graduate', 'Self-Employed: No')",
          "('Credit: 1.0', 'Education: Graduate', 'Property Area: Rural', 'Gender: Female', 'Married: No', 'Education: Graduate', 'Self-Employed: No')",
          "('Credit: 1.0', 'Education: Graduate', 'Property Area: Semiurban', 'Gender: Female', 'Married: No', 'Education: Graduate', 'Self-Employed: No')",
          "('Credit: 1.0', 'Education: Graduate', 'Property Area: Semiurban', 'Gender: Male', 'Married: Yes', 'Education: Graduate', 'Self-Employed: No')",
          "('Credit: nan', 'Education: Not Graduate', 'Property Area: Rural', 'Gender: Male', 'Married: Yes', 'Education: Not Graduate', 'Self-Employed: No')",
          "('Credit: 1.0', 'Education: Not Graduate', 'Property Area: Semiurban', 'Gender: Male', 'Married: Yes', 'Education: Not Graduate', 'Self-Employed: No')",
          "('Credit: 1.0', 'Education: Graduate', 'Property Area: Rural', 'Gender: Male', 'Married: Yes', 'Education: Graduate', 'Self-Employed: No')",
          "('Credit: nan', 'Education: Graduate', 'Property Area: Urban', 'Gender: Male', 'Married: Yes', 'Education: Graduate', 'Self-Employed: No')",
          "('Credit: 1.0', 'Education: Graduate', 'Property Area: Urban', 'Gender: nan', 'Married: No', 'Education: Graduate', 'Self-Employed: No')",
          "('Credit: 1.0', 'Education: Graduate', 'Property Area: Urban', 'Gender: Male', 'Married: Yes', 'Education: Graduate', 'Self-Employed: Yes')",
          "('Credit: 1.0', 'Education: Graduate', 'Property Area: Urban', 'Gender: Female', 'Married: No', 'Education: Graduate', 'Self-Employed: No')",
          "('Credit: 1.0', 'Education: Not Graduate', 'Property Area: Rural', 'Gender: Male', 'Married: No', 'Education: Not Graduate', 'Self-Employed: No')",
          "('Credit: 1.0', 'Education: Graduate', 'Property Area: Semiurban', 'Gender: Male', 'Married: Yes', 'Education: Graduate', 'Self-Employed: No')",
          "('Credit: 1.0', 'Education: Graduate', 'Property Area: Urban', 'Gender: Male', 'Married: Yes', 'Education: Graduate', 'Self-Employed: No')",
          "('Credit: 1.0', 'Education: Graduate', 'Property Area: Semiurban', 'Gender: Male', 'Married: Yes', 'Education: Graduate', 'Self-Employed: No')",
          "('Credit: 1.0', 'Education: Graduate', 'Property Area: Rural', 'Gender: Male', 'Married: No', 'Education: Graduate', 'Self-Employed: No')",
          "('Credit: 1.0', 'Education: Graduate', 'Property Area: Rural', 'Gender: Male', 'Married: Yes', 'Education: Graduate', 'Self-Employed: No')",
          "('Credit: 1.0', 'Education: Graduate', 'Property Area: Semiurban', 'Gender: Female', 'Married: Yes', 'Education: Graduate', 'Self-Employed: No')",
          "('Credit: 0.0', 'Education: Not Graduate', 'Property Area: Semiurban', 'Gender: Male', 'Married: Yes', 'Education: Not Graduate', 'Self-Employed: No')",
          "('Credit: 1.0', 'Education: Graduate', 'Property Area: Semiurban', 'Gender: Male', 'Married: No', 'Education: Graduate', 'Self-Employed: No')",
          "('Credit: 1.0', 'Education: Not Graduate', 'Property Area: Rural', 'Gender: Female', 'Married: No', 'Education: Not Graduate', 'Self-Employed: No')",
          "('Credit: 1.0', 'Education: Not Graduate', 'Property Area: Semiurban', 'Gender: Male', 'Married: Yes', 'Education: Not Graduate', 'Self-Employed: No')",
          "('Credit: 1.0', 'Education: Graduate', 'Property Area: Semiurban', 'Gender: Male', 'Married: No', 'Education: Graduate', 'Self-Employed: No')",
          "('Credit: 1.0', 'Education: Graduate', 'Property Area: Rural', 'Gender: Male', 'Married: Yes', 'Education: Graduate', 'Self-Employed: Yes')",
          "('Credit: 1.0', 'Education: Graduate', 'Property Area: Rural', 'Gender: Male', 'Married: Yes', 'Education: Graduate', 'Self-Employed: Yes')",
          "('Credit: 1.0', 'Education: Graduate', 'Property Area: Semiurban', 'Gender: Male', 'Married: No', 'Education: Graduate', 'Self-Employed: No')",
          "('Credit: 1.0', 'Education: Graduate', 'Property Area: Rural', 'Gender: Male', 'Married: Yes', 'Education: Graduate', 'Self-Employed: Yes')",
          "('Credit: 1.0', 'Education: Graduate', 'Property Area: Semiurban', 'Gender: Male', 'Married: Yes', 'Education: Graduate', 'Self-Employed: No')",
          "('Credit: 0.0', 'Education: Not Graduate', 'Property Area: Semiurban', 'Gender: Male', 'Married: Yes', 'Education: Not Graduate', 'Self-Employed: No')",
          "('Credit: 1.0', 'Education: Not Graduate', 'Property Area: Semiurban', 'Gender: Male', 'Married: No', 'Education: Not Graduate', 'Self-Employed: No')",
          "('Credit: 1.0', 'Education: Not Graduate', 'Property Area: Semiurban', 'Gender: Male', 'Married: No', 'Education: Not Graduate', 'Self-Employed: No')",
          "('Credit: nan', 'Education: Graduate', 'Property Area: Rural', 'Gender: Male', 'Married: Yes', 'Education: Graduate', 'Self-Employed: No')",
          "('Credit: 1.0', 'Education: Graduate', 'Property Area: Urban', 'Gender: Male', 'Married: Yes', 'Education: Graduate', 'Self-Employed: No')",
          "('Credit: 0.0', 'Education: Graduate', 'Property Area: Rural', 'Gender: Male', 'Married: No', 'Education: Graduate', 'Self-Employed: No')",
          "('Credit: nan', 'Education: Graduate', 'Property Area: Semiurban', 'Gender: Male', 'Married: No', 'Education: Graduate', 'Self-Employed: No')",
          "('Credit: 1.0', 'Education: Not Graduate', 'Property Area: Urban', 'Gender: Female', 'Married: No', 'Education: Not Graduate', 'Self-Employed: Yes')",
          "('Credit: 1.0', 'Education: Not Graduate', 'Property Area: Rural', 'Gender: Male', 'Married: No', 'Education: Not Graduate', 'Self-Employed: nan')",
          "('Credit: 1.0', 'Education: Graduate', 'Property Area: Urban', 'Gender: Male', 'Married: Yes', 'Education: Graduate', 'Self-Employed: No')",
          "('Credit: 1.0', 'Education: Graduate', 'Property Area: Semiurban', 'Gender: Male', 'Married: No', 'Education: Graduate', 'Self-Employed: No')",
          "('Credit: 1.0', 'Education: Not Graduate', 'Property Area: Rural', 'Gender: Male', 'Married: Yes', 'Education: Not Graduate', 'Self-Employed: No')",
          "('Credit: 1.0', 'Education: Graduate', 'Property Area: Rural', 'Gender: Male', 'Married: Yes', 'Education: Graduate', 'Self-Employed: No')",
          "('Credit: 1.0', 'Education: Graduate', 'Property Area: Semiurban', 'Gender: Female', 'Married: Yes', 'Education: Graduate', 'Self-Employed: No')",
          "('Credit: 0.0', 'Education: Graduate', 'Property Area: Semiurban', 'Gender: Female', 'Married: No', 'Education: Graduate', 'Self-Employed: No')",
          "('Credit: 1.0', 'Education: Graduate', 'Property Area: Semiurban', 'Gender: Female', 'Married: No', 'Education: Graduate', 'Self-Employed: nan')",
          "('Credit: 1.0', 'Education: Not Graduate', 'Property Area: Urban', 'Gender: Male', 'Married: Yes', 'Education: Not Graduate', 'Self-Employed: No')",
          "('Credit: nan', 'Education: Not Graduate', 'Property Area: Semiurban', 'Gender: Female', 'Married: Yes', 'Education: Not Graduate', 'Self-Employed: No')",
          "('Credit: 1.0', 'Education: Graduate', 'Property Area: Rural', 'Gender: Male', 'Married: Yes', 'Education: Graduate', 'Self-Employed: No')",
          "('Credit: 1.0', 'Education: Not Graduate', 'Property Area: Semiurban', 'Gender: Male', 'Married: No', 'Education: Not Graduate', 'Self-Employed: No')",
          "('Credit: 1.0', 'Education: Graduate', 'Property Area: Rural', 'Gender: Male', 'Married: No', 'Education: Graduate', 'Self-Employed: No')",
          "('Credit: 0.0', 'Education: Graduate', 'Property Area: Semiurban', 'Gender: Female', 'Married: No', 'Education: Graduate', 'Self-Employed: No')",
          "('Credit: 1.0', 'Education: Graduate', 'Property Area: Rural', 'Gender: Male', 'Married: Yes', 'Education: Graduate', 'Self-Employed: No')",
          "('Credit: 0.0', 'Education: Graduate', 'Property Area: Rural', 'Gender: Male', 'Married: Yes', 'Education: Graduate', 'Self-Employed: Yes')",
          "('Credit: 1.0', 'Education: Not Graduate', 'Property Area: Rural', 'Gender: Male', 'Married: Yes', 'Education: Not Graduate', 'Self-Employed: No')",
          "('Credit: 1.0', 'Education: Graduate', 'Property Area: Urban', 'Gender: Male', 'Married: Yes', 'Education: Graduate', 'Self-Employed: No')",
          "('Credit: 0.0', 'Education: Not Graduate', 'Property Area: Urban', 'Gender: Male', 'Married: Yes', 'Education: Not Graduate', 'Self-Employed: No')",
          "('Credit: 0.0', 'Education: Graduate', 'Property Area: Rural', 'Gender: Male', 'Married: Yes', 'Education: Graduate', 'Self-Employed: No')",
          "('Credit: 1.0', 'Education: Graduate', 'Property Area: Semiurban', 'Gender: Male', 'Married: Yes', 'Education: Graduate', 'Self-Employed: No')",
          "('Credit: nan', 'Education: Graduate', 'Property Area: Urban', 'Gender: Female', 'Married: No', 'Education: Graduate', 'Self-Employed: No')",
          "('Credit: 1.0', 'Education: Graduate', 'Property Area: Semiurban', 'Gender: Male', 'Married: Yes', 'Education: Graduate', 'Self-Employed: Yes')",
          "('Credit: 1.0', 'Education: Graduate', 'Property Area: Semiurban', 'Gender: Male', 'Married: Yes', 'Education: Graduate', 'Self-Employed: No')",
          "('Credit: 1.0', 'Education: Graduate', 'Property Area: Semiurban', 'Gender: Female', 'Married: Yes', 'Education: Graduate', 'Self-Employed: No')",
          "('Credit: 1.0', 'Education: Not Graduate', 'Property Area: Semiurban', 'Gender: Male', 'Married: Yes', 'Education: Not Graduate', 'Self-Employed: No')",
          "('Credit: 1.0', 'Education: Graduate', 'Property Area: Semiurban', 'Gender: Female', 'Married: Yes', 'Education: Graduate', 'Self-Employed: Yes')",
          "('Credit: 1.0', 'Education: Graduate', 'Property Area: Rural', 'Gender: Male', 'Married: Yes', 'Education: Graduate', 'Self-Employed: No')",
          "('Credit: 1.0', 'Education: Not Graduate', 'Property Area: Semiurban', 'Gender: Male', 'Married: No', 'Education: Not Graduate', 'Self-Employed: Yes')",
          "('Credit: 0.0', 'Education: Graduate', 'Property Area: Urban', 'Gender: Male', 'Married: Yes', 'Education: Graduate', 'Self-Employed: No')",
          "('Credit: nan', 'Education: Not Graduate', 'Property Area: Rural', 'Gender: Male', 'Married: Yes', 'Education: Not Graduate', 'Self-Employed: No')",
          "('Credit: 1.0', 'Education: Graduate', 'Property Area: Urban', 'Gender: Male', 'Married: No', 'Education: Graduate', 'Self-Employed: No')",
          "('Credit: 0.0', 'Education: Graduate', 'Property Area: Rural', 'Gender: Male', 'Married: Yes', 'Education: Graduate', 'Self-Employed: No')",
          "('Credit: 1.0', 'Education: Graduate', 'Property Area: Urban', 'Gender: Female', 'Married: No', 'Education: Graduate', 'Self-Employed: No')",
          "('Credit: 0.0', 'Education: Graduate', 'Property Area: Urban', 'Gender: Male', 'Married: Yes', 'Education: Graduate', 'Self-Employed: No')",
          "('Credit: 1.0', 'Education: Graduate', 'Property Area: Urban', 'Gender: Male', 'Married: Yes', 'Education: Graduate', 'Self-Employed: No')",
          "('Credit: 0.0', 'Education: Graduate', 'Property Area: Urban', 'Gender: Male', 'Married: Yes', 'Education: Graduate', 'Self-Employed: No')",
          "('Credit: 1.0', 'Education: Graduate', 'Property Area: Urban', 'Gender: Male', 'Married: Yes', 'Education: Graduate', 'Self-Employed: No')",
          "('Credit: 1.0', 'Education: Not Graduate', 'Property Area: Semiurban', 'Gender: Male', 'Married: Yes', 'Education: Not Graduate', 'Self-Employed: No')",
          "('Credit: 1.0', 'Education: Graduate', 'Property Area: Semiurban', 'Gender: Male', 'Married: Yes', 'Education: Graduate', 'Self-Employed: No')",
          "('Credit: 1.0', 'Education: Graduate', 'Property Area: Urban', 'Gender: Male', 'Married: Yes', 'Education: Graduate', 'Self-Employed: No')",
          "('Credit: 0.0', 'Education: Graduate', 'Property Area: Semiurban', 'Gender: nan', 'Married: Yes', 'Education: Graduate', 'Self-Employed: No')",
          "('Credit: 1.0', 'Education: Graduate', 'Property Area: Urban', 'Gender: Male', 'Married: No', 'Education: Graduate', 'Self-Employed: No')",
          "('Credit: 1.0', 'Education: Graduate', 'Property Area: Rural', 'Gender: Male', 'Married: Yes', 'Education: Graduate', 'Self-Employed: No')",
          "('Credit: 1.0', 'Education: Graduate', 'Property Area: Urban', 'Gender: Male', 'Married: No', 'Education: Graduate', 'Self-Employed: nan')",
          "('Credit: 1.0', 'Education: Graduate', 'Property Area: Semiurban', 'Gender: Male', 'Married: Yes', 'Education: Graduate', 'Self-Employed: No')",
          "('Credit: 1.0', 'Education: Graduate', 'Property Area: Urban', 'Gender: Male', 'Married: No', 'Education: Graduate', 'Self-Employed: No')",
          "('Credit: 1.0', 'Education: Graduate', 'Property Area: Semiurban', 'Gender: Female', 'Married: Yes', 'Education: Graduate', 'Self-Employed: No')",
          "('Credit: nan', 'Education: Graduate', 'Property Area: Rural', 'Gender: Male', 'Married: Yes', 'Education: Graduate', 'Self-Employed: No')",
          "('Credit: 0.0', 'Education: Graduate', 'Property Area: Rural', 'Gender: Male', 'Married: Yes', 'Education: Graduate', 'Self-Employed: No')",
          "('Credit: 1.0', 'Education: Graduate', 'Property Area: Rural', 'Gender: Male', 'Married: Yes', 'Education: Graduate', 'Self-Employed: No')",
          "('Credit: 1.0', 'Education: Graduate', 'Property Area: Urban', 'Gender: Male', 'Married: Yes', 'Education: Graduate', 'Self-Employed: No')",
          "('Credit: 1.0', 'Education: Not Graduate', 'Property Area: Semiurban', 'Gender: Female', 'Married: No', 'Education: Not Graduate', 'Self-Employed: No')",
          "('Credit: 1.0', 'Education: Graduate', 'Property Area: Semiurban', 'Gender: nan', 'Married: No', 'Education: Graduate', 'Self-Employed: No')",
          "('Credit: 0.0', 'Education: Graduate', 'Property Area: Semiurban', 'Gender: Male', 'Married: Yes', 'Education: Graduate', 'Self-Employed: Yes')",
          "('Credit: 1.0', 'Education: Graduate', 'Property Area: Semiurban', 'Gender: Male', 'Married: Yes', 'Education: Graduate', 'Self-Employed: No')",
          "('Credit: 1.0', 'Education: Graduate', 'Property Area: Semiurban', 'Gender: Male', 'Married: Yes', 'Education: Graduate', 'Self-Employed: Yes')",
          "('Credit: 1.0', 'Education: Graduate', 'Property Area: Semiurban', 'Gender: nan', 'Married: No', 'Education: Graduate', 'Self-Employed: Yes')",
          "('Credit: 1.0', 'Education: Graduate', 'Property Area: Rural', 'Gender: Male', 'Married: Yes', 'Education: Graduate', 'Self-Employed: No')",
          "('Credit: 1.0', 'Education: Graduate', 'Property Area: Urban', 'Gender: Male', 'Married: Yes', 'Education: Graduate', 'Self-Employed: Yes')",
          "('Credit: 1.0', 'Education: Not Graduate', 'Property Area: Rural', 'Gender: Male', 'Married: No', 'Education: Not Graduate', 'Self-Employed: No')",
          "('Credit: 1.0', 'Education: Not Graduate', 'Property Area: Rural', 'Gender: Male', 'Married: Yes', 'Education: Not Graduate', 'Self-Employed: Yes')",
          "('Credit: 0.0', 'Education: Graduate', 'Property Area: Semiurban', 'Gender: Male', 'Married: No', 'Education: Graduate', 'Self-Employed: No')",
          "('Credit: 1.0', 'Education: Graduate', 'Property Area: Rural', 'Gender: Male', 'Married: Yes', 'Education: Graduate', 'Self-Employed: Yes')",
          "('Credit: 1.0', 'Education: Graduate', 'Property Area: Urban', 'Gender: Male', 'Married: Yes', 'Education: Graduate', 'Self-Employed: No')",
          "('Credit: nan', 'Education: Graduate', 'Property Area: Urban', 'Gender: Female', 'Married: No', 'Education: Graduate', 'Self-Employed: nan')",
          "('Credit: 1.0', 'Education: Not Graduate', 'Property Area: Rural', 'Gender: Male', 'Married: Yes', 'Education: Not Graduate', 'Self-Employed: nan')",
          "('Credit: 1.0', 'Education: Graduate', 'Property Area: Urban', 'Gender: Male', 'Married: Yes', 'Education: Graduate', 'Self-Employed: No')",
          "('Credit: 1.0', 'Education: Graduate', 'Property Area: Rural', 'Gender: Male', 'Married: No', 'Education: Graduate', 'Self-Employed: No')",
          "('Credit: 1.0', 'Education: Graduate', 'Property Area: Semiurban', 'Gender: Female', 'Married: Yes', 'Education: Graduate', 'Self-Employed: No')",
          "('Credit: 1.0', 'Education: Not Graduate', 'Property Area: Urban', 'Gender: Male', 'Married: Yes', 'Education: Not Graduate', 'Self-Employed: No')",
          "('Credit: 1.0', 'Education: Graduate', 'Property Area: Semiurban', 'Gender: Male', 'Married: Yes', 'Education: Graduate', 'Self-Employed: No')",
          "('Credit: 1.0', 'Education: Not Graduate', 'Property Area: Rural', 'Gender: Male', 'Married: Yes', 'Education: Not Graduate', 'Self-Employed: No')",
          "('Credit: 1.0', 'Education: Graduate', 'Property Area: Rural', 'Gender: Male', 'Married: Yes', 'Education: Graduate', 'Self-Employed: No')",
          "('Credit: 1.0', 'Education: Graduate', 'Property Area: Rural', 'Gender: Female', 'Married: No', 'Education: Graduate', 'Self-Employed: No')",
          "('Credit: 1.0', 'Education: Graduate', 'Property Area: Rural', 'Gender: Male', 'Married: Yes', 'Education: Graduate', 'Self-Employed: No')",
          "('Credit: 1.0', 'Education: Graduate', 'Property Area: Urban', 'Gender: Male', 'Married: Yes', 'Education: Graduate', 'Self-Employed: No')",
          "('Credit: 1.0', 'Education: Graduate', 'Property Area: Urban', 'Gender: Male', 'Married: Yes', 'Education: Graduate', 'Self-Employed: No')",
          "('Credit: 0.0', 'Education: Graduate', 'Property Area: Semiurban', 'Gender: Female', 'Married: No', 'Education: Graduate', 'Self-Employed: Yes')"
         ],
         "type": "scatter3d",
         "x": [
          66,
          120,
          141,
          267,
          95,
          168,
          70,
          109,
          200,
          17,
          125,
          100,
          115,
          191,
          122,
          110,
          120,
          114,
          144,
          184,
          110,
          47,
          75,
          134,
          96,
          88,
          44,
          144,
          144,
          100,
          120,
          97,
          96,
          180,
          144,
          120,
          99,
          125,
          172,
          97,
          81,
          187,
          130,
          111,
          50,
          136,
          99,
          104,
          210,
          175,
          131,
          188,
          81,
          122,
          25,
          137,
          50,
          115,
          131,
          133,
          151,
          160,
          100,
          225,
          94,
          136,
          139,
          118,
          185,
          154,
          85,
          259,
          180,
          44,
          137,
          81,
          194,
          93,
          74,
          70,
          25,
          102,
          88,
          168,
          175,
          122,
          187,
          100,
          70,
          30,
          125,
          152,
          50,
          160,
          187,
          120,
          255,
          98,
          158,
          75,
          182,
          129,
          200,
          95,
          187,
          116,
          101,
          116,
          73,
          108,
          58,
          168,
          188,
          48,
          76,
          120,
          187,
          120,
          113,
          90,
          166,
          135,
          124,
          120,
          80,
          55,
          59,
          240,
          130,
          137,
          100,
          131,
          127,
          116,
          144,
          175,
          128,
          210,
          158,
          200,
          104,
          42,
          120,
          280,
          140,
          170,
          122,
          112,
          96,
          120,
          155,
          108,
          123,
          112,
          137,
          123,
          90,
          104,
          279,
          255,
          134,
          120,
          128,
          151,
          150,
          160,
          90,
          30,
          136,
          126,
          150,
          90,
          115,
          207,
          80,
          124,
          112,
          78,
          54,
          89,
          120,
          115,
          187,
          139,
          134,
          172,
          110,
          200,
          135,
          105,
          132,
          96,
          140,
          135,
          185,
          84,
          111,
          56,
          144,
          111,
          120,
          88,
          112,
          115,
          124,
          132,
          130,
          184,
          67,
          117,
          98,
          71,
          182,
          70,
          160,
          176,
          71,
          158,
          74,
          125,
          160,
          126,
          259,
          187,
          228,
          95,
          130,
          116,
          165,
          200,
          236,
          130,
          95,
          141,
          175,
          55,
          155,
          110,
          120,
          130,
          130,
          130,
          128,
          296,
          156,
          128,
          113,
          132,
          136,
          125,
          185,
          275,
          120,
          113,
          113,
          135,
          95,
          109,
          103,
          53,
          115,
          115,
          66,
          160,
          110,
          60,
          112,
          138,
          138,
          100,
          96,
          121,
          133,
          87,
          60,
          150,
          143,
          100,
          50,
          138,
          187,
          180,
          148,
          175,
          130,
          110,
          60,
          90,
          84,
          96,
          118,
          136,
          160,
          128,
          153,
          132,
          140,
          110,
          98,
          162,
          100,
          93,
          162,
          150,
          230,
          86,
          154,
          113,
          128,
          234,
          246,
          131,
          160,
          96,
          186,
          110,
          225,
          105,
          107,
          111,
          95,
          113,
          100,
          208,
          124,
          243,
          188,
          40,
          250,
          148,
          150,
          113,
          45,
          55,
          100,
          110,
          161,
          94,
          130,
          216,
          100,
          125,
          126,
          107,
          157,
          140,
          95,
          128,
          102,
          155,
          145,
          110,
          158,
          26,
          84,
          260,
          162,
          182,
          108,
          211,
          132,
          120,
          70,
          186,
          275,
          108,
          110,
          107,
          161,
          205,
          36,
          104,
          70,
          94,
          56,
          292,
          142,
          260,
          110,
          180,
          192,
          155,
          128,
          172,
          173,
          157,
          108,
          71,
          40,
          253,
          187
         ],
         "y": [
          3000,
          4941,
          6000,
          9613,
          3849,
          5532,
          3900,
          4340,
          11179,
          2385,
          4950,
          3596,
          6100,
          9560,
          5052,
          5266,
          5833,
          5167,
          5126,
          11376,
          5416,
          3013,
          2400,
          6277,
          4695,
          3410,
          5649,
          5821,
          6275,
          3572,
          3086,
          3875,
          3723,
          10330,
          6216,
          6296,
          3029,
          7100,
          6274,
          3750,
          3500,
          7040,
          5499,
          3846,
          3988,
          4897,
          5333,
          4618,
          8566,
          9862,
          5858,
          11904,
          5093,
          4133,
          3620,
          4786,
          2974,
          4188,
          5300,
          7551,
          8649,
          4570,
          4082,
          12543,
          2825,
          5316,
          5262,
          5050,
          14583,
          5450,
          3612,
          10408,
          8334,
          4166,
          11117,
          2957,
          6314,
          3692,
          3943,
          2718,
          3459,
          4895,
          6816,
          5417,
          6950,
          4732,
          11757,
          6816,
          14866,
          2963,
          5690,
          6327,
          3254,
          6000,
          9538,
          5063,
          10208,
          2904,
          5614,
          9323,
          6873,
          5772,
          8000,
          3589,
          11333,
          5461,
          3664,
          3750,
          4600,
          3625,
          4521,
          5970,
          9328,
          4885,
          3858,
          4191,
          12083,
          4272,
          6232,
          5100,
          4923,
          4583,
          3917,
          4408,
          3244,
          6506,
          2479,
          7787,
          5703,
          6194,
          4833,
          5502,
          6666,
          5726,
          5762,
          8588,
          6250,
          7945,
          4758,
          6400,
          4545,
          3716,
          5787,
          8333,
          4934,
          6760,
          3463,
          3812,
          3315,
          10819,
          8666,
          7550,
          7823,
          9703,
          6608,
          4725,
          3677,
          4750,
          9762,
          3083,
          4269,
          7200,
          5166,
          7542,
          6095,
          6144,
          4436,
          3237,
          11146,
          4690,
          4843,
          3900,
          4592,
          7267,
          4403,
          4100,
          4727,
          3286.7999878,
          3477,
          6211,
          5704,
          4124,
          9508,
          5491,
          4713,
          5717,
          5666,
          6875,
          4666,
          4625,
          5000,
          3428,
          6500,
          5428,
          7667,
          2917,
          5332,
          2507,
          5746,
          5039,
          3717,
          4192,
          3541,
          4567,
          4531,
          6151,
          4917,
          7978,
          2500,
          6177,
          2935,
          2833,
          11666,
          9993,
          5938,
          7100,
          4160,
          5783,
          3173,
          4913,
          4957,
          5251,
          10916,
          8875,
          9083,
          4749,
          2928,
          3813,
          11500,
          8334,
          8667,
          7083,
          6046,
          6822,
          6325,
          15759,
          5185,
          4223,
          5740,
          13746,
          4310,
          5391,
          5833,
          10173,
          6000,
          7167,
          3667,
          3946,
          4750,
          5488,
          9167,
          9504,
          4698,
          3618,
          4500,
          3760,
          4492,
          5568,
          22500,
          1963,
          4547,
          4567,
          2213,
          6256,
          4286,
          2995,
          3798,
          4663,
          5829,
          3539,
          14880,
          6966,
          5935,
          2936.12000084,
          2717,
          8624,
          4765,
          3750,
          3777,
          7142,
          8724,
          9734,
          6700,
          15666,
          4676,
          4652,
          3414,
          4949,
          7085,
          3859,
          4301,
          4354,
          6166,
          7740,
          5203,
          5191,
          6000,
          16692,
          3127,
          5529,
          4691,
          2500,
          10180,
          17539,
          8450,
          18917,
          4350,
          3095,
          5233,
          10833,
          8333,
          4394,
          6666,
          5484,
          6464,
          3691,
          17263,
          4239,
          4300,
          7482,
          2895,
          4328,
          3159,
          10489,
          5297,
          7926,
          5492,
          13262,
          8069,
          5318,
          6894,
          3663,
          3934,
          2500,
          7101,
          3775,
          6715,
          3981,
          6783,
          6525,
          4281,
          18165,
          4592,
          3617,
          6417,
          7453,
          3652,
          4763,
          3680,
          4718,
          4309,
          4801,
          6583,
          6500,
          4292,
          10139,
          6556,
          6486,
          3917,
          7977,
          5800,
          4467,
          3333,
          5167,
          16666,
          3620,
          5968,
          4014,
          6099,
          6540,
          3166,
          3819,
          2165,
          4750,
          6416,
          9357,
          7159,
          16120,
          3833,
          9963,
          5780,
          5686,
          5703,
          7977,
          5900,
          5398,
          5182,
          2900,
          4106,
          8312,
          7583
         ],
         "z": [
          360,
          360,
          360,
          360,
          360,
          360,
          360,
          360,
          360,
          120,
          360,
          240,
          null,
          360,
          360,
          360,
          360,
          360,
          360,
          360,
          360,
          360,
          360,
          360,
          null,
          null,
          360,
          360,
          360,
          360,
          360,
          360,
          360,
          360,
          360,
          360,
          360,
          60,
          360,
          360,
          300,
          360,
          360,
          360,
          240,
          360,
          360,
          360,
          360,
          360,
          360,
          180,
          360,
          360,
          120,
          360,
          360,
          180,
          360,
          180,
          360,
          360,
          360,
          360,
          480,
          360,
          360,
          360,
          180,
          360,
          360,
          360,
          360,
          360,
          360,
          360,
          360,
          360,
          360,
          360,
          120,
          360,
          360,
          360,
          180,
          360,
          180,
          360,
          360,
          360,
          360,
          360,
          360,
          360,
          360,
          360,
          360,
          360,
          360,
          180,
          null,
          360,
          360,
          360,
          360,
          360,
          360,
          360,
          180,
          360,
          360,
          360,
          180,
          360,
          360,
          360,
          360,
          null,
          360,
          360,
          360,
          360,
          360,
          360,
          360,
          360,
          360,
          360,
          360,
          360,
          360,
          360,
          360,
          360,
          360,
          null,
          360,
          360,
          480,
          360,
          360,
          180,
          null,
          360,
          360,
          360,
          360,
          360,
          360,
          360,
          60,
          360,
          360,
          360,
          180,
          480,
          360,
          360,
          180,
          360,
          360,
          360,
          360,
          360,
          360,
          360,
          360,
          360,
          360,
          360,
          360,
          360,
          360,
          360,
          360,
          360,
          360,
          180,
          360,
          360,
          360,
          360,
          360,
          360,
          360,
          360,
          360,
          360,
          360,
          360,
          360,
          360,
          360,
          360,
          360,
          360,
          360,
          360,
          84,
          180,
          360,
          360,
          360,
          360,
          360,
          360,
          360,
          360,
          360,
          360,
          360,
          360,
          180,
          null,
          360,
          360,
          360,
          360,
          360,
          360,
          360,
          360,
          360,
          360,
          360,
          360,
          360,
          180,
          360,
          360,
          360,
          360,
          300,
          360,
          360,
          360,
          360,
          360,
          180,
          360,
          360,
          360,
          360,
          360,
          360,
          360,
          180,
          360,
          360,
          360,
          360,
          360,
          360,
          180,
          360,
          360,
          360,
          360,
          360,
          360,
          360,
          360,
          360,
          360,
          360,
          360,
          360,
          360,
          360,
          360,
          360,
          360,
          360,
          360,
          180,
          360,
          360,
          360,
          360,
          360,
          360,
          360,
          360,
          300,
          360,
          360,
          300,
          180,
          360,
          360,
          360,
          360,
          360,
          180,
          360,
          360,
          360,
          360,
          360,
          360,
          360,
          360,
          360,
          360,
          300,
          360,
          360,
          360,
          360,
          360,
          360,
          360,
          360,
          360,
          360,
          360,
          360,
          84,
          360,
          12,
          360,
          480,
          360,
          360,
          300,
          360,
          360,
          360,
          360,
          360,
          360,
          480,
          360,
          360,
          360,
          360,
          360,
          360,
          360,
          360,
          360,
          360,
          360,
          360,
          180,
          180,
          360,
          360,
          360,
          360,
          360,
          360,
          360,
          360,
          360,
          360,
          360,
          360,
          360,
          360,
          360,
          360,
          360,
          360,
          360,
          84,
          360,
          360,
          360,
          360,
          360,
          360,
          360,
          360,
          180,
          360,
          180,
          360,
          360,
          360,
          360,
          360,
          360,
          360,
          360,
          360,
          360,
          360,
          180,
          360,
          360
         ]
        },
        {
         "hoverinfo": "text",
         "marker": {
          "color": "red",
          "opacity": 0.4,
          "size": 5
         },
         "mode": "markers",
         "name": "denied",
         "text": [
          "('Credit: 1.0', 'Education: Graduate', 'Property Area: Urban', 'Gender: Male', 'Married: No', 'Education: Graduate', 'Self-Employed: No')",
          "('Credit: 1.0', 'Education: Graduate', 'Property Area: Rural', 'Gender: Male', 'Married: Yes', 'Education: Graduate', 'Self-Employed: No')",
          "('Credit: 1.0', 'Education: Graduate', 'Property Area: Urban', 'Gender: Male', 'Married: Yes', 'Education: Graduate', 'Self-Employed: Yes')",
          "('Credit: 1.0', 'Education: Not Graduate', 'Property Area: Urban', 'Gender: Male', 'Married: Yes', 'Education: Not Graduate', 'Self-Employed: No')",
          "('Credit: 1.0', 'Education: Graduate', 'Property Area: Urban', 'Gender: Male', 'Married: No', 'Education: Graduate', 'Self-Employed: No')",
          "('Credit: 1.0', 'Education: Graduate', 'Property Area: Urban', 'Gender: Male', 'Married: Yes', 'Education: Graduate', 'Self-Employed: Yes')",
          "('Credit: 1.0', 'Education: Not Graduate', 'Property Area: Urban', 'Gender: Male', 'Married: Yes', 'Education: Not Graduate', 'Self-Employed: No')",
          "('Credit: 0.0', 'Education: Graduate', 'Property Area: Semiurban', 'Gender: Male', 'Married: Yes', 'Education: Graduate', 'Self-Employed: No')",
          "('Credit: 1.0', 'Education: Graduate', 'Property Area: Urban', 'Gender: Male', 'Married: Yes', 'Education: Graduate', 'Self-Employed: No')",
          "('Credit: 1.0', 'Education: Graduate', 'Property Area: Semiurban', 'Gender: Male', 'Married: Yes', 'Education: Graduate', 'Self-Employed: No')",
          "('Credit: 1.0', 'Education: Graduate', 'Property Area: Urban', 'Gender: Male', 'Married: Yes', 'Education: Graduate', 'Self-Employed: No')",
          "('Credit: 1.0', 'Education: Graduate', 'Property Area: Urban', 'Gender: Male', 'Married: Yes', 'Education: Graduate', 'Self-Employed: nan')",
          "('Credit: 1.0', 'Education: Graduate', 'Property Area: Urban', 'Gender: Male', 'Married: Yes', 'Education: Graduate', 'Self-Employed: No')",
          "('Credit: 1.0', 'Education: Graduate', 'Property Area: Rural', 'Gender: Male', 'Married: No', 'Education: Graduate', 'Self-Employed: No')",
          "('Credit: 1.0', 'Education: Graduate', 'Property Area: Urban', 'Gender: Male', 'Married: Yes', 'Education: Graduate', 'Self-Employed: No')",
          "('Credit: 1.0', 'Education: Graduate', 'Property Area: Urban', 'Gender: Male', 'Married: No', 'Education: Graduate', 'Self-Employed: No')",
          "('Credit: nan', 'Education: Not Graduate', 'Property Area: Urban', 'Gender: Male', 'Married: No', 'Education: Not Graduate', 'Self-Employed: No')",
          "('Credit: 0.0', 'Education: Graduate', 'Property Area: Urban', 'Gender: Female', 'Married: No', 'Education: Graduate', 'Self-Employed: No')",
          "('Credit: 1.0', 'Education: Not Graduate', 'Property Area: Rural', 'Gender: Male', 'Married: Yes', 'Education: Not Graduate', 'Self-Employed: No')",
          "('Credit: 1.0', 'Education: Graduate', 'Property Area: Urban', 'Gender: Male', 'Married: Yes', 'Education: Graduate', 'Self-Employed: nan')",
          "('Credit: 0.0', 'Education: Not Graduate', 'Property Area: Urban', 'Gender: Male', 'Married: Yes', 'Education: Not Graduate', 'Self-Employed: No')",
          "('Credit: 1.0', 'Education: Graduate', 'Property Area: Urban', 'Gender: Male', 'Married: Yes', 'Education: Graduate', 'Self-Employed: No')",
          "('Credit: 0.0', 'Education: Not Graduate', 'Property Area: Semiurban', 'Gender: Male', 'Married: Yes', 'Education: Not Graduate', 'Self-Employed: No')",
          "('Credit: 0.0', 'Education: Not Graduate', 'Property Area: Rural', 'Gender: nan', 'Married: Yes', 'Education: Not Graduate', 'Self-Employed: No')",
          "('Credit: nan', 'Education: Graduate', 'Property Area: Semiurban', 'Gender: Male', 'Married: Yes', 'Education: Graduate', 'Self-Employed: nan')",
          "('Credit: 1.0', 'Education: Graduate', 'Property Area: Semiurban', 'Gender: Male', 'Married: Yes', 'Education: Graduate', 'Self-Employed: Yes')",
          "('Credit: 1.0', 'Education: Graduate', 'Property Area: Semiurban', 'Gender: Male', 'Married: Yes', 'Education: Graduate', 'Self-Employed: No')",
          "('Credit: 1.0', 'Education: Not Graduate', 'Property Area: Urban', 'Gender: Male', 'Married: Yes', 'Education: Not Graduate', 'Self-Employed: No')",
          "('Credit: 1.0', 'Education: Not Graduate', 'Property Area: Urban', 'Gender: Male', 'Married: No', 'Education: Not Graduate', 'Self-Employed: No')",
          "('Credit: 1.0', 'Education: Graduate', 'Property Area: Semiurban', 'Gender: Female', 'Married: No', 'Education: Graduate', 'Self-Employed: nan')",
          "('Credit: nan', 'Education: Graduate', 'Property Area: Urban', 'Gender: Male', 'Married: Yes', 'Education: Graduate', 'Self-Employed: nan')",
          "('Credit: 1.0', 'Education: Graduate', 'Property Area: Urban', 'Gender: Male', 'Married: No', 'Education: Graduate', 'Self-Employed: No')",
          "('Credit: 1.0', 'Education: Graduate', 'Property Area: Rural', 'Gender: Male', 'Married: No', 'Education: Graduate', 'Self-Employed: Yes')",
          "('Credit: 1.0', 'Education: Graduate', 'Property Area: Semiurban', 'Gender: Male', 'Married: Yes', 'Education: Graduate', 'Self-Employed: No')",
          "('Credit: 1.0', 'Education: Graduate', 'Property Area: Rural', 'Gender: Male', 'Married: No', 'Education: Graduate', 'Self-Employed: No')",
          "('Credit: 1.0', 'Education: Graduate', 'Property Area: Urban', 'Gender: Male', 'Married: Yes', 'Education: Graduate', 'Self-Employed: No')",
          "('Credit: 0.0', 'Education: Graduate', 'Property Area: Urban', 'Gender: Male', 'Married: Yes', 'Education: Graduate', 'Self-Employed: No')",
          "('Credit: 1.0', 'Education: Graduate', 'Property Area: Semiurban', 'Gender: Female', 'Married: Yes', 'Education: Graduate', 'Self-Employed: No')",
          "('Credit: 1.0', 'Education: Graduate', 'Property Area: Urban', 'Gender: Male', 'Married: No', 'Education: Graduate', 'Self-Employed: No')",
          "('Credit: 1.0', 'Education: Not Graduate', 'Property Area: Semiurban', 'Gender: Male', 'Married: No', 'Education: Not Graduate', 'Self-Employed: No')",
          "('Credit: 1.0', 'Education: Graduate', 'Property Area: Urban', 'Gender: Male', 'Married: No', 'Education: Graduate', 'Self-Employed: No')",
          "('Credit: 1.0', 'Education: Graduate', 'Property Area: Urban', 'Gender: Male', 'Married: No', 'Education: Graduate', 'Self-Employed: No')",
          "('Credit: nan', 'Education: Graduate', 'Property Area: Urban', 'Gender: Male', 'Married: Yes', 'Education: Graduate', 'Self-Employed: No')",
          "('Credit: 1.0', 'Education: Graduate', 'Property Area: Semiurban', 'Gender: Male', 'Married: Yes', 'Education: Graduate', 'Self-Employed: No')",
          "('Credit: 1.0', 'Education: Not Graduate', 'Property Area: Urban', 'Gender: Male', 'Married: Yes', 'Education: Not Graduate', 'Self-Employed: Yes')",
          "('Credit: 1.0', 'Education: Graduate', 'Property Area: Urban', 'Gender: Female', 'Married: No', 'Education: Graduate', 'Self-Employed: No')",
          "('Credit: 1.0', 'Education: Graduate', 'Property Area: Urban', 'Gender: Male', 'Married: Yes', 'Education: Graduate', 'Self-Employed: No')",
          "('Credit: 1.0', 'Education: Graduate', 'Property Area: Urban', 'Gender: Male', 'Married: Yes', 'Education: Graduate', 'Self-Employed: No')",
          "('Credit: 0.0', 'Education: Graduate', 'Property Area: Urban', 'Gender: Female', 'Married: Yes', 'Education: Graduate', 'Self-Employed: No')",
          "('Credit: 1.0', 'Education: Graduate', 'Property Area: Semiurban', 'Gender: Female', 'Married: No', 'Education: Graduate', 'Self-Employed: No')",
          "('Credit: 1.0', 'Education: Not Graduate', 'Property Area: Semiurban', 'Gender: Female', 'Married: Yes', 'Education: Not Graduate', 'Self-Employed: No')",
          "('Credit: 1.0', 'Education: Graduate', 'Property Area: Semiurban', 'Gender: Female', 'Married: No', 'Education: Graduate', 'Self-Employed: No')",
          "('Credit: 1.0', 'Education: Graduate', 'Property Area: Semiurban', 'Gender: Female', 'Married: No', 'Education: Graduate', 'Self-Employed: No')",
          "('Credit: 1.0', 'Education: Graduate', 'Property Area: Urban', 'Gender: Male', 'Married: Yes', 'Education: Graduate', 'Self-Employed: No')",
          "('Credit: 0.0', 'Education: Graduate', 'Property Area: Urban', 'Gender: Female', 'Married: Yes', 'Education: Graduate', 'Self-Employed: Yes')",
          "('Credit: 1.0', 'Education: Graduate', 'Property Area: Semiurban', 'Gender: Male', 'Married: Yes', 'Education: Graduate', 'Self-Employed: No')",
          "('Credit: 1.0', 'Education: Graduate', 'Property Area: Semiurban', 'Gender: Male', 'Married: Yes', 'Education: Graduate', 'Self-Employed: No')",
          "('Credit: 1.0', 'Education: Graduate', 'Property Area: Rural', 'Gender: Male', 'Married: Yes', 'Education: Graduate', 'Self-Employed: No')",
          "('Credit: 1.0', 'Education: Graduate', 'Property Area: Urban', 'Gender: Male', 'Married: Yes', 'Education: Graduate', 'Self-Employed: No')",
          "('Credit: 1.0', 'Education: Not Graduate', 'Property Area: Urban', 'Gender: Male', 'Married: Yes', 'Education: Not Graduate', 'Self-Employed: No')",
          "('Credit: 1.0', 'Education: Graduate', 'Property Area: Urban', 'Gender: Male', 'Married: Yes', 'Education: Graduate', 'Self-Employed: No')",
          "('Credit: 1.0', 'Education: Graduate', 'Property Area: Urban', 'Gender: Male', 'Married: Yes', 'Education: Graduate', 'Self-Employed: No')",
          "('Credit: 0.0', 'Education: Not Graduate', 'Property Area: Rural', 'Gender: Male', 'Married: Yes', 'Education: Not Graduate', 'Self-Employed: Yes')",
          "('Credit: 0.0', 'Education: Graduate', 'Property Area: Rural', 'Gender: Male', 'Married: Yes', 'Education: Graduate', 'Self-Employed: No')",
          "('Credit: 0.0', 'Education: Graduate', 'Property Area: Semiurban', 'Gender: Female', 'Married: No', 'Education: Graduate', 'Self-Employed: No')",
          "('Credit: 1.0', 'Education: Graduate', 'Property Area: Semiurban', 'Gender: Male', 'Married: Yes', 'Education: Graduate', 'Self-Employed: No')",
          "('Credit: 0.0', 'Education: Not Graduate', 'Property Area: Urban', 'Gender: Male', 'Married: No', 'Education: Not Graduate', 'Self-Employed: No')",
          "('Credit: 1.0', 'Education: Graduate', 'Property Area: Urban', 'Gender: Male', 'Married: Yes', 'Education: Graduate', 'Self-Employed: No')",
          "('Credit: 1.0', 'Education: Not Graduate', 'Property Area: Urban', 'Gender: Male', 'Married: Yes', 'Education: Not Graduate', 'Self-Employed: Yes')",
          "('Credit: 0.0', 'Education: Graduate', 'Property Area: Semiurban', 'Gender: Female', 'Married: No', 'Education: Graduate', 'Self-Employed: No')",
          "('Credit: 1.0', 'Education: Graduate', 'Property Area: Urban', 'Gender: Male', 'Married: Yes', 'Education: Graduate', 'Self-Employed: No')",
          "('Credit: 1.0', 'Education: Not Graduate', 'Property Area: Semiurban', 'Gender: Male', 'Married: Yes', 'Education: Not Graduate', 'Self-Employed: Yes')",
          "('Credit: 1.0', 'Education: Graduate', 'Property Area: Semiurban', 'Gender: Male', 'Married: No', 'Education: Graduate', 'Self-Employed: No')",
          "('Credit: 0.0', 'Education: Not Graduate', 'Property Area: Semiurban', 'Gender: Male', 'Married: Yes', 'Education: Not Graduate', 'Self-Employed: No')",
          "('Credit: 1.0', 'Education: Graduate', 'Property Area: Semiurban', 'Gender: Male', 'Married: Yes', 'Education: Graduate', 'Self-Employed: Yes')",
          "('Credit: 1.0', 'Education: Graduate', 'Property Area: Urban', 'Gender: Male', 'Married: No', 'Education: Graduate', 'Self-Employed: No')",
          "('Credit: 1.0', 'Education: Graduate', 'Property Area: Urban', 'Gender: Male', 'Married: No', 'Education: Graduate', 'Self-Employed: No')",
          "('Credit: 1.0', 'Education: Graduate', 'Property Area: Urban', 'Gender: Male', 'Married: Yes', 'Education: Graduate', 'Self-Employed: Yes')",
          "('Credit: 0.0', 'Education: Graduate', 'Property Area: Semiurban', 'Gender: Male', 'Married: Yes', 'Education: Graduate', 'Self-Employed: No')",
          "('Credit: nan', 'Education: Not Graduate', 'Property Area: Semiurban', 'Gender: Male', 'Married: Yes', 'Education: Not Graduate', 'Self-Employed: Yes')",
          "('Credit: 1.0', 'Education: Graduate', 'Property Area: Semiurban', 'Gender: Female', 'Married: No', 'Education: Graduate', 'Self-Employed: No')",
          "('Credit: 1.0', 'Education: Graduate', 'Property Area: Semiurban', 'Gender: Male', 'Married: Yes', 'Education: Graduate', 'Self-Employed: Yes')",
          "('Credit: 1.0', 'Education: Graduate', 'Property Area: Urban', 'Gender: Female', 'Married: Yes', 'Education: Graduate', 'Self-Employed: No')",
          "('Credit: nan', 'Education: Graduate', 'Property Area: Semiurban', 'Gender: Male', 'Married: Yes', 'Education: Graduate', 'Self-Employed: No')",
          "('Credit: 1.0', 'Education: Graduate', 'Property Area: Urban', 'Gender: Male', 'Married: Yes', 'Education: Graduate', 'Self-Employed: No')",
          "('Credit: 1.0', 'Education: Graduate', 'Property Area: Semiurban', 'Gender: Male', 'Married: No', 'Education: Graduate', 'Self-Employed: No')",
          "('Credit: nan', 'Education: Not Graduate', 'Property Area: Semiurban', 'Gender: Male', 'Married: Yes', 'Education: Not Graduate', 'Self-Employed: No')",
          "('Credit: 1.0', 'Education: Graduate', 'Property Area: Semiurban', 'Gender: Male', 'Married: Yes', 'Education: Graduate', 'Self-Employed: No')",
          "('Credit: 1.0', 'Education: Graduate', 'Property Area: Urban', 'Gender: Male', 'Married: No', 'Education: Graduate', 'Self-Employed: No')",
          "('Credit: 1.0', 'Education: Graduate', 'Property Area: Semiurban', 'Gender: Male', 'Married: Yes', 'Education: Graduate', 'Self-Employed: No')",
          "('Credit: 1.0', 'Education: Graduate', 'Property Area: Semiurban', 'Gender: Male', 'Married: Yes', 'Education: Graduate', 'Self-Employed: No')",
          "('Credit: 1.0', 'Education: Graduate', 'Property Area: Semiurban', 'Gender: Male', 'Married: Yes', 'Education: Graduate', 'Self-Employed: No')",
          "('Credit: 1.0', 'Education: Not Graduate', 'Property Area: Urban', 'Gender: Male', 'Married: Yes', 'Education: Not Graduate', 'Self-Employed: No')",
          "('Credit: 1.0', 'Education: Graduate', 'Property Area: Semiurban', 'Gender: Male', 'Married: No', 'Education: Graduate', 'Self-Employed: No')",
          "('Credit: 1.0', 'Education: Not Graduate', 'Property Area: Semiurban', 'Gender: Male', 'Married: No', 'Education: Not Graduate', 'Self-Employed: No')",
          "('Credit: nan', 'Education: Graduate', 'Property Area: Urban', 'Gender: Male', 'Married: No', 'Education: Graduate', 'Self-Employed: nan')",
          "('Credit: 1.0', 'Education: Graduate', 'Property Area: Semiurban', 'Gender: Female', 'Married: Yes', 'Education: Graduate', 'Self-Employed: No')",
          "('Credit: 1.0', 'Education: Graduate', 'Property Area: Semiurban', 'Gender: Male', 'Married: Yes', 'Education: Graduate', 'Self-Employed: No')",
          "('Credit: 1.0', 'Education: Not Graduate', 'Property Area: Semiurban', 'Gender: Male', 'Married: Yes', 'Education: Not Graduate', 'Self-Employed: No')",
          "('Credit: 1.0', 'Education: Graduate', 'Property Area: Semiurban', 'Gender: Male', 'Married: Yes', 'Education: Graduate', 'Self-Employed: No')",
          "('Credit: 1.0', 'Education: Not Graduate', 'Property Area: Urban', 'Gender: Male', 'Married: Yes', 'Education: Not Graduate', 'Self-Employed: No')",
          "('Credit: 1.0', 'Education: Graduate', 'Property Area: Semiurban', 'Gender: Male', 'Married: No', 'Education: Graduate', 'Self-Employed: No')",
          "('Credit: 1.0', 'Education: Graduate', 'Property Area: Urban', 'Gender: Male', 'Married: Yes', 'Education: Graduate', 'Self-Employed: No')",
          "('Credit: 1.0', 'Education: Graduate', 'Property Area: Semiurban', 'Gender: Male', 'Married: Yes', 'Education: Graduate', 'Self-Employed: No')",
          "('Credit: 1.0', 'Education: Graduate', 'Property Area: Urban', 'Gender: Male', 'Married: nan', 'Education: Graduate', 'Self-Employed: No')",
          "('Credit: 1.0', 'Education: Graduate', 'Property Area: Urban', 'Gender: Male', 'Married: Yes', 'Education: Graduate', 'Self-Employed: No')",
          "('Credit: 1.0', 'Education: Graduate', 'Property Area: Urban', 'Gender: Male', 'Married: Yes', 'Education: Graduate', 'Self-Employed: No')",
          "('Credit: 1.0', 'Education: Not Graduate', 'Property Area: Rural', 'Gender: Male', 'Married: No', 'Education: Not Graduate', 'Self-Employed: nan')",
          "('Credit: 0.0', 'Education: Graduate', 'Property Area: Urban', 'Gender: Male', 'Married: Yes', 'Education: Graduate', 'Self-Employed: No')",
          "('Credit: 1.0', 'Education: Not Graduate', 'Property Area: Semiurban', 'Gender: Male', 'Married: Yes', 'Education: Not Graduate', 'Self-Employed: No')",
          "('Credit: 1.0', 'Education: Graduate', 'Property Area: Urban', 'Gender: Male', 'Married: No', 'Education: Graduate', 'Self-Employed: No')",
          "('Credit: 1.0', 'Education: Graduate', 'Property Area: Semiurban', 'Gender: Female', 'Married: Yes', 'Education: Graduate', 'Self-Employed: nan')",
          "('Credit: 0.0', 'Education: Not Graduate', 'Property Area: Rural', 'Gender: Male', 'Married: Yes', 'Education: Not Graduate', 'Self-Employed: No')",
          "('Credit: 1.0', 'Education: Graduate', 'Property Area: Semiurban', 'Gender: Female', 'Married: No', 'Education: Graduate', 'Self-Employed: Yes')",
          "('Credit: 1.0', 'Education: Graduate', 'Property Area: Semiurban', 'Gender: Male', 'Married: No', 'Education: Graduate', 'Self-Employed: nan')",
          "('Credit: 1.0', 'Education: Graduate', 'Property Area: Rural', 'Gender: Male', 'Married: Yes', 'Education: Graduate', 'Self-Employed: No')",
          "('Credit: 1.0', 'Education: Graduate', 'Property Area: Semiurban', 'Gender: Female', 'Married: Yes', 'Education: Graduate', 'Self-Employed: No')",
          "('Credit: nan', 'Education: Graduate', 'Property Area: Urban', 'Gender: Male', 'Married: Yes', 'Education: Graduate', 'Self-Employed: No')",
          "('Credit: 1.0', 'Education: Graduate', 'Property Area: Rural', 'Gender: Male', 'Married: Yes', 'Education: Graduate', 'Self-Employed: No')",
          "('Credit: 1.0', 'Education: Graduate', 'Property Area: Urban', 'Gender: Female', 'Married: No', 'Education: Graduate', 'Self-Employed: No')",
          "('Credit: 1.0', 'Education: Graduate', 'Property Area: Rural', 'Gender: Male', 'Married: Yes', 'Education: Graduate', 'Self-Employed: No')",
          "('Credit: 1.0', 'Education: Graduate', 'Property Area: Semiurban', 'Gender: Female', 'Married: No', 'Education: Graduate', 'Self-Employed: No')",
          "('Credit: 0.0', 'Education: Graduate', 'Property Area: Semiurban', 'Gender: Female', 'Married: No', 'Education: Graduate', 'Self-Employed: No')",
          "('Credit: 1.0', 'Education: Graduate', 'Property Area: Semiurban', 'Gender: Male', 'Married: Yes', 'Education: Graduate', 'Self-Employed: No')",
          "('Credit: 1.0', 'Education: Not Graduate', 'Property Area: Rural', 'Gender: Male', 'Married: Yes', 'Education: Not Graduate', 'Self-Employed: No')",
          "('Credit: nan', 'Education: Graduate', 'Property Area: Rural', 'Gender: Female', 'Married: No', 'Education: Graduate', 'Self-Employed: No')",
          "('Credit: 1.0', 'Education: Graduate', 'Property Area: Rural', 'Gender: nan', 'Married: Yes', 'Education: Graduate', 'Self-Employed: No')",
          "('Credit: 1.0', 'Education: Graduate', 'Property Area: Rural', 'Gender: Male', 'Married: No', 'Education: Graduate', 'Self-Employed: No')",
          "('Credit: 0.0', 'Education: Graduate', 'Property Area: Urban', 'Gender: Male', 'Married: Yes', 'Education: Graduate', 'Self-Employed: Yes')",
          "('Credit: nan', 'Education: Graduate', 'Property Area: Rural', 'Gender: Male', 'Married: Yes', 'Education: Graduate', 'Self-Employed: No')",
          "('Credit: nan', 'Education: Graduate', 'Property Area: Urban', 'Gender: Male', 'Married: No', 'Education: Graduate', 'Self-Employed: Yes')",
          "('Credit: 1.0', 'Education: Graduate', 'Property Area: Urban', 'Gender: Male', 'Married: No', 'Education: Graduate', 'Self-Employed: No')",
          "('Credit: 1.0', 'Education: Graduate', 'Property Area: Semiurban', 'Gender: Male', 'Married: No', 'Education: Graduate', 'Self-Employed: No')",
          "('Credit: 1.0', 'Education: Graduate', 'Property Area: Semiurban', 'Gender: Male', 'Married: Yes', 'Education: Graduate', 'Self-Employed: Yes')",
          "('Credit: 1.0', 'Education: Graduate', 'Property Area: Semiurban', 'Gender: Male', 'Married: No', 'Education: Graduate', 'Self-Employed: No')",
          "('Credit: 1.0', 'Education: Graduate', 'Property Area: Semiurban', 'Gender: Male', 'Married: Yes', 'Education: Graduate', 'Self-Employed: No')",
          "('Credit: 1.0', 'Education: Graduate', 'Property Area: Rural', 'Gender: Female', 'Married: Yes', 'Education: Graduate', 'Self-Employed: No')",
          "('Credit: 1.0', 'Education: Graduate', 'Property Area: Urban', 'Gender: Male', 'Married: Yes', 'Education: Graduate', 'Self-Employed: Yes')",
          "('Credit: 0.0', 'Education: Graduate', 'Property Area: Semiurban', 'Gender: Male', 'Married: No', 'Education: Graduate', 'Self-Employed: No')",
          "('Credit: 1.0', 'Education: Not Graduate', 'Property Area: Rural', 'Gender: Male', 'Married: Yes', 'Education: Not Graduate', 'Self-Employed: No')",
          "('Credit: 1.0', 'Education: Graduate', 'Property Area: Rural', 'Gender: Male', 'Married: Yes', 'Education: Graduate', 'Self-Employed: No')",
          "('Credit: 1.0', 'Education: Graduate', 'Property Area: Urban', 'Gender: Male', 'Married: No', 'Education: Graduate', 'Self-Employed: No')",
          "('Credit: 1.0', 'Education: Graduate', 'Property Area: Semiurban', 'Gender: Male', 'Married: No', 'Education: Graduate', 'Self-Employed: Yes')",
          "('Credit: 1.0', 'Education: Graduate', 'Property Area: Semiurban', 'Gender: Male', 'Married: Yes', 'Education: Graduate', 'Self-Employed: No')",
          "('Credit: 1.0', 'Education: Graduate', 'Property Area: Urban', 'Gender: Male', 'Married: Yes', 'Education: Graduate', 'Self-Employed: No')",
          "('Credit: 1.0', 'Education: Graduate', 'Property Area: Semiurban', 'Gender: Female', 'Married: Yes', 'Education: Graduate', 'Self-Employed: No')",
          "('Credit: 1.0', 'Education: Graduate', 'Property Area: Urban', 'Gender: Female', 'Married: Yes', 'Education: Graduate', 'Self-Employed: No')",
          "('Credit: 1.0', 'Education: Graduate', 'Property Area: Urban', 'Gender: Male', 'Married: Yes', 'Education: Graduate', 'Self-Employed: No')",
          "('Credit: 1.0', 'Education: Graduate', 'Property Area: Rural', 'Gender: Female', 'Married: No', 'Education: Graduate', 'Self-Employed: No')",
          "('Credit: 1.0', 'Education: Graduate', 'Property Area: Semiurban', 'Gender: Male', 'Married: Yes', 'Education: Graduate', 'Self-Employed: No')",
          "('Credit: 0.0', 'Education: Graduate', 'Property Area: Rural', 'Gender: Male', 'Married: No', 'Education: Graduate', 'Self-Employed: No')",
          "('Credit: 1.0', 'Education: Graduate', 'Property Area: Rural', 'Gender: Male', 'Married: Yes', 'Education: Graduate', 'Self-Employed: Yes')",
          "('Credit: 1.0', 'Education: Graduate', 'Property Area: Urban', 'Gender: Male', 'Married: No', 'Education: Graduate', 'Self-Employed: No')",
          "('Credit: 1.0', 'Education: Not Graduate', 'Property Area: Rural', 'Gender: Male', 'Married: Yes', 'Education: Not Graduate', 'Self-Employed: No')",
          "('Credit: 1.0', 'Education: Graduate', 'Property Area: Urban', 'Gender: Male', 'Married: No', 'Education: Graduate', 'Self-Employed: No')",
          "('Credit: 0.0', 'Education: Graduate', 'Property Area: Semiurban', 'Gender: Male', 'Married: Yes', 'Education: Graduate', 'Self-Employed: No')",
          "('Credit: nan', 'Education: Graduate', 'Property Area: Rural', 'Gender: Male', 'Married: Yes', 'Education: Graduate', 'Self-Employed: No')",
          "('Credit: 1.0', 'Education: Graduate', 'Property Area: Urban', 'Gender: Male', 'Married: Yes', 'Education: Graduate', 'Self-Employed: No')",
          "('Credit: 1.0', 'Education: Graduate', 'Property Area: Rural', 'Gender: Male', 'Married: No', 'Education: Graduate', 'Self-Employed: nan')",
          "('Credit: 1.0', 'Education: Graduate', 'Property Area: Semiurban', 'Gender: Male', 'Married: Yes', 'Education: Graduate', 'Self-Employed: No')",
          "('Credit: 1.0', 'Education: Not Graduate', 'Property Area: Semiurban', 'Gender: Male', 'Married: Yes', 'Education: Not Graduate', 'Self-Employed: No')",
          "('Credit: 1.0', 'Education: Graduate', 'Property Area: Urban', 'Gender: Male', 'Married: Yes', 'Education: Graduate', 'Self-Employed: No')",
          "('Credit: 0.0', 'Education: Graduate', 'Property Area: Semiurban', 'Gender: Male', 'Married: Yes', 'Education: Graduate', 'Self-Employed: No')",
          "('Credit: 1.0', 'Education: Graduate', 'Property Area: Rural', 'Gender: Male', 'Married: Yes', 'Education: Graduate', 'Self-Employed: No')",
          "('Credit: 1.0', 'Education: Graduate', 'Property Area: Urban', 'Gender: Male', 'Married: Yes', 'Education: Graduate', 'Self-Employed: No')",
          "('Credit: 1.0', 'Education: Graduate', 'Property Area: Rural', 'Gender: Male', 'Married: Yes', 'Education: Graduate', 'Self-Employed: No')",
          "('Credit: 1.0', 'Education: Graduate', 'Property Area: Rural', 'Gender: Female', 'Married: Yes', 'Education: Graduate', 'Self-Employed: No')",
          "('Credit: 1.0', 'Education: Graduate', 'Property Area: Rural', 'Gender: Male', 'Married: Yes', 'Education: Graduate', 'Self-Employed: No')",
          "('Credit: 0.0', 'Education: Graduate', 'Property Area: Semiurban', 'Gender: Male', 'Married: No', 'Education: Graduate', 'Self-Employed: No')",
          "('Credit: 1.0', 'Education: Graduate', 'Property Area: Semiurban', 'Gender: Male', 'Married: Yes', 'Education: Graduate', 'Self-Employed: No')",
          "('Credit: 1.0', 'Education: Not Graduate', 'Property Area: Rural', 'Gender: Male', 'Married: Yes', 'Education: Not Graduate', 'Self-Employed: nan')",
          "('Credit: 1.0', 'Education: Graduate', 'Property Area: Urban', 'Gender: nan', 'Married: Yes', 'Education: Graduate', 'Self-Employed: No')",
          "('Credit: 1.0', 'Education: Not Graduate', 'Property Area: Rural', 'Gender: Male', 'Married: Yes', 'Education: Not Graduate', 'Self-Employed: No')",
          "('Credit: 1.0', 'Education: Graduate', 'Property Area: Semiurban', 'Gender: Male', 'Married: Yes', 'Education: Graduate', 'Self-Employed: No')",
          "('Credit: 1.0', 'Education: Not Graduate', 'Property Area: Semiurban', 'Gender: Male', 'Married: Yes', 'Education: Not Graduate', 'Self-Employed: Yes')",
          "('Credit: 1.0', 'Education: Graduate', 'Property Area: Rural', 'Gender: Male', 'Married: Yes', 'Education: Graduate', 'Self-Employed: No')",
          "('Credit: 1.0', 'Education: Graduate', 'Property Area: Rural', 'Gender: Male', 'Married: Yes', 'Education: Graduate', 'Self-Employed: No')",
          "('Credit: 0.0', 'Education: Graduate', 'Property Area: Semiurban', 'Gender: Male', 'Married: Yes', 'Education: Graduate', 'Self-Employed: No')",
          "('Credit: 1.0', 'Education: Graduate', 'Property Area: Semiurban', 'Gender: Male', 'Married: Yes', 'Education: Graduate', 'Self-Employed: No')",
          "('Credit: 0.0', 'Education: Not Graduate', 'Property Area: Urban', 'Gender: Male', 'Married: No', 'Education: Not Graduate', 'Self-Employed: No')",
          "('Credit: 0.0', 'Education: Graduate', 'Property Area: Urban', 'Gender: Male', 'Married: Yes', 'Education: Graduate', 'Self-Employed: No')",
          "('Credit: nan', 'Education: Graduate', 'Property Area: Rural', 'Gender: Male', 'Married: No', 'Education: Graduate', 'Self-Employed: No')",
          "('Credit: 1.0', 'Education: Graduate', 'Property Area: Semiurban', 'Gender: Male', 'Married: Yes', 'Education: Graduate', 'Self-Employed: No')",
          "('Credit: 1.0', 'Education: Graduate', 'Property Area: Semiurban', 'Gender: Male', 'Married: Yes', 'Education: Graduate', 'Self-Employed: No')",
          "('Credit: 1.0', 'Education: Graduate', 'Property Area: Semiurban', 'Gender: Female', 'Married: Yes', 'Education: Graduate', 'Self-Employed: No')",
          "('Credit: 1.0', 'Education: Graduate', 'Property Area: Semiurban', 'Gender: Male', 'Married: Yes', 'Education: Graduate', 'Self-Employed: Yes')",
          "('Credit: 0.0', 'Education: Graduate', 'Property Area: Rural', 'Gender: Male', 'Married: Yes', 'Education: Graduate', 'Self-Employed: Yes')",
          "('Credit: nan', 'Education: Graduate', 'Property Area: Rural', 'Gender: Male', 'Married: Yes', 'Education: Graduate', 'Self-Employed: No')",
          "('Credit: 1.0', 'Education: Graduate', 'Property Area: Rural', 'Gender: nan', 'Married: Yes', 'Education: Graduate', 'Self-Employed: Yes')",
          "('Credit: 1.0', 'Education: Graduate', 'Property Area: Rural', 'Gender: Male', 'Married: Yes', 'Education: Graduate', 'Self-Employed: No')",
          "('Credit: 1.0', 'Education: Not Graduate', 'Property Area: Rural', 'Gender: Male', 'Married: No', 'Education: Not Graduate', 'Self-Employed: No')",
          "('Credit: 1.0', 'Education: Graduate', 'Property Area: Semiurban', 'Gender: Male', 'Married: No', 'Education: Graduate', 'Self-Employed: No')",
          "('Credit: 1.0', 'Education: Not Graduate', 'Property Area: Urban', 'Gender: Male', 'Married: Yes', 'Education: Not Graduate', 'Self-Employed: No')",
          "('Credit: 1.0', 'Education: Graduate', 'Property Area: Semiurban', 'Gender: Male', 'Married: No', 'Education: Graduate', 'Self-Employed: No')",
          "('Credit: 1.0', 'Education: Graduate', 'Property Area: Rural', 'Gender: Male', 'Married: No', 'Education: Graduate', 'Self-Employed: No')",
          "('Credit: 1.0', 'Education: Graduate', 'Property Area: Semiurban', 'Gender: Male', 'Married: Yes', 'Education: Graduate', 'Self-Employed: No')",
          "('Credit: 1.0', 'Education: Graduate', 'Property Area: Rural', 'Gender: Male', 'Married: No', 'Education: Graduate', 'Self-Employed: No')",
          "('Credit: 1.0', 'Education: Not Graduate', 'Property Area: Urban', 'Gender: Female', 'Married: No', 'Education: Not Graduate', 'Self-Employed: No')",
          "('Credit: nan', 'Education: Graduate', 'Property Area: Semiurban', 'Gender: Female', 'Married: Yes', 'Education: Graduate', 'Self-Employed: No')",
          "('Credit: 1.0', 'Education: Graduate', 'Property Area: Urban', 'Gender: Male', 'Married: No', 'Education: Graduate', 'Self-Employed: Yes')",
          "('Credit: 1.0', 'Education: Not Graduate', 'Property Area: Semiurban', 'Gender: Male', 'Married: Yes', 'Education: Not Graduate', 'Self-Employed: No')",
          "('Credit: 0.0', 'Education: Graduate', 'Property Area: Semiurban', 'Gender: Male', 'Married: No', 'Education: Graduate', 'Self-Employed: No')",
          "('Credit: 1.0', 'Education: Not Graduate', 'Property Area: Urban', 'Gender: Male', 'Married: Yes', 'Education: Not Graduate', 'Self-Employed: No')",
          "('Credit: 1.0', 'Education: Not Graduate', 'Property Area: Urban', 'Gender: Male', 'Married: Yes', 'Education: Not Graduate', 'Self-Employed: No')",
          "('Credit: 1.0', 'Education: Not Graduate', 'Property Area: Semiurban', 'Gender: Male', 'Married: Yes', 'Education: Not Graduate', 'Self-Employed: No')",
          "('Credit: 1.0', 'Education: Not Graduate', 'Property Area: Semiurban', 'Gender: Female', 'Married: No', 'Education: Not Graduate', 'Self-Employed: No')",
          "('Credit: 1.0', 'Education: Graduate', 'Property Area: Urban', 'Gender: Female', 'Married: No', 'Education: Graduate', 'Self-Employed: No')",
          "('Credit: 1.0', 'Education: Not Graduate', 'Property Area: Rural', 'Gender: Male', 'Married: No', 'Education: Not Graduate', 'Self-Employed: No')",
          "('Credit: 1.0', 'Education: Graduate', 'Property Area: Urban', 'Gender: Male', 'Married: No', 'Education: Graduate', 'Self-Employed: No')",
          "('Credit: 1.0', 'Education: Graduate', 'Property Area: Semiurban', 'Gender: Male', 'Married: No', 'Education: Graduate', 'Self-Employed: No')",
          "('Credit: 1.0', 'Education: Graduate', 'Property Area: Semiurban', 'Gender: Female', 'Married: No', 'Education: Graduate', 'Self-Employed: No')",
          "('Credit: 0.0', 'Education: Graduate', 'Property Area: Semiurban', 'Gender: Male', 'Married: Yes', 'Education: Graduate', 'Self-Employed: No')",
          "('Credit: 1.0', 'Education: Graduate', 'Property Area: Urban', 'Gender: Male', 'Married: Yes', 'Education: Graduate', 'Self-Employed: Yes')",
          "('Credit: 1.0', 'Education: Not Graduate', 'Property Area: Rural', 'Gender: Male', 'Married: Yes', 'Education: Not Graduate', 'Self-Employed: Yes')",
          "('Credit: 1.0', 'Education: Graduate', 'Property Area: Urban', 'Gender: Male', 'Married: Yes', 'Education: Graduate', 'Self-Employed: No')",
          "('Credit: 1.0', 'Education: Not Graduate', 'Property Area: Semiurban', 'Gender: Male', 'Married: Yes', 'Education: Not Graduate', 'Self-Employed: No')",
          "('Credit: 1.0', 'Education: Graduate', 'Property Area: Rural', 'Gender: Male', 'Married: Yes', 'Education: Graduate', 'Self-Employed: No')",
          "('Credit: 1.0', 'Education: Graduate', 'Property Area: Semiurban', 'Gender: Male', 'Married: Yes', 'Education: Graduate', 'Self-Employed: No')",
          "('Credit: 0.0', 'Education: Graduate', 'Property Area: Semiurban', 'Gender: Male', 'Married: Yes', 'Education: Graduate', 'Self-Employed: nan')",
          "('Credit: nan', 'Education: Graduate', 'Property Area: Semiurban', 'Gender: Female', 'Married: Yes', 'Education: Graduate', 'Self-Employed: No')",
          "('Credit: 0.0', 'Education: Graduate', 'Property Area: Urban', 'Gender: Male', 'Married: Yes', 'Education: Graduate', 'Self-Employed: No')",
          "('Credit: 1.0', 'Education: Graduate', 'Property Area: Semiurban', 'Gender: Male', 'Married: Yes', 'Education: Graduate', 'Self-Employed: No')",
          "('Credit: 1.0', 'Education: Graduate', 'Property Area: Semiurban', 'Gender: Male', 'Married: No', 'Education: Graduate', 'Self-Employed: No')",
          "('Credit: 1.0', 'Education: Graduate', 'Property Area: Semiurban', 'Gender: Male', 'Married: Yes', 'Education: Graduate', 'Self-Employed: No')",
          "('Credit: 1.0', 'Education: Graduate', 'Property Area: Semiurban', 'Gender: Male', 'Married: Yes', 'Education: Graduate', 'Self-Employed: No')",
          "('Credit: 1.0', 'Education: Graduate', 'Property Area: Rural', 'Gender: Male', 'Married: Yes', 'Education: Graduate', 'Self-Employed: No')",
          "('Credit: 1.0', 'Education: Not Graduate', 'Property Area: Urban', 'Gender: Male', 'Married: Yes', 'Education: Not Graduate', 'Self-Employed: Yes')",
          "('Credit: 1.0', 'Education: Graduate', 'Property Area: Semiurban', 'Gender: Male', 'Married: Yes', 'Education: Graduate', 'Self-Employed: No')",
          "('Credit: 1.0', 'Education: Graduate', 'Property Area: Semiurban', 'Gender: Male', 'Married: nan', 'Education: Graduate', 'Self-Employed: No')",
          "('Credit: 1.0', 'Education: Graduate', 'Property Area: Rural', 'Gender: Male', 'Married: No', 'Education: Graduate', 'Self-Employed: Yes')",
          "('Credit: 1.0', 'Education: Graduate', 'Property Area: Semiurban', 'Gender: Male', 'Married: Yes', 'Education: Graduate', 'Self-Employed: No')",
          "('Credit: 1.0', 'Education: Graduate', 'Property Area: Rural', 'Gender: Male', 'Married: Yes', 'Education: Graduate', 'Self-Employed: nan')",
          "('Credit: 1.0', 'Education: Not Graduate', 'Property Area: Rural', 'Gender: Male', 'Married: No', 'Education: Not Graduate', 'Self-Employed: No')",
          "('Credit: 1.0', 'Education: Graduate', 'Property Area: Semiurban', 'Gender: Female', 'Married: No', 'Education: Graduate', 'Self-Employed: No')",
          "('Credit: 1.0', 'Education: Graduate', 'Property Area: Semiurban', 'Gender: Male', 'Married: Yes', 'Education: Graduate', 'Self-Employed: No')",
          "('Credit: 1.0', 'Education: Graduate', 'Property Area: Rural', 'Gender: Male', 'Married: Yes', 'Education: Graduate', 'Self-Employed: No')",
          "('Credit: nan', 'Education: Graduate', 'Property Area: Urban', 'Gender: Male', 'Married: Yes', 'Education: Graduate', 'Self-Employed: nan')",
          "('Credit: nan', 'Education: Graduate', 'Property Area: Urban', 'Gender: Female', 'Married: No', 'Education: Graduate', 'Self-Employed: Yes')",
          "('Credit: 1.0', 'Education: Graduate', 'Property Area: Rural', 'Gender: Female', 'Married: No', 'Education: Graduate', 'Self-Employed: No')",
          "('Credit: 1.0', 'Education: Graduate', 'Property Area: Semiurban', 'Gender: Male', 'Married: Yes', 'Education: Graduate', 'Self-Employed: No')",
          "('Credit: 1.0', 'Education: Graduate', 'Property Area: Rural', 'Gender: Male', 'Married: Yes', 'Education: Graduate', 'Self-Employed: No')",
          "('Credit: 1.0', 'Education: Not Graduate', 'Property Area: Urban', 'Gender: Male', 'Married: Yes', 'Education: Not Graduate', 'Self-Employed: No')",
          "('Credit: 1.0', 'Education: Graduate', 'Property Area: Urban', 'Gender: Male', 'Married: No', 'Education: Graduate', 'Self-Employed: No')",
          "('Credit: 1.0', 'Education: Graduate', 'Property Area: Rural', 'Gender: Male', 'Married: Yes', 'Education: Graduate', 'Self-Employed: Yes')",
          "('Credit: 1.0', 'Education: Not Graduate', 'Property Area: Semiurban', 'Gender: Male', 'Married: Yes', 'Education: Not Graduate', 'Self-Employed: No')",
          "('Credit: 1.0', 'Education: Graduate', 'Property Area: Urban', 'Gender: Male', 'Married: No', 'Education: Graduate', 'Self-Employed: Yes')",
          "('Credit: 1.0', 'Education: Graduate', 'Property Area: Urban', 'Gender: Male', 'Married: Yes', 'Education: Graduate', 'Self-Employed: No')",
          "('Credit: 1.0', 'Education: Not Graduate', 'Property Area: Urban', 'Gender: Male', 'Married: Yes', 'Education: Not Graduate', 'Self-Employed: No')",
          "('Credit: 1.0', 'Education: Graduate', 'Property Area: Semiurban', 'Gender: Male', 'Married: Yes', 'Education: Graduate', 'Self-Employed: No')",
          "('Credit: 1.0', 'Education: Graduate', 'Property Area: Urban', 'Gender: Male', 'Married: Yes', 'Education: Graduate', 'Self-Employed: No')",
          "('Credit: 0.0', 'Education: Not Graduate', 'Property Area: Semiurban', 'Gender: Male', 'Married: Yes', 'Education: Not Graduate', 'Self-Employed: No')",
          "('Credit: 1.0', 'Education: Graduate', 'Property Area: Urban', 'Gender: Female', 'Married: No', 'Education: Graduate', 'Self-Employed: No')",
          "('Credit: 1.0', 'Education: Not Graduate', 'Property Area: Rural', 'Gender: Male', 'Married: No', 'Education: Not Graduate', 'Self-Employed: Yes')",
          "('Credit: 1.0', 'Education: Not Graduate', 'Property Area: Semiurban', 'Gender: Male', 'Married: Yes', 'Education: Not Graduate', 'Self-Employed: No')",
          "('Credit: 0.0', 'Education: Graduate', 'Property Area: Urban', 'Gender: Male', 'Married: No', 'Education: Graduate', 'Self-Employed: Yes')",
          "('Credit: 1.0', 'Education: Graduate', 'Property Area: Rural', 'Gender: Female', 'Married: No', 'Education: Graduate', 'Self-Employed: No')",
          "('Credit: 0.0', 'Education: Not Graduate', 'Property Area: Rural', 'Gender: Male', 'Married: No', 'Education: Not Graduate', 'Self-Employed: No')",
          "('Credit: 1.0', 'Education: Graduate', 'Property Area: Urban', 'Gender: Male', 'Married: Yes', 'Education: Graduate', 'Self-Employed: No')",
          "('Credit: 1.0', 'Education: Graduate', 'Property Area: Rural', 'Gender: Male', 'Married: Yes', 'Education: Graduate', 'Self-Employed: No')",
          "('Credit: nan', 'Education: Not Graduate', 'Property Area: Semiurban', 'Gender: Male', 'Married: Yes', 'Education: Not Graduate', 'Self-Employed: No')",
          "('Credit: nan', 'Education: Graduate', 'Property Area: Urban', 'Gender: Male', 'Married: Yes', 'Education: Graduate', 'Self-Employed: No')",
          "('Credit: 1.0', 'Education: Graduate', 'Property Area: Semiurban', 'Gender: Male', 'Married: No', 'Education: Graduate', 'Self-Employed: No')",
          "('Credit: 1.0', 'Education: Graduate', 'Property Area: Semiurban', 'Gender: Female', 'Married: No', 'Education: Graduate', 'Self-Employed: No')",
          "('Credit: 1.0', 'Education: Graduate', 'Property Area: Rural', 'Gender: Female', 'Married: No', 'Education: Graduate', 'Self-Employed: No')",
          "('Credit: 1.0', 'Education: Graduate', 'Property Area: Semiurban', 'Gender: Male', 'Married: No', 'Education: Graduate', 'Self-Employed: Yes')",
          "('Credit: 1.0', 'Education: Graduate', 'Property Area: Rural', 'Gender: Male', 'Married: No', 'Education: Graduate', 'Self-Employed: No')",
          "('Credit: 1.0', 'Education: Graduate', 'Property Area: Semiurban', 'Gender: Male', 'Married: Yes', 'Education: Graduate', 'Self-Employed: No')",
          "('Credit: 0.0', 'Education: Graduate', 'Property Area: Urban', 'Gender: Male', 'Married: Yes', 'Education: Graduate', 'Self-Employed: No')",
          "('Credit: 1.0', 'Education: Graduate', 'Property Area: Rural', 'Gender: Female', 'Married: No', 'Education: Graduate', 'Self-Employed: nan')",
          "('Credit: 1.0', 'Education: Graduate', 'Property Area: Urban', 'Gender: Female', 'Married: No', 'Education: Graduate', 'Self-Employed: No')",
          "('Credit: 1.0', 'Education: Graduate', 'Property Area: Urban', 'Gender: Female', 'Married: No', 'Education: Graduate', 'Self-Employed: No')",
          "('Credit: 1.0', 'Education: Graduate', 'Property Area: Urban', 'Gender: Male', 'Married: Yes', 'Education: Graduate', 'Self-Employed: No')",
          "('Credit: 1.0', 'Education: Graduate', 'Property Area: Rural', 'Gender: Male', 'Married: No', 'Education: Graduate', 'Self-Employed: No')",
          "('Credit: 1.0', 'Education: Graduate', 'Property Area: Semiurban', 'Gender: Male', 'Married: Yes', 'Education: Graduate', 'Self-Employed: No')",
          "('Credit: 1.0', 'Education: Graduate', 'Property Area: Semiurban', 'Gender: Male', 'Married: Yes', 'Education: Graduate', 'Self-Employed: No')",
          "('Credit: 1.0', 'Education: Graduate', 'Property Area: Semiurban', 'Gender: Male', 'Married: Yes', 'Education: Graduate', 'Self-Employed: No')",
          "('Credit: 1.0', 'Education: Graduate', 'Property Area: Semiurban', 'Gender: Male', 'Married: Yes', 'Education: Graduate', 'Self-Employed: No')",
          "('Credit: 1.0', 'Education: Graduate', 'Property Area: Urban', 'Gender: Male', 'Married: Yes', 'Education: Graduate', 'Self-Employed: No')",
          "('Credit: 1.0', 'Education: Graduate', 'Property Area: Semiurban', 'Gender: Male', 'Married: Yes', 'Education: Graduate', 'Self-Employed: No')",
          "('Credit: nan', 'Education: Not Graduate', 'Property Area: Rural', 'Gender: Female', 'Married: Yes', 'Education: Not Graduate', 'Self-Employed: No')",
          "('Credit: 0.0', 'Education: Not Graduate', 'Property Area: Urban', 'Gender: Male', 'Married: No', 'Education: Not Graduate', 'Self-Employed: Yes')",
          "('Credit: 1.0', 'Education: Graduate', 'Property Area: Semiurban', 'Gender: Male', 'Married: Yes', 'Education: Graduate', 'Self-Employed: No')",
          "('Credit: 1.0', 'Education: Graduate', 'Property Area: Urban', 'Gender: Male', 'Married: Yes', 'Education: Graduate', 'Self-Employed: No')",
          "('Credit: 1.0', 'Education: Graduate', 'Property Area: Urban', 'Gender: Female', 'Married: No', 'Education: Graduate', 'Self-Employed: No')",
          "('Credit: 1.0', 'Education: Graduate', 'Property Area: Rural', 'Gender: Male', 'Married: Yes', 'Education: Graduate', 'Self-Employed: No')",
          "('Credit: 1.0', 'Education: Graduate', 'Property Area: Rural', 'Gender: Male', 'Married: No', 'Education: Graduate', 'Self-Employed: No')",
          "('Credit: 1.0', 'Education: Graduate', 'Property Area: Semiurban', 'Gender: Female', 'Married: No', 'Education: Graduate', 'Self-Employed: Yes')",
          "('Credit: 1.0', 'Education: Graduate', 'Property Area: Rural', 'Gender: Male', 'Married: Yes', 'Education: Graduate', 'Self-Employed: No')",
          "('Credit: 1.0', 'Education: Graduate', 'Property Area: Semiurban', 'Gender: Female', 'Married: No', 'Education: Graduate', 'Self-Employed: No')",
          "('Credit: 1.0', 'Education: Graduate', 'Property Area: Rural', 'Gender: Male', 'Married: No', 'Education: Graduate', 'Self-Employed: No')",
          "('Credit: 1.0', 'Education: Graduate', 'Property Area: Rural', 'Gender: Male', 'Married: Yes', 'Education: Graduate', 'Self-Employed: No')",
          "('Credit: 0.0', 'Education: Graduate', 'Property Area: Semiurban', 'Gender: Male', 'Married: Yes', 'Education: Graduate', 'Self-Employed: No')",
          "('Credit: 1.0', 'Education: Graduate', 'Property Area: Urban', 'Gender: Male', 'Married: Yes', 'Education: Graduate', 'Self-Employed: No')",
          "('Credit: 0.0', 'Education: Graduate', 'Property Area: Urban', 'Gender: Female', 'Married: No', 'Education: Graduate', 'Self-Employed: No')",
          "('Credit: 1.0', 'Education: Graduate', 'Property Area: Semiurban', 'Gender: Male', 'Married: Yes', 'Education: Graduate', 'Self-Employed: No')",
          "('Credit: 1.0', 'Education: Graduate', 'Property Area: Urban', 'Gender: Male', 'Married: Yes', 'Education: Graduate', 'Self-Employed: nan')",
          "('Credit: 1.0', 'Education: Graduate', 'Property Area: Semiurban', 'Gender: Male', 'Married: Yes', 'Education: Graduate', 'Self-Employed: No')",
          "('Credit: 1.0', 'Education: Graduate', 'Property Area: Urban', 'Gender: Female', 'Married: Yes', 'Education: Graduate', 'Self-Employed: No')",
          "('Credit: 1.0', 'Education: Graduate', 'Property Area: Rural', 'Gender: Female', 'Married: No', 'Education: Graduate', 'Self-Employed: No')",
          "('Credit: 1.0', 'Education: Graduate', 'Property Area: Urban', 'Gender: Male', 'Married: Yes', 'Education: Graduate', 'Self-Employed: No')",
          "('Credit: 0.0', 'Education: Not Graduate', 'Property Area: Urban', 'Gender: Male', 'Married: Yes', 'Education: Not Graduate', 'Self-Employed: No')",
          "('Credit: 1.0', 'Education: Not Graduate', 'Property Area: Semiurban', 'Gender: Male', 'Married: Yes', 'Education: Not Graduate', 'Self-Employed: No')",
          "('Credit: 1.0', 'Education: Graduate', 'Property Area: Rural', 'Gender: Female', 'Married: No', 'Education: Graduate', 'Self-Employed: No')",
          "('Credit: 1.0', 'Education: Graduate', 'Property Area: Urban', 'Gender: Male', 'Married: Yes', 'Education: Graduate', 'Self-Employed: No')",
          "('Credit: 1.0', 'Education: Graduate', 'Property Area: Rural', 'Gender: Male', 'Married: No', 'Education: Graduate', 'Self-Employed: No')",
          "('Credit: 1.0', 'Education: Not Graduate', 'Property Area: Urban', 'Gender: Male', 'Married: No', 'Education: Not Graduate', 'Self-Employed: No')",
          "('Credit: 1.0', 'Education: Graduate', 'Property Area: Rural', 'Gender: Female', 'Married: No', 'Education: Graduate', 'Self-Employed: No')",
          "('Credit: 0.0', 'Education: Graduate', 'Property Area: Urban', 'Gender: Female', 'Married: No', 'Education: Graduate', 'Self-Employed: No')",
          "('Credit: 1.0', 'Education: Graduate', 'Property Area: Rural', 'Gender: Male', 'Married: No', 'Education: Graduate', 'Self-Employed: No')",
          "('Credit: nan', 'Education: Not Graduate', 'Property Area: Rural', 'Gender: Male', 'Married: Yes', 'Education: Not Graduate', 'Self-Employed: No')",
          "('Credit: 1.0', 'Education: Graduate', 'Property Area: Semiurban', 'Gender: Female', 'Married: No', 'Education: Graduate', 'Self-Employed: No')",
          "('Credit: 1.0', 'Education: Not Graduate', 'Property Area: Semiurban', 'Gender: Male', 'Married: No', 'Education: Not Graduate', 'Self-Employed: No')",
          "('Credit: 1.0', 'Education: Graduate', 'Property Area: Rural', 'Gender: Female', 'Married: No', 'Education: Graduate', 'Self-Employed: No')",
          "('Credit: nan', 'Education: Graduate', 'Property Area: Rural', 'Gender: Male', 'Married: Yes', 'Education: Graduate', 'Self-Employed: Yes')",
          "('Credit: 1.0', 'Education: Graduate', 'Property Area: Rural', 'Gender: nan', 'Married: Yes', 'Education: Graduate', 'Self-Employed: No')",
          "('Credit: 1.0', 'Education: Not Graduate', 'Property Area: Urban', 'Gender: Male', 'Married: Yes', 'Education: Not Graduate', 'Self-Employed: No')",
          "('Credit: 1.0', 'Education: Graduate', 'Property Area: Semiurban', 'Gender: Male', 'Married: Yes', 'Education: Graduate', 'Self-Employed: No')",
          "('Credit: nan', 'Education: Graduate', 'Property Area: Urban', 'Gender: Male', 'Married: Yes', 'Education: Graduate', 'Self-Employed: No')",
          "('Credit: nan', 'Education: Graduate', 'Property Area: Semiurban', 'Gender: Female', 'Married: No', 'Education: Graduate', 'Self-Employed: No')",
          "('Credit: 1.0', 'Education: Graduate', 'Property Area: Rural', 'Gender: Male', 'Married: Yes', 'Education: Graduate', 'Self-Employed: Yes')",
          "('Credit: 1.0', 'Education: Graduate', 'Property Area: Semiurban', 'Gender: Male', 'Married: Yes', 'Education: Graduate', 'Self-Employed: No')",
          "('Credit: 1.0', 'Education: Graduate', 'Property Area: Semiurban', 'Gender: Male', 'Married: Yes', 'Education: Graduate', 'Self-Employed: No')",
          "('Credit: 1.0', 'Education: Not Graduate', 'Property Area: Rural', 'Gender: Male', 'Married: Yes', 'Education: Not Graduate', 'Self-Employed: No')",
          "('Credit: nan', 'Education: Graduate', 'Property Area: Rural', 'Gender: Female', 'Married: No', 'Education: Graduate', 'Self-Employed: No')",
          "('Credit: 1.0', 'Education: Graduate', 'Property Area: Rural', 'Gender: Male', 'Married: Yes', 'Education: Graduate', 'Self-Employed: No')",
          "('Credit: 0.0', 'Education: Graduate', 'Property Area: Rural', 'Gender: Male', 'Married: Yes', 'Education: Graduate', 'Self-Employed: Yes')",
          "('Credit: 0.0', 'Education: Graduate', 'Property Area: Rural', 'Gender: Male', 'Married: No', 'Education: Graduate', 'Self-Employed: No')",
          "('Credit: 1.0', 'Education: Graduate', 'Property Area: Semiurban', 'Gender: Male', 'Married: Yes', 'Education: Graduate', 'Self-Employed: Yes')",
          "('Credit: 1.0', 'Education: Graduate', 'Property Area: Urban', 'Gender: Female', 'Married: Yes', 'Education: Graduate', 'Self-Employed: No')",
          "('Credit: 1.0', 'Education: Graduate', 'Property Area: Urban', 'Gender: Female', 'Married: No', 'Education: Graduate', 'Self-Employed: No')",
          "('Credit: 1.0', 'Education: Graduate', 'Property Area: Urban', 'Gender: Male', 'Married: No', 'Education: Graduate', 'Self-Employed: No')",
          "('Credit: 1.0', 'Education: Graduate', 'Property Area: Semiurban', 'Gender: Male', 'Married: No', 'Education: Graduate', 'Self-Employed: No')",
          "('Credit: 1.0', 'Education: Graduate', 'Property Area: Urban', 'Gender: Male', 'Married: No', 'Education: Graduate', 'Self-Employed: No')",
          "('Credit: 1.0', 'Education: Graduate', 'Property Area: Urban', 'Gender: Male', 'Married: Yes', 'Education: Graduate', 'Self-Employed: nan')",
          "('Credit: 1.0', 'Education: Graduate', 'Property Area: Urban', 'Gender: nan', 'Married: Yes', 'Education: Graduate', 'Self-Employed: Yes')",
          "('Credit: 1.0', 'Education: Graduate', 'Property Area: Semiurban', 'Gender: Male', 'Married: Yes', 'Education: Graduate', 'Self-Employed: Yes')",
          "('Credit: 1.0', 'Education: Graduate', 'Property Area: Rural', 'Gender: Male', 'Married: Yes', 'Education: Graduate', 'Self-Employed: nan')",
          "('Credit: 1.0', 'Education: Graduate', 'Property Area: Rural', 'Gender: Male', 'Married: Yes', 'Education: Graduate', 'Self-Employed: Yes')",
          "('Credit: 0.0', 'Education: Not Graduate', 'Property Area: Urban', 'Gender: Female', 'Married: No', 'Education: Not Graduate', 'Self-Employed: No')",
          "('Credit: 1.0', 'Education: Graduate', 'Property Area: Semiurban', 'Gender: Female', 'Married: No', 'Education: Graduate', 'Self-Employed: No')",
          "('Credit: 1.0', 'Education: Not Graduate', 'Property Area: Rural', 'Gender: Male', 'Married: Yes', 'Education: Not Graduate', 'Self-Employed: No')",
          "('Credit: 1.0', 'Education: Graduate', 'Property Area: Rural', 'Gender: Female', 'Married: No', 'Education: Graduate', 'Self-Employed: No')",
          "('Credit: 1.0', 'Education: Not Graduate', 'Property Area: Urban', 'Gender: Male', 'Married: Yes', 'Education: Not Graduate', 'Self-Employed: No')",
          "('Credit: 1.0', 'Education: Not Graduate', 'Property Area: Semiurban', 'Gender: Male', 'Married: Yes', 'Education: Not Graduate', 'Self-Employed: No')",
          "('Credit: 1.0', 'Education: Graduate', 'Property Area: Rural', 'Gender: Male', 'Married: Yes', 'Education: Graduate', 'Self-Employed: nan')",
          "('Credit: 1.0', 'Education: Graduate', 'Property Area: Semiurban', 'Gender: Male', 'Married: Yes', 'Education: Graduate', 'Self-Employed: No')",
          "('Credit: 0.0', 'Education: Not Graduate', 'Property Area: Rural', 'Gender: Male', 'Married: Yes', 'Education: Not Graduate', 'Self-Employed: No')",
          "('Credit: 1.0', 'Education: Not Graduate', 'Property Area: Urban', 'Gender: Male', 'Married: Yes', 'Education: Not Graduate', 'Self-Employed: No')",
          "('Credit: nan', 'Education: Graduate', 'Property Area: Semiurban', 'Gender: Male', 'Married: Yes', 'Education: Graduate', 'Self-Employed: No')",
          "('Credit: 1.0', 'Education: Graduate', 'Property Area: Rural', 'Gender: Male', 'Married: Yes', 'Education: Graduate', 'Self-Employed: No')",
          "('Credit: 1.0', 'Education: Graduate', 'Property Area: Semiurban', 'Gender: Male', 'Married: Yes', 'Education: Graduate', 'Self-Employed: No')",
          "('Credit: 1.0', 'Education: Graduate', 'Property Area: Rural', 'Gender: Male', 'Married: No', 'Education: Graduate', 'Self-Employed: No')",
          "('Credit: 1.0', 'Education: Graduate', 'Property Area: Rural', 'Gender: Male', 'Married: Yes', 'Education: Graduate', 'Self-Employed: No')",
          "('Credit: 0.0', 'Education: Graduate', 'Property Area: Rural', 'Gender: Female', 'Married: Yes', 'Education: Graduate', 'Self-Employed: Yes')",
          "('Credit: 1.0', 'Education: Graduate', 'Property Area: Semiurban', 'Gender: Female', 'Married: Yes', 'Education: Graduate', 'Self-Employed: No')",
          "('Credit: 1.0', 'Education: Graduate', 'Property Area: Urban', 'Gender: Female', 'Married: No', 'Education: Graduate', 'Self-Employed: No')",
          "('Credit: 1.0', 'Education: Graduate', 'Property Area: Rural', 'Gender: Male', 'Married: Yes', 'Education: Graduate', 'Self-Employed: No')",
          "('Credit: 1.0', 'Education: Graduate', 'Property Area: Urban', 'Gender: Male', 'Married: Yes', 'Education: Graduate', 'Self-Employed: No')",
          "('Credit: 0.0', 'Education: Not Graduate', 'Property Area: Urban', 'Gender: Male', 'Married: Yes', 'Education: Not Graduate', 'Self-Employed: No')",
          "('Credit: 1.0', 'Education: Graduate', 'Property Area: Semiurban', 'Gender: Male', 'Married: Yes', 'Education: Graduate', 'Self-Employed: No')",
          "('Credit: 1.0', 'Education: Graduate', 'Property Area: Semiurban', 'Gender: Female', 'Married: No', 'Education: Graduate', 'Self-Employed: No')",
          "('Credit: 1.0', 'Education: Graduate', 'Property Area: Semiurban', 'Gender: Male', 'Married: Yes', 'Education: Graduate', 'Self-Employed: No')",
          "('Credit: 1.0', 'Education: Graduate', 'Property Area: Urban', 'Gender: Male', 'Married: Yes', 'Education: Graduate', 'Self-Employed: No')",
          "('Credit: nan', 'Education: Graduate', 'Property Area: Urban', 'Gender: Male', 'Married: Yes', 'Education: Graduate', 'Self-Employed: No')",
          "('Credit: 1.0', 'Education: Graduate', 'Property Area: Rural', 'Gender: Male', 'Married: No', 'Education: Graduate', 'Self-Employed: Yes')",
          "('Credit: 1.0', 'Education: Not Graduate', 'Property Area: Rural', 'Gender: Male', 'Married: No', 'Education: Not Graduate', 'Self-Employed: No')",
          "('Credit: 1.0', 'Education: Graduate', 'Property Area: Semiurban', 'Gender: Male', 'Married: No', 'Education: Graduate', 'Self-Employed: No')",
          "('Credit: 0.0', 'Education: Graduate', 'Property Area: Rural', 'Gender: Male', 'Married: No', 'Education: Graduate', 'Self-Employed: No')",
          "('Credit: 1.0', 'Education: Graduate', 'Property Area: Semiurban', 'Gender: Male', 'Married: Yes', 'Education: Graduate', 'Self-Employed: No')",
          "('Credit: 1.0', 'Education: Graduate', 'Property Area: Rural', 'Gender: Male', 'Married: Yes', 'Education: Graduate', 'Self-Employed: No')",
          "('Credit: 1.0', 'Education: Graduate', 'Property Area: Semiurban', 'Gender: Female', 'Married: No', 'Education: Graduate', 'Self-Employed: Yes')",
          "('Credit: 1.0', 'Education: Graduate', 'Property Area: Semiurban', 'Gender: Male', 'Married: Yes', 'Education: Graduate', 'Self-Employed: No')",
          "('Credit: 1.0', 'Education: Graduate', 'Property Area: Rural', 'Gender: Male', 'Married: Yes', 'Education: Graduate', 'Self-Employed: Yes')",
          "('Credit: 0.0', 'Education: Graduate', 'Property Area: Urban', 'Gender: Male', 'Married: No', 'Education: Graduate', 'Self-Employed: No')",
          "('Credit: 1.0', 'Education: Graduate', 'Property Area: Urban', 'Gender: Female', 'Married: No', 'Education: Graduate', 'Self-Employed: nan')",
          "('Credit: 1.0', 'Education: Graduate', 'Property Area: Urban', 'Gender: Male', 'Married: Yes', 'Education: Graduate', 'Self-Employed: No')",
          "('Credit: 1.0', 'Education: Graduate', 'Property Area: Rural', 'Gender: Male', 'Married: Yes', 'Education: Graduate', 'Self-Employed: No')",
          "('Credit: nan', 'Education: Graduate', 'Property Area: Semiurban', 'Gender: Male', 'Married: Yes', 'Education: Graduate', 'Self-Employed: No')",
          "('Credit: 1.0', 'Education: Graduate', 'Property Area: Urban', 'Gender: Male', 'Married: No', 'Education: Graduate', 'Self-Employed: No')",
          "('Credit: 1.0', 'Education: Graduate', 'Property Area: Urban', 'Gender: Male', 'Married: Yes', 'Education: Graduate', 'Self-Employed: No')",
          "('Credit: 1.0', 'Education: Graduate', 'Property Area: Semiurban', 'Gender: Male', 'Married: Yes', 'Education: Graduate', 'Self-Employed: nan')",
          "('Credit: 1.0', 'Education: Graduate', 'Property Area: Semiurban', 'Gender: Male', 'Married: No', 'Education: Graduate', 'Self-Employed: No')",
          "('Credit: 1.0', 'Education: Graduate', 'Property Area: Urban', 'Gender: Female', 'Married: No', 'Education: Graduate', 'Self-Employed: No')",
          "('Credit: 1.0', 'Education: Graduate', 'Property Area: Urban', 'Gender: Male', 'Married: No', 'Education: Graduate', 'Self-Employed: Yes')",
          "('Credit: 1.0', 'Education: Graduate', 'Property Area: Urban', 'Gender: Male', 'Married: Yes', 'Education: Graduate', 'Self-Employed: No')",
          "('Credit: 1.0', 'Education: Graduate', 'Property Area: Urban', 'Gender: Male', 'Married: No', 'Education: Graduate', 'Self-Employed: nan')",
          "('Credit: 1.0', 'Education: Not Graduate', 'Property Area: Semiurban', 'Gender: Male', 'Married: No', 'Education: Not Graduate', 'Self-Employed: No')",
          "('Credit: 0.0', 'Education: Not Graduate', 'Property Area: Urban', 'Gender: Male', 'Married: Yes', 'Education: Not Graduate', 'Self-Employed: No')",
          "('Credit: 1.0', 'Education: Graduate', 'Property Area: Urban', 'Gender: Male', 'Married: Yes', 'Education: Graduate', 'Self-Employed: No')",
          "('Credit: 1.0', 'Education: Graduate', 'Property Area: Rural', 'Gender: Male', 'Married: Yes', 'Education: Graduate', 'Self-Employed: No')",
          "('Credit: 1.0', 'Education: Graduate', 'Property Area: Rural', 'Gender: Male', 'Married: No', 'Education: Graduate', 'Self-Employed: No')",
          "('Credit: 1.0', 'Education: Graduate', 'Property Area: Rural', 'Gender: Male', 'Married: Yes', 'Education: Graduate', 'Self-Employed: No')",
          "('Credit: nan', 'Education: Graduate', 'Property Area: Urban', 'Gender: Male', 'Married: Yes', 'Education: Graduate', 'Self-Employed: No')",
          "('Credit: 1.0', 'Education: Not Graduate', 'Property Area: Semiurban', 'Gender: Male', 'Married: Yes', 'Education: Not Graduate', 'Self-Employed: No')",
          "('Credit: 1.0', 'Education: Graduate', 'Property Area: Urban', 'Gender: Male', 'Married: Yes', 'Education: Graduate', 'Self-Employed: No')",
          "('Credit: nan', 'Education: Graduate', 'Property Area: Semiurban', 'Gender: Male', 'Married: Yes', 'Education: Graduate', 'Self-Employed: No')",
          "('Credit: 0.0', 'Education: Graduate', 'Property Area: Urban', 'Gender: Female', 'Married: No', 'Education: Graduate', 'Self-Employed: No')",
          "('Credit: 1.0', 'Education: Graduate', 'Property Area: Urban', 'Gender: Male', 'Married: Yes', 'Education: Graduate', 'Self-Employed: No')",
          "('Credit: 1.0', 'Education: Not Graduate', 'Property Area: Rural', 'Gender: Male', 'Married: No', 'Education: Not Graduate', 'Self-Employed: No')",
          "('Credit: 0.0', 'Education: Graduate', 'Property Area: Semiurban', 'Gender: Female', 'Married: No', 'Education: Graduate', 'Self-Employed: No')",
          "('Credit: 0.0', 'Education: Not Graduate', 'Property Area: Urban', 'Gender: Male', 'Married: Yes', 'Education: Not Graduate', 'Self-Employed: No')",
          "('Credit: 1.0', 'Education: Not Graduate', 'Property Area: Rural', 'Gender: Male', 'Married: No', 'Education: Not Graduate', 'Self-Employed: No')",
          "('Credit: 1.0', 'Education: Graduate', 'Property Area: Semiurban', 'Gender: Male', 'Married: No', 'Education: Graduate', 'Self-Employed: No')",
          "('Credit: 1.0', 'Education: Not Graduate', 'Property Area: Semiurban', 'Gender: Female', 'Married: No', 'Education: Not Graduate', 'Self-Employed: No')",
          "('Credit: 1.0', 'Education: Graduate', 'Property Area: Rural', 'Gender: Female', 'Married: No', 'Education: Graduate', 'Self-Employed: Yes')",
          "('Credit: 1.0', 'Education: Graduate', 'Property Area: Semiurban', 'Gender: Female', 'Married: No', 'Education: Graduate', 'Self-Employed: No')",
          "('Credit: 1.0', 'Education: Not Graduate', 'Property Area: Urban', 'Gender: Male', 'Married: Yes', 'Education: Not Graduate', 'Self-Employed: No')",
          "('Credit: 1.0', 'Education: Not Graduate', 'Property Area: Rural', 'Gender: Female', 'Married: No', 'Education: Not Graduate', 'Self-Employed: No')",
          "('Credit: 0.0', 'Education: Graduate', 'Property Area: Semiurban', 'Gender: Male', 'Married: Yes', 'Education: Graduate', 'Self-Employed: No')",
          "('Credit: 0.0', 'Education: Graduate', 'Property Area: Rural', 'Gender: Male', 'Married: Yes', 'Education: Graduate', 'Self-Employed: No')",
          "('Credit: 1.0', 'Education: Not Graduate', 'Property Area: Semiurban', 'Gender: Female', 'Married: No', 'Education: Not Graduate', 'Self-Employed: Yes')",
          "('Credit: nan', 'Education: Graduate', 'Property Area: Urban', 'Gender: Male', 'Married: Yes', 'Education: Graduate', 'Self-Employed: nan')",
          "('Credit: 0.0', 'Education: Not Graduate', 'Property Area: Rural', 'Gender: Male', 'Married: Yes', 'Education: Not Graduate', 'Self-Employed: No')",
          "('Credit: 1.0', 'Education: Not Graduate', 'Property Area: Rural', 'Gender: Male', 'Married: Yes', 'Education: Not Graduate', 'Self-Employed: No')",
          "('Credit: 0.0', 'Education: Not Graduate', 'Property Area: Semiurban', 'Gender: Female', 'Married: Yes', 'Education: Not Graduate', 'Self-Employed: No')",
          "('Credit: 1.0', 'Education: Graduate', 'Property Area: Urban', 'Gender: Female', 'Married: No', 'Education: Graduate', 'Self-Employed: No')",
          "('Credit: 1.0', 'Education: Graduate', 'Property Area: Urban', 'Gender: Female', 'Married: No', 'Education: Graduate', 'Self-Employed: No')",
          "('Credit: 1.0', 'Education: Graduate', 'Property Area: Urban', 'Gender: Male', 'Married: Yes', 'Education: Graduate', 'Self-Employed: Yes')",
          "('Credit: 1.0', 'Education: Graduate', 'Property Area: Rural', 'Gender: Male', 'Married: Yes', 'Education: Graduate', 'Self-Employed: No')",
          "('Credit: 1.0', 'Education: Graduate', 'Property Area: Semiurban', 'Gender: Male', 'Married: Yes', 'Education: Graduate', 'Self-Employed: No')",
          "('Credit: 1.0', 'Education: Graduate', 'Property Area: Rural', 'Gender: Male', 'Married: Yes', 'Education: Graduate', 'Self-Employed: No')",
          "('Credit: 0.0', 'Education: Not Graduate', 'Property Area: Urban', 'Gender: Female', 'Married: No', 'Education: Not Graduate', 'Self-Employed: No')",
          "('Credit: 1.0', 'Education: Graduate', 'Property Area: Urban', 'Gender: Male', 'Married: Yes', 'Education: Graduate', 'Self-Employed: No')",
          "('Credit: 0.0', 'Education: Graduate', 'Property Area: Urban', 'Gender: Male', 'Married: Yes', 'Education: Graduate', 'Self-Employed: No')",
          "('Credit: 1.0', 'Education: Graduate', 'Property Area: Semiurban', 'Gender: Male', 'Married: Yes', 'Education: Graduate', 'Self-Employed: No')",
          "('Credit: 1.0', 'Education: Graduate', 'Property Area: Rural', 'Gender: Male', 'Married: Yes', 'Education: Graduate', 'Self-Employed: No')",
          "('Credit: 1.0', 'Education: Not Graduate', 'Property Area: Rural', 'Gender: Female', 'Married: No', 'Education: Not Graduate', 'Self-Employed: No')",
          "('Credit: 1.0', 'Education: Graduate', 'Property Area: Semiurban', 'Gender: Male', 'Married: Yes', 'Education: Graduate', 'Self-Employed: No')",
          "('Credit: 1.0', 'Education: Graduate', 'Property Area: Rural', 'Gender: Male', 'Married: Yes', 'Education: Graduate', 'Self-Employed: No')",
          "('Credit: 1.0', 'Education: Not Graduate', 'Property Area: Urban', 'Gender: Male', 'Married: No', 'Education: Not Graduate', 'Self-Employed: No')",
          "('Credit: 1.0', 'Education: Graduate', 'Property Area: Semiurban', 'Gender: Female', 'Married: No', 'Education: Graduate', 'Self-Employed: Yes')",
          "('Credit: 0.0', 'Education: Graduate', 'Property Area: Rural', 'Gender: Male', 'Married: No', 'Education: Graduate', 'Self-Employed: No')",
          "('Credit: 1.0', 'Education: Graduate', 'Property Area: Semiurban', 'Gender: Male', 'Married: No', 'Education: Graduate', 'Self-Employed: nan')",
          "('Credit: 1.0', 'Education: Graduate', 'Property Area: Semiurban', 'Gender: Male', 'Married: Yes', 'Education: Graduate', 'Self-Employed: No')",
          "('Credit: 1.0', 'Education: Graduate', 'Property Area: Urban', 'Gender: Male', 'Married: No', 'Education: Graduate', 'Self-Employed: No')",
          "('Credit: 1.0', 'Education: Graduate', 'Property Area: Semiurban', 'Gender: Female', 'Married: nan', 'Education: Graduate', 'Self-Employed: No')",
          "('Credit: 1.0', 'Education: Graduate', 'Property Area: Semiurban', 'Gender: Male', 'Married: No', 'Education: Graduate', 'Self-Employed: No')",
          "('Credit: 1.0', 'Education: Graduate', 'Property Area: Urban', 'Gender: Male', 'Married: Yes', 'Education: Graduate', 'Self-Employed: No')",
          "('Credit: 0.0', 'Education: Graduate', 'Property Area: Urban', 'Gender: Male', 'Married: No', 'Education: Graduate', 'Self-Employed: Yes')",
          "('Credit: 1.0', 'Education: Not Graduate', 'Property Area: Rural', 'Gender: Female', 'Married: Yes', 'Education: Not Graduate', 'Self-Employed: Yes')",
          "('Credit: 1.0', 'Education: Graduate', 'Property Area: Semiurban', 'Gender: Male', 'Married: No', 'Education: Graduate', 'Self-Employed: No')",
          "('Credit: 1.0', 'Education: Graduate', 'Property Area: Rural', 'Gender: Male', 'Married: Yes', 'Education: Graduate', 'Self-Employed: No')",
          "('Credit: 1.0', 'Education: Not Graduate', 'Property Area: Semiurban', 'Gender: Male', 'Married: No', 'Education: Not Graduate', 'Self-Employed: No')",
          "('Credit: 1.0', 'Education: Graduate', 'Property Area: Semiurban', 'Gender: Male', 'Married: No', 'Education: Graduate', 'Self-Employed: No')",
          "('Credit: nan', 'Education: Graduate', 'Property Area: Rural', 'Gender: Male', 'Married: Yes', 'Education: Graduate', 'Self-Employed: No')",
          "('Credit: 1.0', 'Education: Graduate', 'Property Area: Rural', 'Gender: Male', 'Married: Yes', 'Education: Graduate', 'Self-Employed: Yes')",
          "('Credit: 1.0', 'Education: Not Graduate', 'Property Area: Rural', 'Gender: Male', 'Married: Yes', 'Education: Not Graduate', 'Self-Employed: No')",
          "('Credit: 1.0', 'Education: Graduate', 'Property Area: Rural', 'Gender: Male', 'Married: Yes', 'Education: Graduate', 'Self-Employed: nan')",
          "('Credit: 0.0', 'Education: Graduate', 'Property Area: Rural', 'Gender: Male', 'Married: Yes', 'Education: Graduate', 'Self-Employed: No')",
          "('Credit: nan', 'Education: Not Graduate', 'Property Area: Semiurban', 'Gender: Male', 'Married: No', 'Education: Not Graduate', 'Self-Employed: Yes')",
          "('Credit: 0.0', 'Education: Not Graduate', 'Property Area: Rural', 'Gender: Male', 'Married: Yes', 'Education: Not Graduate', 'Self-Employed: No')",
          "('Credit: nan', 'Education: Not Graduate', 'Property Area: Urban', 'Gender: Male', 'Married: Yes', 'Education: Not Graduate', 'Self-Employed: No')",
          "('Credit: 0.0', 'Education: Graduate', 'Property Area: Rural', 'Gender: Male', 'Married: Yes', 'Education: Graduate', 'Self-Employed: No')",
          "('Credit: 0.0', 'Education: Graduate', 'Property Area: Rural', 'Gender: Male', 'Married: Yes', 'Education: Graduate', 'Self-Employed: No')",
          "('Credit: 1.0', 'Education: Graduate', 'Property Area: Semiurban', 'Gender: Male', 'Married: No', 'Education: Graduate', 'Self-Employed: Yes')",
          "('Credit: 1.0', 'Education: Graduate', 'Property Area: Semiurban', 'Gender: Male', 'Married: Yes', 'Education: Graduate', 'Self-Employed: No')",
          "('Credit: 1.0', 'Education: Graduate', 'Property Area: Urban', 'Gender: Male', 'Married: Yes', 'Education: Graduate', 'Self-Employed: No')",
          "('Credit: 1.0', 'Education: Graduate', 'Property Area: Urban', 'Gender: Male', 'Married: Yes', 'Education: Graduate', 'Self-Employed: No')",
          "('Credit: 1.0', 'Education: Graduate', 'Property Area: Rural', 'Gender: Male', 'Married: No', 'Education: Graduate', 'Self-Employed: No')",
          "('Credit: 1.0', 'Education: Graduate', 'Property Area: Semiurban', 'Gender: Male', 'Married: Yes', 'Education: Graduate', 'Self-Employed: No')",
          "('Credit: nan', 'Education: Graduate', 'Property Area: Semiurban', 'Gender: nan', 'Married: Yes', 'Education: Graduate', 'Self-Employed: Yes')",
          "('Credit: 1.0', 'Education: Graduate', 'Property Area: Urban', 'Gender: Male', 'Married: Yes', 'Education: Graduate', 'Self-Employed: No')",
          "('Credit: 1.0', 'Education: Graduate', 'Property Area: Rural', 'Gender: Male', 'Married: Yes', 'Education: Graduate', 'Self-Employed: No')",
          "('Credit: 1.0', 'Education: Not Graduate', 'Property Area: Semiurban', 'Gender: Female', 'Married: No', 'Education: Not Graduate', 'Self-Employed: nan')",
          "('Credit: 0.0', 'Education: Graduate', 'Property Area: Semiurban', 'Gender: Male', 'Married: No', 'Education: Graduate', 'Self-Employed: No')",
          "('Credit: 1.0', 'Education: Graduate', 'Property Area: Rural', 'Gender: Male', 'Married: No', 'Education: Graduate', 'Self-Employed: No')",
          "('Credit: 0.0', 'Education: Not Graduate', 'Property Area: Urban', 'Gender: Male', 'Married: Yes', 'Education: Not Graduate', 'Self-Employed: No')",
          "('Credit: 1.0', 'Education: Graduate', 'Property Area: Semiurban', 'Gender: nan', 'Married: Yes', 'Education: Graduate', 'Self-Employed: No')",
          "('Credit: 1.0', 'Education: Not Graduate', 'Property Area: Semiurban', 'Gender: Female', 'Married: Yes', 'Education: Not Graduate', 'Self-Employed: nan')",
          "('Credit: 1.0', 'Education: Graduate', 'Property Area: Urban', 'Gender: Male', 'Married: Yes', 'Education: Graduate', 'Self-Employed: No')",
          "('Credit: 1.0', 'Education: Graduate', 'Property Area: Semiurban', 'Gender: Male', 'Married: Yes', 'Education: Graduate', 'Self-Employed: Yes')",
          "('Credit: 0.0', 'Education: Not Graduate', 'Property Area: Rural', 'Gender: Male', 'Married: Yes', 'Education: Not Graduate', 'Self-Employed: No')",
          "('Credit: 1.0', 'Education: Graduate', 'Property Area: Semiurban', 'Gender: Male', 'Married: Yes', 'Education: Graduate', 'Self-Employed: No')",
          "('Credit: nan', 'Education: Graduate', 'Property Area: Urban', 'Gender: Female', 'Married: No', 'Education: Graduate', 'Self-Employed: Yes')",
          "('Credit: 1.0', 'Education: Graduate', 'Property Area: Rural', 'Gender: Male', 'Married: No', 'Education: Graduate', 'Self-Employed: No')",
          "('Credit: 1.0', 'Education: Graduate', 'Property Area: Rural', 'Gender: Male', 'Married: Yes', 'Education: Graduate', 'Self-Employed: Yes')",
          "('Credit: 1.0', 'Education: Graduate', 'Property Area: Semiurban', 'Gender: Male', 'Married: Yes', 'Education: Graduate', 'Self-Employed: No')",
          "('Credit: 0.0', 'Education: Graduate', 'Property Area: Semiurban', 'Gender: nan', 'Married: Yes', 'Education: Graduate', 'Self-Employed: No')",
          "('Credit: 1.0', 'Education: Graduate', 'Property Area: Semiurban', 'Gender: Male', 'Married: Yes', 'Education: Graduate', 'Self-Employed: Yes')",
          "('Credit: 1.0', 'Education: Graduate', 'Property Area: Urban', 'Gender: Male', 'Married: Yes', 'Education: Graduate', 'Self-Employed: No')",
          "('Credit: 1.0', 'Education: Not Graduate', 'Property Area: Rural', 'Gender: Female', 'Married: No', 'Education: Not Graduate', 'Self-Employed: No')",
          "('Credit: 1.0', 'Education: Not Graduate', 'Property Area: Rural', 'Gender: Male', 'Married: Yes', 'Education: Not Graduate', 'Self-Employed: No')",
          "('Credit: 1.0', 'Education: Graduate', 'Property Area: Semiurban', 'Gender: Male', 'Married: Yes', 'Education: Graduate', 'Self-Employed: No')",
          "('Credit: 1.0', 'Education: Graduate', 'Property Area: Semiurban', 'Gender: Male', 'Married: Yes', 'Education: Graduate', 'Self-Employed: No')",
          "('Credit: 1.0', 'Education: Graduate', 'Property Area: Semiurban', 'Gender: Male', 'Married: Yes', 'Education: Graduate', 'Self-Employed: No')",
          "('Credit: 1.0', 'Education: Not Graduate', 'Property Area: Rural', 'Gender: Male', 'Married: Yes', 'Education: Not Graduate', 'Self-Employed: No')",
          "('Credit: 0.0', 'Education: Graduate', 'Property Area: Rural', 'Gender: Male', 'Married: No', 'Education: Graduate', 'Self-Employed: No')",
          "('Credit: 1.0', 'Education: Graduate', 'Property Area: Urban', 'Gender: Male', 'Married: Yes', 'Education: Graduate', 'Self-Employed: No')",
          "('Credit: 1.0', 'Education: Graduate', 'Property Area: Semiurban', 'Gender: Male', 'Married: Yes', 'Education: Graduate', 'Self-Employed: Yes')",
          "('Credit: 1.0', 'Education: Graduate', 'Property Area: Urban', 'Gender: Male', 'Married: No', 'Education: Graduate', 'Self-Employed: No')",
          "('Credit: nan', 'Education: Not Graduate', 'Property Area: Semiurban', 'Gender: Male', 'Married: No', 'Education: Not Graduate', 'Self-Employed: No')",
          "('Credit: nan', 'Education: Not Graduate', 'Property Area: Urban', 'Gender: Male', 'Married: Yes', 'Education: Not Graduate', 'Self-Employed: No')",
          "('Credit: 1.0', 'Education: Not Graduate', 'Property Area: Rural', 'Gender: Male', 'Married: No', 'Education: Not Graduate', 'Self-Employed: No')",
          "('Credit: 1.0', 'Education: Not Graduate', 'Property Area: Semiurban', 'Gender: Female', 'Married: No', 'Education: Not Graduate', 'Self-Employed: Yes')",
          "('Credit: 0.0', 'Education: Graduate', 'Property Area: Rural', 'Gender: Male', 'Married: Yes', 'Education: Graduate', 'Self-Employed: No')",
          "('Credit: 1.0', 'Education: Graduate', 'Property Area: Semiurban', 'Gender: Female', 'Married: Yes', 'Education: Graduate', 'Self-Employed: No')",
          "('Credit: 1.0', 'Education: Not Graduate', 'Property Area: Rural', 'Gender: Male', 'Married: Yes', 'Education: Not Graduate', 'Self-Employed: No')",
          "('Credit: nan', 'Education: Graduate', 'Property Area: Urban', 'Gender: Male', 'Married: Yes', 'Education: Graduate', 'Self-Employed: No')",
          "('Credit: 1.0', 'Education: Graduate', 'Property Area: Semiurban', 'Gender: Male', 'Married: Yes', 'Education: Graduate', 'Self-Employed: Yes')",
          "('Credit: 0.0', 'Education: Graduate', 'Property Area: Rural', 'Gender: Male', 'Married: No', 'Education: Graduate', 'Self-Employed: No')",
          "('Credit: 1.0', 'Education: Graduate', 'Property Area: Rural', 'Gender: Female', 'Married: No', 'Education: Graduate', 'Self-Employed: No')",
          "('Credit: 1.0', 'Education: Graduate', 'Property Area: Semiurban', 'Gender: Female', 'Married: No', 'Education: Graduate', 'Self-Employed: No')",
          "('Credit: 1.0', 'Education: Graduate', 'Property Area: Semiurban', 'Gender: Male', 'Married: Yes', 'Education: Graduate', 'Self-Employed: No')",
          "('Credit: nan', 'Education: Not Graduate', 'Property Area: Rural', 'Gender: Male', 'Married: Yes', 'Education: Not Graduate', 'Self-Employed: No')",
          "('Credit: 1.0', 'Education: Not Graduate', 'Property Area: Semiurban', 'Gender: Male', 'Married: Yes', 'Education: Not Graduate', 'Self-Employed: No')",
          "('Credit: 1.0', 'Education: Graduate', 'Property Area: Rural', 'Gender: Male', 'Married: Yes', 'Education: Graduate', 'Self-Employed: No')",
          "('Credit: nan', 'Education: Graduate', 'Property Area: Urban', 'Gender: Male', 'Married: Yes', 'Education: Graduate', 'Self-Employed: No')",
          "('Credit: 1.0', 'Education: Graduate', 'Property Area: Urban', 'Gender: nan', 'Married: No', 'Education: Graduate', 'Self-Employed: No')",
          "('Credit: 1.0', 'Education: Graduate', 'Property Area: Urban', 'Gender: Male', 'Married: Yes', 'Education: Graduate', 'Self-Employed: Yes')",
          "('Credit: 1.0', 'Education: Graduate', 'Property Area: Urban', 'Gender: Female', 'Married: No', 'Education: Graduate', 'Self-Employed: No')",
          "('Credit: 1.0', 'Education: Not Graduate', 'Property Area: Rural', 'Gender: Male', 'Married: No', 'Education: Not Graduate', 'Self-Employed: No')",
          "('Credit: 1.0', 'Education: Graduate', 'Property Area: Semiurban', 'Gender: Male', 'Married: Yes', 'Education: Graduate', 'Self-Employed: No')",
          "('Credit: 1.0', 'Education: Graduate', 'Property Area: Urban', 'Gender: Male', 'Married: Yes', 'Education: Graduate', 'Self-Employed: No')",
          "('Credit: 1.0', 'Education: Graduate', 'Property Area: Semiurban', 'Gender: Male', 'Married: Yes', 'Education: Graduate', 'Self-Employed: No')",
          "('Credit: 1.0', 'Education: Graduate', 'Property Area: Rural', 'Gender: Male', 'Married: No', 'Education: Graduate', 'Self-Employed: No')",
          "('Credit: 1.0', 'Education: Graduate', 'Property Area: Rural', 'Gender: Male', 'Married: Yes', 'Education: Graduate', 'Self-Employed: No')",
          "('Credit: 1.0', 'Education: Graduate', 'Property Area: Semiurban', 'Gender: Female', 'Married: Yes', 'Education: Graduate', 'Self-Employed: No')",
          "('Credit: 0.0', 'Education: Not Graduate', 'Property Area: Semiurban', 'Gender: Male', 'Married: Yes', 'Education: Not Graduate', 'Self-Employed: No')",
          "('Credit: 1.0', 'Education: Graduate', 'Property Area: Semiurban', 'Gender: Male', 'Married: No', 'Education: Graduate', 'Self-Employed: No')",
          "('Credit: 1.0', 'Education: Not Graduate', 'Property Area: Rural', 'Gender: Female', 'Married: No', 'Education: Not Graduate', 'Self-Employed: No')",
          "('Credit: 1.0', 'Education: Not Graduate', 'Property Area: Semiurban', 'Gender: Male', 'Married: Yes', 'Education: Not Graduate', 'Self-Employed: No')",
          "('Credit: 1.0', 'Education: Graduate', 'Property Area: Semiurban', 'Gender: Male', 'Married: No', 'Education: Graduate', 'Self-Employed: No')",
          "('Credit: 1.0', 'Education: Graduate', 'Property Area: Rural', 'Gender: Male', 'Married: Yes', 'Education: Graduate', 'Self-Employed: Yes')",
          "('Credit: 1.0', 'Education: Graduate', 'Property Area: Rural', 'Gender: Male', 'Married: Yes', 'Education: Graduate', 'Self-Employed: Yes')",
          "('Credit: 1.0', 'Education: Graduate', 'Property Area: Semiurban', 'Gender: Male', 'Married: No', 'Education: Graduate', 'Self-Employed: No')",
          "('Credit: 1.0', 'Education: Graduate', 'Property Area: Rural', 'Gender: Male', 'Married: Yes', 'Education: Graduate', 'Self-Employed: Yes')",
          "('Credit: 1.0', 'Education: Graduate', 'Property Area: Semiurban', 'Gender: Male', 'Married: Yes', 'Education: Graduate', 'Self-Employed: No')",
          "('Credit: 0.0', 'Education: Not Graduate', 'Property Area: Semiurban', 'Gender: Male', 'Married: Yes', 'Education: Not Graduate', 'Self-Employed: No')",
          "('Credit: 1.0', 'Education: Not Graduate', 'Property Area: Semiurban', 'Gender: Male', 'Married: No', 'Education: Not Graduate', 'Self-Employed: No')",
          "('Credit: 1.0', 'Education: Not Graduate', 'Property Area: Semiurban', 'Gender: Male', 'Married: No', 'Education: Not Graduate', 'Self-Employed: No')",
          "('Credit: nan', 'Education: Graduate', 'Property Area: Rural', 'Gender: Male', 'Married: Yes', 'Education: Graduate', 'Self-Employed: No')",
          "('Credit: 1.0', 'Education: Graduate', 'Property Area: Urban', 'Gender: Male', 'Married: Yes', 'Education: Graduate', 'Self-Employed: No')",
          "('Credit: 0.0', 'Education: Graduate', 'Property Area: Rural', 'Gender: Male', 'Married: No', 'Education: Graduate', 'Self-Employed: No')",
          "('Credit: nan', 'Education: Graduate', 'Property Area: Semiurban', 'Gender: Male', 'Married: No', 'Education: Graduate', 'Self-Employed: No')",
          "('Credit: 1.0', 'Education: Not Graduate', 'Property Area: Urban', 'Gender: Female', 'Married: No', 'Education: Not Graduate', 'Self-Employed: Yes')",
          "('Credit: 1.0', 'Education: Not Graduate', 'Property Area: Rural', 'Gender: Male', 'Married: No', 'Education: Not Graduate', 'Self-Employed: nan')",
          "('Credit: 1.0', 'Education: Graduate', 'Property Area: Urban', 'Gender: Male', 'Married: Yes', 'Education: Graduate', 'Self-Employed: No')",
          "('Credit: 1.0', 'Education: Graduate', 'Property Area: Semiurban', 'Gender: Male', 'Married: No', 'Education: Graduate', 'Self-Employed: No')",
          "('Credit: 1.0', 'Education: Not Graduate', 'Property Area: Rural', 'Gender: Male', 'Married: Yes', 'Education: Not Graduate', 'Self-Employed: No')",
          "('Credit: 1.0', 'Education: Graduate', 'Property Area: Rural', 'Gender: Male', 'Married: Yes', 'Education: Graduate', 'Self-Employed: No')",
          "('Credit: 1.0', 'Education: Graduate', 'Property Area: Semiurban', 'Gender: Female', 'Married: Yes', 'Education: Graduate', 'Self-Employed: No')",
          "('Credit: 0.0', 'Education: Graduate', 'Property Area: Semiurban', 'Gender: Female', 'Married: No', 'Education: Graduate', 'Self-Employed: No')",
          "('Credit: 1.0', 'Education: Graduate', 'Property Area: Semiurban', 'Gender: Female', 'Married: No', 'Education: Graduate', 'Self-Employed: nan')",
          "('Credit: 1.0', 'Education: Not Graduate', 'Property Area: Urban', 'Gender: Male', 'Married: Yes', 'Education: Not Graduate', 'Self-Employed: No')",
          "('Credit: nan', 'Education: Not Graduate', 'Property Area: Semiurban', 'Gender: Female', 'Married: Yes', 'Education: Not Graduate', 'Self-Employed: No')",
          "('Credit: 1.0', 'Education: Graduate', 'Property Area: Rural', 'Gender: Male', 'Married: Yes', 'Education: Graduate', 'Self-Employed: No')",
          "('Credit: 1.0', 'Education: Not Graduate', 'Property Area: Semiurban', 'Gender: Male', 'Married: No', 'Education: Not Graduate', 'Self-Employed: No')",
          "('Credit: 1.0', 'Education: Graduate', 'Property Area: Rural', 'Gender: Male', 'Married: No', 'Education: Graduate', 'Self-Employed: No')",
          "('Credit: 0.0', 'Education: Graduate', 'Property Area: Semiurban', 'Gender: Female', 'Married: No', 'Education: Graduate', 'Self-Employed: No')",
          "('Credit: 1.0', 'Education: Graduate', 'Property Area: Rural', 'Gender: Male', 'Married: Yes', 'Education: Graduate', 'Self-Employed: No')",
          "('Credit: 0.0', 'Education: Graduate', 'Property Area: Rural', 'Gender: Male', 'Married: Yes', 'Education: Graduate', 'Self-Employed: Yes')",
          "('Credit: 1.0', 'Education: Not Graduate', 'Property Area: Rural', 'Gender: Male', 'Married: Yes', 'Education: Not Graduate', 'Self-Employed: No')",
          "('Credit: 1.0', 'Education: Graduate', 'Property Area: Urban', 'Gender: Male', 'Married: Yes', 'Education: Graduate', 'Self-Employed: No')",
          "('Credit: 0.0', 'Education: Not Graduate', 'Property Area: Urban', 'Gender: Male', 'Married: Yes', 'Education: Not Graduate', 'Self-Employed: No')",
          "('Credit: 0.0', 'Education: Graduate', 'Property Area: Rural', 'Gender: Male', 'Married: Yes', 'Education: Graduate', 'Self-Employed: No')",
          "('Credit: 1.0', 'Education: Graduate', 'Property Area: Semiurban', 'Gender: Male', 'Married: Yes', 'Education: Graduate', 'Self-Employed: No')",
          "('Credit: nan', 'Education: Graduate', 'Property Area: Urban', 'Gender: Female', 'Married: No', 'Education: Graduate', 'Self-Employed: No')",
          "('Credit: 1.0', 'Education: Graduate', 'Property Area: Semiurban', 'Gender: Male', 'Married: Yes', 'Education: Graduate', 'Self-Employed: Yes')",
          "('Credit: 1.0', 'Education: Graduate', 'Property Area: Semiurban', 'Gender: Male', 'Married: Yes', 'Education: Graduate', 'Self-Employed: No')",
          "('Credit: 1.0', 'Education: Graduate', 'Property Area: Semiurban', 'Gender: Female', 'Married: Yes', 'Education: Graduate', 'Self-Employed: No')",
          "('Credit: 1.0', 'Education: Not Graduate', 'Property Area: Semiurban', 'Gender: Male', 'Married: Yes', 'Education: Not Graduate', 'Self-Employed: No')",
          "('Credit: 1.0', 'Education: Graduate', 'Property Area: Semiurban', 'Gender: Female', 'Married: Yes', 'Education: Graduate', 'Self-Employed: Yes')",
          "('Credit: 1.0', 'Education: Graduate', 'Property Area: Rural', 'Gender: Male', 'Married: Yes', 'Education: Graduate', 'Self-Employed: No')",
          "('Credit: 1.0', 'Education: Not Graduate', 'Property Area: Semiurban', 'Gender: Male', 'Married: No', 'Education: Not Graduate', 'Self-Employed: Yes')",
          "('Credit: 0.0', 'Education: Graduate', 'Property Area: Urban', 'Gender: Male', 'Married: Yes', 'Education: Graduate', 'Self-Employed: No')",
          "('Credit: nan', 'Education: Not Graduate', 'Property Area: Rural', 'Gender: Male', 'Married: Yes', 'Education: Not Graduate', 'Self-Employed: No')",
          "('Credit: 1.0', 'Education: Graduate', 'Property Area: Urban', 'Gender: Male', 'Married: No', 'Education: Graduate', 'Self-Employed: No')",
          "('Credit: 0.0', 'Education: Graduate', 'Property Area: Rural', 'Gender: Male', 'Married: Yes', 'Education: Graduate', 'Self-Employed: No')",
          "('Credit: 1.0', 'Education: Graduate', 'Property Area: Urban', 'Gender: Female', 'Married: No', 'Education: Graduate', 'Self-Employed: No')",
          "('Credit: 0.0', 'Education: Graduate', 'Property Area: Urban', 'Gender: Male', 'Married: Yes', 'Education: Graduate', 'Self-Employed: No')",
          "('Credit: 1.0', 'Education: Graduate', 'Property Area: Urban', 'Gender: Male', 'Married: Yes', 'Education: Graduate', 'Self-Employed: No')",
          "('Credit: 0.0', 'Education: Graduate', 'Property Area: Urban', 'Gender: Male', 'Married: Yes', 'Education: Graduate', 'Self-Employed: No')",
          "('Credit: 1.0', 'Education: Graduate', 'Property Area: Urban', 'Gender: Male', 'Married: Yes', 'Education: Graduate', 'Self-Employed: No')",
          "('Credit: 1.0', 'Education: Not Graduate', 'Property Area: Semiurban', 'Gender: Male', 'Married: Yes', 'Education: Not Graduate', 'Self-Employed: No')",
          "('Credit: 1.0', 'Education: Graduate', 'Property Area: Semiurban', 'Gender: Male', 'Married: Yes', 'Education: Graduate', 'Self-Employed: No')",
          "('Credit: 1.0', 'Education: Graduate', 'Property Area: Urban', 'Gender: Male', 'Married: Yes', 'Education: Graduate', 'Self-Employed: No')",
          "('Credit: 0.0', 'Education: Graduate', 'Property Area: Semiurban', 'Gender: nan', 'Married: Yes', 'Education: Graduate', 'Self-Employed: No')",
          "('Credit: 1.0', 'Education: Graduate', 'Property Area: Urban', 'Gender: Male', 'Married: No', 'Education: Graduate', 'Self-Employed: No')",
          "('Credit: 1.0', 'Education: Graduate', 'Property Area: Rural', 'Gender: Male', 'Married: Yes', 'Education: Graduate', 'Self-Employed: No')",
          "('Credit: 1.0', 'Education: Graduate', 'Property Area: Urban', 'Gender: Male', 'Married: No', 'Education: Graduate', 'Self-Employed: nan')",
          "('Credit: 1.0', 'Education: Graduate', 'Property Area: Semiurban', 'Gender: Male', 'Married: Yes', 'Education: Graduate', 'Self-Employed: No')",
          "('Credit: 1.0', 'Education: Graduate', 'Property Area: Urban', 'Gender: Male', 'Married: No', 'Education: Graduate', 'Self-Employed: No')",
          "('Credit: 1.0', 'Education: Graduate', 'Property Area: Semiurban', 'Gender: Female', 'Married: Yes', 'Education: Graduate', 'Self-Employed: No')",
          "('Credit: nan', 'Education: Graduate', 'Property Area: Rural', 'Gender: Male', 'Married: Yes', 'Education: Graduate', 'Self-Employed: No')",
          "('Credit: 0.0', 'Education: Graduate', 'Property Area: Rural', 'Gender: Male', 'Married: Yes', 'Education: Graduate', 'Self-Employed: No')",
          "('Credit: 1.0', 'Education: Graduate', 'Property Area: Rural', 'Gender: Male', 'Married: Yes', 'Education: Graduate', 'Self-Employed: No')",
          "('Credit: 1.0', 'Education: Graduate', 'Property Area: Urban', 'Gender: Male', 'Married: Yes', 'Education: Graduate', 'Self-Employed: No')",
          "('Credit: 1.0', 'Education: Not Graduate', 'Property Area: Semiurban', 'Gender: Female', 'Married: No', 'Education: Not Graduate', 'Self-Employed: No')",
          "('Credit: 1.0', 'Education: Graduate', 'Property Area: Semiurban', 'Gender: nan', 'Married: No', 'Education: Graduate', 'Self-Employed: No')",
          "('Credit: 0.0', 'Education: Graduate', 'Property Area: Semiurban', 'Gender: Male', 'Married: Yes', 'Education: Graduate', 'Self-Employed: Yes')",
          "('Credit: 1.0', 'Education: Graduate', 'Property Area: Semiurban', 'Gender: Male', 'Married: Yes', 'Education: Graduate', 'Self-Employed: No')",
          "('Credit: 1.0', 'Education: Graduate', 'Property Area: Semiurban', 'Gender: Male', 'Married: Yes', 'Education: Graduate', 'Self-Employed: Yes')",
          "('Credit: 1.0', 'Education: Graduate', 'Property Area: Semiurban', 'Gender: nan', 'Married: No', 'Education: Graduate', 'Self-Employed: Yes')",
          "('Credit: 1.0', 'Education: Graduate', 'Property Area: Rural', 'Gender: Male', 'Married: Yes', 'Education: Graduate', 'Self-Employed: No')",
          "('Credit: 1.0', 'Education: Graduate', 'Property Area: Urban', 'Gender: Male', 'Married: Yes', 'Education: Graduate', 'Self-Employed: Yes')",
          "('Credit: 1.0', 'Education: Not Graduate', 'Property Area: Rural', 'Gender: Male', 'Married: No', 'Education: Not Graduate', 'Self-Employed: No')",
          "('Credit: 1.0', 'Education: Not Graduate', 'Property Area: Rural', 'Gender: Male', 'Married: Yes', 'Education: Not Graduate', 'Self-Employed: Yes')",
          "('Credit: 0.0', 'Education: Graduate', 'Property Area: Semiurban', 'Gender: Male', 'Married: No', 'Education: Graduate', 'Self-Employed: No')",
          "('Credit: 1.0', 'Education: Graduate', 'Property Area: Rural', 'Gender: Male', 'Married: Yes', 'Education: Graduate', 'Self-Employed: Yes')",
          "('Credit: 1.0', 'Education: Graduate', 'Property Area: Urban', 'Gender: Male', 'Married: Yes', 'Education: Graduate', 'Self-Employed: No')",
          "('Credit: nan', 'Education: Graduate', 'Property Area: Urban', 'Gender: Female', 'Married: No', 'Education: Graduate', 'Self-Employed: nan')",
          "('Credit: 1.0', 'Education: Not Graduate', 'Property Area: Rural', 'Gender: Male', 'Married: Yes', 'Education: Not Graduate', 'Self-Employed: nan')",
          "('Credit: 1.0', 'Education: Graduate', 'Property Area: Urban', 'Gender: Male', 'Married: Yes', 'Education: Graduate', 'Self-Employed: No')",
          "('Credit: 1.0', 'Education: Graduate', 'Property Area: Rural', 'Gender: Male', 'Married: No', 'Education: Graduate', 'Self-Employed: No')",
          "('Credit: 1.0', 'Education: Graduate', 'Property Area: Semiurban', 'Gender: Female', 'Married: Yes', 'Education: Graduate', 'Self-Employed: No')",
          "('Credit: 1.0', 'Education: Not Graduate', 'Property Area: Urban', 'Gender: Male', 'Married: Yes', 'Education: Not Graduate', 'Self-Employed: No')",
          "('Credit: 1.0', 'Education: Graduate', 'Property Area: Semiurban', 'Gender: Male', 'Married: Yes', 'Education: Graduate', 'Self-Employed: No')",
          "('Credit: 1.0', 'Education: Not Graduate', 'Property Area: Rural', 'Gender: Male', 'Married: Yes', 'Education: Not Graduate', 'Self-Employed: No')",
          "('Credit: 1.0', 'Education: Graduate', 'Property Area: Rural', 'Gender: Male', 'Married: Yes', 'Education: Graduate', 'Self-Employed: No')",
          "('Credit: 1.0', 'Education: Graduate', 'Property Area: Rural', 'Gender: Female', 'Married: No', 'Education: Graduate', 'Self-Employed: No')",
          "('Credit: 1.0', 'Education: Graduate', 'Property Area: Rural', 'Gender: Male', 'Married: Yes', 'Education: Graduate', 'Self-Employed: No')",
          "('Credit: 1.0', 'Education: Graduate', 'Property Area: Urban', 'Gender: Male', 'Married: Yes', 'Education: Graduate', 'Self-Employed: No')",
          "('Credit: 1.0', 'Education: Graduate', 'Property Area: Urban', 'Gender: Male', 'Married: Yes', 'Education: Graduate', 'Self-Employed: No')",
          "('Credit: 0.0', 'Education: Graduate', 'Property Area: Semiurban', 'Gender: Female', 'Married: No', 'Education: Graduate', 'Self-Employed: Yes')"
         ],
         "type": "scatter3d",
         "x": [
          128,
          158,
          114,
          76,
          133,
          104,
          116,
          112,
          151,
          35,
          201,
          74,
          106,
          100,
          80,
          120,
          112,
          134,
          286,
          135,
          165,
          116,
          258,
          126,
          136,
          95,
          113,
          176,
          110,
          180,
          167,
          265,
          120,
          216,
          152,
          175,
          160,
          182,
          290,
          84,
          242,
          129,
          185,
          225,
          118,
          244,
          113,
          275,
          121,
          112,
          63,
          81,
          87,
          102,
          180,
          67,
          66,
          164,
          160,
          170,
          83,
          127,
          214,
          128,
          135,
          72,
          60,
          170,
          138,
          255,
          140,
          120,
          201,
          138,
          192,
          115,
          94,
          128,
          155,
          135,
          158,
          99,
          127,
          143,
          151,
          113,
          93,
          104,
          159,
          155,
          110,
          173,
          46,
          152,
          105,
          67,
          100,
          81,
          133,
          96,
          124,
          111,
          71,
          100,
          71,
          103,
          45,
          65,
          194,
          152,
          62,
          218,
          178,
          160,
          239,
          80,
          110,
          81,
          105,
          187,
          55,
          150,
          190,
          125,
          149,
          173,
          160,
          98,
          70,
          110,
          113,
          132,
          80,
          75,
          119,
          209,
          138,
          96,
          100,
          70,
          123,
          185,
          95,
          110,
          196,
          66,
          99,
          80,
          103,
          181,
          132,
          258,
          123,
          9,
          104,
          165,
          187,
          150,
          136,
          61,
          146,
          172,
          106,
          205,
          187,
          88,
          133
         ],
         "y": [
          6091,
          5540,
          4693,
          3510,
          4887,
          7660,
          4511,
          5282,
          6642,
          1442,
          7535,
          3167,
          4692,
          3158,
          3600,
          6085,
          4230,
          4616,
          11500,
          5566,
          6058,
          4166,
          10321,
          5454,
          4300,
          4755,
          3750,
          8500,
          4022,
          7167,
          3259,
          8250,
          7333,
          7400,
          7686,
          7710,
          14363,
          8649,
          11750,
          4583,
          14999,
          5630,
          7125,
          11666,
          6277,
          9166,
          2281,
          7933,
          4369,
          4583,
          2237,
          3522,
          5080,
          3784,
          13650,
          6979,
          2178,
          12000,
          6033,
          5708,
          11000,
          3418,
          10000,
          4680,
          1950,
          5000,
          2221,
          3250,
          4735,
          5746,
          4493,
          10383,
          5558,
          3427,
          16250,
          6045,
          5250,
          4931,
          3481,
          3418,
          6479,
          4317,
          4400,
          5417,
          7541,
          4939,
          4734,
          4263,
          4316,
          10000,
          6784,
          4234,
          2378,
          6753,
          5500,
          3875,
          4666,
          4723,
          6216,
          2500,
          5124,
          5049,
          3069,
          4566,
          3180,
          3300,
          2889,
          2755,
          7441,
          8300,
          3867,
          6096,
          5386,
          2600,
          21600,
          2720,
          8917,
          4606,
          6500,
          10416,
          4915,
          5050,
          4311,
          3564,
          5681,
          6277,
          8334,
          4166,
          4611,
          6784,
          4153,
          4745,
          3547,
          2435,
          5754,
          10699,
          9352,
          3583,
          4885,
          8796,
          4874,
          6598,
          3400,
          3588,
          11250,
          3453,
          2138,
          3358,
          5000,
          4787,
          7859,
          8799,
          5900,
          2378,
          5230,
          6567,
          7750,
          6406,
          5297,
          1880,
          4704,
          7283,
          2726,
          6000,
          7383,
          2987,
          4583
         ],
         "z": [
          360,
          360,
          360,
          360,
          360,
          360,
          360,
          360,
          360,
          360,
          360,
          360,
          360,
          null,
          360,
          360,
          360,
          360,
          360,
          360,
          180,
          360,
          360,
          180,
          360,
          null,
          480,
          360,
          360,
          300,
          360,
          360,
          360,
          360,
          null,
          360,
          180,
          360,
          360,
          360,
          360,
          360,
          360,
          360,
          360,
          360,
          360,
          360,
          360,
          360,
          480,
          180,
          360,
          480,
          360,
          360,
          300,
          360,
          360,
          360,
          360,
          360,
          360,
          360,
          360,
          360,
          360,
          360,
          360,
          360,
          180,
          180,
          360,
          360,
          360,
          360,
          360,
          360,
          36,
          360,
          360,
          300,
          360,
          480,
          480,
          360,
          360,
          360,
          360,
          360,
          360,
          360,
          360,
          360,
          360,
          360,
          480,
          360,
          360,
          480,
          null,
          180,
          480,
          360,
          360,
          360,
          180,
          300,
          360,
          300,
          360,
          360,
          360,
          360,
          360,
          null,
          null,
          360,
          360,
          360,
          360,
          360,
          360,
          360,
          360,
          360,
          360,
          360,
          180,
          360,
          180,
          360,
          360,
          360,
          360,
          360,
          360,
          360,
          360,
          180,
          360,
          360,
          360,
          360,
          360,
          360,
          360,
          36,
          360,
          360,
          180,
          360,
          360,
          360,
          360,
          360,
          480,
          360,
          360,
          360,
          360,
          84,
          360,
          240,
          360,
          360,
          360
         ]
        }
       ],
       "layout": {
        "autosize": true,
        "scene": {
         "aspectmode": "auto",
         "aspectratio": {
          "x": 1,
          "y": 1,
          "z": 1
         },
         "xaxis": {
          "title": {
           "text": "Loan Amount"
          },
          "type": "linear"
         },
         "yaxis": {
          "title": {
           "text": "Combined Income"
          },
          "type": "linear"
         },
         "zaxis": {
          "title": {
           "text": "Term"
          },
          "type": "linear"
         }
        },
        "showlegend": true,
        "template": {
         "data": {
          "bar": [
           {
            "error_x": {
             "color": "#2a3f5f"
            },
            "error_y": {
             "color": "#2a3f5f"
            },
            "marker": {
             "line": {
              "color": "#E5ECF6",
              "width": 0.5
             },
             "pattern": {
              "fillmode": "overlay",
              "size": 10,
              "solidity": 0.2
             }
            },
            "type": "bar"
           }
          ],
          "barpolar": [
           {
            "marker": {
             "line": {
              "color": "#E5ECF6",
              "width": 0.5
             },
             "pattern": {
              "fillmode": "overlay",
              "size": 10,
              "solidity": 0.2
             }
            },
            "type": "barpolar"
           }
          ],
          "carpet": [
           {
            "aaxis": {
             "endlinecolor": "#2a3f5f",
             "gridcolor": "white",
             "linecolor": "white",
             "minorgridcolor": "white",
             "startlinecolor": "#2a3f5f"
            },
            "baxis": {
             "endlinecolor": "#2a3f5f",
             "gridcolor": "white",
             "linecolor": "white",
             "minorgridcolor": "white",
             "startlinecolor": "#2a3f5f"
            },
            "type": "carpet"
           }
          ],
          "choropleth": [
           {
            "colorbar": {
             "outlinewidth": 0,
             "ticks": ""
            },
            "type": "choropleth"
           }
          ],
          "contour": [
           {
            "colorbar": {
             "outlinewidth": 0,
             "ticks": ""
            },
            "colorscale": [
             [
              0,
              "#0d0887"
             ],
             [
              0.1111111111111111,
              "#46039f"
             ],
             [
              0.2222222222222222,
              "#7201a8"
             ],
             [
              0.3333333333333333,
              "#9c179e"
             ],
             [
              0.4444444444444444,
              "#bd3786"
             ],
             [
              0.5555555555555556,
              "#d8576b"
             ],
             [
              0.6666666666666666,
              "#ed7953"
             ],
             [
              0.7777777777777778,
              "#fb9f3a"
             ],
             [
              0.8888888888888888,
              "#fdca26"
             ],
             [
              1,
              "#f0f921"
             ]
            ],
            "type": "contour"
           }
          ],
          "contourcarpet": [
           {
            "colorbar": {
             "outlinewidth": 0,
             "ticks": ""
            },
            "type": "contourcarpet"
           }
          ],
          "heatmap": [
           {
            "colorbar": {
             "outlinewidth": 0,
             "ticks": ""
            },
            "colorscale": [
             [
              0,
              "#0d0887"
             ],
             [
              0.1111111111111111,
              "#46039f"
             ],
             [
              0.2222222222222222,
              "#7201a8"
             ],
             [
              0.3333333333333333,
              "#9c179e"
             ],
             [
              0.4444444444444444,
              "#bd3786"
             ],
             [
              0.5555555555555556,
              "#d8576b"
             ],
             [
              0.6666666666666666,
              "#ed7953"
             ],
             [
              0.7777777777777778,
              "#fb9f3a"
             ],
             [
              0.8888888888888888,
              "#fdca26"
             ],
             [
              1,
              "#f0f921"
             ]
            ],
            "type": "heatmap"
           }
          ],
          "heatmapgl": [
           {
            "colorbar": {
             "outlinewidth": 0,
             "ticks": ""
            },
            "colorscale": [
             [
              0,
              "#0d0887"
             ],
             [
              0.1111111111111111,
              "#46039f"
             ],
             [
              0.2222222222222222,
              "#7201a8"
             ],
             [
              0.3333333333333333,
              "#9c179e"
             ],
             [
              0.4444444444444444,
              "#bd3786"
             ],
             [
              0.5555555555555556,
              "#d8576b"
             ],
             [
              0.6666666666666666,
              "#ed7953"
             ],
             [
              0.7777777777777778,
              "#fb9f3a"
             ],
             [
              0.8888888888888888,
              "#fdca26"
             ],
             [
              1,
              "#f0f921"
             ]
            ],
            "type": "heatmapgl"
           }
          ],
          "histogram": [
           {
            "marker": {
             "pattern": {
              "fillmode": "overlay",
              "size": 10,
              "solidity": 0.2
             }
            },
            "type": "histogram"
           }
          ],
          "histogram2d": [
           {
            "colorbar": {
             "outlinewidth": 0,
             "ticks": ""
            },
            "colorscale": [
             [
              0,
              "#0d0887"
             ],
             [
              0.1111111111111111,
              "#46039f"
             ],
             [
              0.2222222222222222,
              "#7201a8"
             ],
             [
              0.3333333333333333,
              "#9c179e"
             ],
             [
              0.4444444444444444,
              "#bd3786"
             ],
             [
              0.5555555555555556,
              "#d8576b"
             ],
             [
              0.6666666666666666,
              "#ed7953"
             ],
             [
              0.7777777777777778,
              "#fb9f3a"
             ],
             [
              0.8888888888888888,
              "#fdca26"
             ],
             [
              1,
              "#f0f921"
             ]
            ],
            "type": "histogram2d"
           }
          ],
          "histogram2dcontour": [
           {
            "colorbar": {
             "outlinewidth": 0,
             "ticks": ""
            },
            "colorscale": [
             [
              0,
              "#0d0887"
             ],
             [
              0.1111111111111111,
              "#46039f"
             ],
             [
              0.2222222222222222,
              "#7201a8"
             ],
             [
              0.3333333333333333,
              "#9c179e"
             ],
             [
              0.4444444444444444,
              "#bd3786"
             ],
             [
              0.5555555555555556,
              "#d8576b"
             ],
             [
              0.6666666666666666,
              "#ed7953"
             ],
             [
              0.7777777777777778,
              "#fb9f3a"
             ],
             [
              0.8888888888888888,
              "#fdca26"
             ],
             [
              1,
              "#f0f921"
             ]
            ],
            "type": "histogram2dcontour"
           }
          ],
          "mesh3d": [
           {
            "colorbar": {
             "outlinewidth": 0,
             "ticks": ""
            },
            "type": "mesh3d"
           }
          ],
          "parcoords": [
           {
            "line": {
             "colorbar": {
              "outlinewidth": 0,
              "ticks": ""
             }
            },
            "type": "parcoords"
           }
          ],
          "pie": [
           {
            "automargin": true,
            "type": "pie"
           }
          ],
          "scatter": [
           {
            "fillpattern": {
             "fillmode": "overlay",
             "size": 10,
             "solidity": 0.2
            },
            "type": "scatter"
           }
          ],
          "scatter3d": [
           {
            "line": {
             "colorbar": {
              "outlinewidth": 0,
              "ticks": ""
             }
            },
            "marker": {
             "colorbar": {
              "outlinewidth": 0,
              "ticks": ""
             }
            },
            "type": "scatter3d"
           }
          ],
          "scattercarpet": [
           {
            "marker": {
             "colorbar": {
              "outlinewidth": 0,
              "ticks": ""
             }
            },
            "type": "scattercarpet"
           }
          ],
          "scattergeo": [
           {
            "marker": {
             "colorbar": {
              "outlinewidth": 0,
              "ticks": ""
             }
            },
            "type": "scattergeo"
           }
          ],
          "scattergl": [
           {
            "marker": {
             "colorbar": {
              "outlinewidth": 0,
              "ticks": ""
             }
            },
            "type": "scattergl"
           }
          ],
          "scattermapbox": [
           {
            "marker": {
             "colorbar": {
              "outlinewidth": 0,
              "ticks": ""
             }
            },
            "type": "scattermapbox"
           }
          ],
          "scatterpolar": [
           {
            "marker": {
             "colorbar": {
              "outlinewidth": 0,
              "ticks": ""
             }
            },
            "type": "scatterpolar"
           }
          ],
          "scatterpolargl": [
           {
            "marker": {
             "colorbar": {
              "outlinewidth": 0,
              "ticks": ""
             }
            },
            "type": "scatterpolargl"
           }
          ],
          "scatterternary": [
           {
            "marker": {
             "colorbar": {
              "outlinewidth": 0,
              "ticks": ""
             }
            },
            "type": "scatterternary"
           }
          ],
          "surface": [
           {
            "colorbar": {
             "outlinewidth": 0,
             "ticks": ""
            },
            "colorscale": [
             [
              0,
              "#0d0887"
             ],
             [
              0.1111111111111111,
              "#46039f"
             ],
             [
              0.2222222222222222,
              "#7201a8"
             ],
             [
              0.3333333333333333,
              "#9c179e"
             ],
             [
              0.4444444444444444,
              "#bd3786"
             ],
             [
              0.5555555555555556,
              "#d8576b"
             ],
             [
              0.6666666666666666,
              "#ed7953"
             ],
             [
              0.7777777777777778,
              "#fb9f3a"
             ],
             [
              0.8888888888888888,
              "#fdca26"
             ],
             [
              1,
              "#f0f921"
             ]
            ],
            "type": "surface"
           }
          ],
          "table": [
           {
            "cells": {
             "fill": {
              "color": "#EBF0F8"
             },
             "line": {
              "color": "white"
             }
            },
            "header": {
             "fill": {
              "color": "#C8D4E3"
             },
             "line": {
              "color": "white"
             }
            },
            "type": "table"
           }
          ]
         },
         "layout": {
          "annotationdefaults": {
           "arrowcolor": "#2a3f5f",
           "arrowhead": 0,
           "arrowwidth": 1
          },
          "autotypenumbers": "strict",
          "coloraxis": {
           "colorbar": {
            "outlinewidth": 0,
            "ticks": ""
           }
          },
          "colorscale": {
           "diverging": [
            [
             0,
             "#8e0152"
            ],
            [
             0.1,
             "#c51b7d"
            ],
            [
             0.2,
             "#de77ae"
            ],
            [
             0.3,
             "#f1b6da"
            ],
            [
             0.4,
             "#fde0ef"
            ],
            [
             0.5,
             "#f7f7f7"
            ],
            [
             0.6,
             "#e6f5d0"
            ],
            [
             0.7,
             "#b8e186"
            ],
            [
             0.8,
             "#7fbc41"
            ],
            [
             0.9,
             "#4d9221"
            ],
            [
             1,
             "#276419"
            ]
           ],
           "sequential": [
            [
             0,
             "#0d0887"
            ],
            [
             0.1111111111111111,
             "#46039f"
            ],
            [
             0.2222222222222222,
             "#7201a8"
            ],
            [
             0.3333333333333333,
             "#9c179e"
            ],
            [
             0.4444444444444444,
             "#bd3786"
            ],
            [
             0.5555555555555556,
             "#d8576b"
            ],
            [
             0.6666666666666666,
             "#ed7953"
            ],
            [
             0.7777777777777778,
             "#fb9f3a"
            ],
            [
             0.8888888888888888,
             "#fdca26"
            ],
            [
             1,
             "#f0f921"
            ]
           ],
           "sequentialminus": [
            [
             0,
             "#0d0887"
            ],
            [
             0.1111111111111111,
             "#46039f"
            ],
            [
             0.2222222222222222,
             "#7201a8"
            ],
            [
             0.3333333333333333,
             "#9c179e"
            ],
            [
             0.4444444444444444,
             "#bd3786"
            ],
            [
             0.5555555555555556,
             "#d8576b"
            ],
            [
             0.6666666666666666,
             "#ed7953"
            ],
            [
             0.7777777777777778,
             "#fb9f3a"
            ],
            [
             0.8888888888888888,
             "#fdca26"
            ],
            [
             1,
             "#f0f921"
            ]
           ]
          },
          "colorway": [
           "#636efa",
           "#EF553B",
           "#00cc96",
           "#ab63fa",
           "#FFA15A",
           "#19d3f3",
           "#FF6692",
           "#B6E880",
           "#FF97FF",
           "#FECB52"
          ],
          "font": {
           "color": "#2a3f5f"
          },
          "geo": {
           "bgcolor": "white",
           "lakecolor": "white",
           "landcolor": "#E5ECF6",
           "showlakes": true,
           "showland": true,
           "subunitcolor": "white"
          },
          "hoverlabel": {
           "align": "left"
          },
          "hovermode": "closest",
          "mapbox": {
           "style": "light"
          },
          "paper_bgcolor": "white",
          "plot_bgcolor": "#E5ECF6",
          "polar": {
           "angularaxis": {
            "gridcolor": "white",
            "linecolor": "white",
            "ticks": ""
           },
           "bgcolor": "#E5ECF6",
           "radialaxis": {
            "gridcolor": "white",
            "linecolor": "white",
            "ticks": ""
           }
          },
          "scene": {
           "xaxis": {
            "backgroundcolor": "#E5ECF6",
            "gridcolor": "white",
            "gridwidth": 2,
            "linecolor": "white",
            "showbackground": true,
            "ticks": "",
            "zerolinecolor": "white"
           },
           "yaxis": {
            "backgroundcolor": "#E5ECF6",
            "gridcolor": "white",
            "gridwidth": 2,
            "linecolor": "white",
            "showbackground": true,
            "ticks": "",
            "zerolinecolor": "white"
           },
           "zaxis": {
            "backgroundcolor": "#E5ECF6",
            "gridcolor": "white",
            "gridwidth": 2,
            "linecolor": "white",
            "showbackground": true,
            "ticks": "",
            "zerolinecolor": "white"
           }
          },
          "shapedefaults": {
           "line": {
            "color": "#2a3f5f"
           }
          },
          "ternary": {
           "aaxis": {
            "gridcolor": "white",
            "linecolor": "white",
            "ticks": ""
           },
           "baxis": {
            "gridcolor": "white",
            "linecolor": "white",
            "ticks": ""
           },
           "bgcolor": "#E5ECF6",
           "caxis": {
            "gridcolor": "white",
            "linecolor": "white",
            "ticks": ""
           }
          },
          "title": {
           "x": 0.05
          },
          "xaxis": {
           "automargin": true,
           "gridcolor": "white",
           "linecolor": "white",
           "ticks": "",
           "title": {
            "standoff": 15
           },
           "zerolinecolor": "white",
           "zerolinewidth": 2
          },
          "yaxis": {
           "automargin": true,
           "gridcolor": "white",
           "linecolor": "white",
           "ticks": "",
           "title": {
            "standoff": 15
           },
           "zerolinecolor": "white",
           "zerolinewidth": 2
          }
         }
        },
        "title": {
         "text": "Loan Status"
        }
       }
      },
      "image/png": "[encoded data removed]",
      "text/html": [
       "<div>                            <div id=\"91667786-177a-4691-9ea0-4115db776de9\" class=\"plotly-graph-div\" style=\"height:525px; width:100%;\"></div>            <script type=\"text/javascript\">                require([\"plotly\"], function(Plotly) {                    window.PLOTLYENV=window.PLOTLYENV || {};                                    if (document.getElementById(\"91667786-177a-4691-9ea0-4115db776de9\")) {                    Plotly.newPlot(                        \"91667786-177a-4691-9ea0-4115db776de9\",                        [{\"hoverinfo\":\"text\",\"marker\":{\"color\":\"blue\",\"opacity\":0.4,\"size\":5},\"mode\":\"markers\",\"name\":\"approved\",\"text\":[\"('Credit: 1.0', 'Education: Graduate', 'Property Area: Urban', 'Gender: Male', 'Married: No', 'Education: Graduate', 'Self-Employed: No')\",\"('Credit: 1.0', 'Education: Graduate', 'Property Area: Rural', 'Gender: Male', 'Married: Yes', 'Education: Graduate', 'Self-Employed: No')\",\"('Credit: 1.0', 'Education: Graduate', 'Property Area: Urban', 'Gender: Male', 'Married: Yes', 'Education: Graduate', 'Self-Employed: Yes')\",\"('Credit: 1.0', 'Education: Not Graduate', 'Property Area: Urban', 'Gender: Male', 'Married: Yes', 'Education: Not Graduate', 'Self-Employed: No')\",\"('Credit: 1.0', 'Education: Graduate', 'Property Area: Urban', 'Gender: Male', 'Married: No', 'Education: Graduate', 'Self-Employed: No')\",\"('Credit: 1.0', 'Education: Graduate', 'Property Area: Urban', 'Gender: Male', 'Married: Yes', 'Education: Graduate', 'Self-Employed: Yes')\",\"('Credit: 1.0', 'Education: Not Graduate', 'Property Area: Urban', 'Gender: Male', 'Married: Yes', 'Education: Not Graduate', 'Self-Employed: No')\",\"('Credit: 0.0', 'Education: Graduate', 'Property Area: Semiurban', 'Gender: Male', 'Married: Yes', 'Education: Graduate', 'Self-Employed: No')\",\"('Credit: 1.0', 'Education: Graduate', 'Property Area: Urban', 'Gender: Male', 'Married: Yes', 'Education: Graduate', 'Self-Employed: No')\",\"('Credit: 1.0', 'Education: Graduate', 'Property Area: Semiurban', 'Gender: Male', 'Married: Yes', 'Education: Graduate', 'Self-Employed: No')\",\"('Credit: 1.0', 'Education: Graduate', 'Property Area: Urban', 'Gender: Male', 'Married: Yes', 'Education: Graduate', 'Self-Employed: No')\",\"('Credit: 1.0', 'Education: Graduate', 'Property Area: Urban', 'Gender: Male', 'Married: Yes', 'Education: Graduate', 'Self-Employed: nan')\",\"('Credit: 1.0', 'Education: Graduate', 'Property Area: Urban', 'Gender: Male', 'Married: Yes', 'Education: Graduate', 'Self-Employed: No')\",\"('Credit: 1.0', 'Education: Graduate', 'Property Area: Rural', 'Gender: Male', 'Married: No', 'Education: Graduate', 'Self-Employed: No')\",\"('Credit: 1.0', 'Education: Graduate', 'Property Area: Urban', 'Gender: Male', 'Married: Yes', 'Education: Graduate', 'Self-Employed: No')\",\"('Credit: 1.0', 'Education: Graduate', 'Property Area: Urban', 'Gender: Male', 'Married: No', 'Education: Graduate', 'Self-Employed: No')\",\"('Credit: nan', 'Education: Not Graduate', 'Property Area: Urban', 'Gender: Male', 'Married: No', 'Education: Not Graduate', 'Self-Employed: No')\",\"('Credit: 0.0', 'Education: Graduate', 'Property Area: Urban', 'Gender: Female', 'Married: No', 'Education: Graduate', 'Self-Employed: No')\",\"('Credit: 1.0', 'Education: Not Graduate', 'Property Area: Rural', 'Gender: Male', 'Married: Yes', 'Education: Not Graduate', 'Self-Employed: No')\",\"('Credit: 1.0', 'Education: Graduate', 'Property Area: Urban', 'Gender: Male', 'Married: Yes', 'Education: Graduate', 'Self-Employed: nan')\",\"('Credit: 0.0', 'Education: Not Graduate', 'Property Area: Urban', 'Gender: Male', 'Married: Yes', 'Education: Not Graduate', 'Self-Employed: No')\",\"('Credit: 1.0', 'Education: Graduate', 'Property Area: Urban', 'Gender: Male', 'Married: Yes', 'Education: Graduate', 'Self-Employed: No')\",\"('Credit: 0.0', 'Education: Not Graduate', 'Property Area: Semiurban', 'Gender: Male', 'Married: Yes', 'Education: Not Graduate', 'Self-Employed: No')\",\"('Credit: 0.0', 'Education: Not Graduate', 'Property Area: Rural', 'Gender: nan', 'Married: Yes', 'Education: Not Graduate', 'Self-Employed: No')\",\"('Credit: nan', 'Education: Graduate', 'Property Area: Semiurban', 'Gender: Male', 'Married: Yes', 'Education: Graduate', 'Self-Employed: nan')\",\"('Credit: 1.0', 'Education: Graduate', 'Property Area: Semiurban', 'Gender: Male', 'Married: Yes', 'Education: Graduate', 'Self-Employed: Yes')\",\"('Credit: 1.0', 'Education: Graduate', 'Property Area: Semiurban', 'Gender: Male', 'Married: Yes', 'Education: Graduate', 'Self-Employed: No')\",\"('Credit: 1.0', 'Education: Not Graduate', 'Property Area: Urban', 'Gender: Male', 'Married: Yes', 'Education: Not Graduate', 'Self-Employed: No')\",\"('Credit: 1.0', 'Education: Not Graduate', 'Property Area: Urban', 'Gender: Male', 'Married: No', 'Education: Not Graduate', 'Self-Employed: No')\",\"('Credit: 1.0', 'Education: Graduate', 'Property Area: Semiurban', 'Gender: Female', 'Married: No', 'Education: Graduate', 'Self-Employed: nan')\",\"('Credit: nan', 'Education: Graduate', 'Property Area: Urban', 'Gender: Male', 'Married: Yes', 'Education: Graduate', 'Self-Employed: nan')\",\"('Credit: 1.0', 'Education: Graduate', 'Property Area: Urban', 'Gender: Male', 'Married: No', 'Education: Graduate', 'Self-Employed: No')\",\"('Credit: 1.0', 'Education: Graduate', 'Property Area: Rural', 'Gender: Male', 'Married: No', 'Education: Graduate', 'Self-Employed: Yes')\",\"('Credit: 1.0', 'Education: Graduate', 'Property Area: Semiurban', 'Gender: Male', 'Married: Yes', 'Education: Graduate', 'Self-Employed: No')\",\"('Credit: 1.0', 'Education: Graduate', 'Property Area: Rural', 'Gender: Male', 'Married: No', 'Education: Graduate', 'Self-Employed: No')\",\"('Credit: 1.0', 'Education: Graduate', 'Property Area: Urban', 'Gender: Male', 'Married: Yes', 'Education: Graduate', 'Self-Employed: No')\",\"('Credit: 0.0', 'Education: Graduate', 'Property Area: Urban', 'Gender: Male', 'Married: Yes', 'Education: Graduate', 'Self-Employed: No')\",\"('Credit: 1.0', 'Education: Graduate', 'Property Area: Semiurban', 'Gender: Female', 'Married: Yes', 'Education: Graduate', 'Self-Employed: No')\",\"('Credit: 1.0', 'Education: Graduate', 'Property Area: Urban', 'Gender: Male', 'Married: No', 'Education: Graduate', 'Self-Employed: No')\",\"('Credit: 1.0', 'Education: Not Graduate', 'Property Area: Semiurban', 'Gender: Male', 'Married: No', 'Education: Not Graduate', 'Self-Employed: No')\",\"('Credit: 1.0', 'Education: Graduate', 'Property Area: Urban', 'Gender: Male', 'Married: No', 'Education: Graduate', 'Self-Employed: No')\",\"('Credit: 1.0', 'Education: Graduate', 'Property Area: Urban', 'Gender: Male', 'Married: No', 'Education: Graduate', 'Self-Employed: No')\",\"('Credit: nan', 'Education: Graduate', 'Property Area: Urban', 'Gender: Male', 'Married: Yes', 'Education: Graduate', 'Self-Employed: No')\",\"('Credit: 1.0', 'Education: Graduate', 'Property Area: Semiurban', 'Gender: Male', 'Married: Yes', 'Education: Graduate', 'Self-Employed: No')\",\"('Credit: 1.0', 'Education: Not Graduate', 'Property Area: Urban', 'Gender: Male', 'Married: Yes', 'Education: Not Graduate', 'Self-Employed: Yes')\",\"('Credit: 1.0', 'Education: Graduate', 'Property Area: Urban', 'Gender: Female', 'Married: No', 'Education: Graduate', 'Self-Employed: No')\",\"('Credit: 1.0', 'Education: Graduate', 'Property Area: Urban', 'Gender: Male', 'Married: Yes', 'Education: Graduate', 'Self-Employed: No')\",\"('Credit: 1.0', 'Education: Graduate', 'Property Area: Urban', 'Gender: Male', 'Married: Yes', 'Education: Graduate', 'Self-Employed: No')\",\"('Credit: 0.0', 'Education: Graduate', 'Property Area: Urban', 'Gender: Female', 'Married: Yes', 'Education: Graduate', 'Self-Employed: No')\",\"('Credit: 1.0', 'Education: Graduate', 'Property Area: Semiurban', 'Gender: Female', 'Married: No', 'Education: Graduate', 'Self-Employed: No')\",\"('Credit: 1.0', 'Education: Not Graduate', 'Property Area: Semiurban', 'Gender: Female', 'Married: Yes', 'Education: Not Graduate', 'Self-Employed: No')\",\"('Credit: 1.0', 'Education: Graduate', 'Property Area: Semiurban', 'Gender: Female', 'Married: No', 'Education: Graduate', 'Self-Employed: No')\",\"('Credit: 1.0', 'Education: Graduate', 'Property Area: Semiurban', 'Gender: Female', 'Married: No', 'Education: Graduate', 'Self-Employed: No')\",\"('Credit: 1.0', 'Education: Graduate', 'Property Area: Urban', 'Gender: Male', 'Married: Yes', 'Education: Graduate', 'Self-Employed: No')\",\"('Credit: 0.0', 'Education: Graduate', 'Property Area: Urban', 'Gender: Female', 'Married: Yes', 'Education: Graduate', 'Self-Employed: Yes')\",\"('Credit: 1.0', 'Education: Graduate', 'Property Area: Semiurban', 'Gender: Male', 'Married: Yes', 'Education: Graduate', 'Self-Employed: No')\",\"('Credit: 1.0', 'Education: Graduate', 'Property Area: Semiurban', 'Gender: Male', 'Married: Yes', 'Education: Graduate', 'Self-Employed: No')\",\"('Credit: 1.0', 'Education: Graduate', 'Property Area: Rural', 'Gender: Male', 'Married: Yes', 'Education: Graduate', 'Self-Employed: No')\",\"('Credit: 1.0', 'Education: Graduate', 'Property Area: Urban', 'Gender: Male', 'Married: Yes', 'Education: Graduate', 'Self-Employed: No')\",\"('Credit: 1.0', 'Education: Not Graduate', 'Property Area: Urban', 'Gender: Male', 'Married: Yes', 'Education: Not Graduate', 'Self-Employed: No')\",\"('Credit: 1.0', 'Education: Graduate', 'Property Area: Urban', 'Gender: Male', 'Married: Yes', 'Education: Graduate', 'Self-Employed: No')\",\"('Credit: 1.0', 'Education: Graduate', 'Property Area: Urban', 'Gender: Male', 'Married: Yes', 'Education: Graduate', 'Self-Employed: No')\",\"('Credit: 0.0', 'Education: Not Graduate', 'Property Area: Rural', 'Gender: Male', 'Married: Yes', 'Education: Not Graduate', 'Self-Employed: Yes')\",\"('Credit: 0.0', 'Education: Graduate', 'Property Area: Rural', 'Gender: Male', 'Married: Yes', 'Education: Graduate', 'Self-Employed: No')\",\"('Credit: 0.0', 'Education: Graduate', 'Property Area: Semiurban', 'Gender: Female', 'Married: No', 'Education: Graduate', 'Self-Employed: No')\",\"('Credit: 1.0', 'Education: Graduate', 'Property Area: Semiurban', 'Gender: Male', 'Married: Yes', 'Education: Graduate', 'Self-Employed: No')\",\"('Credit: 0.0', 'Education: Not Graduate', 'Property Area: Urban', 'Gender: Male', 'Married: No', 'Education: Not Graduate', 'Self-Employed: No')\",\"('Credit: 1.0', 'Education: Graduate', 'Property Area: Urban', 'Gender: Male', 'Married: Yes', 'Education: Graduate', 'Self-Employed: No')\",\"('Credit: 1.0', 'Education: Not Graduate', 'Property Area: Urban', 'Gender: Male', 'Married: Yes', 'Education: Not Graduate', 'Self-Employed: Yes')\",\"('Credit: 0.0', 'Education: Graduate', 'Property Area: Semiurban', 'Gender: Female', 'Married: No', 'Education: Graduate', 'Self-Employed: No')\",\"('Credit: 1.0', 'Education: Graduate', 'Property Area: Urban', 'Gender: Male', 'Married: Yes', 'Education: Graduate', 'Self-Employed: No')\",\"('Credit: 1.0', 'Education: Not Graduate', 'Property Area: Semiurban', 'Gender: Male', 'Married: Yes', 'Education: Not Graduate', 'Self-Employed: Yes')\",\"('Credit: 1.0', 'Education: Graduate', 'Property Area: Semiurban', 'Gender: Male', 'Married: No', 'Education: Graduate', 'Self-Employed: No')\",\"('Credit: 0.0', 'Education: Not Graduate', 'Property Area: Semiurban', 'Gender: Male', 'Married: Yes', 'Education: Not Graduate', 'Self-Employed: No')\",\"('Credit: 1.0', 'Education: Graduate', 'Property Area: Semiurban', 'Gender: Male', 'Married: Yes', 'Education: Graduate', 'Self-Employed: Yes')\",\"('Credit: 1.0', 'Education: Graduate', 'Property Area: Urban', 'Gender: Male', 'Married: No', 'Education: Graduate', 'Self-Employed: No')\",\"('Credit: 1.0', 'Education: Graduate', 'Property Area: Urban', 'Gender: Male', 'Married: No', 'Education: Graduate', 'Self-Employed: No')\",\"('Credit: 1.0', 'Education: Graduate', 'Property Area: Urban', 'Gender: Male', 'Married: Yes', 'Education: Graduate', 'Self-Employed: Yes')\",\"('Credit: 0.0', 'Education: Graduate', 'Property Area: Semiurban', 'Gender: Male', 'Married: Yes', 'Education: Graduate', 'Self-Employed: No')\",\"('Credit: nan', 'Education: Not Graduate', 'Property Area: Semiurban', 'Gender: Male', 'Married: Yes', 'Education: Not Graduate', 'Self-Employed: Yes')\",\"('Credit: 1.0', 'Education: Graduate', 'Property Area: Semiurban', 'Gender: Female', 'Married: No', 'Education: Graduate', 'Self-Employed: No')\",\"('Credit: 1.0', 'Education: Graduate', 'Property Area: Semiurban', 'Gender: Male', 'Married: Yes', 'Education: Graduate', 'Self-Employed: Yes')\",\"('Credit: 1.0', 'Education: Graduate', 'Property Area: Urban', 'Gender: Female', 'Married: Yes', 'Education: Graduate', 'Self-Employed: No')\",\"('Credit: nan', 'Education: Graduate', 'Property Area: Semiurban', 'Gender: Male', 'Married: Yes', 'Education: Graduate', 'Self-Employed: No')\",\"('Credit: 1.0', 'Education: Graduate', 'Property Area: Urban', 'Gender: Male', 'Married: Yes', 'Education: Graduate', 'Self-Employed: No')\",\"('Credit: 1.0', 'Education: Graduate', 'Property Area: Semiurban', 'Gender: Male', 'Married: No', 'Education: Graduate', 'Self-Employed: No')\",\"('Credit: nan', 'Education: Not Graduate', 'Property Area: Semiurban', 'Gender: Male', 'Married: Yes', 'Education: Not Graduate', 'Self-Employed: No')\",\"('Credit: 1.0', 'Education: Graduate', 'Property Area: Semiurban', 'Gender: Male', 'Married: Yes', 'Education: Graduate', 'Self-Employed: No')\",\"('Credit: 1.0', 'Education: Graduate', 'Property Area: Urban', 'Gender: Male', 'Married: No', 'Education: Graduate', 'Self-Employed: No')\",\"('Credit: 1.0', 'Education: Graduate', 'Property Area: Semiurban', 'Gender: Male', 'Married: Yes', 'Education: Graduate', 'Self-Employed: No')\",\"('Credit: 1.0', 'Education: Graduate', 'Property Area: Semiurban', 'Gender: Male', 'Married: Yes', 'Education: Graduate', 'Self-Employed: No')\",\"('Credit: 1.0', 'Education: Graduate', 'Property Area: Semiurban', 'Gender: Male', 'Married: Yes', 'Education: Graduate', 'Self-Employed: No')\",\"('Credit: 1.0', 'Education: Not Graduate', 'Property Area: Urban', 'Gender: Male', 'Married: Yes', 'Education: Not Graduate', 'Self-Employed: No')\",\"('Credit: 1.0', 'Education: Graduate', 'Property Area: Semiurban', 'Gender: Male', 'Married: No', 'Education: Graduate', 'Self-Employed: No')\",\"('Credit: 1.0', 'Education: Not Graduate', 'Property Area: Semiurban', 'Gender: Male', 'Married: No', 'Education: Not Graduate', 'Self-Employed: No')\",\"('Credit: nan', 'Education: Graduate', 'Property Area: Urban', 'Gender: Male', 'Married: No', 'Education: Graduate', 'Self-Employed: nan')\",\"('Credit: 1.0', 'Education: Graduate', 'Property Area: Semiurban', 'Gender: Female', 'Married: Yes', 'Education: Graduate', 'Self-Employed: No')\",\"('Credit: 1.0', 'Education: Graduate', 'Property Area: Semiurban', 'Gender: Male', 'Married: Yes', 'Education: Graduate', 'Self-Employed: No')\",\"('Credit: 1.0', 'Education: Not Graduate', 'Property Area: Semiurban', 'Gender: Male', 'Married: Yes', 'Education: Not Graduate', 'Self-Employed: No')\",\"('Credit: 1.0', 'Education: Graduate', 'Property Area: Semiurban', 'Gender: Male', 'Married: Yes', 'Education: Graduate', 'Self-Employed: No')\",\"('Credit: 1.0', 'Education: Not Graduate', 'Property Area: Urban', 'Gender: Male', 'Married: Yes', 'Education: Not Graduate', 'Self-Employed: No')\",\"('Credit: 1.0', 'Education: Graduate', 'Property Area: Semiurban', 'Gender: Male', 'Married: No', 'Education: Graduate', 'Self-Employed: No')\",\"('Credit: 1.0', 'Education: Graduate', 'Property Area: Urban', 'Gender: Male', 'Married: Yes', 'Education: Graduate', 'Self-Employed: No')\",\"('Credit: 1.0', 'Education: Graduate', 'Property Area: Semiurban', 'Gender: Male', 'Married: Yes', 'Education: Graduate', 'Self-Employed: No')\",\"('Credit: 1.0', 'Education: Graduate', 'Property Area: Urban', 'Gender: Male', 'Married: nan', 'Education: Graduate', 'Self-Employed: No')\",\"('Credit: 1.0', 'Education: Graduate', 'Property Area: Urban', 'Gender: Male', 'Married: Yes', 'Education: Graduate', 'Self-Employed: No')\",\"('Credit: 1.0', 'Education: Graduate', 'Property Area: Urban', 'Gender: Male', 'Married: Yes', 'Education: Graduate', 'Self-Employed: No')\",\"('Credit: 1.0', 'Education: Not Graduate', 'Property Area: Rural', 'Gender: Male', 'Married: No', 'Education: Not Graduate', 'Self-Employed: nan')\",\"('Credit: 0.0', 'Education: Graduate', 'Property Area: Urban', 'Gender: Male', 'Married: Yes', 'Education: Graduate', 'Self-Employed: No')\",\"('Credit: 1.0', 'Education: Not Graduate', 'Property Area: Semiurban', 'Gender: Male', 'Married: Yes', 'Education: Not Graduate', 'Self-Employed: No')\",\"('Credit: 1.0', 'Education: Graduate', 'Property Area: Urban', 'Gender: Male', 'Married: No', 'Education: Graduate', 'Self-Employed: No')\",\"('Credit: 1.0', 'Education: Graduate', 'Property Area: Semiurban', 'Gender: Female', 'Married: Yes', 'Education: Graduate', 'Self-Employed: nan')\",\"('Credit: 0.0', 'Education: Not Graduate', 'Property Area: Rural', 'Gender: Male', 'Married: Yes', 'Education: Not Graduate', 'Self-Employed: No')\",\"('Credit: 1.0', 'Education: Graduate', 'Property Area: Semiurban', 'Gender: Female', 'Married: No', 'Education: Graduate', 'Self-Employed: Yes')\",\"('Credit: 1.0', 'Education: Graduate', 'Property Area: Semiurban', 'Gender: Male', 'Married: No', 'Education: Graduate', 'Self-Employed: nan')\",\"('Credit: 1.0', 'Education: Graduate', 'Property Area: Rural', 'Gender: Male', 'Married: Yes', 'Education: Graduate', 'Self-Employed: No')\",\"('Credit: 1.0', 'Education: Graduate', 'Property Area: Semiurban', 'Gender: Female', 'Married: Yes', 'Education: Graduate', 'Self-Employed: No')\",\"('Credit: nan', 'Education: Graduate', 'Property Area: Urban', 'Gender: Male', 'Married: Yes', 'Education: Graduate', 'Self-Employed: No')\",\"('Credit: 1.0', 'Education: Graduate', 'Property Area: Rural', 'Gender: Male', 'Married: Yes', 'Education: Graduate', 'Self-Employed: No')\",\"('Credit: 1.0', 'Education: Graduate', 'Property Area: Urban', 'Gender: Female', 'Married: No', 'Education: Graduate', 'Self-Employed: No')\",\"('Credit: 1.0', 'Education: Graduate', 'Property Area: Rural', 'Gender: Male', 'Married: Yes', 'Education: Graduate', 'Self-Employed: No')\",\"('Credit: 1.0', 'Education: Graduate', 'Property Area: Semiurban', 'Gender: Female', 'Married: No', 'Education: Graduate', 'Self-Employed: No')\",\"('Credit: 0.0', 'Education: Graduate', 'Property Area: Semiurban', 'Gender: Female', 'Married: No', 'Education: Graduate', 'Self-Employed: No')\",\"('Credit: 1.0', 'Education: Graduate', 'Property Area: Semiurban', 'Gender: Male', 'Married: Yes', 'Education: Graduate', 'Self-Employed: No')\",\"('Credit: 1.0', 'Education: Not Graduate', 'Property Area: Rural', 'Gender: Male', 'Married: Yes', 'Education: Not Graduate', 'Self-Employed: No')\",\"('Credit: nan', 'Education: Graduate', 'Property Area: Rural', 'Gender: Female', 'Married: No', 'Education: Graduate', 'Self-Employed: No')\",\"('Credit: 1.0', 'Education: Graduate', 'Property Area: Rural', 'Gender: nan', 'Married: Yes', 'Education: Graduate', 'Self-Employed: No')\",\"('Credit: 1.0', 'Education: Graduate', 'Property Area: Rural', 'Gender: Male', 'Married: No', 'Education: Graduate', 'Self-Employed: No')\",\"('Credit: 0.0', 'Education: Graduate', 'Property Area: Urban', 'Gender: Male', 'Married: Yes', 'Education: Graduate', 'Self-Employed: Yes')\",\"('Credit: nan', 'Education: Graduate', 'Property Area: Rural', 'Gender: Male', 'Married: Yes', 'Education: Graduate', 'Self-Employed: No')\",\"('Credit: nan', 'Education: Graduate', 'Property Area: Urban', 'Gender: Male', 'Married: No', 'Education: Graduate', 'Self-Employed: Yes')\",\"('Credit: 1.0', 'Education: Graduate', 'Property Area: Urban', 'Gender: Male', 'Married: No', 'Education: Graduate', 'Self-Employed: No')\",\"('Credit: 1.0', 'Education: Graduate', 'Property Area: Semiurban', 'Gender: Male', 'Married: No', 'Education: Graduate', 'Self-Employed: No')\",\"('Credit: 1.0', 'Education: Graduate', 'Property Area: Semiurban', 'Gender: Male', 'Married: Yes', 'Education: Graduate', 'Self-Employed: Yes')\",\"('Credit: 1.0', 'Education: Graduate', 'Property Area: Semiurban', 'Gender: Male', 'Married: No', 'Education: Graduate', 'Self-Employed: No')\",\"('Credit: 1.0', 'Education: Graduate', 'Property Area: Semiurban', 'Gender: Male', 'Married: Yes', 'Education: Graduate', 'Self-Employed: No')\",\"('Credit: 1.0', 'Education: Graduate', 'Property Area: Rural', 'Gender: Female', 'Married: Yes', 'Education: Graduate', 'Self-Employed: No')\",\"('Credit: 1.0', 'Education: Graduate', 'Property Area: Urban', 'Gender: Male', 'Married: Yes', 'Education: Graduate', 'Self-Employed: Yes')\",\"('Credit: 0.0', 'Education: Graduate', 'Property Area: Semiurban', 'Gender: Male', 'Married: No', 'Education: Graduate', 'Self-Employed: No')\",\"('Credit: 1.0', 'Education: Not Graduate', 'Property Area: Rural', 'Gender: Male', 'Married: Yes', 'Education: Not Graduate', 'Self-Employed: No')\",\"('Credit: 1.0', 'Education: Graduate', 'Property Area: Rural', 'Gender: Male', 'Married: Yes', 'Education: Graduate', 'Self-Employed: No')\",\"('Credit: 1.0', 'Education: Graduate', 'Property Area: Urban', 'Gender: Male', 'Married: No', 'Education: Graduate', 'Self-Employed: No')\",\"('Credit: 1.0', 'Education: Graduate', 'Property Area: Semiurban', 'Gender: Male', 'Married: No', 'Education: Graduate', 'Self-Employed: Yes')\",\"('Credit: 1.0', 'Education: Graduate', 'Property Area: Semiurban', 'Gender: Male', 'Married: Yes', 'Education: Graduate', 'Self-Employed: No')\",\"('Credit: 1.0', 'Education: Graduate', 'Property Area: Urban', 'Gender: Male', 'Married: Yes', 'Education: Graduate', 'Self-Employed: No')\",\"('Credit: 1.0', 'Education: Graduate', 'Property Area: Semiurban', 'Gender: Female', 'Married: Yes', 'Education: Graduate', 'Self-Employed: No')\",\"('Credit: 1.0', 'Education: Graduate', 'Property Area: Urban', 'Gender: Female', 'Married: Yes', 'Education: Graduate', 'Self-Employed: No')\",\"('Credit: 1.0', 'Education: Graduate', 'Property Area: Urban', 'Gender: Male', 'Married: Yes', 'Education: Graduate', 'Self-Employed: No')\",\"('Credit: 1.0', 'Education: Graduate', 'Property Area: Rural', 'Gender: Female', 'Married: No', 'Education: Graduate', 'Self-Employed: No')\",\"('Credit: 1.0', 'Education: Graduate', 'Property Area: Semiurban', 'Gender: Male', 'Married: Yes', 'Education: Graduate', 'Self-Employed: No')\",\"('Credit: 0.0', 'Education: Graduate', 'Property Area: Rural', 'Gender: Male', 'Married: No', 'Education: Graduate', 'Self-Employed: No')\",\"('Credit: 1.0', 'Education: Graduate', 'Property Area: Rural', 'Gender: Male', 'Married: Yes', 'Education: Graduate', 'Self-Employed: Yes')\",\"('Credit: 1.0', 'Education: Graduate', 'Property Area: Urban', 'Gender: Male', 'Married: No', 'Education: Graduate', 'Self-Employed: No')\",\"('Credit: 1.0', 'Education: Not Graduate', 'Property Area: Rural', 'Gender: Male', 'Married: Yes', 'Education: Not Graduate', 'Self-Employed: No')\",\"('Credit: 1.0', 'Education: Graduate', 'Property Area: Urban', 'Gender: Male', 'Married: No', 'Education: Graduate', 'Self-Employed: No')\",\"('Credit: 0.0', 'Education: Graduate', 'Property Area: Semiurban', 'Gender: Male', 'Married: Yes', 'Education: Graduate', 'Self-Employed: No')\",\"('Credit: nan', 'Education: Graduate', 'Property Area: Rural', 'Gender: Male', 'Married: Yes', 'Education: Graduate', 'Self-Employed: No')\",\"('Credit: 1.0', 'Education: Graduate', 'Property Area: Urban', 'Gender: Male', 'Married: Yes', 'Education: Graduate', 'Self-Employed: No')\",\"('Credit: 1.0', 'Education: Graduate', 'Property Area: Rural', 'Gender: Male', 'Married: No', 'Education: Graduate', 'Self-Employed: nan')\",\"('Credit: 1.0', 'Education: Graduate', 'Property Area: Semiurban', 'Gender: Male', 'Married: Yes', 'Education: Graduate', 'Self-Employed: No')\",\"('Credit: 1.0', 'Education: Not Graduate', 'Property Area: Semiurban', 'Gender: Male', 'Married: Yes', 'Education: Not Graduate', 'Self-Employed: No')\",\"('Credit: 1.0', 'Education: Graduate', 'Property Area: Urban', 'Gender: Male', 'Married: Yes', 'Education: Graduate', 'Self-Employed: No')\",\"('Credit: 0.0', 'Education: Graduate', 'Property Area: Semiurban', 'Gender: Male', 'Married: Yes', 'Education: Graduate', 'Self-Employed: No')\",\"('Credit: 1.0', 'Education: Graduate', 'Property Area: Rural', 'Gender: Male', 'Married: Yes', 'Education: Graduate', 'Self-Employed: No')\",\"('Credit: 1.0', 'Education: Graduate', 'Property Area: Urban', 'Gender: Male', 'Married: Yes', 'Education: Graduate', 'Self-Employed: No')\",\"('Credit: 1.0', 'Education: Graduate', 'Property Area: Rural', 'Gender: Male', 'Married: Yes', 'Education: Graduate', 'Self-Employed: No')\",\"('Credit: 1.0', 'Education: Graduate', 'Property Area: Rural', 'Gender: Female', 'Married: Yes', 'Education: Graduate', 'Self-Employed: No')\",\"('Credit: 1.0', 'Education: Graduate', 'Property Area: Rural', 'Gender: Male', 'Married: Yes', 'Education: Graduate', 'Self-Employed: No')\",\"('Credit: 0.0', 'Education: Graduate', 'Property Area: Semiurban', 'Gender: Male', 'Married: No', 'Education: Graduate', 'Self-Employed: No')\",\"('Credit: 1.0', 'Education: Graduate', 'Property Area: Semiurban', 'Gender: Male', 'Married: Yes', 'Education: Graduate', 'Self-Employed: No')\",\"('Credit: 1.0', 'Education: Not Graduate', 'Property Area: Rural', 'Gender: Male', 'Married: Yes', 'Education: Not Graduate', 'Self-Employed: nan')\",\"('Credit: 1.0', 'Education: Graduate', 'Property Area: Urban', 'Gender: nan', 'Married: Yes', 'Education: Graduate', 'Self-Employed: No')\",\"('Credit: 1.0', 'Education: Not Graduate', 'Property Area: Rural', 'Gender: Male', 'Married: Yes', 'Education: Not Graduate', 'Self-Employed: No')\",\"('Credit: 1.0', 'Education: Graduate', 'Property Area: Semiurban', 'Gender: Male', 'Married: Yes', 'Education: Graduate', 'Self-Employed: No')\",\"('Credit: 1.0', 'Education: Not Graduate', 'Property Area: Semiurban', 'Gender: Male', 'Married: Yes', 'Education: Not Graduate', 'Self-Employed: Yes')\",\"('Credit: 1.0', 'Education: Graduate', 'Property Area: Rural', 'Gender: Male', 'Married: Yes', 'Education: Graduate', 'Self-Employed: No')\",\"('Credit: 1.0', 'Education: Graduate', 'Property Area: Rural', 'Gender: Male', 'Married: Yes', 'Education: Graduate', 'Self-Employed: No')\",\"('Credit: 0.0', 'Education: Graduate', 'Property Area: Semiurban', 'Gender: Male', 'Married: Yes', 'Education: Graduate', 'Self-Employed: No')\",\"('Credit: 1.0', 'Education: Graduate', 'Property Area: Semiurban', 'Gender: Male', 'Married: Yes', 'Education: Graduate', 'Self-Employed: No')\",\"('Credit: 0.0', 'Education: Not Graduate', 'Property Area: Urban', 'Gender: Male', 'Married: No', 'Education: Not Graduate', 'Self-Employed: No')\",\"('Credit: 0.0', 'Education: Graduate', 'Property Area: Urban', 'Gender: Male', 'Married: Yes', 'Education: Graduate', 'Self-Employed: No')\",\"('Credit: nan', 'Education: Graduate', 'Property Area: Rural', 'Gender: Male', 'Married: No', 'Education: Graduate', 'Self-Employed: No')\",\"('Credit: 1.0', 'Education: Graduate', 'Property Area: Semiurban', 'Gender: Male', 'Married: Yes', 'Education: Graduate', 'Self-Employed: No')\",\"('Credit: 1.0', 'Education: Graduate', 'Property Area: Semiurban', 'Gender: Male', 'Married: Yes', 'Education: Graduate', 'Self-Employed: No')\",\"('Credit: 1.0', 'Education: Graduate', 'Property Area: Semiurban', 'Gender: Female', 'Married: Yes', 'Education: Graduate', 'Self-Employed: No')\",\"('Credit: 1.0', 'Education: Graduate', 'Property Area: Semiurban', 'Gender: Male', 'Married: Yes', 'Education: Graduate', 'Self-Employed: Yes')\",\"('Credit: 0.0', 'Education: Graduate', 'Property Area: Rural', 'Gender: Male', 'Married: Yes', 'Education: Graduate', 'Self-Employed: Yes')\",\"('Credit: nan', 'Education: Graduate', 'Property Area: Rural', 'Gender: Male', 'Married: Yes', 'Education: Graduate', 'Self-Employed: No')\",\"('Credit: 1.0', 'Education: Graduate', 'Property Area: Rural', 'Gender: nan', 'Married: Yes', 'Education: Graduate', 'Self-Employed: Yes')\",\"('Credit: 1.0', 'Education: Graduate', 'Property Area: Rural', 'Gender: Male', 'Married: Yes', 'Education: Graduate', 'Self-Employed: No')\",\"('Credit: 1.0', 'Education: Not Graduate', 'Property Area: Rural', 'Gender: Male', 'Married: No', 'Education: Not Graduate', 'Self-Employed: No')\",\"('Credit: 1.0', 'Education: Graduate', 'Property Area: Semiurban', 'Gender: Male', 'Married: No', 'Education: Graduate', 'Self-Employed: No')\",\"('Credit: 1.0', 'Education: Not Graduate', 'Property Area: Urban', 'Gender: Male', 'Married: Yes', 'Education: Not Graduate', 'Self-Employed: No')\",\"('Credit: 1.0', 'Education: Graduate', 'Property Area: Semiurban', 'Gender: Male', 'Married: No', 'Education: Graduate', 'Self-Employed: No')\",\"('Credit: 1.0', 'Education: Graduate', 'Property Area: Rural', 'Gender: Male', 'Married: No', 'Education: Graduate', 'Self-Employed: No')\",\"('Credit: 1.0', 'Education: Graduate', 'Property Area: Semiurban', 'Gender: Male', 'Married: Yes', 'Education: Graduate', 'Self-Employed: No')\",\"('Credit: 1.0', 'Education: Graduate', 'Property Area: Rural', 'Gender: Male', 'Married: No', 'Education: Graduate', 'Self-Employed: No')\",\"('Credit: 1.0', 'Education: Not Graduate', 'Property Area: Urban', 'Gender: Female', 'Married: No', 'Education: Not Graduate', 'Self-Employed: No')\",\"('Credit: nan', 'Education: Graduate', 'Property Area: Semiurban', 'Gender: Female', 'Married: Yes', 'Education: Graduate', 'Self-Employed: No')\",\"('Credit: 1.0', 'Education: Graduate', 'Property Area: Urban', 'Gender: Male', 'Married: No', 'Education: Graduate', 'Self-Employed: Yes')\",\"('Credit: 1.0', 'Education: Not Graduate', 'Property Area: Semiurban', 'Gender: Male', 'Married: Yes', 'Education: Not Graduate', 'Self-Employed: No')\",\"('Credit: 0.0', 'Education: Graduate', 'Property Area: Semiurban', 'Gender: Male', 'Married: No', 'Education: Graduate', 'Self-Employed: No')\",\"('Credit: 1.0', 'Education: Not Graduate', 'Property Area: Urban', 'Gender: Male', 'Married: Yes', 'Education: Not Graduate', 'Self-Employed: No')\",\"('Credit: 1.0', 'Education: Not Graduate', 'Property Area: Urban', 'Gender: Male', 'Married: Yes', 'Education: Not Graduate', 'Self-Employed: No')\",\"('Credit: 1.0', 'Education: Not Graduate', 'Property Area: Semiurban', 'Gender: Male', 'Married: Yes', 'Education: Not Graduate', 'Self-Employed: No')\",\"('Credit: 1.0', 'Education: Not Graduate', 'Property Area: Semiurban', 'Gender: Female', 'Married: No', 'Education: Not Graduate', 'Self-Employed: No')\",\"('Credit: 1.0', 'Education: Graduate', 'Property Area: Urban', 'Gender: Female', 'Married: No', 'Education: Graduate', 'Self-Employed: No')\",\"('Credit: 1.0', 'Education: Not Graduate', 'Property Area: Rural', 'Gender: Male', 'Married: No', 'Education: Not Graduate', 'Self-Employed: No')\",\"('Credit: 1.0', 'Education: Graduate', 'Property Area: Urban', 'Gender: Male', 'Married: No', 'Education: Graduate', 'Self-Employed: No')\",\"('Credit: 1.0', 'Education: Graduate', 'Property Area: Semiurban', 'Gender: Male', 'Married: No', 'Education: Graduate', 'Self-Employed: No')\",\"('Credit: 1.0', 'Education: Graduate', 'Property Area: Semiurban', 'Gender: Female', 'Married: No', 'Education: Graduate', 'Self-Employed: No')\",\"('Credit: 0.0', 'Education: Graduate', 'Property Area: Semiurban', 'Gender: Male', 'Married: Yes', 'Education: Graduate', 'Self-Employed: No')\",\"('Credit: 1.0', 'Education: Graduate', 'Property Area: Urban', 'Gender: Male', 'Married: Yes', 'Education: Graduate', 'Self-Employed: Yes')\",\"('Credit: 1.0', 'Education: Not Graduate', 'Property Area: Rural', 'Gender: Male', 'Married: Yes', 'Education: Not Graduate', 'Self-Employed: Yes')\",\"('Credit: 1.0', 'Education: Graduate', 'Property Area: Urban', 'Gender: Male', 'Married: Yes', 'Education: Graduate', 'Self-Employed: No')\",\"('Credit: 1.0', 'Education: Not Graduate', 'Property Area: Semiurban', 'Gender: Male', 'Married: Yes', 'Education: Not Graduate', 'Self-Employed: No')\",\"('Credit: 1.0', 'Education: Graduate', 'Property Area: Rural', 'Gender: Male', 'Married: Yes', 'Education: Graduate', 'Self-Employed: No')\",\"('Credit: 1.0', 'Education: Graduate', 'Property Area: Semiurban', 'Gender: Male', 'Married: Yes', 'Education: Graduate', 'Self-Employed: No')\",\"('Credit: 0.0', 'Education: Graduate', 'Property Area: Semiurban', 'Gender: Male', 'Married: Yes', 'Education: Graduate', 'Self-Employed: nan')\",\"('Credit: nan', 'Education: Graduate', 'Property Area: Semiurban', 'Gender: Female', 'Married: Yes', 'Education: Graduate', 'Self-Employed: No')\",\"('Credit: 0.0', 'Education: Graduate', 'Property Area: Urban', 'Gender: Male', 'Married: Yes', 'Education: Graduate', 'Self-Employed: No')\",\"('Credit: 1.0', 'Education: Graduate', 'Property Area: Semiurban', 'Gender: Male', 'Married: Yes', 'Education: Graduate', 'Self-Employed: No')\",\"('Credit: 1.0', 'Education: Graduate', 'Property Area: Semiurban', 'Gender: Male', 'Married: No', 'Education: Graduate', 'Self-Employed: No')\",\"('Credit: 1.0', 'Education: Graduate', 'Property Area: Semiurban', 'Gender: Male', 'Married: Yes', 'Education: Graduate', 'Self-Employed: No')\",\"('Credit: 1.0', 'Education: Graduate', 'Property Area: Semiurban', 'Gender: Male', 'Married: Yes', 'Education: Graduate', 'Self-Employed: No')\",\"('Credit: 1.0', 'Education: Graduate', 'Property Area: Rural', 'Gender: Male', 'Married: Yes', 'Education: Graduate', 'Self-Employed: No')\",\"('Credit: 1.0', 'Education: Not Graduate', 'Property Area: Urban', 'Gender: Male', 'Married: Yes', 'Education: Not Graduate', 'Self-Employed: Yes')\",\"('Credit: 1.0', 'Education: Graduate', 'Property Area: Semiurban', 'Gender: Male', 'Married: Yes', 'Education: Graduate', 'Self-Employed: No')\",\"('Credit: 1.0', 'Education: Graduate', 'Property Area: Semiurban', 'Gender: Male', 'Married: nan', 'Education: Graduate', 'Self-Employed: No')\",\"('Credit: 1.0', 'Education: Graduate', 'Property Area: Rural', 'Gender: Male', 'Married: No', 'Education: Graduate', 'Self-Employed: Yes')\",\"('Credit: 1.0', 'Education: Graduate', 'Property Area: Semiurban', 'Gender: Male', 'Married: Yes', 'Education: Graduate', 'Self-Employed: No')\",\"('Credit: 1.0', 'Education: Graduate', 'Property Area: Rural', 'Gender: Male', 'Married: Yes', 'Education: Graduate', 'Self-Employed: nan')\",\"('Credit: 1.0', 'Education: Not Graduate', 'Property Area: Rural', 'Gender: Male', 'Married: No', 'Education: Not Graduate', 'Self-Employed: No')\",\"('Credit: 1.0', 'Education: Graduate', 'Property Area: Semiurban', 'Gender: Female', 'Married: No', 'Education: Graduate', 'Self-Employed: No')\",\"('Credit: 1.0', 'Education: Graduate', 'Property Area: Semiurban', 'Gender: Male', 'Married: Yes', 'Education: Graduate', 'Self-Employed: No')\",\"('Credit: 1.0', 'Education: Graduate', 'Property Area: Rural', 'Gender: Male', 'Married: Yes', 'Education: Graduate', 'Self-Employed: No')\",\"('Credit: nan', 'Education: Graduate', 'Property Area: Urban', 'Gender: Male', 'Married: Yes', 'Education: Graduate', 'Self-Employed: nan')\",\"('Credit: nan', 'Education: Graduate', 'Property Area: Urban', 'Gender: Female', 'Married: No', 'Education: Graduate', 'Self-Employed: Yes')\",\"('Credit: 1.0', 'Education: Graduate', 'Property Area: Rural', 'Gender: Female', 'Married: No', 'Education: Graduate', 'Self-Employed: No')\",\"('Credit: 1.0', 'Education: Graduate', 'Property Area: Semiurban', 'Gender: Male', 'Married: Yes', 'Education: Graduate', 'Self-Employed: No')\",\"('Credit: 1.0', 'Education: Graduate', 'Property Area: Rural', 'Gender: Male', 'Married: Yes', 'Education: Graduate', 'Self-Employed: No')\",\"('Credit: 1.0', 'Education: Not Graduate', 'Property Area: Urban', 'Gender: Male', 'Married: Yes', 'Education: Not Graduate', 'Self-Employed: No')\",\"('Credit: 1.0', 'Education: Graduate', 'Property Area: Urban', 'Gender: Male', 'Married: No', 'Education: Graduate', 'Self-Employed: No')\",\"('Credit: 1.0', 'Education: Graduate', 'Property Area: Rural', 'Gender: Male', 'Married: Yes', 'Education: Graduate', 'Self-Employed: Yes')\",\"('Credit: 1.0', 'Education: Not Graduate', 'Property Area: Semiurban', 'Gender: Male', 'Married: Yes', 'Education: Not Graduate', 'Self-Employed: No')\",\"('Credit: 1.0', 'Education: Graduate', 'Property Area: Urban', 'Gender: Male', 'Married: No', 'Education: Graduate', 'Self-Employed: Yes')\",\"('Credit: 1.0', 'Education: Graduate', 'Property Area: Urban', 'Gender: Male', 'Married: Yes', 'Education: Graduate', 'Self-Employed: No')\",\"('Credit: 1.0', 'Education: Not Graduate', 'Property Area: Urban', 'Gender: Male', 'Married: Yes', 'Education: Not Graduate', 'Self-Employed: No')\",\"('Credit: 1.0', 'Education: Graduate', 'Property Area: Semiurban', 'Gender: Male', 'Married: Yes', 'Education: Graduate', 'Self-Employed: No')\",\"('Credit: 1.0', 'Education: Graduate', 'Property Area: Urban', 'Gender: Male', 'Married: Yes', 'Education: Graduate', 'Self-Employed: No')\",\"('Credit: 0.0', 'Education: Not Graduate', 'Property Area: Semiurban', 'Gender: Male', 'Married: Yes', 'Education: Not Graduate', 'Self-Employed: No')\",\"('Credit: 1.0', 'Education: Graduate', 'Property Area: Urban', 'Gender: Female', 'Married: No', 'Education: Graduate', 'Self-Employed: No')\",\"('Credit: 1.0', 'Education: Not Graduate', 'Property Area: Rural', 'Gender: Male', 'Married: No', 'Education: Not Graduate', 'Self-Employed: Yes')\",\"('Credit: 1.0', 'Education: Not Graduate', 'Property Area: Semiurban', 'Gender: Male', 'Married: Yes', 'Education: Not Graduate', 'Self-Employed: No')\",\"('Credit: 0.0', 'Education: Graduate', 'Property Area: Urban', 'Gender: Male', 'Married: No', 'Education: Graduate', 'Self-Employed: Yes')\",\"('Credit: 1.0', 'Education: Graduate', 'Property Area: Rural', 'Gender: Female', 'Married: No', 'Education: Graduate', 'Self-Employed: No')\",\"('Credit: 0.0', 'Education: Not Graduate', 'Property Area: Rural', 'Gender: Male', 'Married: No', 'Education: Not Graduate', 'Self-Employed: No')\",\"('Credit: 1.0', 'Education: Graduate', 'Property Area: Urban', 'Gender: Male', 'Married: Yes', 'Education: Graduate', 'Self-Employed: No')\",\"('Credit: 1.0', 'Education: Graduate', 'Property Area: Rural', 'Gender: Male', 'Married: Yes', 'Education: Graduate', 'Self-Employed: No')\",\"('Credit: nan', 'Education: Not Graduate', 'Property Area: Semiurban', 'Gender: Male', 'Married: Yes', 'Education: Not Graduate', 'Self-Employed: No')\",\"('Credit: nan', 'Education: Graduate', 'Property Area: Urban', 'Gender: Male', 'Married: Yes', 'Education: Graduate', 'Self-Employed: No')\",\"('Credit: 1.0', 'Education: Graduate', 'Property Area: Semiurban', 'Gender: Male', 'Married: No', 'Education: Graduate', 'Self-Employed: No')\",\"('Credit: 1.0', 'Education: Graduate', 'Property Area: Semiurban', 'Gender: Female', 'Married: No', 'Education: Graduate', 'Self-Employed: No')\",\"('Credit: 1.0', 'Education: Graduate', 'Property Area: Rural', 'Gender: Female', 'Married: No', 'Education: Graduate', 'Self-Employed: No')\",\"('Credit: 1.0', 'Education: Graduate', 'Property Area: Semiurban', 'Gender: Male', 'Married: No', 'Education: Graduate', 'Self-Employed: Yes')\",\"('Credit: 1.0', 'Education: Graduate', 'Property Area: Rural', 'Gender: Male', 'Married: No', 'Education: Graduate', 'Self-Employed: No')\",\"('Credit: 1.0', 'Education: Graduate', 'Property Area: Semiurban', 'Gender: Male', 'Married: Yes', 'Education: Graduate', 'Self-Employed: No')\",\"('Credit: 0.0', 'Education: Graduate', 'Property Area: Urban', 'Gender: Male', 'Married: Yes', 'Education: Graduate', 'Self-Employed: No')\",\"('Credit: 1.0', 'Education: Graduate', 'Property Area: Rural', 'Gender: Female', 'Married: No', 'Education: Graduate', 'Self-Employed: nan')\",\"('Credit: 1.0', 'Education: Graduate', 'Property Area: Urban', 'Gender: Female', 'Married: No', 'Education: Graduate', 'Self-Employed: No')\",\"('Credit: 1.0', 'Education: Graduate', 'Property Area: Urban', 'Gender: Female', 'Married: No', 'Education: Graduate', 'Self-Employed: No')\",\"('Credit: 1.0', 'Education: Graduate', 'Property Area: Urban', 'Gender: Male', 'Married: Yes', 'Education: Graduate', 'Self-Employed: No')\",\"('Credit: 1.0', 'Education: Graduate', 'Property Area: Rural', 'Gender: Male', 'Married: No', 'Education: Graduate', 'Self-Employed: No')\",\"('Credit: 1.0', 'Education: Graduate', 'Property Area: Semiurban', 'Gender: Male', 'Married: Yes', 'Education: Graduate', 'Self-Employed: No')\",\"('Credit: 1.0', 'Education: Graduate', 'Property Area: Semiurban', 'Gender: Male', 'Married: Yes', 'Education: Graduate', 'Self-Employed: No')\",\"('Credit: 1.0', 'Education: Graduate', 'Property Area: Semiurban', 'Gender: Male', 'Married: Yes', 'Education: Graduate', 'Self-Employed: No')\",\"('Credit: 1.0', 'Education: Graduate', 'Property Area: Semiurban', 'Gender: Male', 'Married: Yes', 'Education: Graduate', 'Self-Employed: No')\",\"('Credit: 1.0', 'Education: Graduate', 'Property Area: Urban', 'Gender: Male', 'Married: Yes', 'Education: Graduate', 'Self-Employed: No')\",\"('Credit: 1.0', 'Education: Graduate', 'Property Area: Semiurban', 'Gender: Male', 'Married: Yes', 'Education: Graduate', 'Self-Employed: No')\",\"('Credit: nan', 'Education: Not Graduate', 'Property Area: Rural', 'Gender: Female', 'Married: Yes', 'Education: Not Graduate', 'Self-Employed: No')\",\"('Credit: 0.0', 'Education: Not Graduate', 'Property Area: Urban', 'Gender: Male', 'Married: No', 'Education: Not Graduate', 'Self-Employed: Yes')\",\"('Credit: 1.0', 'Education: Graduate', 'Property Area: Semiurban', 'Gender: Male', 'Married: Yes', 'Education: Graduate', 'Self-Employed: No')\",\"('Credit: 1.0', 'Education: Graduate', 'Property Area: Urban', 'Gender: Male', 'Married: Yes', 'Education: Graduate', 'Self-Employed: No')\",\"('Credit: 1.0', 'Education: Graduate', 'Property Area: Urban', 'Gender: Female', 'Married: No', 'Education: Graduate', 'Self-Employed: No')\",\"('Credit: 1.0', 'Education: Graduate', 'Property Area: Rural', 'Gender: Male', 'Married: Yes', 'Education: Graduate', 'Self-Employed: No')\",\"('Credit: 1.0', 'Education: Graduate', 'Property Area: Rural', 'Gender: Male', 'Married: No', 'Education: Graduate', 'Self-Employed: No')\",\"('Credit: 1.0', 'Education: Graduate', 'Property Area: Semiurban', 'Gender: Female', 'Married: No', 'Education: Graduate', 'Self-Employed: Yes')\",\"('Credit: 1.0', 'Education: Graduate', 'Property Area: Rural', 'Gender: Male', 'Married: Yes', 'Education: Graduate', 'Self-Employed: No')\",\"('Credit: 1.0', 'Education: Graduate', 'Property Area: Semiurban', 'Gender: Female', 'Married: No', 'Education: Graduate', 'Self-Employed: No')\",\"('Credit: 1.0', 'Education: Graduate', 'Property Area: Rural', 'Gender: Male', 'Married: No', 'Education: Graduate', 'Self-Employed: No')\",\"('Credit: 1.0', 'Education: Graduate', 'Property Area: Rural', 'Gender: Male', 'Married: Yes', 'Education: Graduate', 'Self-Employed: No')\",\"('Credit: 0.0', 'Education: Graduate', 'Property Area: Semiurban', 'Gender: Male', 'Married: Yes', 'Education: Graduate', 'Self-Employed: No')\",\"('Credit: 1.0', 'Education: Graduate', 'Property Area: Urban', 'Gender: Male', 'Married: Yes', 'Education: Graduate', 'Self-Employed: No')\",\"('Credit: 0.0', 'Education: Graduate', 'Property Area: Urban', 'Gender: Female', 'Married: No', 'Education: Graduate', 'Self-Employed: No')\",\"('Credit: 1.0', 'Education: Graduate', 'Property Area: Semiurban', 'Gender: Male', 'Married: Yes', 'Education: Graduate', 'Self-Employed: No')\",\"('Credit: 1.0', 'Education: Graduate', 'Property Area: Urban', 'Gender: Male', 'Married: Yes', 'Education: Graduate', 'Self-Employed: nan')\",\"('Credit: 1.0', 'Education: Graduate', 'Property Area: Semiurban', 'Gender: Male', 'Married: Yes', 'Education: Graduate', 'Self-Employed: No')\",\"('Credit: 1.0', 'Education: Graduate', 'Property Area: Urban', 'Gender: Female', 'Married: Yes', 'Education: Graduate', 'Self-Employed: No')\",\"('Credit: 1.0', 'Education: Graduate', 'Property Area: Rural', 'Gender: Female', 'Married: No', 'Education: Graduate', 'Self-Employed: No')\",\"('Credit: 1.0', 'Education: Graduate', 'Property Area: Urban', 'Gender: Male', 'Married: Yes', 'Education: Graduate', 'Self-Employed: No')\",\"('Credit: 0.0', 'Education: Not Graduate', 'Property Area: Urban', 'Gender: Male', 'Married: Yes', 'Education: Not Graduate', 'Self-Employed: No')\",\"('Credit: 1.0', 'Education: Not Graduate', 'Property Area: Semiurban', 'Gender: Male', 'Married: Yes', 'Education: Not Graduate', 'Self-Employed: No')\",\"('Credit: 1.0', 'Education: Graduate', 'Property Area: Rural', 'Gender: Female', 'Married: No', 'Education: Graduate', 'Self-Employed: No')\",\"('Credit: 1.0', 'Education: Graduate', 'Property Area: Urban', 'Gender: Male', 'Married: Yes', 'Education: Graduate', 'Self-Employed: No')\",\"('Credit: 1.0', 'Education: Graduate', 'Property Area: Rural', 'Gender: Male', 'Married: No', 'Education: Graduate', 'Self-Employed: No')\",\"('Credit: 1.0', 'Education: Not Graduate', 'Property Area: Urban', 'Gender: Male', 'Married: No', 'Education: Not Graduate', 'Self-Employed: No')\",\"('Credit: 1.0', 'Education: Graduate', 'Property Area: Rural', 'Gender: Female', 'Married: No', 'Education: Graduate', 'Self-Employed: No')\",\"('Credit: 0.0', 'Education: Graduate', 'Property Area: Urban', 'Gender: Female', 'Married: No', 'Education: Graduate', 'Self-Employed: No')\",\"('Credit: 1.0', 'Education: Graduate', 'Property Area: Rural', 'Gender: Male', 'Married: No', 'Education: Graduate', 'Self-Employed: No')\",\"('Credit: nan', 'Education: Not Graduate', 'Property Area: Rural', 'Gender: Male', 'Married: Yes', 'Education: Not Graduate', 'Self-Employed: No')\",\"('Credit: 1.0', 'Education: Graduate', 'Property Area: Semiurban', 'Gender: Female', 'Married: No', 'Education: Graduate', 'Self-Employed: No')\",\"('Credit: 1.0', 'Education: Not Graduate', 'Property Area: Semiurban', 'Gender: Male', 'Married: No', 'Education: Not Graduate', 'Self-Employed: No')\",\"('Credit: 1.0', 'Education: Graduate', 'Property Area: Rural', 'Gender: Female', 'Married: No', 'Education: Graduate', 'Self-Employed: No')\",\"('Credit: nan', 'Education: Graduate', 'Property Area: Rural', 'Gender: Male', 'Married: Yes', 'Education: Graduate', 'Self-Employed: Yes')\",\"('Credit: 1.0', 'Education: Graduate', 'Property Area: Rural', 'Gender: nan', 'Married: Yes', 'Education: Graduate', 'Self-Employed: No')\",\"('Credit: 1.0', 'Education: Not Graduate', 'Property Area: Urban', 'Gender: Male', 'Married: Yes', 'Education: Not Graduate', 'Self-Employed: No')\",\"('Credit: 1.0', 'Education: Graduate', 'Property Area: Semiurban', 'Gender: Male', 'Married: Yes', 'Education: Graduate', 'Self-Employed: No')\",\"('Credit: nan', 'Education: Graduate', 'Property Area: Urban', 'Gender: Male', 'Married: Yes', 'Education: Graduate', 'Self-Employed: No')\",\"('Credit: nan', 'Education: Graduate', 'Property Area: Semiurban', 'Gender: Female', 'Married: No', 'Education: Graduate', 'Self-Employed: No')\",\"('Credit: 1.0', 'Education: Graduate', 'Property Area: Rural', 'Gender: Male', 'Married: Yes', 'Education: Graduate', 'Self-Employed: Yes')\",\"('Credit: 1.0', 'Education: Graduate', 'Property Area: Semiurban', 'Gender: Male', 'Married: Yes', 'Education: Graduate', 'Self-Employed: No')\",\"('Credit: 1.0', 'Education: Graduate', 'Property Area: Semiurban', 'Gender: Male', 'Married: Yes', 'Education: Graduate', 'Self-Employed: No')\",\"('Credit: 1.0', 'Education: Not Graduate', 'Property Area: Rural', 'Gender: Male', 'Married: Yes', 'Education: Not Graduate', 'Self-Employed: No')\",\"('Credit: nan', 'Education: Graduate', 'Property Area: Rural', 'Gender: Female', 'Married: No', 'Education: Graduate', 'Self-Employed: No')\",\"('Credit: 1.0', 'Education: Graduate', 'Property Area: Rural', 'Gender: Male', 'Married: Yes', 'Education: Graduate', 'Self-Employed: No')\",\"('Credit: 0.0', 'Education: Graduate', 'Property Area: Rural', 'Gender: Male', 'Married: Yes', 'Education: Graduate', 'Self-Employed: Yes')\",\"('Credit: 0.0', 'Education: Graduate', 'Property Area: Rural', 'Gender: Male', 'Married: No', 'Education: Graduate', 'Self-Employed: No')\",\"('Credit: 1.0', 'Education: Graduate', 'Property Area: Semiurban', 'Gender: Male', 'Married: Yes', 'Education: Graduate', 'Self-Employed: Yes')\",\"('Credit: 1.0', 'Education: Graduate', 'Property Area: Urban', 'Gender: Female', 'Married: Yes', 'Education: Graduate', 'Self-Employed: No')\",\"('Credit: 1.0', 'Education: Graduate', 'Property Area: Urban', 'Gender: Female', 'Married: No', 'Education: Graduate', 'Self-Employed: No')\",\"('Credit: 1.0', 'Education: Graduate', 'Property Area: Urban', 'Gender: Male', 'Married: No', 'Education: Graduate', 'Self-Employed: No')\",\"('Credit: 1.0', 'Education: Graduate', 'Property Area: Semiurban', 'Gender: Male', 'Married: No', 'Education: Graduate', 'Self-Employed: No')\",\"('Credit: 1.0', 'Education: Graduate', 'Property Area: Urban', 'Gender: Male', 'Married: No', 'Education: Graduate', 'Self-Employed: No')\",\"('Credit: 1.0', 'Education: Graduate', 'Property Area: Urban', 'Gender: Male', 'Married: Yes', 'Education: Graduate', 'Self-Employed: nan')\",\"('Credit: 1.0', 'Education: Graduate', 'Property Area: Urban', 'Gender: nan', 'Married: Yes', 'Education: Graduate', 'Self-Employed: Yes')\",\"('Credit: 1.0', 'Education: Graduate', 'Property Area: Semiurban', 'Gender: Male', 'Married: Yes', 'Education: Graduate', 'Self-Employed: Yes')\",\"('Credit: 1.0', 'Education: Graduate', 'Property Area: Rural', 'Gender: Male', 'Married: Yes', 'Education: Graduate', 'Self-Employed: nan')\",\"('Credit: 1.0', 'Education: Graduate', 'Property Area: Rural', 'Gender: Male', 'Married: Yes', 'Education: Graduate', 'Self-Employed: Yes')\",\"('Credit: 0.0', 'Education: Not Graduate', 'Property Area: Urban', 'Gender: Female', 'Married: No', 'Education: Not Graduate', 'Self-Employed: No')\",\"('Credit: 1.0', 'Education: Graduate', 'Property Area: Semiurban', 'Gender: Female', 'Married: No', 'Education: Graduate', 'Self-Employed: No')\",\"('Credit: 1.0', 'Education: Not Graduate', 'Property Area: Rural', 'Gender: Male', 'Married: Yes', 'Education: Not Graduate', 'Self-Employed: No')\",\"('Credit: 1.0', 'Education: Graduate', 'Property Area: Rural', 'Gender: Female', 'Married: No', 'Education: Graduate', 'Self-Employed: No')\",\"('Credit: 1.0', 'Education: Not Graduate', 'Property Area: Urban', 'Gender: Male', 'Married: Yes', 'Education: Not Graduate', 'Self-Employed: No')\",\"('Credit: 1.0', 'Education: Not Graduate', 'Property Area: Semiurban', 'Gender: Male', 'Married: Yes', 'Education: Not Graduate', 'Self-Employed: No')\",\"('Credit: 1.0', 'Education: Graduate', 'Property Area: Rural', 'Gender: Male', 'Married: Yes', 'Education: Graduate', 'Self-Employed: nan')\",\"('Credit: 1.0', 'Education: Graduate', 'Property Area: Semiurban', 'Gender: Male', 'Married: Yes', 'Education: Graduate', 'Self-Employed: No')\",\"('Credit: 0.0', 'Education: Not Graduate', 'Property Area: Rural', 'Gender: Male', 'Married: Yes', 'Education: Not Graduate', 'Self-Employed: No')\",\"('Credit: 1.0', 'Education: Not Graduate', 'Property Area: Urban', 'Gender: Male', 'Married: Yes', 'Education: Not Graduate', 'Self-Employed: No')\",\"('Credit: nan', 'Education: Graduate', 'Property Area: Semiurban', 'Gender: Male', 'Married: Yes', 'Education: Graduate', 'Self-Employed: No')\",\"('Credit: 1.0', 'Education: Graduate', 'Property Area: Rural', 'Gender: Male', 'Married: Yes', 'Education: Graduate', 'Self-Employed: No')\",\"('Credit: 1.0', 'Education: Graduate', 'Property Area: Semiurban', 'Gender: Male', 'Married: Yes', 'Education: Graduate', 'Self-Employed: No')\",\"('Credit: 1.0', 'Education: Graduate', 'Property Area: Rural', 'Gender: Male', 'Married: No', 'Education: Graduate', 'Self-Employed: No')\",\"('Credit: 1.0', 'Education: Graduate', 'Property Area: Rural', 'Gender: Male', 'Married: Yes', 'Education: Graduate', 'Self-Employed: No')\",\"('Credit: 0.0', 'Education: Graduate', 'Property Area: Rural', 'Gender: Female', 'Married: Yes', 'Education: Graduate', 'Self-Employed: Yes')\",\"('Credit: 1.0', 'Education: Graduate', 'Property Area: Semiurban', 'Gender: Female', 'Married: Yes', 'Education: Graduate', 'Self-Employed: No')\",\"('Credit: 1.0', 'Education: Graduate', 'Property Area: Urban', 'Gender: Female', 'Married: No', 'Education: Graduate', 'Self-Employed: No')\",\"('Credit: 1.0', 'Education: Graduate', 'Property Area: Rural', 'Gender: Male', 'Married: Yes', 'Education: Graduate', 'Self-Employed: No')\",\"('Credit: 1.0', 'Education: Graduate', 'Property Area: Urban', 'Gender: Male', 'Married: Yes', 'Education: Graduate', 'Self-Employed: No')\",\"('Credit: 0.0', 'Education: Not Graduate', 'Property Area: Urban', 'Gender: Male', 'Married: Yes', 'Education: Not Graduate', 'Self-Employed: No')\",\"('Credit: 1.0', 'Education: Graduate', 'Property Area: Semiurban', 'Gender: Male', 'Married: Yes', 'Education: Graduate', 'Self-Employed: No')\",\"('Credit: 1.0', 'Education: Graduate', 'Property Area: Semiurban', 'Gender: Female', 'Married: No', 'Education: Graduate', 'Self-Employed: No')\",\"('Credit: 1.0', 'Education: Graduate', 'Property Area: Semiurban', 'Gender: Male', 'Married: Yes', 'Education: Graduate', 'Self-Employed: No')\",\"('Credit: 1.0', 'Education: Graduate', 'Property Area: Urban', 'Gender: Male', 'Married: Yes', 'Education: Graduate', 'Self-Employed: No')\",\"('Credit: nan', 'Education: Graduate', 'Property Area: Urban', 'Gender: Male', 'Married: Yes', 'Education: Graduate', 'Self-Employed: No')\",\"('Credit: 1.0', 'Education: Graduate', 'Property Area: Rural', 'Gender: Male', 'Married: No', 'Education: Graduate', 'Self-Employed: Yes')\",\"('Credit: 1.0', 'Education: Not Graduate', 'Property Area: Rural', 'Gender: Male', 'Married: No', 'Education: Not Graduate', 'Self-Employed: No')\",\"('Credit: 1.0', 'Education: Graduate', 'Property Area: Semiurban', 'Gender: Male', 'Married: No', 'Education: Graduate', 'Self-Employed: No')\",\"('Credit: 0.0', 'Education: Graduate', 'Property Area: Rural', 'Gender: Male', 'Married: No', 'Education: Graduate', 'Self-Employed: No')\",\"('Credit: 1.0', 'Education: Graduate', 'Property Area: Semiurban', 'Gender: Male', 'Married: Yes', 'Education: Graduate', 'Self-Employed: No')\",\"('Credit: 1.0', 'Education: Graduate', 'Property Area: Rural', 'Gender: Male', 'Married: Yes', 'Education: Graduate', 'Self-Employed: No')\",\"('Credit: 1.0', 'Education: Graduate', 'Property Area: Semiurban', 'Gender: Female', 'Married: No', 'Education: Graduate', 'Self-Employed: Yes')\",\"('Credit: 1.0', 'Education: Graduate', 'Property Area: Semiurban', 'Gender: Male', 'Married: Yes', 'Education: Graduate', 'Self-Employed: No')\",\"('Credit: 1.0', 'Education: Graduate', 'Property Area: Rural', 'Gender: Male', 'Married: Yes', 'Education: Graduate', 'Self-Employed: Yes')\",\"('Credit: 0.0', 'Education: Graduate', 'Property Area: Urban', 'Gender: Male', 'Married: No', 'Education: Graduate', 'Self-Employed: No')\",\"('Credit: 1.0', 'Education: Graduate', 'Property Area: Urban', 'Gender: Female', 'Married: No', 'Education: Graduate', 'Self-Employed: nan')\",\"('Credit: 1.0', 'Education: Graduate', 'Property Area: Urban', 'Gender: Male', 'Married: Yes', 'Education: Graduate', 'Self-Employed: No')\",\"('Credit: 1.0', 'Education: Graduate', 'Property Area: Rural', 'Gender: Male', 'Married: Yes', 'Education: Graduate', 'Self-Employed: No')\",\"('Credit: nan', 'Education: Graduate', 'Property Area: Semiurban', 'Gender: Male', 'Married: Yes', 'Education: Graduate', 'Self-Employed: No')\",\"('Credit: 1.0', 'Education: Graduate', 'Property Area: Urban', 'Gender: Male', 'Married: No', 'Education: Graduate', 'Self-Employed: No')\",\"('Credit: 1.0', 'Education: Graduate', 'Property Area: Urban', 'Gender: Male', 'Married: Yes', 'Education: Graduate', 'Self-Employed: No')\",\"('Credit: 1.0', 'Education: Graduate', 'Property Area: Semiurban', 'Gender: Male', 'Married: Yes', 'Education: Graduate', 'Self-Employed: nan')\",\"('Credit: 1.0', 'Education: Graduate', 'Property Area: Semiurban', 'Gender: Male', 'Married: No', 'Education: Graduate', 'Self-Employed: No')\",\"('Credit: 1.0', 'Education: Graduate', 'Property Area: Urban', 'Gender: Female', 'Married: No', 'Education: Graduate', 'Self-Employed: No')\",\"('Credit: 1.0', 'Education: Graduate', 'Property Area: Urban', 'Gender: Male', 'Married: No', 'Education: Graduate', 'Self-Employed: Yes')\",\"('Credit: 1.0', 'Education: Graduate', 'Property Area: Urban', 'Gender: Male', 'Married: Yes', 'Education: Graduate', 'Self-Employed: No')\",\"('Credit: 1.0', 'Education: Graduate', 'Property Area: Urban', 'Gender: Male', 'Married: No', 'Education: Graduate', 'Self-Employed: nan')\",\"('Credit: 1.0', 'Education: Not Graduate', 'Property Area: Semiurban', 'Gender: Male', 'Married: No', 'Education: Not Graduate', 'Self-Employed: No')\",\"('Credit: 0.0', 'Education: Not Graduate', 'Property Area: Urban', 'Gender: Male', 'Married: Yes', 'Education: Not Graduate', 'Self-Employed: No')\",\"('Credit: 1.0', 'Education: Graduate', 'Property Area: Urban', 'Gender: Male', 'Married: Yes', 'Education: Graduate', 'Self-Employed: No')\",\"('Credit: 1.0', 'Education: Graduate', 'Property Area: Rural', 'Gender: Male', 'Married: Yes', 'Education: Graduate', 'Self-Employed: No')\",\"('Credit: 1.0', 'Education: Graduate', 'Property Area: Rural', 'Gender: Male', 'Married: No', 'Education: Graduate', 'Self-Employed: No')\",\"('Credit: 1.0', 'Education: Graduate', 'Property Area: Rural', 'Gender: Male', 'Married: Yes', 'Education: Graduate', 'Self-Employed: No')\",\"('Credit: nan', 'Education: Graduate', 'Property Area: Urban', 'Gender: Male', 'Married: Yes', 'Education: Graduate', 'Self-Employed: No')\",\"('Credit: 1.0', 'Education: Not Graduate', 'Property Area: Semiurban', 'Gender: Male', 'Married: Yes', 'Education: Not Graduate', 'Self-Employed: No')\",\"('Credit: 1.0', 'Education: Graduate', 'Property Area: Urban', 'Gender: Male', 'Married: Yes', 'Education: Graduate', 'Self-Employed: No')\",\"('Credit: nan', 'Education: Graduate', 'Property Area: Semiurban', 'Gender: Male', 'Married: Yes', 'Education: Graduate', 'Self-Employed: No')\",\"('Credit: 0.0', 'Education: Graduate', 'Property Area: Urban', 'Gender: Female', 'Married: No', 'Education: Graduate', 'Self-Employed: No')\",\"('Credit: 1.0', 'Education: Graduate', 'Property Area: Urban', 'Gender: Male', 'Married: Yes', 'Education: Graduate', 'Self-Employed: No')\",\"('Credit: 1.0', 'Education: Not Graduate', 'Property Area: Rural', 'Gender: Male', 'Married: No', 'Education: Not Graduate', 'Self-Employed: No')\",\"('Credit: 0.0', 'Education: Graduate', 'Property Area: Semiurban', 'Gender: Female', 'Married: No', 'Education: Graduate', 'Self-Employed: No')\",\"('Credit: 0.0', 'Education: Not Graduate', 'Property Area: Urban', 'Gender: Male', 'Married: Yes', 'Education: Not Graduate', 'Self-Employed: No')\",\"('Credit: 1.0', 'Education: Not Graduate', 'Property Area: Rural', 'Gender: Male', 'Married: No', 'Education: Not Graduate', 'Self-Employed: No')\",\"('Credit: 1.0', 'Education: Graduate', 'Property Area: Semiurban', 'Gender: Male', 'Married: No', 'Education: Graduate', 'Self-Employed: No')\",\"('Credit: 1.0', 'Education: Not Graduate', 'Property Area: Semiurban', 'Gender: Female', 'Married: No', 'Education: Not Graduate', 'Self-Employed: No')\",\"('Credit: 1.0', 'Education: Graduate', 'Property Area: Rural', 'Gender: Female', 'Married: No', 'Education: Graduate', 'Self-Employed: Yes')\",\"('Credit: 1.0', 'Education: Graduate', 'Property Area: Semiurban', 'Gender: Female', 'Married: No', 'Education: Graduate', 'Self-Employed: No')\",\"('Credit: 1.0', 'Education: Not Graduate', 'Property Area: Urban', 'Gender: Male', 'Married: Yes', 'Education: Not Graduate', 'Self-Employed: No')\",\"('Credit: 1.0', 'Education: Not Graduate', 'Property Area: Rural', 'Gender: Female', 'Married: No', 'Education: Not Graduate', 'Self-Employed: No')\",\"('Credit: 0.0', 'Education: Graduate', 'Property Area: Semiurban', 'Gender: Male', 'Married: Yes', 'Education: Graduate', 'Self-Employed: No')\",\"('Credit: 0.0', 'Education: Graduate', 'Property Area: Rural', 'Gender: Male', 'Married: Yes', 'Education: Graduate', 'Self-Employed: No')\",\"('Credit: 1.0', 'Education: Not Graduate', 'Property Area: Semiurban', 'Gender: Female', 'Married: No', 'Education: Not Graduate', 'Self-Employed: Yes')\",\"('Credit: nan', 'Education: Graduate', 'Property Area: Urban', 'Gender: Male', 'Married: Yes', 'Education: Graduate', 'Self-Employed: nan')\",\"('Credit: 0.0', 'Education: Not Graduate', 'Property Area: Rural', 'Gender: Male', 'Married: Yes', 'Education: Not Graduate', 'Self-Employed: No')\",\"('Credit: 1.0', 'Education: Not Graduate', 'Property Area: Rural', 'Gender: Male', 'Married: Yes', 'Education: Not Graduate', 'Self-Employed: No')\",\"('Credit: 0.0', 'Education: Not Graduate', 'Property Area: Semiurban', 'Gender: Female', 'Married: Yes', 'Education: Not Graduate', 'Self-Employed: No')\",\"('Credit: 1.0', 'Education: Graduate', 'Property Area: Urban', 'Gender: Female', 'Married: No', 'Education: Graduate', 'Self-Employed: No')\",\"('Credit: 1.0', 'Education: Graduate', 'Property Area: Urban', 'Gender: Female', 'Married: No', 'Education: Graduate', 'Self-Employed: No')\",\"('Credit: 1.0', 'Education: Graduate', 'Property Area: Urban', 'Gender: Male', 'Married: Yes', 'Education: Graduate', 'Self-Employed: Yes')\",\"('Credit: 1.0', 'Education: Graduate', 'Property Area: Rural', 'Gender: Male', 'Married: Yes', 'Education: Graduate', 'Self-Employed: No')\",\"('Credit: 1.0', 'Education: Graduate', 'Property Area: Semiurban', 'Gender: Male', 'Married: Yes', 'Education: Graduate', 'Self-Employed: No')\",\"('Credit: 1.0', 'Education: Graduate', 'Property Area: Rural', 'Gender: Male', 'Married: Yes', 'Education: Graduate', 'Self-Employed: No')\",\"('Credit: 0.0', 'Education: Not Graduate', 'Property Area: Urban', 'Gender: Female', 'Married: No', 'Education: Not Graduate', 'Self-Employed: No')\",\"('Credit: 1.0', 'Education: Graduate', 'Property Area: Urban', 'Gender: Male', 'Married: Yes', 'Education: Graduate', 'Self-Employed: No')\",\"('Credit: 0.0', 'Education: Graduate', 'Property Area: Urban', 'Gender: Male', 'Married: Yes', 'Education: Graduate', 'Self-Employed: No')\",\"('Credit: 1.0', 'Education: Graduate', 'Property Area: Semiurban', 'Gender: Male', 'Married: Yes', 'Education: Graduate', 'Self-Employed: No')\",\"('Credit: 1.0', 'Education: Graduate', 'Property Area: Rural', 'Gender: Male', 'Married: Yes', 'Education: Graduate', 'Self-Employed: No')\",\"('Credit: 1.0', 'Education: Not Graduate', 'Property Area: Rural', 'Gender: Female', 'Married: No', 'Education: Not Graduate', 'Self-Employed: No')\",\"('Credit: 1.0', 'Education: Graduate', 'Property Area: Semiurban', 'Gender: Male', 'Married: Yes', 'Education: Graduate', 'Self-Employed: No')\",\"('Credit: 1.0', 'Education: Graduate', 'Property Area: Rural', 'Gender: Male', 'Married: Yes', 'Education: Graduate', 'Self-Employed: No')\",\"('Credit: 1.0', 'Education: Not Graduate', 'Property Area: Urban', 'Gender: Male', 'Married: No', 'Education: Not Graduate', 'Self-Employed: No')\",\"('Credit: 1.0', 'Education: Graduate', 'Property Area: Semiurban', 'Gender: Female', 'Married: No', 'Education: Graduate', 'Self-Employed: Yes')\",\"('Credit: 0.0', 'Education: Graduate', 'Property Area: Rural', 'Gender: Male', 'Married: No', 'Education: Graduate', 'Self-Employed: No')\",\"('Credit: 1.0', 'Education: Graduate', 'Property Area: Semiurban', 'Gender: Male', 'Married: No', 'Education: Graduate', 'Self-Employed: nan')\",\"('Credit: 1.0', 'Education: Graduate', 'Property Area: Semiurban', 'Gender: Male', 'Married: Yes', 'Education: Graduate', 'Self-Employed: No')\",\"('Credit: 1.0', 'Education: Graduate', 'Property Area: Urban', 'Gender: Male', 'Married: No', 'Education: Graduate', 'Self-Employed: No')\",\"('Credit: 1.0', 'Education: Graduate', 'Property Area: Semiurban', 'Gender: Female', 'Married: nan', 'Education: Graduate', 'Self-Employed: No')\",\"('Credit: 1.0', 'Education: Graduate', 'Property Area: Semiurban', 'Gender: Male', 'Married: No', 'Education: Graduate', 'Self-Employed: No')\",\"('Credit: 1.0', 'Education: Graduate', 'Property Area: Urban', 'Gender: Male', 'Married: Yes', 'Education: Graduate', 'Self-Employed: No')\",\"('Credit: 0.0', 'Education: Graduate', 'Property Area: Urban', 'Gender: Male', 'Married: No', 'Education: Graduate', 'Self-Employed: Yes')\",\"('Credit: 1.0', 'Education: Not Graduate', 'Property Area: Rural', 'Gender: Female', 'Married: Yes', 'Education: Not Graduate', 'Self-Employed: Yes')\",\"('Credit: 1.0', 'Education: Graduate', 'Property Area: Semiurban', 'Gender: Male', 'Married: No', 'Education: Graduate', 'Self-Employed: No')\",\"('Credit: 1.0', 'Education: Graduate', 'Property Area: Rural', 'Gender: Male', 'Married: Yes', 'Education: Graduate', 'Self-Employed: No')\",\"('Credit: 1.0', 'Education: Not Graduate', 'Property Area: Semiurban', 'Gender: Male', 'Married: No', 'Education: Not Graduate', 'Self-Employed: No')\",\"('Credit: 1.0', 'Education: Graduate', 'Property Area: Semiurban', 'Gender: Male', 'Married: No', 'Education: Graduate', 'Self-Employed: No')\",\"('Credit: nan', 'Education: Graduate', 'Property Area: Rural', 'Gender: Male', 'Married: Yes', 'Education: Graduate', 'Self-Employed: No')\",\"('Credit: 1.0', 'Education: Graduate', 'Property Area: Rural', 'Gender: Male', 'Married: Yes', 'Education: Graduate', 'Self-Employed: Yes')\",\"('Credit: 1.0', 'Education: Not Graduate', 'Property Area: Rural', 'Gender: Male', 'Married: Yes', 'Education: Not Graduate', 'Self-Employed: No')\",\"('Credit: 1.0', 'Education: Graduate', 'Property Area: Rural', 'Gender: Male', 'Married: Yes', 'Education: Graduate', 'Self-Employed: nan')\",\"('Credit: 0.0', 'Education: Graduate', 'Property Area: Rural', 'Gender: Male', 'Married: Yes', 'Education: Graduate', 'Self-Employed: No')\",\"('Credit: nan', 'Education: Not Graduate', 'Property Area: Semiurban', 'Gender: Male', 'Married: No', 'Education: Not Graduate', 'Self-Employed: Yes')\",\"('Credit: 0.0', 'Education: Not Graduate', 'Property Area: Rural', 'Gender: Male', 'Married: Yes', 'Education: Not Graduate', 'Self-Employed: No')\",\"('Credit: nan', 'Education: Not Graduate', 'Property Area: Urban', 'Gender: Male', 'Married: Yes', 'Education: Not Graduate', 'Self-Employed: No')\",\"('Credit: 0.0', 'Education: Graduate', 'Property Area: Rural', 'Gender: Male', 'Married: Yes', 'Education: Graduate', 'Self-Employed: No')\",\"('Credit: 0.0', 'Education: Graduate', 'Property Area: Rural', 'Gender: Male', 'Married: Yes', 'Education: Graduate', 'Self-Employed: No')\",\"('Credit: 1.0', 'Education: Graduate', 'Property Area: Semiurban', 'Gender: Male', 'Married: No', 'Education: Graduate', 'Self-Employed: Yes')\",\"('Credit: 1.0', 'Education: Graduate', 'Property Area: Semiurban', 'Gender: Male', 'Married: Yes', 'Education: Graduate', 'Self-Employed: No')\",\"('Credit: 1.0', 'Education: Graduate', 'Property Area: Urban', 'Gender: Male', 'Married: Yes', 'Education: Graduate', 'Self-Employed: No')\",\"('Credit: 1.0', 'Education: Graduate', 'Property Area: Urban', 'Gender: Male', 'Married: Yes', 'Education: Graduate', 'Self-Employed: No')\",\"('Credit: 1.0', 'Education: Graduate', 'Property Area: Rural', 'Gender: Male', 'Married: No', 'Education: Graduate', 'Self-Employed: No')\",\"('Credit: 1.0', 'Education: Graduate', 'Property Area: Semiurban', 'Gender: Male', 'Married: Yes', 'Education: Graduate', 'Self-Employed: No')\",\"('Credit: nan', 'Education: Graduate', 'Property Area: Semiurban', 'Gender: nan', 'Married: Yes', 'Education: Graduate', 'Self-Employed: Yes')\",\"('Credit: 1.0', 'Education: Graduate', 'Property Area: Urban', 'Gender: Male', 'Married: Yes', 'Education: Graduate', 'Self-Employed: No')\",\"('Credit: 1.0', 'Education: Graduate', 'Property Area: Rural', 'Gender: Male', 'Married: Yes', 'Education: Graduate', 'Self-Employed: No')\",\"('Credit: 1.0', 'Education: Not Graduate', 'Property Area: Semiurban', 'Gender: Female', 'Married: No', 'Education: Not Graduate', 'Self-Employed: nan')\",\"('Credit: 0.0', 'Education: Graduate', 'Property Area: Semiurban', 'Gender: Male', 'Married: No', 'Education: Graduate', 'Self-Employed: No')\",\"('Credit: 1.0', 'Education: Graduate', 'Property Area: Rural', 'Gender: Male', 'Married: No', 'Education: Graduate', 'Self-Employed: No')\",\"('Credit: 0.0', 'Education: Not Graduate', 'Property Area: Urban', 'Gender: Male', 'Married: Yes', 'Education: Not Graduate', 'Self-Employed: No')\",\"('Credit: 1.0', 'Education: Graduate', 'Property Area: Semiurban', 'Gender: nan', 'Married: Yes', 'Education: Graduate', 'Self-Employed: No')\",\"('Credit: 1.0', 'Education: Not Graduate', 'Property Area: Semiurban', 'Gender: Female', 'Married: Yes', 'Education: Not Graduate', 'Self-Employed: nan')\",\"('Credit: 1.0', 'Education: Graduate', 'Property Area: Urban', 'Gender: Male', 'Married: Yes', 'Education: Graduate', 'Self-Employed: No')\",\"('Credit: 1.0', 'Education: Graduate', 'Property Area: Semiurban', 'Gender: Male', 'Married: Yes', 'Education: Graduate', 'Self-Employed: Yes')\",\"('Credit: 0.0', 'Education: Not Graduate', 'Property Area: Rural', 'Gender: Male', 'Married: Yes', 'Education: Not Graduate', 'Self-Employed: No')\",\"('Credit: 1.0', 'Education: Graduate', 'Property Area: Semiurban', 'Gender: Male', 'Married: Yes', 'Education: Graduate', 'Self-Employed: No')\",\"('Credit: nan', 'Education: Graduate', 'Property Area: Urban', 'Gender: Female', 'Married: No', 'Education: Graduate', 'Self-Employed: Yes')\",\"('Credit: 1.0', 'Education: Graduate', 'Property Area: Rural', 'Gender: Male', 'Married: No', 'Education: Graduate', 'Self-Employed: No')\",\"('Credit: 1.0', 'Education: Graduate', 'Property Area: Rural', 'Gender: Male', 'Married: Yes', 'Education: Graduate', 'Self-Employed: Yes')\",\"('Credit: 1.0', 'Education: Graduate', 'Property Area: Semiurban', 'Gender: Male', 'Married: Yes', 'Education: Graduate', 'Self-Employed: No')\",\"('Credit: 0.0', 'Education: Graduate', 'Property Area: Semiurban', 'Gender: nan', 'Married: Yes', 'Education: Graduate', 'Self-Employed: No')\",\"('Credit: 1.0', 'Education: Graduate', 'Property Area: Semiurban', 'Gender: Male', 'Married: Yes', 'Education: Graduate', 'Self-Employed: Yes')\",\"('Credit: 1.0', 'Education: Graduate', 'Property Area: Urban', 'Gender: Male', 'Married: Yes', 'Education: Graduate', 'Self-Employed: No')\",\"('Credit: 1.0', 'Education: Not Graduate', 'Property Area: Rural', 'Gender: Female', 'Married: No', 'Education: Not Graduate', 'Self-Employed: No')\",\"('Credit: 1.0', 'Education: Not Graduate', 'Property Area: Rural', 'Gender: Male', 'Married: Yes', 'Education: Not Graduate', 'Self-Employed: No')\",\"('Credit: 1.0', 'Education: Graduate', 'Property Area: Semiurban', 'Gender: Male', 'Married: Yes', 'Education: Graduate', 'Self-Employed: No')\",\"('Credit: 1.0', 'Education: Graduate', 'Property Area: Semiurban', 'Gender: Male', 'Married: Yes', 'Education: Graduate', 'Self-Employed: No')\",\"('Credit: 1.0', 'Education: Graduate', 'Property Area: Semiurban', 'Gender: Male', 'Married: Yes', 'Education: Graduate', 'Self-Employed: No')\",\"('Credit: 1.0', 'Education: Not Graduate', 'Property Area: Rural', 'Gender: Male', 'Married: Yes', 'Education: Not Graduate', 'Self-Employed: No')\",\"('Credit: 0.0', 'Education: Graduate', 'Property Area: Rural', 'Gender: Male', 'Married: No', 'Education: Graduate', 'Self-Employed: No')\",\"('Credit: 1.0', 'Education: Graduate', 'Property Area: Urban', 'Gender: Male', 'Married: Yes', 'Education: Graduate', 'Self-Employed: No')\",\"('Credit: 1.0', 'Education: Graduate', 'Property Area: Semiurban', 'Gender: Male', 'Married: Yes', 'Education: Graduate', 'Self-Employed: Yes')\",\"('Credit: 1.0', 'Education: Graduate', 'Property Area: Urban', 'Gender: Male', 'Married: No', 'Education: Graduate', 'Self-Employed: No')\",\"('Credit: nan', 'Education: Not Graduate', 'Property Area: Semiurban', 'Gender: Male', 'Married: No', 'Education: Not Graduate', 'Self-Employed: No')\",\"('Credit: nan', 'Education: Not Graduate', 'Property Area: Urban', 'Gender: Male', 'Married: Yes', 'Education: Not Graduate', 'Self-Employed: No')\",\"('Credit: 1.0', 'Education: Not Graduate', 'Property Area: Rural', 'Gender: Male', 'Married: No', 'Education: Not Graduate', 'Self-Employed: No')\",\"('Credit: 1.0', 'Education: Not Graduate', 'Property Area: Semiurban', 'Gender: Female', 'Married: No', 'Education: Not Graduate', 'Self-Employed: Yes')\",\"('Credit: 0.0', 'Education: Graduate', 'Property Area: Rural', 'Gender: Male', 'Married: Yes', 'Education: Graduate', 'Self-Employed: No')\",\"('Credit: 1.0', 'Education: Graduate', 'Property Area: Semiurban', 'Gender: Female', 'Married: Yes', 'Education: Graduate', 'Self-Employed: No')\",\"('Credit: 1.0', 'Education: Not Graduate', 'Property Area: Rural', 'Gender: Male', 'Married: Yes', 'Education: Not Graduate', 'Self-Employed: No')\",\"('Credit: nan', 'Education: Graduate', 'Property Area: Urban', 'Gender: Male', 'Married: Yes', 'Education: Graduate', 'Self-Employed: No')\",\"('Credit: 1.0', 'Education: Graduate', 'Property Area: Semiurban', 'Gender: Male', 'Married: Yes', 'Education: Graduate', 'Self-Employed: Yes')\",\"('Credit: 0.0', 'Education: Graduate', 'Property Area: Rural', 'Gender: Male', 'Married: No', 'Education: Graduate', 'Self-Employed: No')\",\"('Credit: 1.0', 'Education: Graduate', 'Property Area: Rural', 'Gender: Female', 'Married: No', 'Education: Graduate', 'Self-Employed: No')\",\"('Credit: 1.0', 'Education: Graduate', 'Property Area: Semiurban', 'Gender: Female', 'Married: No', 'Education: Graduate', 'Self-Employed: No')\",\"('Credit: 1.0', 'Education: Graduate', 'Property Area: Semiurban', 'Gender: Male', 'Married: Yes', 'Education: Graduate', 'Self-Employed: No')\",\"('Credit: nan', 'Education: Not Graduate', 'Property Area: Rural', 'Gender: Male', 'Married: Yes', 'Education: Not Graduate', 'Self-Employed: No')\",\"('Credit: 1.0', 'Education: Not Graduate', 'Property Area: Semiurban', 'Gender: Male', 'Married: Yes', 'Education: Not Graduate', 'Self-Employed: No')\",\"('Credit: 1.0', 'Education: Graduate', 'Property Area: Rural', 'Gender: Male', 'Married: Yes', 'Education: Graduate', 'Self-Employed: No')\",\"('Credit: nan', 'Education: Graduate', 'Property Area: Urban', 'Gender: Male', 'Married: Yes', 'Education: Graduate', 'Self-Employed: No')\",\"('Credit: 1.0', 'Education: Graduate', 'Property Area: Urban', 'Gender: nan', 'Married: No', 'Education: Graduate', 'Self-Employed: No')\",\"('Credit: 1.0', 'Education: Graduate', 'Property Area: Urban', 'Gender: Male', 'Married: Yes', 'Education: Graduate', 'Self-Employed: Yes')\",\"('Credit: 1.0', 'Education: Graduate', 'Property Area: Urban', 'Gender: Female', 'Married: No', 'Education: Graduate', 'Self-Employed: No')\",\"('Credit: 1.0', 'Education: Not Graduate', 'Property Area: Rural', 'Gender: Male', 'Married: No', 'Education: Not Graduate', 'Self-Employed: No')\",\"('Credit: 1.0', 'Education: Graduate', 'Property Area: Semiurban', 'Gender: Male', 'Married: Yes', 'Education: Graduate', 'Self-Employed: No')\",\"('Credit: 1.0', 'Education: Graduate', 'Property Area: Urban', 'Gender: Male', 'Married: Yes', 'Education: Graduate', 'Self-Employed: No')\",\"('Credit: 1.0', 'Education: Graduate', 'Property Area: Semiurban', 'Gender: Male', 'Married: Yes', 'Education: Graduate', 'Self-Employed: No')\",\"('Credit: 1.0', 'Education: Graduate', 'Property Area: Rural', 'Gender: Male', 'Married: No', 'Education: Graduate', 'Self-Employed: No')\",\"('Credit: 1.0', 'Education: Graduate', 'Property Area: Rural', 'Gender: Male', 'Married: Yes', 'Education: Graduate', 'Self-Employed: No')\",\"('Credit: 1.0', 'Education: Graduate', 'Property Area: Semiurban', 'Gender: Female', 'Married: Yes', 'Education: Graduate', 'Self-Employed: No')\",\"('Credit: 0.0', 'Education: Not Graduate', 'Property Area: Semiurban', 'Gender: Male', 'Married: Yes', 'Education: Not Graduate', 'Self-Employed: No')\",\"('Credit: 1.0', 'Education: Graduate', 'Property Area: Semiurban', 'Gender: Male', 'Married: No', 'Education: Graduate', 'Self-Employed: No')\",\"('Credit: 1.0', 'Education: Not Graduate', 'Property Area: Rural', 'Gender: Female', 'Married: No', 'Education: Not Graduate', 'Self-Employed: No')\",\"('Credit: 1.0', 'Education: Not Graduate', 'Property Area: Semiurban', 'Gender: Male', 'Married: Yes', 'Education: Not Graduate', 'Self-Employed: No')\",\"('Credit: 1.0', 'Education: Graduate', 'Property Area: Semiurban', 'Gender: Male', 'Married: No', 'Education: Graduate', 'Self-Employed: No')\",\"('Credit: 1.0', 'Education: Graduate', 'Property Area: Rural', 'Gender: Male', 'Married: Yes', 'Education: Graduate', 'Self-Employed: Yes')\",\"('Credit: 1.0', 'Education: Graduate', 'Property Area: Rural', 'Gender: Male', 'Married: Yes', 'Education: Graduate', 'Self-Employed: Yes')\",\"('Credit: 1.0', 'Education: Graduate', 'Property Area: Semiurban', 'Gender: Male', 'Married: No', 'Education: Graduate', 'Self-Employed: No')\",\"('Credit: 1.0', 'Education: Graduate', 'Property Area: Rural', 'Gender: Male', 'Married: Yes', 'Education: Graduate', 'Self-Employed: Yes')\",\"('Credit: 1.0', 'Education: Graduate', 'Property Area: Semiurban', 'Gender: Male', 'Married: Yes', 'Education: Graduate', 'Self-Employed: No')\",\"('Credit: 0.0', 'Education: Not Graduate', 'Property Area: Semiurban', 'Gender: Male', 'Married: Yes', 'Education: Not Graduate', 'Self-Employed: No')\",\"('Credit: 1.0', 'Education: Not Graduate', 'Property Area: Semiurban', 'Gender: Male', 'Married: No', 'Education: Not Graduate', 'Self-Employed: No')\",\"('Credit: 1.0', 'Education: Not Graduate', 'Property Area: Semiurban', 'Gender: Male', 'Married: No', 'Education: Not Graduate', 'Self-Employed: No')\",\"('Credit: nan', 'Education: Graduate', 'Property Area: Rural', 'Gender: Male', 'Married: Yes', 'Education: Graduate', 'Self-Employed: No')\",\"('Credit: 1.0', 'Education: Graduate', 'Property Area: Urban', 'Gender: Male', 'Married: Yes', 'Education: Graduate', 'Self-Employed: No')\",\"('Credit: 0.0', 'Education: Graduate', 'Property Area: Rural', 'Gender: Male', 'Married: No', 'Education: Graduate', 'Self-Employed: No')\",\"('Credit: nan', 'Education: Graduate', 'Property Area: Semiurban', 'Gender: Male', 'Married: No', 'Education: Graduate', 'Self-Employed: No')\",\"('Credit: 1.0', 'Education: Not Graduate', 'Property Area: Urban', 'Gender: Female', 'Married: No', 'Education: Not Graduate', 'Self-Employed: Yes')\",\"('Credit: 1.0', 'Education: Not Graduate', 'Property Area: Rural', 'Gender: Male', 'Married: No', 'Education: Not Graduate', 'Self-Employed: nan')\",\"('Credit: 1.0', 'Education: Graduate', 'Property Area: Urban', 'Gender: Male', 'Married: Yes', 'Education: Graduate', 'Self-Employed: No')\",\"('Credit: 1.0', 'Education: Graduate', 'Property Area: Semiurban', 'Gender: Male', 'Married: No', 'Education: Graduate', 'Self-Employed: No')\",\"('Credit: 1.0', 'Education: Not Graduate', 'Property Area: Rural', 'Gender: Male', 'Married: Yes', 'Education: Not Graduate', 'Self-Employed: No')\",\"('Credit: 1.0', 'Education: Graduate', 'Property Area: Rural', 'Gender: Male', 'Married: Yes', 'Education: Graduate', 'Self-Employed: No')\",\"('Credit: 1.0', 'Education: Graduate', 'Property Area: Semiurban', 'Gender: Female', 'Married: Yes', 'Education: Graduate', 'Self-Employed: No')\",\"('Credit: 0.0', 'Education: Graduate', 'Property Area: Semiurban', 'Gender: Female', 'Married: No', 'Education: Graduate', 'Self-Employed: No')\",\"('Credit: 1.0', 'Education: Graduate', 'Property Area: Semiurban', 'Gender: Female', 'Married: No', 'Education: Graduate', 'Self-Employed: nan')\",\"('Credit: 1.0', 'Education: Not Graduate', 'Property Area: Urban', 'Gender: Male', 'Married: Yes', 'Education: Not Graduate', 'Self-Employed: No')\",\"('Credit: nan', 'Education: Not Graduate', 'Property Area: Semiurban', 'Gender: Female', 'Married: Yes', 'Education: Not Graduate', 'Self-Employed: No')\",\"('Credit: 1.0', 'Education: Graduate', 'Property Area: Rural', 'Gender: Male', 'Married: Yes', 'Education: Graduate', 'Self-Employed: No')\",\"('Credit: 1.0', 'Education: Not Graduate', 'Property Area: Semiurban', 'Gender: Male', 'Married: No', 'Education: Not Graduate', 'Self-Employed: No')\",\"('Credit: 1.0', 'Education: Graduate', 'Property Area: Rural', 'Gender: Male', 'Married: No', 'Education: Graduate', 'Self-Employed: No')\",\"('Credit: 0.0', 'Education: Graduate', 'Property Area: Semiurban', 'Gender: Female', 'Married: No', 'Education: Graduate', 'Self-Employed: No')\",\"('Credit: 1.0', 'Education: Graduate', 'Property Area: Rural', 'Gender: Male', 'Married: Yes', 'Education: Graduate', 'Self-Employed: No')\",\"('Credit: 0.0', 'Education: Graduate', 'Property Area: Rural', 'Gender: Male', 'Married: Yes', 'Education: Graduate', 'Self-Employed: Yes')\",\"('Credit: 1.0', 'Education: Not Graduate', 'Property Area: Rural', 'Gender: Male', 'Married: Yes', 'Education: Not Graduate', 'Self-Employed: No')\",\"('Credit: 1.0', 'Education: Graduate', 'Property Area: Urban', 'Gender: Male', 'Married: Yes', 'Education: Graduate', 'Self-Employed: No')\",\"('Credit: 0.0', 'Education: Not Graduate', 'Property Area: Urban', 'Gender: Male', 'Married: Yes', 'Education: Not Graduate', 'Self-Employed: No')\",\"('Credit: 0.0', 'Education: Graduate', 'Property Area: Rural', 'Gender: Male', 'Married: Yes', 'Education: Graduate', 'Self-Employed: No')\",\"('Credit: 1.0', 'Education: Graduate', 'Property Area: Semiurban', 'Gender: Male', 'Married: Yes', 'Education: Graduate', 'Self-Employed: No')\",\"('Credit: nan', 'Education: Graduate', 'Property Area: Urban', 'Gender: Female', 'Married: No', 'Education: Graduate', 'Self-Employed: No')\",\"('Credit: 1.0', 'Education: Graduate', 'Property Area: Semiurban', 'Gender: Male', 'Married: Yes', 'Education: Graduate', 'Self-Employed: Yes')\",\"('Credit: 1.0', 'Education: Graduate', 'Property Area: Semiurban', 'Gender: Male', 'Married: Yes', 'Education: Graduate', 'Self-Employed: No')\",\"('Credit: 1.0', 'Education: Graduate', 'Property Area: Semiurban', 'Gender: Female', 'Married: Yes', 'Education: Graduate', 'Self-Employed: No')\",\"('Credit: 1.0', 'Education: Not Graduate', 'Property Area: Semiurban', 'Gender: Male', 'Married: Yes', 'Education: Not Graduate', 'Self-Employed: No')\",\"('Credit: 1.0', 'Education: Graduate', 'Property Area: Semiurban', 'Gender: Female', 'Married: Yes', 'Education: Graduate', 'Self-Employed: Yes')\",\"('Credit: 1.0', 'Education: Graduate', 'Property Area: Rural', 'Gender: Male', 'Married: Yes', 'Education: Graduate', 'Self-Employed: No')\",\"('Credit: 1.0', 'Education: Not Graduate', 'Property Area: Semiurban', 'Gender: Male', 'Married: No', 'Education: Not Graduate', 'Self-Employed: Yes')\",\"('Credit: 0.0', 'Education: Graduate', 'Property Area: Urban', 'Gender: Male', 'Married: Yes', 'Education: Graduate', 'Self-Employed: No')\",\"('Credit: nan', 'Education: Not Graduate', 'Property Area: Rural', 'Gender: Male', 'Married: Yes', 'Education: Not Graduate', 'Self-Employed: No')\",\"('Credit: 1.0', 'Education: Graduate', 'Property Area: Urban', 'Gender: Male', 'Married: No', 'Education: Graduate', 'Self-Employed: No')\",\"('Credit: 0.0', 'Education: Graduate', 'Property Area: Rural', 'Gender: Male', 'Married: Yes', 'Education: Graduate', 'Self-Employed: No')\",\"('Credit: 1.0', 'Education: Graduate', 'Property Area: Urban', 'Gender: Female', 'Married: No', 'Education: Graduate', 'Self-Employed: No')\",\"('Credit: 0.0', 'Education: Graduate', 'Property Area: Urban', 'Gender: Male', 'Married: Yes', 'Education: Graduate', 'Self-Employed: No')\",\"('Credit: 1.0', 'Education: Graduate', 'Property Area: Urban', 'Gender: Male', 'Married: Yes', 'Education: Graduate', 'Self-Employed: No')\",\"('Credit: 0.0', 'Education: Graduate', 'Property Area: Urban', 'Gender: Male', 'Married: Yes', 'Education: Graduate', 'Self-Employed: No')\",\"('Credit: 1.0', 'Education: Graduate', 'Property Area: Urban', 'Gender: Male', 'Married: Yes', 'Education: Graduate', 'Self-Employed: No')\",\"('Credit: 1.0', 'Education: Not Graduate', 'Property Area: Semiurban', 'Gender: Male', 'Married: Yes', 'Education: Not Graduate', 'Self-Employed: No')\",\"('Credit: 1.0', 'Education: Graduate', 'Property Area: Semiurban', 'Gender: Male', 'Married: Yes', 'Education: Graduate', 'Self-Employed: No')\",\"('Credit: 1.0', 'Education: Graduate', 'Property Area: Urban', 'Gender: Male', 'Married: Yes', 'Education: Graduate', 'Self-Employed: No')\",\"('Credit: 0.0', 'Education: Graduate', 'Property Area: Semiurban', 'Gender: nan', 'Married: Yes', 'Education: Graduate', 'Self-Employed: No')\",\"('Credit: 1.0', 'Education: Graduate', 'Property Area: Urban', 'Gender: Male', 'Married: No', 'Education: Graduate', 'Self-Employed: No')\",\"('Credit: 1.0', 'Education: Graduate', 'Property Area: Rural', 'Gender: Male', 'Married: Yes', 'Education: Graduate', 'Self-Employed: No')\",\"('Credit: 1.0', 'Education: Graduate', 'Property Area: Urban', 'Gender: Male', 'Married: No', 'Education: Graduate', 'Self-Employed: nan')\",\"('Credit: 1.0', 'Education: Graduate', 'Property Area: Semiurban', 'Gender: Male', 'Married: Yes', 'Education: Graduate', 'Self-Employed: No')\",\"('Credit: 1.0', 'Education: Graduate', 'Property Area: Urban', 'Gender: Male', 'Married: No', 'Education: Graduate', 'Self-Employed: No')\",\"('Credit: 1.0', 'Education: Graduate', 'Property Area: Semiurban', 'Gender: Female', 'Married: Yes', 'Education: Graduate', 'Self-Employed: No')\",\"('Credit: nan', 'Education: Graduate', 'Property Area: Rural', 'Gender: Male', 'Married: Yes', 'Education: Graduate', 'Self-Employed: No')\",\"('Credit: 0.0', 'Education: Graduate', 'Property Area: Rural', 'Gender: Male', 'Married: Yes', 'Education: Graduate', 'Self-Employed: No')\",\"('Credit: 1.0', 'Education: Graduate', 'Property Area: Rural', 'Gender: Male', 'Married: Yes', 'Education: Graduate', 'Self-Employed: No')\",\"('Credit: 1.0', 'Education: Graduate', 'Property Area: Urban', 'Gender: Male', 'Married: Yes', 'Education: Graduate', 'Self-Employed: No')\",\"('Credit: 1.0', 'Education: Not Graduate', 'Property Area: Semiurban', 'Gender: Female', 'Married: No', 'Education: Not Graduate', 'Self-Employed: No')\",\"('Credit: 1.0', 'Education: Graduate', 'Property Area: Semiurban', 'Gender: nan', 'Married: No', 'Education: Graduate', 'Self-Employed: No')\",\"('Credit: 0.0', 'Education: Graduate', 'Property Area: Semiurban', 'Gender: Male', 'Married: Yes', 'Education: Graduate', 'Self-Employed: Yes')\",\"('Credit: 1.0', 'Education: Graduate', 'Property Area: Semiurban', 'Gender: Male', 'Married: Yes', 'Education: Graduate', 'Self-Employed: No')\",\"('Credit: 1.0', 'Education: Graduate', 'Property Area: Semiurban', 'Gender: Male', 'Married: Yes', 'Education: Graduate', 'Self-Employed: Yes')\",\"('Credit: 1.0', 'Education: Graduate', 'Property Area: Semiurban', 'Gender: nan', 'Married: No', 'Education: Graduate', 'Self-Employed: Yes')\",\"('Credit: 1.0', 'Education: Graduate', 'Property Area: Rural', 'Gender: Male', 'Married: Yes', 'Education: Graduate', 'Self-Employed: No')\",\"('Credit: 1.0', 'Education: Graduate', 'Property Area: Urban', 'Gender: Male', 'Married: Yes', 'Education: Graduate', 'Self-Employed: Yes')\",\"('Credit: 1.0', 'Education: Not Graduate', 'Property Area: Rural', 'Gender: Male', 'Married: No', 'Education: Not Graduate', 'Self-Employed: No')\",\"('Credit: 1.0', 'Education: Not Graduate', 'Property Area: Rural', 'Gender: Male', 'Married: Yes', 'Education: Not Graduate', 'Self-Employed: Yes')\",\"('Credit: 0.0', 'Education: Graduate', 'Property Area: Semiurban', 'Gender: Male', 'Married: No', 'Education: Graduate', 'Self-Employed: No')\",\"('Credit: 1.0', 'Education: Graduate', 'Property Area: Rural', 'Gender: Male', 'Married: Yes', 'Education: Graduate', 'Self-Employed: Yes')\",\"('Credit: 1.0', 'Education: Graduate', 'Property Area: Urban', 'Gender: Male', 'Married: Yes', 'Education: Graduate', 'Self-Employed: No')\",\"('Credit: nan', 'Education: Graduate', 'Property Area: Urban', 'Gender: Female', 'Married: No', 'Education: Graduate', 'Self-Employed: nan')\",\"('Credit: 1.0', 'Education: Not Graduate', 'Property Area: Rural', 'Gender: Male', 'Married: Yes', 'Education: Not Graduate', 'Self-Employed: nan')\",\"('Credit: 1.0', 'Education: Graduate', 'Property Area: Urban', 'Gender: Male', 'Married: Yes', 'Education: Graduate', 'Self-Employed: No')\",\"('Credit: 1.0', 'Education: Graduate', 'Property Area: Rural', 'Gender: Male', 'Married: No', 'Education: Graduate', 'Self-Employed: No')\",\"('Credit: 1.0', 'Education: Graduate', 'Property Area: Semiurban', 'Gender: Female', 'Married: Yes', 'Education: Graduate', 'Self-Employed: No')\",\"('Credit: 1.0', 'Education: Not Graduate', 'Property Area: Urban', 'Gender: Male', 'Married: Yes', 'Education: Not Graduate', 'Self-Employed: No')\",\"('Credit: 1.0', 'Education: Graduate', 'Property Area: Semiurban', 'Gender: Male', 'Married: Yes', 'Education: Graduate', 'Self-Employed: No')\",\"('Credit: 1.0', 'Education: Not Graduate', 'Property Area: Rural', 'Gender: Male', 'Married: Yes', 'Education: Not Graduate', 'Self-Employed: No')\",\"('Credit: 1.0', 'Education: Graduate', 'Property Area: Rural', 'Gender: Male', 'Married: Yes', 'Education: Graduate', 'Self-Employed: No')\",\"('Credit: 1.0', 'Education: Graduate', 'Property Area: Rural', 'Gender: Female', 'Married: No', 'Education: Graduate', 'Self-Employed: No')\",\"('Credit: 1.0', 'Education: Graduate', 'Property Area: Rural', 'Gender: Male', 'Married: Yes', 'Education: Graduate', 'Self-Employed: No')\",\"('Credit: 1.0', 'Education: Graduate', 'Property Area: Urban', 'Gender: Male', 'Married: Yes', 'Education: Graduate', 'Self-Employed: No')\",\"('Credit: 1.0', 'Education: Graduate', 'Property Area: Urban', 'Gender: Male', 'Married: Yes', 'Education: Graduate', 'Self-Employed: No')\",\"('Credit: 0.0', 'Education: Graduate', 'Property Area: Semiurban', 'Gender: Female', 'Married: No', 'Education: Graduate', 'Self-Employed: Yes')\"],\"x\":[66.0,120.0,141.0,267.0,95.0,168.0,70.0,109.0,200.0,17.0,125.0,100.0,115.0,191.0,122.0,110.0,120.0,114.0,144.0,184.0,110.0,47.0,75.0,134.0,96.0,88.0,44.0,144.0,144.0,100.0,120.0,97.0,96.0,180.0,144.0,120.0,99.0,125.0,172.0,97.0,81.0,187.0,130.0,111.0,50.0,136.0,99.0,104.0,210.0,175.0,131.0,188.0,81.0,122.0,25.0,137.0,50.0,115.0,131.0,133.0,151.0,160.0,100.0,225.0,94.0,136.0,139.0,118.0,185.0,154.0,85.0,259.0,180.0,44.0,137.0,81.0,194.0,93.0,74.0,70.0,25.0,102.0,88.0,168.0,175.0,122.0,187.0,100.0,70.0,30.0,125.0,152.0,50.0,160.0,187.0,120.0,255.0,98.0,158.0,75.0,182.0,129.0,200.0,95.0,187.0,116.0,101.0,116.0,73.0,108.0,58.0,168.0,188.0,48.0,76.0,120.0,187.0,120.0,113.0,90.0,166.0,135.0,124.0,120.0,80.0,55.0,59.0,240.0,130.0,137.0,100.0,131.0,127.0,116.0,144.0,175.0,128.0,210.0,158.0,200.0,104.0,42.0,120.0,280.0,140.0,170.0,122.0,112.0,96.0,120.0,155.0,108.0,123.0,112.0,137.0,123.0,90.0,104.0,279.0,255.0,134.0,120.0,128.0,151.0,150.0,160.0,90.0,30.0,136.0,126.0,150.0,90.0,115.0,207.0,80.0,124.0,112.0,78.0,54.0,89.0,120.0,115.0,187.0,139.0,134.0,172.0,110.0,200.0,135.0,105.0,132.0,96.0,140.0,135.0,185.0,84.0,111.0,56.0,144.0,111.0,120.0,88.0,112.0,115.0,124.0,132.0,130.0,184.0,67.0,117.0,98.0,71.0,182.0,70.0,160.0,176.0,71.0,158.0,74.0,125.0,160.0,126.0,259.0,187.0,228.0,95.0,130.0,116.0,165.0,200.0,236.0,130.0,95.0,141.0,175.0,55.0,155.0,110.0,120.0,130.0,130.0,130.0,128.0,296.0,156.0,128.0,113.0,132.0,136.0,125.0,185.0,275.0,120.0,113.0,113.0,135.0,95.0,109.0,103.0,53.0,115.0,115.0,66.0,160.0,110.0,60.0,112.0,138.0,138.0,100.0,96.0,121.0,133.0,87.0,60.0,150.0,143.0,100.0,50.0,138.0,187.0,180.0,148.0,175.0,130.0,110.0,60.0,90.0,84.0,96.0,118.0,136.0,160.0,128.0,153.0,132.0,140.0,110.0,98.0,162.0,100.0,93.0,162.0,150.0,230.0,86.0,154.0,113.0,128.0,234.0,246.0,131.0,160.0,96.0,186.0,110.0,225.0,105.0,107.0,111.0,95.0,113.0,100.0,208.0,124.0,243.0,188.0,40.0,250.0,148.0,150.0,113.0,45.0,55.0,100.0,110.0,161.0,94.0,130.0,216.0,100.0,125.0,126.0,107.0,157.0,140.0,95.0,128.0,102.0,155.0,145.0,110.0,158.0,26.0,84.0,260.0,162.0,182.0,108.0,211.0,132.0,120.0,70.0,186.0,275.0,108.0,110.0,107.0,161.0,205.0,36.0,104.0,70.0,94.0,56.0,292.0,142.0,260.0,110.0,180.0,192.0,155.0,128.0,172.0,173.0,157.0,108.0,71.0,40.0,253.0,187.0],\"y\":[3000.0,4941.0,6000.0,9613.0,3849.0,5532.0,3900.0,4340.0,11179.0,2385.0,4950.0,3596.0,6100.0,9560.0,5052.0,5266.0,5833.0,5167.0,5126.0,11376.0,5416.0,3013.0,2400.0,6277.0,4695.0,3410.0,5649.0,5821.0,6275.0,3572.0,3086.0,3875.0,3723.0,10330.0,6216.0,6296.0,3029.0,7100.0,6274.0,3750.0,3500.0,7040.0,5499.0,3846.0,3988.0,4897.0,5333.0,4618.0,8566.0,9862.0,5858.0,11904.0,5093.0,4133.0,3620.0,4786.0,2974.0,4188.0,5300.0,7551.0,8649.0,4570.0,4082.0,12543.0,2825.0,5316.0,5262.0,5050.0,14583.0,5450.0,3612.0,10408.0,8334.0,4166.0,11117.0,2957.0,6314.0,3692.0,3943.0,2718.0,3459.0,4895.0,6816.0,5417.0,6950.0,4732.0,11757.0,6816.0,14866.0,2963.0,5690.0,6327.0,3254.0,6000.0,9538.0,5063.0,10208.0,2904.0,5614.0,9323.0,6873.0,5772.0,8000.0,3589.0,11333.0,5461.0,3664.0,3750.0,4600.0,3625.0,4521.0,5970.0,9328.0,4885.0,3858.0,4191.0,12083.0,4272.0,6232.0,5100.0,4923.0,4583.0,3917.0,4408.0,3244.0,6506.0,2479.0,7787.0,5703.0,6194.0,4833.0,5502.0,6666.0,5726.0,5762.0,8588.0,6250.0,7945.0,4758.0,6400.0,4545.0,3716.0,5787.0,8333.0,4934.0,6760.0,3463.0,3812.0,3315.0,10819.0,8666.0,7550.0,7823.0,9703.0,6608.0,4725.0,3677.0,4750.0,9762.0,3083.0,4269.0,7200.0,5166.0,7542.0,6095.0,6144.0,4436.0,3237.0,11146.0,4690.0,4843.0,3900.0,4592.0,7267.0,4403.0,4100.0,4727.0,3286.7999878,3477.0,6211.0,5704.0,4124.0,9508.0,5491.0,4713.0,5717.0,5666.0,6875.0,4666.0,4625.0,5000.0,3428.0,6500.0,5428.0,7667.0,2917.0,5332.0,2507.0,5746.0,5039.0,3717.0,4192.0,3541.0,4567.0,4531.0,6151.0,4917.0,7978.0,2500.0,6177.0,2935.0,2833.0,11666.0,9993.0,5938.0,7100.0,4160.0,5783.0,3173.0,4913.0,4957.0,5251.0,10916.0,8875.0,9083.0,4749.0,2928.0,3813.0,11500.0,8334.0,8667.0,7083.0,6046.0,6822.0,6325.0,15759.0,5185.0,4223.0,5740.0,13746.0,4310.0,5391.0,5833.0,10173.0,6000.0,7167.0,3667.0,3946.0,4750.0,5488.0,9167.0,9504.0,4698.0,3618.0,4500.0,3760.0,4492.0,5568.0,22500.0,1963.0,4547.0,4567.0,2213.0,6256.0,4286.0,2995.0,3798.0,4663.0,5829.0,3539.0,14880.0,6966.0,5935.0,2936.12000084,2717.0,8624.0,4765.0,3750.0,3777.0,7142.0,8724.0,9734.0,6700.0,15666.0,4676.0,4652.0,3414.0,4949.0,7085.0,3859.0,4301.0,4354.0,6166.0,7740.0,5203.0,5191.0,6000.0,16692.0,3127.0,5529.0,4691.0,2500.0,10180.0,17539.0,8450.0,18917.0,4350.0,3095.0,5233.0,10833.0,8333.0,4394.0,6666.0,5484.0,6464.0,3691.0,17263.0,4239.0,4300.0,7482.0,2895.0,4328.0,3159.0,10489.0,5297.0,7926.0,5492.0,13262.0,8069.0,5318.0,6894.0,3663.0,3934.0,2500.0,7101.0,3775.0,6715.0,3981.0,6783.0,6525.0,4281.0,18165.0,4592.0,3617.0,6417.0,7453.0,3652.0,4763.0,3680.0,4718.0,4309.0,4801.0,6583.0,6500.0,4292.0,10139.0,6556.0,6486.0,3917.0,7977.0,5800.0,4467.0,3333.0,5167.0,16666.0,3620.0,5968.0,4014.0,6099.0,6540.0,3166.0,3819.0,2165.0,4750.0,6416.0,9357.0,7159.0,16120.0,3833.0,9963.0,5780.0,5686.0,5703.0,7977.0,5900.0,5398.0,5182.0,2900.0,4106.0,8312.0,7583.0],\"z\":[360.0,360.0,360.0,360.0,360.0,360.0,360.0,360.0,360.0,120.0,360.0,240.0,null,360.0,360.0,360.0,360.0,360.0,360.0,360.0,360.0,360.0,360.0,360.0,null,null,360.0,360.0,360.0,360.0,360.0,360.0,360.0,360.0,360.0,360.0,360.0,60.0,360.0,360.0,300.0,360.0,360.0,360.0,240.0,360.0,360.0,360.0,360.0,360.0,360.0,180.0,360.0,360.0,120.0,360.0,360.0,180.0,360.0,180.0,360.0,360.0,360.0,360.0,480.0,360.0,360.0,360.0,180.0,360.0,360.0,360.0,360.0,360.0,360.0,360.0,360.0,360.0,360.0,360.0,120.0,360.0,360.0,360.0,180.0,360.0,180.0,360.0,360.0,360.0,360.0,360.0,360.0,360.0,360.0,360.0,360.0,360.0,360.0,180.0,null,360.0,360.0,360.0,360.0,360.0,360.0,360.0,180.0,360.0,360.0,360.0,180.0,360.0,360.0,360.0,360.0,null,360.0,360.0,360.0,360.0,360.0,360.0,360.0,360.0,360.0,360.0,360.0,360.0,360.0,360.0,360.0,360.0,360.0,null,360.0,360.0,480.0,360.0,360.0,180.0,null,360.0,360.0,360.0,360.0,360.0,360.0,360.0,60.0,360.0,360.0,360.0,180.0,480.0,360.0,360.0,180.0,360.0,360.0,360.0,360.0,360.0,360.0,360.0,360.0,360.0,360.0,360.0,360.0,360.0,360.0,360.0,360.0,360.0,360.0,180.0,360.0,360.0,360.0,360.0,360.0,360.0,360.0,360.0,360.0,360.0,360.0,360.0,360.0,360.0,360.0,360.0,360.0,360.0,360.0,360.0,84.0,180.0,360.0,360.0,360.0,360.0,360.0,360.0,360.0,360.0,360.0,360.0,360.0,360.0,180.0,null,360.0,360.0,360.0,360.0,360.0,360.0,360.0,360.0,360.0,360.0,360.0,360.0,360.0,180.0,360.0,360.0,360.0,360.0,300.0,360.0,360.0,360.0,360.0,360.0,180.0,360.0,360.0,360.0,360.0,360.0,360.0,360.0,180.0,360.0,360.0,360.0,360.0,360.0,360.0,180.0,360.0,360.0,360.0,360.0,360.0,360.0,360.0,360.0,360.0,360.0,360.0,360.0,360.0,360.0,360.0,360.0,360.0,360.0,360.0,360.0,180.0,360.0,360.0,360.0,360.0,360.0,360.0,360.0,360.0,300.0,360.0,360.0,300.0,180.0,360.0,360.0,360.0,360.0,360.0,180.0,360.0,360.0,360.0,360.0,360.0,360.0,360.0,360.0,360.0,360.0,300.0,360.0,360.0,360.0,360.0,360.0,360.0,360.0,360.0,360.0,360.0,360.0,360.0,84.0,360.0,12.0,360.0,480.0,360.0,360.0,300.0,360.0,360.0,360.0,360.0,360.0,360.0,480.0,360.0,360.0,360.0,360.0,360.0,360.0,360.0,360.0,360.0,360.0,360.0,360.0,180.0,180.0,360.0,360.0,360.0,360.0,360.0,360.0,360.0,360.0,360.0,360.0,360.0,360.0,360.0,360.0,360.0,360.0,360.0,360.0,360.0,84.0,360.0,360.0,360.0,360.0,360.0,360.0,360.0,360.0,180.0,360.0,180.0,360.0,360.0,360.0,360.0,360.0,360.0,360.0,360.0,360.0,360.0,360.0,180.0,360.0,360.0],\"type\":\"scatter3d\"},{\"hoverinfo\":\"text\",\"marker\":{\"color\":\"red\",\"opacity\":0.4,\"size\":5},\"mode\":\"markers\",\"name\":\"denied\",\"text\":[\"('Credit: 1.0', 'Education: Graduate', 'Property Area: Urban', 'Gender: Male', 'Married: No', 'Education: Graduate', 'Self-Employed: No')\",\"('Credit: 1.0', 'Education: Graduate', 'Property Area: Rural', 'Gender: Male', 'Married: Yes', 'Education: Graduate', 'Self-Employed: No')\",\"('Credit: 1.0', 'Education: Graduate', 'Property Area: Urban', 'Gender: Male', 'Married: Yes', 'Education: Graduate', 'Self-Employed: Yes')\",\"('Credit: 1.0', 'Education: Not Graduate', 'Property Area: Urban', 'Gender: Male', 'Married: Yes', 'Education: Not Graduate', 'Self-Employed: No')\",\"('Credit: 1.0', 'Education: Graduate', 'Property Area: Urban', 'Gender: Male', 'Married: No', 'Education: Graduate', 'Self-Employed: No')\",\"('Credit: 1.0', 'Education: Graduate', 'Property Area: Urban', 'Gender: Male', 'Married: Yes', 'Education: Graduate', 'Self-Employed: Yes')\",\"('Credit: 1.0', 'Education: Not Graduate', 'Property Area: Urban', 'Gender: Male', 'Married: Yes', 'Education: Not Graduate', 'Self-Employed: No')\",\"('Credit: 0.0', 'Education: Graduate', 'Property Area: Semiurban', 'Gender: Male', 'Married: Yes', 'Education: Graduate', 'Self-Employed: No')\",\"('Credit: 1.0', 'Education: Graduate', 'Property Area: Urban', 'Gender: Male', 'Married: Yes', 'Education: Graduate', 'Self-Employed: No')\",\"('Credit: 1.0', 'Education: Graduate', 'Property Area: Semiurban', 'Gender: Male', 'Married: Yes', 'Education: Graduate', 'Self-Employed: No')\",\"('Credit: 1.0', 'Education: Graduate', 'Property Area: Urban', 'Gender: Male', 'Married: Yes', 'Education: Graduate', 'Self-Employed: No')\",\"('Credit: 1.0', 'Education: Graduate', 'Property Area: Urban', 'Gender: Male', 'Married: Yes', 'Education: Graduate', 'Self-Employed: nan')\",\"('Credit: 1.0', 'Education: Graduate', 'Property Area: Urban', 'Gender: Male', 'Married: Yes', 'Education: Graduate', 'Self-Employed: No')\",\"('Credit: 1.0', 'Education: Graduate', 'Property Area: Rural', 'Gender: Male', 'Married: No', 'Education: Graduate', 'Self-Employed: No')\",\"('Credit: 1.0', 'Education: Graduate', 'Property Area: Urban', 'Gender: Male', 'Married: Yes', 'Education: Graduate', 'Self-Employed: No')\",\"('Credit: 1.0', 'Education: Graduate', 'Property Area: Urban', 'Gender: Male', 'Married: No', 'Education: Graduate', 'Self-Employed: No')\",\"('Credit: nan', 'Education: Not Graduate', 'Property Area: Urban', 'Gender: Male', 'Married: No', 'Education: Not Graduate', 'Self-Employed: No')\",\"('Credit: 0.0', 'Education: Graduate', 'Property Area: Urban', 'Gender: Female', 'Married: No', 'Education: Graduate', 'Self-Employed: No')\",\"('Credit: 1.0', 'Education: Not Graduate', 'Property Area: Rural', 'Gender: Male', 'Married: Yes', 'Education: Not Graduate', 'Self-Employed: No')\",\"('Credit: 1.0', 'Education: Graduate', 'Property Area: Urban', 'Gender: Male', 'Married: Yes', 'Education: Graduate', 'Self-Employed: nan')\",\"('Credit: 0.0', 'Education: Not Graduate', 'Property Area: Urban', 'Gender: Male', 'Married: Yes', 'Education: Not Graduate', 'Self-Employed: No')\",\"('Credit: 1.0', 'Education: Graduate', 'Property Area: Urban', 'Gender: Male', 'Married: Yes', 'Education: Graduate', 'Self-Employed: No')\",\"('Credit: 0.0', 'Education: Not Graduate', 'Property Area: Semiurban', 'Gender: Male', 'Married: Yes', 'Education: Not Graduate', 'Self-Employed: No')\",\"('Credit: 0.0', 'Education: Not Graduate', 'Property Area: Rural', 'Gender: nan', 'Married: Yes', 'Education: Not Graduate', 'Self-Employed: No')\",\"('Credit: nan', 'Education: Graduate', 'Property Area: Semiurban', 'Gender: Male', 'Married: Yes', 'Education: Graduate', 'Self-Employed: nan')\",\"('Credit: 1.0', 'Education: Graduate', 'Property Area: Semiurban', 'Gender: Male', 'Married: Yes', 'Education: Graduate', 'Self-Employed: Yes')\",\"('Credit: 1.0', 'Education: Graduate', 'Property Area: Semiurban', 'Gender: Male', 'Married: Yes', 'Education: Graduate', 'Self-Employed: No')\",\"('Credit: 1.0', 'Education: Not Graduate', 'Property Area: Urban', 'Gender: Male', 'Married: Yes', 'Education: Not Graduate', 'Self-Employed: No')\",\"('Credit: 1.0', 'Education: Not Graduate', 'Property Area: Urban', 'Gender: Male', 'Married: No', 'Education: Not Graduate', 'Self-Employed: No')\",\"('Credit: 1.0', 'Education: Graduate', 'Property Area: Semiurban', 'Gender: Female', 'Married: No', 'Education: Graduate', 'Self-Employed: nan')\",\"('Credit: nan', 'Education: Graduate', 'Property Area: Urban', 'Gender: Male', 'Married: Yes', 'Education: Graduate', 'Self-Employed: nan')\",\"('Credit: 1.0', 'Education: Graduate', 'Property Area: Urban', 'Gender: Male', 'Married: No', 'Education: Graduate', 'Self-Employed: No')\",\"('Credit: 1.0', 'Education: Graduate', 'Property Area: Rural', 'Gender: Male', 'Married: No', 'Education: Graduate', 'Self-Employed: Yes')\",\"('Credit: 1.0', 'Education: Graduate', 'Property Area: Semiurban', 'Gender: Male', 'Married: Yes', 'Education: Graduate', 'Self-Employed: No')\",\"('Credit: 1.0', 'Education: Graduate', 'Property Area: Rural', 'Gender: Male', 'Married: No', 'Education: Graduate', 'Self-Employed: No')\",\"('Credit: 1.0', 'Education: Graduate', 'Property Area: Urban', 'Gender: Male', 'Married: Yes', 'Education: Graduate', 'Self-Employed: No')\",\"('Credit: 0.0', 'Education: Graduate', 'Property Area: Urban', 'Gender: Male', 'Married: Yes', 'Education: Graduate', 'Self-Employed: No')\",\"('Credit: 1.0', 'Education: Graduate', 'Property Area: Semiurban', 'Gender: Female', 'Married: Yes', 'Education: Graduate', 'Self-Employed: No')\",\"('Credit: 1.0', 'Education: Graduate', 'Property Area: Urban', 'Gender: Male', 'Married: No', 'Education: Graduate', 'Self-Employed: No')\",\"('Credit: 1.0', 'Education: Not Graduate', 'Property Area: Semiurban', 'Gender: Male', 'Married: No', 'Education: Not Graduate', 'Self-Employed: No')\",\"('Credit: 1.0', 'Education: Graduate', 'Property Area: Urban', 'Gender: Male', 'Married: No', 'Education: Graduate', 'Self-Employed: No')\",\"('Credit: 1.0', 'Education: Graduate', 'Property Area: Urban', 'Gender: Male', 'Married: No', 'Education: Graduate', 'Self-Employed: No')\",\"('Credit: nan', 'Education: Graduate', 'Property Area: Urban', 'Gender: Male', 'Married: Yes', 'Education: Graduate', 'Self-Employed: No')\",\"('Credit: 1.0', 'Education: Graduate', 'Property Area: Semiurban', 'Gender: Male', 'Married: Yes', 'Education: Graduate', 'Self-Employed: No')\",\"('Credit: 1.0', 'Education: Not Graduate', 'Property Area: Urban', 'Gender: Male', 'Married: Yes', 'Education: Not Graduate', 'Self-Employed: Yes')\",\"('Credit: 1.0', 'Education: Graduate', 'Property Area: Urban', 'Gender: Female', 'Married: No', 'Education: Graduate', 'Self-Employed: No')\",\"('Credit: 1.0', 'Education: Graduate', 'Property Area: Urban', 'Gender: Male', 'Married: Yes', 'Education: Graduate', 'Self-Employed: No')\",\"('Credit: 1.0', 'Education: Graduate', 'Property Area: Urban', 'Gender: Male', 'Married: Yes', 'Education: Graduate', 'Self-Employed: No')\",\"('Credit: 0.0', 'Education: Graduate', 'Property Area: Urban', 'Gender: Female', 'Married: Yes', 'Education: Graduate', 'Self-Employed: No')\",\"('Credit: 1.0', 'Education: Graduate', 'Property Area: Semiurban', 'Gender: Female', 'Married: No', 'Education: Graduate', 'Self-Employed: No')\",\"('Credit: 1.0', 'Education: Not Graduate', 'Property Area: Semiurban', 'Gender: Female', 'Married: Yes', 'Education: Not Graduate', 'Self-Employed: No')\",\"('Credit: 1.0', 'Education: Graduate', 'Property Area: Semiurban', 'Gender: Female', 'Married: No', 'Education: Graduate', 'Self-Employed: No')\",\"('Credit: 1.0', 'Education: Graduate', 'Property Area: Semiurban', 'Gender: Female', 'Married: No', 'Education: Graduate', 'Self-Employed: No')\",\"('Credit: 1.0', 'Education: Graduate', 'Property Area: Urban', 'Gender: Male', 'Married: Yes', 'Education: Graduate', 'Self-Employed: No')\",\"('Credit: 0.0', 'Education: Graduate', 'Property Area: Urban', 'Gender: Female', 'Married: Yes', 'Education: Graduate', 'Self-Employed: Yes')\",\"('Credit: 1.0', 'Education: Graduate', 'Property Area: Semiurban', 'Gender: Male', 'Married: Yes', 'Education: Graduate', 'Self-Employed: No')\",\"('Credit: 1.0', 'Education: Graduate', 'Property Area: Semiurban', 'Gender: Male', 'Married: Yes', 'Education: Graduate', 'Self-Employed: No')\",\"('Credit: 1.0', 'Education: Graduate', 'Property Area: Rural', 'Gender: Male', 'Married: Yes', 'Education: Graduate', 'Self-Employed: No')\",\"('Credit: 1.0', 'Education: Graduate', 'Property Area: Urban', 'Gender: Male', 'Married: Yes', 'Education: Graduate', 'Self-Employed: No')\",\"('Credit: 1.0', 'Education: Not Graduate', 'Property Area: Urban', 'Gender: Male', 'Married: Yes', 'Education: Not Graduate', 'Self-Employed: No')\",\"('Credit: 1.0', 'Education: Graduate', 'Property Area: Urban', 'Gender: Male', 'Married: Yes', 'Education: Graduate', 'Self-Employed: No')\",\"('Credit: 1.0', 'Education: Graduate', 'Property Area: Urban', 'Gender: Male', 'Married: Yes', 'Education: Graduate', 'Self-Employed: No')\",\"('Credit: 0.0', 'Education: Not Graduate', 'Property Area: Rural', 'Gender: Male', 'Married: Yes', 'Education: Not Graduate', 'Self-Employed: Yes')\",\"('Credit: 0.0', 'Education: Graduate', 'Property Area: Rural', 'Gender: Male', 'Married: Yes', 'Education: Graduate', 'Self-Employed: No')\",\"('Credit: 0.0', 'Education: Graduate', 'Property Area: Semiurban', 'Gender: Female', 'Married: No', 'Education: Graduate', 'Self-Employed: No')\",\"('Credit: 1.0', 'Education: Graduate', 'Property Area: Semiurban', 'Gender: Male', 'Married: Yes', 'Education: Graduate', 'Self-Employed: No')\",\"('Credit: 0.0', 'Education: Not Graduate', 'Property Area: Urban', 'Gender: Male', 'Married: No', 'Education: Not Graduate', 'Self-Employed: No')\",\"('Credit: 1.0', 'Education: Graduate', 'Property Area: Urban', 'Gender: Male', 'Married: Yes', 'Education: Graduate', 'Self-Employed: No')\",\"('Credit: 1.0', 'Education: Not Graduate', 'Property Area: Urban', 'Gender: Male', 'Married: Yes', 'Education: Not Graduate', 'Self-Employed: Yes')\",\"('Credit: 0.0', 'Education: Graduate', 'Property Area: Semiurban', 'Gender: Female', 'Married: No', 'Education: Graduate', 'Self-Employed: No')\",\"('Credit: 1.0', 'Education: Graduate', 'Property Area: Urban', 'Gender: Male', 'Married: Yes', 'Education: Graduate', 'Self-Employed: No')\",\"('Credit: 1.0', 'Education: Not Graduate', 'Property Area: Semiurban', 'Gender: Male', 'Married: Yes', 'Education: Not Graduate', 'Self-Employed: Yes')\",\"('Credit: 1.0', 'Education: Graduate', 'Property Area: Semiurban', 'Gender: Male', 'Married: No', 'Education: Graduate', 'Self-Employed: No')\",\"('Credit: 0.0', 'Education: Not Graduate', 'Property Area: Semiurban', 'Gender: Male', 'Married: Yes', 'Education: Not Graduate', 'Self-Employed: No')\",\"('Credit: 1.0', 'Education: Graduate', 'Property Area: Semiurban', 'Gender: Male', 'Married: Yes', 'Education: Graduate', 'Self-Employed: Yes')\",\"('Credit: 1.0', 'Education: Graduate', 'Property Area: Urban', 'Gender: Male', 'Married: No', 'Education: Graduate', 'Self-Employed: No')\",\"('Credit: 1.0', 'Education: Graduate', 'Property Area: Urban', 'Gender: Male', 'Married: No', 'Education: Graduate', 'Self-Employed: No')\",\"('Credit: 1.0', 'Education: Graduate', 'Property Area: Urban', 'Gender: Male', 'Married: Yes', 'Education: Graduate', 'Self-Employed: Yes')\",\"('Credit: 0.0', 'Education: Graduate', 'Property Area: Semiurban', 'Gender: Male', 'Married: Yes', 'Education: Graduate', 'Self-Employed: No')\",\"('Credit: nan', 'Education: Not Graduate', 'Property Area: Semiurban', 'Gender: Male', 'Married: Yes', 'Education: Not Graduate', 'Self-Employed: Yes')\",\"('Credit: 1.0', 'Education: Graduate', 'Property Area: Semiurban', 'Gender: Female', 'Married: No', 'Education: Graduate', 'Self-Employed: No')\",\"('Credit: 1.0', 'Education: Graduate', 'Property Area: Semiurban', 'Gender: Male', 'Married: Yes', 'Education: Graduate', 'Self-Employed: Yes')\",\"('Credit: 1.0', 'Education: Graduate', 'Property Area: Urban', 'Gender: Female', 'Married: Yes', 'Education: Graduate', 'Self-Employed: No')\",\"('Credit: nan', 'Education: Graduate', 'Property Area: Semiurban', 'Gender: Male', 'Married: Yes', 'Education: Graduate', 'Self-Employed: No')\",\"('Credit: 1.0', 'Education: Graduate', 'Property Area: Urban', 'Gender: Male', 'Married: Yes', 'Education: Graduate', 'Self-Employed: No')\",\"('Credit: 1.0', 'Education: Graduate', 'Property Area: Semiurban', 'Gender: Male', 'Married: No', 'Education: Graduate', 'Self-Employed: No')\",\"('Credit: nan', 'Education: Not Graduate', 'Property Area: Semiurban', 'Gender: Male', 'Married: Yes', 'Education: Not Graduate', 'Self-Employed: No')\",\"('Credit: 1.0', 'Education: Graduate', 'Property Area: Semiurban', 'Gender: Male', 'Married: Yes', 'Education: Graduate', 'Self-Employed: No')\",\"('Credit: 1.0', 'Education: Graduate', 'Property Area: Urban', 'Gender: Male', 'Married: No', 'Education: Graduate', 'Self-Employed: No')\",\"('Credit: 1.0', 'Education: Graduate', 'Property Area: Semiurban', 'Gender: Male', 'Married: Yes', 'Education: Graduate', 'Self-Employed: No')\",\"('Credit: 1.0', 'Education: Graduate', 'Property Area: Semiurban', 'Gender: Male', 'Married: Yes', 'Education: Graduate', 'Self-Employed: No')\",\"('Credit: 1.0', 'Education: Graduate', 'Property Area: Semiurban', 'Gender: Male', 'Married: Yes', 'Education: Graduate', 'Self-Employed: No')\",\"('Credit: 1.0', 'Education: Not Graduate', 'Property Area: Urban', 'Gender: Male', 'Married: Yes', 'Education: Not Graduate', 'Self-Employed: No')\",\"('Credit: 1.0', 'Education: Graduate', 'Property Area: Semiurban', 'Gender: Male', 'Married: No', 'Education: Graduate', 'Self-Employed: No')\",\"('Credit: 1.0', 'Education: Not Graduate', 'Property Area: Semiurban', 'Gender: Male', 'Married: No', 'Education: Not Graduate', 'Self-Employed: No')\",\"('Credit: nan', 'Education: Graduate', 'Property Area: Urban', 'Gender: Male', 'Married: No', 'Education: Graduate', 'Self-Employed: nan')\",\"('Credit: 1.0', 'Education: Graduate', 'Property Area: Semiurban', 'Gender: Female', 'Married: Yes', 'Education: Graduate', 'Self-Employed: No')\",\"('Credit: 1.0', 'Education: Graduate', 'Property Area: Semiurban', 'Gender: Male', 'Married: Yes', 'Education: Graduate', 'Self-Employed: No')\",\"('Credit: 1.0', 'Education: Not Graduate', 'Property Area: Semiurban', 'Gender: Male', 'Married: Yes', 'Education: Not Graduate', 'Self-Employed: No')\",\"('Credit: 1.0', 'Education: Graduate', 'Property Area: Semiurban', 'Gender: Male', 'Married: Yes', 'Education: Graduate', 'Self-Employed: No')\",\"('Credit: 1.0', 'Education: Not Graduate', 'Property Area: Urban', 'Gender: Male', 'Married: Yes', 'Education: Not Graduate', 'Self-Employed: No')\",\"('Credit: 1.0', 'Education: Graduate', 'Property Area: Semiurban', 'Gender: Male', 'Married: No', 'Education: Graduate', 'Self-Employed: No')\",\"('Credit: 1.0', 'Education: Graduate', 'Property Area: Urban', 'Gender: Male', 'Married: Yes', 'Education: Graduate', 'Self-Employed: No')\",\"('Credit: 1.0', 'Education: Graduate', 'Property Area: Semiurban', 'Gender: Male', 'Married: Yes', 'Education: Graduate', 'Self-Employed: No')\",\"('Credit: 1.0', 'Education: Graduate', 'Property Area: Urban', 'Gender: Male', 'Married: nan', 'Education: Graduate', 'Self-Employed: No')\",\"('Credit: 1.0', 'Education: Graduate', 'Property Area: Urban', 'Gender: Male', 'Married: Yes', 'Education: Graduate', 'Self-Employed: No')\",\"('Credit: 1.0', 'Education: Graduate', 'Property Area: Urban', 'Gender: Male', 'Married: Yes', 'Education: Graduate', 'Self-Employed: No')\",\"('Credit: 1.0', 'Education: Not Graduate', 'Property Area: Rural', 'Gender: Male', 'Married: No', 'Education: Not Graduate', 'Self-Employed: nan')\",\"('Credit: 0.0', 'Education: Graduate', 'Property Area: Urban', 'Gender: Male', 'Married: Yes', 'Education: Graduate', 'Self-Employed: No')\",\"('Credit: 1.0', 'Education: Not Graduate', 'Property Area: Semiurban', 'Gender: Male', 'Married: Yes', 'Education: Not Graduate', 'Self-Employed: No')\",\"('Credit: 1.0', 'Education: Graduate', 'Property Area: Urban', 'Gender: Male', 'Married: No', 'Education: Graduate', 'Self-Employed: No')\",\"('Credit: 1.0', 'Education: Graduate', 'Property Area: Semiurban', 'Gender: Female', 'Married: Yes', 'Education: Graduate', 'Self-Employed: nan')\",\"('Credit: 0.0', 'Education: Not Graduate', 'Property Area: Rural', 'Gender: Male', 'Married: Yes', 'Education: Not Graduate', 'Self-Employed: No')\",\"('Credit: 1.0', 'Education: Graduate', 'Property Area: Semiurban', 'Gender: Female', 'Married: No', 'Education: Graduate', 'Self-Employed: Yes')\",\"('Credit: 1.0', 'Education: Graduate', 'Property Area: Semiurban', 'Gender: Male', 'Married: No', 'Education: Graduate', 'Self-Employed: nan')\",\"('Credit: 1.0', 'Education: Graduate', 'Property Area: Rural', 'Gender: Male', 'Married: Yes', 'Education: Graduate', 'Self-Employed: No')\",\"('Credit: 1.0', 'Education: Graduate', 'Property Area: Semiurban', 'Gender: Female', 'Married: Yes', 'Education: Graduate', 'Self-Employed: No')\",\"('Credit: nan', 'Education: Graduate', 'Property Area: Urban', 'Gender: Male', 'Married: Yes', 'Education: Graduate', 'Self-Employed: No')\",\"('Credit: 1.0', 'Education: Graduate', 'Property Area: Rural', 'Gender: Male', 'Married: Yes', 'Education: Graduate', 'Self-Employed: No')\",\"('Credit: 1.0', 'Education: Graduate', 'Property Area: Urban', 'Gender: Female', 'Married: No', 'Education: Graduate', 'Self-Employed: No')\",\"('Credit: 1.0', 'Education: Graduate', 'Property Area: Rural', 'Gender: Male', 'Married: Yes', 'Education: Graduate', 'Self-Employed: No')\",\"('Credit: 1.0', 'Education: Graduate', 'Property Area: Semiurban', 'Gender: Female', 'Married: No', 'Education: Graduate', 'Self-Employed: No')\",\"('Credit: 0.0', 'Education: Graduate', 'Property Area: Semiurban', 'Gender: Female', 'Married: No', 'Education: Graduate', 'Self-Employed: No')\",\"('Credit: 1.0', 'Education: Graduate', 'Property Area: Semiurban', 'Gender: Male', 'Married: Yes', 'Education: Graduate', 'Self-Employed: No')\",\"('Credit: 1.0', 'Education: Not Graduate', 'Property Area: Rural', 'Gender: Male', 'Married: Yes', 'Education: Not Graduate', 'Self-Employed: No')\",\"('Credit: nan', 'Education: Graduate', 'Property Area: Rural', 'Gender: Female', 'Married: No', 'Education: Graduate', 'Self-Employed: No')\",\"('Credit: 1.0', 'Education: Graduate', 'Property Area: Rural', 'Gender: nan', 'Married: Yes', 'Education: Graduate', 'Self-Employed: No')\",\"('Credit: 1.0', 'Education: Graduate', 'Property Area: Rural', 'Gender: Male', 'Married: No', 'Education: Graduate', 'Self-Employed: No')\",\"('Credit: 0.0', 'Education: Graduate', 'Property Area: Urban', 'Gender: Male', 'Married: Yes', 'Education: Graduate', 'Self-Employed: Yes')\",\"('Credit: nan', 'Education: Graduate', 'Property Area: Rural', 'Gender: Male', 'Married: Yes', 'Education: Graduate', 'Self-Employed: No')\",\"('Credit: nan', 'Education: Graduate', 'Property Area: Urban', 'Gender: Male', 'Married: No', 'Education: Graduate', 'Self-Employed: Yes')\",\"('Credit: 1.0', 'Education: Graduate', 'Property Area: Urban', 'Gender: Male', 'Married: No', 'Education: Graduate', 'Self-Employed: No')\",\"('Credit: 1.0', 'Education: Graduate', 'Property Area: Semiurban', 'Gender: Male', 'Married: No', 'Education: Graduate', 'Self-Employed: No')\",\"('Credit: 1.0', 'Education: Graduate', 'Property Area: Semiurban', 'Gender: Male', 'Married: Yes', 'Education: Graduate', 'Self-Employed: Yes')\",\"('Credit: 1.0', 'Education: Graduate', 'Property Area: Semiurban', 'Gender: Male', 'Married: No', 'Education: Graduate', 'Self-Employed: No')\",\"('Credit: 1.0', 'Education: Graduate', 'Property Area: Semiurban', 'Gender: Male', 'Married: Yes', 'Education: Graduate', 'Self-Employed: No')\",\"('Credit: 1.0', 'Education: Graduate', 'Property Area: Rural', 'Gender: Female', 'Married: Yes', 'Education: Graduate', 'Self-Employed: No')\",\"('Credit: 1.0', 'Education: Graduate', 'Property Area: Urban', 'Gender: Male', 'Married: Yes', 'Education: Graduate', 'Self-Employed: Yes')\",\"('Credit: 0.0', 'Education: Graduate', 'Property Area: Semiurban', 'Gender: Male', 'Married: No', 'Education: Graduate', 'Self-Employed: No')\",\"('Credit: 1.0', 'Education: Not Graduate', 'Property Area: Rural', 'Gender: Male', 'Married: Yes', 'Education: Not Graduate', 'Self-Employed: No')\",\"('Credit: 1.0', 'Education: Graduate', 'Property Area: Rural', 'Gender: Male', 'Married: Yes', 'Education: Graduate', 'Self-Employed: No')\",\"('Credit: 1.0', 'Education: Graduate', 'Property Area: Urban', 'Gender: Male', 'Married: No', 'Education: Graduate', 'Self-Employed: No')\",\"('Credit: 1.0', 'Education: Graduate', 'Property Area: Semiurban', 'Gender: Male', 'Married: No', 'Education: Graduate', 'Self-Employed: Yes')\",\"('Credit: 1.0', 'Education: Graduate', 'Property Area: Semiurban', 'Gender: Male', 'Married: Yes', 'Education: Graduate', 'Self-Employed: No')\",\"('Credit: 1.0', 'Education: Graduate', 'Property Area: Urban', 'Gender: Male', 'Married: Yes', 'Education: Graduate', 'Self-Employed: No')\",\"('Credit: 1.0', 'Education: Graduate', 'Property Area: Semiurban', 'Gender: Female', 'Married: Yes', 'Education: Graduate', 'Self-Employed: No')\",\"('Credit: 1.0', 'Education: Graduate', 'Property Area: Urban', 'Gender: Female', 'Married: Yes', 'Education: Graduate', 'Self-Employed: No')\",\"('Credit: 1.0', 'Education: Graduate', 'Property Area: Urban', 'Gender: Male', 'Married: Yes', 'Education: Graduate', 'Self-Employed: No')\",\"('Credit: 1.0', 'Education: Graduate', 'Property Area: Rural', 'Gender: Female', 'Married: No', 'Education: Graduate', 'Self-Employed: No')\",\"('Credit: 1.0', 'Education: Graduate', 'Property Area: Semiurban', 'Gender: Male', 'Married: Yes', 'Education: Graduate', 'Self-Employed: No')\",\"('Credit: 0.0', 'Education: Graduate', 'Property Area: Rural', 'Gender: Male', 'Married: No', 'Education: Graduate', 'Self-Employed: No')\",\"('Credit: 1.0', 'Education: Graduate', 'Property Area: Rural', 'Gender: Male', 'Married: Yes', 'Education: Graduate', 'Self-Employed: Yes')\",\"('Credit: 1.0', 'Education: Graduate', 'Property Area: Urban', 'Gender: Male', 'Married: No', 'Education: Graduate', 'Self-Employed: No')\",\"('Credit: 1.0', 'Education: Not Graduate', 'Property Area: Rural', 'Gender: Male', 'Married: Yes', 'Education: Not Graduate', 'Self-Employed: No')\",\"('Credit: 1.0', 'Education: Graduate', 'Property Area: Urban', 'Gender: Male', 'Married: No', 'Education: Graduate', 'Self-Employed: No')\",\"('Credit: 0.0', 'Education: Graduate', 'Property Area: Semiurban', 'Gender: Male', 'Married: Yes', 'Education: Graduate', 'Self-Employed: No')\",\"('Credit: nan', 'Education: Graduate', 'Property Area: Rural', 'Gender: Male', 'Married: Yes', 'Education: Graduate', 'Self-Employed: No')\",\"('Credit: 1.0', 'Education: Graduate', 'Property Area: Urban', 'Gender: Male', 'Married: Yes', 'Education: Graduate', 'Self-Employed: No')\",\"('Credit: 1.0', 'Education: Graduate', 'Property Area: Rural', 'Gender: Male', 'Married: No', 'Education: Graduate', 'Self-Employed: nan')\",\"('Credit: 1.0', 'Education: Graduate', 'Property Area: Semiurban', 'Gender: Male', 'Married: Yes', 'Education: Graduate', 'Self-Employed: No')\",\"('Credit: 1.0', 'Education: Not Graduate', 'Property Area: Semiurban', 'Gender: Male', 'Married: Yes', 'Education: Not Graduate', 'Self-Employed: No')\",\"('Credit: 1.0', 'Education: Graduate', 'Property Area: Urban', 'Gender: Male', 'Married: Yes', 'Education: Graduate', 'Self-Employed: No')\",\"('Credit: 0.0', 'Education: Graduate', 'Property Area: Semiurban', 'Gender: Male', 'Married: Yes', 'Education: Graduate', 'Self-Employed: No')\",\"('Credit: 1.0', 'Education: Graduate', 'Property Area: Rural', 'Gender: Male', 'Married: Yes', 'Education: Graduate', 'Self-Employed: No')\",\"('Credit: 1.0', 'Education: Graduate', 'Property Area: Urban', 'Gender: Male', 'Married: Yes', 'Education: Graduate', 'Self-Employed: No')\",\"('Credit: 1.0', 'Education: Graduate', 'Property Area: Rural', 'Gender: Male', 'Married: Yes', 'Education: Graduate', 'Self-Employed: No')\",\"('Credit: 1.0', 'Education: Graduate', 'Property Area: Rural', 'Gender: Female', 'Married: Yes', 'Education: Graduate', 'Self-Employed: No')\",\"('Credit: 1.0', 'Education: Graduate', 'Property Area: Rural', 'Gender: Male', 'Married: Yes', 'Education: Graduate', 'Self-Employed: No')\",\"('Credit: 0.0', 'Education: Graduate', 'Property Area: Semiurban', 'Gender: Male', 'Married: No', 'Education: Graduate', 'Self-Employed: No')\",\"('Credit: 1.0', 'Education: Graduate', 'Property Area: Semiurban', 'Gender: Male', 'Married: Yes', 'Education: Graduate', 'Self-Employed: No')\",\"('Credit: 1.0', 'Education: Not Graduate', 'Property Area: Rural', 'Gender: Male', 'Married: Yes', 'Education: Not Graduate', 'Self-Employed: nan')\",\"('Credit: 1.0', 'Education: Graduate', 'Property Area: Urban', 'Gender: nan', 'Married: Yes', 'Education: Graduate', 'Self-Employed: No')\",\"('Credit: 1.0', 'Education: Not Graduate', 'Property Area: Rural', 'Gender: Male', 'Married: Yes', 'Education: Not Graduate', 'Self-Employed: No')\",\"('Credit: 1.0', 'Education: Graduate', 'Property Area: Semiurban', 'Gender: Male', 'Married: Yes', 'Education: Graduate', 'Self-Employed: No')\",\"('Credit: 1.0', 'Education: Not Graduate', 'Property Area: Semiurban', 'Gender: Male', 'Married: Yes', 'Education: Not Graduate', 'Self-Employed: Yes')\",\"('Credit: 1.0', 'Education: Graduate', 'Property Area: Rural', 'Gender: Male', 'Married: Yes', 'Education: Graduate', 'Self-Employed: No')\",\"('Credit: 1.0', 'Education: Graduate', 'Property Area: Rural', 'Gender: Male', 'Married: Yes', 'Education: Graduate', 'Self-Employed: No')\",\"('Credit: 0.0', 'Education: Graduate', 'Property Area: Semiurban', 'Gender: Male', 'Married: Yes', 'Education: Graduate', 'Self-Employed: No')\",\"('Credit: 1.0', 'Education: Graduate', 'Property Area: Semiurban', 'Gender: Male', 'Married: Yes', 'Education: Graduate', 'Self-Employed: No')\",\"('Credit: 0.0', 'Education: Not Graduate', 'Property Area: Urban', 'Gender: Male', 'Married: No', 'Education: Not Graduate', 'Self-Employed: No')\",\"('Credit: 0.0', 'Education: Graduate', 'Property Area: Urban', 'Gender: Male', 'Married: Yes', 'Education: Graduate', 'Self-Employed: No')\",\"('Credit: nan', 'Education: Graduate', 'Property Area: Rural', 'Gender: Male', 'Married: No', 'Education: Graduate', 'Self-Employed: No')\",\"('Credit: 1.0', 'Education: Graduate', 'Property Area: Semiurban', 'Gender: Male', 'Married: Yes', 'Education: Graduate', 'Self-Employed: No')\",\"('Credit: 1.0', 'Education: Graduate', 'Property Area: Semiurban', 'Gender: Male', 'Married: Yes', 'Education: Graduate', 'Self-Employed: No')\",\"('Credit: 1.0', 'Education: Graduate', 'Property Area: Semiurban', 'Gender: Female', 'Married: Yes', 'Education: Graduate', 'Self-Employed: No')\",\"('Credit: 1.0', 'Education: Graduate', 'Property Area: Semiurban', 'Gender: Male', 'Married: Yes', 'Education: Graduate', 'Self-Employed: Yes')\",\"('Credit: 0.0', 'Education: Graduate', 'Property Area: Rural', 'Gender: Male', 'Married: Yes', 'Education: Graduate', 'Self-Employed: Yes')\",\"('Credit: nan', 'Education: Graduate', 'Property Area: Rural', 'Gender: Male', 'Married: Yes', 'Education: Graduate', 'Self-Employed: No')\",\"('Credit: 1.0', 'Education: Graduate', 'Property Area: Rural', 'Gender: nan', 'Married: Yes', 'Education: Graduate', 'Self-Employed: Yes')\",\"('Credit: 1.0', 'Education: Graduate', 'Property Area: Rural', 'Gender: Male', 'Married: Yes', 'Education: Graduate', 'Self-Employed: No')\",\"('Credit: 1.0', 'Education: Not Graduate', 'Property Area: Rural', 'Gender: Male', 'Married: No', 'Education: Not Graduate', 'Self-Employed: No')\",\"('Credit: 1.0', 'Education: Graduate', 'Property Area: Semiurban', 'Gender: Male', 'Married: No', 'Education: Graduate', 'Self-Employed: No')\",\"('Credit: 1.0', 'Education: Not Graduate', 'Property Area: Urban', 'Gender: Male', 'Married: Yes', 'Education: Not Graduate', 'Self-Employed: No')\",\"('Credit: 1.0', 'Education: Graduate', 'Property Area: Semiurban', 'Gender: Male', 'Married: No', 'Education: Graduate', 'Self-Employed: No')\",\"('Credit: 1.0', 'Education: Graduate', 'Property Area: Rural', 'Gender: Male', 'Married: No', 'Education: Graduate', 'Self-Employed: No')\",\"('Credit: 1.0', 'Education: Graduate', 'Property Area: Semiurban', 'Gender: Male', 'Married: Yes', 'Education: Graduate', 'Self-Employed: No')\",\"('Credit: 1.0', 'Education: Graduate', 'Property Area: Rural', 'Gender: Male', 'Married: No', 'Education: Graduate', 'Self-Employed: No')\",\"('Credit: 1.0', 'Education: Not Graduate', 'Property Area: Urban', 'Gender: Female', 'Married: No', 'Education: Not Graduate', 'Self-Employed: No')\",\"('Credit: nan', 'Education: Graduate', 'Property Area: Semiurban', 'Gender: Female', 'Married: Yes', 'Education: Graduate', 'Self-Employed: No')\",\"('Credit: 1.0', 'Education: Graduate', 'Property Area: Urban', 'Gender: Male', 'Married: No', 'Education: Graduate', 'Self-Employed: Yes')\",\"('Credit: 1.0', 'Education: Not Graduate', 'Property Area: Semiurban', 'Gender: Male', 'Married: Yes', 'Education: Not Graduate', 'Self-Employed: No')\",\"('Credit: 0.0', 'Education: Graduate', 'Property Area: Semiurban', 'Gender: Male', 'Married: No', 'Education: Graduate', 'Self-Employed: No')\",\"('Credit: 1.0', 'Education: Not Graduate', 'Property Area: Urban', 'Gender: Male', 'Married: Yes', 'Education: Not Graduate', 'Self-Employed: No')\",\"('Credit: 1.0', 'Education: Not Graduate', 'Property Area: Urban', 'Gender: Male', 'Married: Yes', 'Education: Not Graduate', 'Self-Employed: No')\",\"('Credit: 1.0', 'Education: Not Graduate', 'Property Area: Semiurban', 'Gender: Male', 'Married: Yes', 'Education: Not Graduate', 'Self-Employed: No')\",\"('Credit: 1.0', 'Education: Not Graduate', 'Property Area: Semiurban', 'Gender: Female', 'Married: No', 'Education: Not Graduate', 'Self-Employed: No')\",\"('Credit: 1.0', 'Education: Graduate', 'Property Area: Urban', 'Gender: Female', 'Married: No', 'Education: Graduate', 'Self-Employed: No')\",\"('Credit: 1.0', 'Education: Not Graduate', 'Property Area: Rural', 'Gender: Male', 'Married: No', 'Education: Not Graduate', 'Self-Employed: No')\",\"('Credit: 1.0', 'Education: Graduate', 'Property Area: Urban', 'Gender: Male', 'Married: No', 'Education: Graduate', 'Self-Employed: No')\",\"('Credit: 1.0', 'Education: Graduate', 'Property Area: Semiurban', 'Gender: Male', 'Married: No', 'Education: Graduate', 'Self-Employed: No')\",\"('Credit: 1.0', 'Education: Graduate', 'Property Area: Semiurban', 'Gender: Female', 'Married: No', 'Education: Graduate', 'Self-Employed: No')\",\"('Credit: 0.0', 'Education: Graduate', 'Property Area: Semiurban', 'Gender: Male', 'Married: Yes', 'Education: Graduate', 'Self-Employed: No')\",\"('Credit: 1.0', 'Education: Graduate', 'Property Area: Urban', 'Gender: Male', 'Married: Yes', 'Education: Graduate', 'Self-Employed: Yes')\",\"('Credit: 1.0', 'Education: Not Graduate', 'Property Area: Rural', 'Gender: Male', 'Married: Yes', 'Education: Not Graduate', 'Self-Employed: Yes')\",\"('Credit: 1.0', 'Education: Graduate', 'Property Area: Urban', 'Gender: Male', 'Married: Yes', 'Education: Graduate', 'Self-Employed: No')\",\"('Credit: 1.0', 'Education: Not Graduate', 'Property Area: Semiurban', 'Gender: Male', 'Married: Yes', 'Education: Not Graduate', 'Self-Employed: No')\",\"('Credit: 1.0', 'Education: Graduate', 'Property Area: Rural', 'Gender: Male', 'Married: Yes', 'Education: Graduate', 'Self-Employed: No')\",\"('Credit: 1.0', 'Education: Graduate', 'Property Area: Semiurban', 'Gender: Male', 'Married: Yes', 'Education: Graduate', 'Self-Employed: No')\",\"('Credit: 0.0', 'Education: Graduate', 'Property Area: Semiurban', 'Gender: Male', 'Married: Yes', 'Education: Graduate', 'Self-Employed: nan')\",\"('Credit: nan', 'Education: Graduate', 'Property Area: Semiurban', 'Gender: Female', 'Married: Yes', 'Education: Graduate', 'Self-Employed: No')\",\"('Credit: 0.0', 'Education: Graduate', 'Property Area: Urban', 'Gender: Male', 'Married: Yes', 'Education: Graduate', 'Self-Employed: No')\",\"('Credit: 1.0', 'Education: Graduate', 'Property Area: Semiurban', 'Gender: Male', 'Married: Yes', 'Education: Graduate', 'Self-Employed: No')\",\"('Credit: 1.0', 'Education: Graduate', 'Property Area: Semiurban', 'Gender: Male', 'Married: No', 'Education: Graduate', 'Self-Employed: No')\",\"('Credit: 1.0', 'Education: Graduate', 'Property Area: Semiurban', 'Gender: Male', 'Married: Yes', 'Education: Graduate', 'Self-Employed: No')\",\"('Credit: 1.0', 'Education: Graduate', 'Property Area: Semiurban', 'Gender: Male', 'Married: Yes', 'Education: Graduate', 'Self-Employed: No')\",\"('Credit: 1.0', 'Education: Graduate', 'Property Area: Rural', 'Gender: Male', 'Married: Yes', 'Education: Graduate', 'Self-Employed: No')\",\"('Credit: 1.0', 'Education: Not Graduate', 'Property Area: Urban', 'Gender: Male', 'Married: Yes', 'Education: Not Graduate', 'Self-Employed: Yes')\",\"('Credit: 1.0', 'Education: Graduate', 'Property Area: Semiurban', 'Gender: Male', 'Married: Yes', 'Education: Graduate', 'Self-Employed: No')\",\"('Credit: 1.0', 'Education: Graduate', 'Property Area: Semiurban', 'Gender: Male', 'Married: nan', 'Education: Graduate', 'Self-Employed: No')\",\"('Credit: 1.0', 'Education: Graduate', 'Property Area: Rural', 'Gender: Male', 'Married: No', 'Education: Graduate', 'Self-Employed: Yes')\",\"('Credit: 1.0', 'Education: Graduate', 'Property Area: Semiurban', 'Gender: Male', 'Married: Yes', 'Education: Graduate', 'Self-Employed: No')\",\"('Credit: 1.0', 'Education: Graduate', 'Property Area: Rural', 'Gender: Male', 'Married: Yes', 'Education: Graduate', 'Self-Employed: nan')\",\"('Credit: 1.0', 'Education: Not Graduate', 'Property Area: Rural', 'Gender: Male', 'Married: No', 'Education: Not Graduate', 'Self-Employed: No')\",\"('Credit: 1.0', 'Education: Graduate', 'Property Area: Semiurban', 'Gender: Female', 'Married: No', 'Education: Graduate', 'Self-Employed: No')\",\"('Credit: 1.0', 'Education: Graduate', 'Property Area: Semiurban', 'Gender: Male', 'Married: Yes', 'Education: Graduate', 'Self-Employed: No')\",\"('Credit: 1.0', 'Education: Graduate', 'Property Area: Rural', 'Gender: Male', 'Married: Yes', 'Education: Graduate', 'Self-Employed: No')\",\"('Credit: nan', 'Education: Graduate', 'Property Area: Urban', 'Gender: Male', 'Married: Yes', 'Education: Graduate', 'Self-Employed: nan')\",\"('Credit: nan', 'Education: Graduate', 'Property Area: Urban', 'Gender: Female', 'Married: No', 'Education: Graduate', 'Self-Employed: Yes')\",\"('Credit: 1.0', 'Education: Graduate', 'Property Area: Rural', 'Gender: Female', 'Married: No', 'Education: Graduate', 'Self-Employed: No')\",\"('Credit: 1.0', 'Education: Graduate', 'Property Area: Semiurban', 'Gender: Male', 'Married: Yes', 'Education: Graduate', 'Self-Employed: No')\",\"('Credit: 1.0', 'Education: Graduate', 'Property Area: Rural', 'Gender: Male', 'Married: Yes', 'Education: Graduate', 'Self-Employed: No')\",\"('Credit: 1.0', 'Education: Not Graduate', 'Property Area: Urban', 'Gender: Male', 'Married: Yes', 'Education: Not Graduate', 'Self-Employed: No')\",\"('Credit: 1.0', 'Education: Graduate', 'Property Area: Urban', 'Gender: Male', 'Married: No', 'Education: Graduate', 'Self-Employed: No')\",\"('Credit: 1.0', 'Education: Graduate', 'Property Area: Rural', 'Gender: Male', 'Married: Yes', 'Education: Graduate', 'Self-Employed: Yes')\",\"('Credit: 1.0', 'Education: Not Graduate', 'Property Area: Semiurban', 'Gender: Male', 'Married: Yes', 'Education: Not Graduate', 'Self-Employed: No')\",\"('Credit: 1.0', 'Education: Graduate', 'Property Area: Urban', 'Gender: Male', 'Married: No', 'Education: Graduate', 'Self-Employed: Yes')\",\"('Credit: 1.0', 'Education: Graduate', 'Property Area: Urban', 'Gender: Male', 'Married: Yes', 'Education: Graduate', 'Self-Employed: No')\",\"('Credit: 1.0', 'Education: Not Graduate', 'Property Area: Urban', 'Gender: Male', 'Married: Yes', 'Education: Not Graduate', 'Self-Employed: No')\",\"('Credit: 1.0', 'Education: Graduate', 'Property Area: Semiurban', 'Gender: Male', 'Married: Yes', 'Education: Graduate', 'Self-Employed: No')\",\"('Credit: 1.0', 'Education: Graduate', 'Property Area: Urban', 'Gender: Male', 'Married: Yes', 'Education: Graduate', 'Self-Employed: No')\",\"('Credit: 0.0', 'Education: Not Graduate', 'Property Area: Semiurban', 'Gender: Male', 'Married: Yes', 'Education: Not Graduate', 'Self-Employed: No')\",\"('Credit: 1.0', 'Education: Graduate', 'Property Area: Urban', 'Gender: Female', 'Married: No', 'Education: Graduate', 'Self-Employed: No')\",\"('Credit: 1.0', 'Education: Not Graduate', 'Property Area: Rural', 'Gender: Male', 'Married: No', 'Education: Not Graduate', 'Self-Employed: Yes')\",\"('Credit: 1.0', 'Education: Not Graduate', 'Property Area: Semiurban', 'Gender: Male', 'Married: Yes', 'Education: Not Graduate', 'Self-Employed: No')\",\"('Credit: 0.0', 'Education: Graduate', 'Property Area: Urban', 'Gender: Male', 'Married: No', 'Education: Graduate', 'Self-Employed: Yes')\",\"('Credit: 1.0', 'Education: Graduate', 'Property Area: Rural', 'Gender: Female', 'Married: No', 'Education: Graduate', 'Self-Employed: No')\",\"('Credit: 0.0', 'Education: Not Graduate', 'Property Area: Rural', 'Gender: Male', 'Married: No', 'Education: Not Graduate', 'Self-Employed: No')\",\"('Credit: 1.0', 'Education: Graduate', 'Property Area: Urban', 'Gender: Male', 'Married: Yes', 'Education: Graduate', 'Self-Employed: No')\",\"('Credit: 1.0', 'Education: Graduate', 'Property Area: Rural', 'Gender: Male', 'Married: Yes', 'Education: Graduate', 'Self-Employed: No')\",\"('Credit: nan', 'Education: Not Graduate', 'Property Area: Semiurban', 'Gender: Male', 'Married: Yes', 'Education: Not Graduate', 'Self-Employed: No')\",\"('Credit: nan', 'Education: Graduate', 'Property Area: Urban', 'Gender: Male', 'Married: Yes', 'Education: Graduate', 'Self-Employed: No')\",\"('Credit: 1.0', 'Education: Graduate', 'Property Area: Semiurban', 'Gender: Male', 'Married: No', 'Education: Graduate', 'Self-Employed: No')\",\"('Credit: 1.0', 'Education: Graduate', 'Property Area: Semiurban', 'Gender: Female', 'Married: No', 'Education: Graduate', 'Self-Employed: No')\",\"('Credit: 1.0', 'Education: Graduate', 'Property Area: Rural', 'Gender: Female', 'Married: No', 'Education: Graduate', 'Self-Employed: No')\",\"('Credit: 1.0', 'Education: Graduate', 'Property Area: Semiurban', 'Gender: Male', 'Married: No', 'Education: Graduate', 'Self-Employed: Yes')\",\"('Credit: 1.0', 'Education: Graduate', 'Property Area: Rural', 'Gender: Male', 'Married: No', 'Education: Graduate', 'Self-Employed: No')\",\"('Credit: 1.0', 'Education: Graduate', 'Property Area: Semiurban', 'Gender: Male', 'Married: Yes', 'Education: Graduate', 'Self-Employed: No')\",\"('Credit: 0.0', 'Education: Graduate', 'Property Area: Urban', 'Gender: Male', 'Married: Yes', 'Education: Graduate', 'Self-Employed: No')\",\"('Credit: 1.0', 'Education: Graduate', 'Property Area: Rural', 'Gender: Female', 'Married: No', 'Education: Graduate', 'Self-Employed: nan')\",\"('Credit: 1.0', 'Education: Graduate', 'Property Area: Urban', 'Gender: Female', 'Married: No', 'Education: Graduate', 'Self-Employed: No')\",\"('Credit: 1.0', 'Education: Graduate', 'Property Area: Urban', 'Gender: Female', 'Married: No', 'Education: Graduate', 'Self-Employed: No')\",\"('Credit: 1.0', 'Education: Graduate', 'Property Area: Urban', 'Gender: Male', 'Married: Yes', 'Education: Graduate', 'Self-Employed: No')\",\"('Credit: 1.0', 'Education: Graduate', 'Property Area: Rural', 'Gender: Male', 'Married: No', 'Education: Graduate', 'Self-Employed: No')\",\"('Credit: 1.0', 'Education: Graduate', 'Property Area: Semiurban', 'Gender: Male', 'Married: Yes', 'Education: Graduate', 'Self-Employed: No')\",\"('Credit: 1.0', 'Education: Graduate', 'Property Area: Semiurban', 'Gender: Male', 'Married: Yes', 'Education: Graduate', 'Self-Employed: No')\",\"('Credit: 1.0', 'Education: Graduate', 'Property Area: Semiurban', 'Gender: Male', 'Married: Yes', 'Education: Graduate', 'Self-Employed: No')\",\"('Credit: 1.0', 'Education: Graduate', 'Property Area: Semiurban', 'Gender: Male', 'Married: Yes', 'Education: Graduate', 'Self-Employed: No')\",\"('Credit: 1.0', 'Education: Graduate', 'Property Area: Urban', 'Gender: Male', 'Married: Yes', 'Education: Graduate', 'Self-Employed: No')\",\"('Credit: 1.0', 'Education: Graduate', 'Property Area: Semiurban', 'Gender: Male', 'Married: Yes', 'Education: Graduate', 'Self-Employed: No')\",\"('Credit: nan', 'Education: Not Graduate', 'Property Area: Rural', 'Gender: Female', 'Married: Yes', 'Education: Not Graduate', 'Self-Employed: No')\",\"('Credit: 0.0', 'Education: Not Graduate', 'Property Area: Urban', 'Gender: Male', 'Married: No', 'Education: Not Graduate', 'Self-Employed: Yes')\",\"('Credit: 1.0', 'Education: Graduate', 'Property Area: Semiurban', 'Gender: Male', 'Married: Yes', 'Education: Graduate', 'Self-Employed: No')\",\"('Credit: 1.0', 'Education: Graduate', 'Property Area: Urban', 'Gender: Male', 'Married: Yes', 'Education: Graduate', 'Self-Employed: No')\",\"('Credit: 1.0', 'Education: Graduate', 'Property Area: Urban', 'Gender: Female', 'Married: No', 'Education: Graduate', 'Self-Employed: No')\",\"('Credit: 1.0', 'Education: Graduate', 'Property Area: Rural', 'Gender: Male', 'Married: Yes', 'Education: Graduate', 'Self-Employed: No')\",\"('Credit: 1.0', 'Education: Graduate', 'Property Area: Rural', 'Gender: Male', 'Married: No', 'Education: Graduate', 'Self-Employed: No')\",\"('Credit: 1.0', 'Education: Graduate', 'Property Area: Semiurban', 'Gender: Female', 'Married: No', 'Education: Graduate', 'Self-Employed: Yes')\",\"('Credit: 1.0', 'Education: Graduate', 'Property Area: Rural', 'Gender: Male', 'Married: Yes', 'Education: Graduate', 'Self-Employed: No')\",\"('Credit: 1.0', 'Education: Graduate', 'Property Area: Semiurban', 'Gender: Female', 'Married: No', 'Education: Graduate', 'Self-Employed: No')\",\"('Credit: 1.0', 'Education: Graduate', 'Property Area: Rural', 'Gender: Male', 'Married: No', 'Education: Graduate', 'Self-Employed: No')\",\"('Credit: 1.0', 'Education: Graduate', 'Property Area: Rural', 'Gender: Male', 'Married: Yes', 'Education: Graduate', 'Self-Employed: No')\",\"('Credit: 0.0', 'Education: Graduate', 'Property Area: Semiurban', 'Gender: Male', 'Married: Yes', 'Education: Graduate', 'Self-Employed: No')\",\"('Credit: 1.0', 'Education: Graduate', 'Property Area: Urban', 'Gender: Male', 'Married: Yes', 'Education: Graduate', 'Self-Employed: No')\",\"('Credit: 0.0', 'Education: Graduate', 'Property Area: Urban', 'Gender: Female', 'Married: No', 'Education: Graduate', 'Self-Employed: No')\",\"('Credit: 1.0', 'Education: Graduate', 'Property Area: Semiurban', 'Gender: Male', 'Married: Yes', 'Education: Graduate', 'Self-Employed: No')\",\"('Credit: 1.0', 'Education: Graduate', 'Property Area: Urban', 'Gender: Male', 'Married: Yes', 'Education: Graduate', 'Self-Employed: nan')\",\"('Credit: 1.0', 'Education: Graduate', 'Property Area: Semiurban', 'Gender: Male', 'Married: Yes', 'Education: Graduate', 'Self-Employed: No')\",\"('Credit: 1.0', 'Education: Graduate', 'Property Area: Urban', 'Gender: Female', 'Married: Yes', 'Education: Graduate', 'Self-Employed: No')\",\"('Credit: 1.0', 'Education: Graduate', 'Property Area: Rural', 'Gender: Female', 'Married: No', 'Education: Graduate', 'Self-Employed: No')\",\"('Credit: 1.0', 'Education: Graduate', 'Property Area: Urban', 'Gender: Male', 'Married: Yes', 'Education: Graduate', 'Self-Employed: No')\",\"('Credit: 0.0', 'Education: Not Graduate', 'Property Area: Urban', 'Gender: Male', 'Married: Yes', 'Education: Not Graduate', 'Self-Employed: No')\",\"('Credit: 1.0', 'Education: Not Graduate', 'Property Area: Semiurban', 'Gender: Male', 'Married: Yes', 'Education: Not Graduate', 'Self-Employed: No')\",\"('Credit: 1.0', 'Education: Graduate', 'Property Area: Rural', 'Gender: Female', 'Married: No', 'Education: Graduate', 'Self-Employed: No')\",\"('Credit: 1.0', 'Education: Graduate', 'Property Area: Urban', 'Gender: Male', 'Married: Yes', 'Education: Graduate', 'Self-Employed: No')\",\"('Credit: 1.0', 'Education: Graduate', 'Property Area: Rural', 'Gender: Male', 'Married: No', 'Education: Graduate', 'Self-Employed: No')\",\"('Credit: 1.0', 'Education: Not Graduate', 'Property Area: Urban', 'Gender: Male', 'Married: No', 'Education: Not Graduate', 'Self-Employed: No')\",\"('Credit: 1.0', 'Education: Graduate', 'Property Area: Rural', 'Gender: Female', 'Married: No', 'Education: Graduate', 'Self-Employed: No')\",\"('Credit: 0.0', 'Education: Graduate', 'Property Area: Urban', 'Gender: Female', 'Married: No', 'Education: Graduate', 'Self-Employed: No')\",\"('Credit: 1.0', 'Education: Graduate', 'Property Area: Rural', 'Gender: Male', 'Married: No', 'Education: Graduate', 'Self-Employed: No')\",\"('Credit: nan', 'Education: Not Graduate', 'Property Area: Rural', 'Gender: Male', 'Married: Yes', 'Education: Not Graduate', 'Self-Employed: No')\",\"('Credit: 1.0', 'Education: Graduate', 'Property Area: Semiurban', 'Gender: Female', 'Married: No', 'Education: Graduate', 'Self-Employed: No')\",\"('Credit: 1.0', 'Education: Not Graduate', 'Property Area: Semiurban', 'Gender: Male', 'Married: No', 'Education: Not Graduate', 'Self-Employed: No')\",\"('Credit: 1.0', 'Education: Graduate', 'Property Area: Rural', 'Gender: Female', 'Married: No', 'Education: Graduate', 'Self-Employed: No')\",\"('Credit: nan', 'Education: Graduate', 'Property Area: Rural', 'Gender: Male', 'Married: Yes', 'Education: Graduate', 'Self-Employed: Yes')\",\"('Credit: 1.0', 'Education: Graduate', 'Property Area: Rural', 'Gender: nan', 'Married: Yes', 'Education: Graduate', 'Self-Employed: No')\",\"('Credit: 1.0', 'Education: Not Graduate', 'Property Area: Urban', 'Gender: Male', 'Married: Yes', 'Education: Not Graduate', 'Self-Employed: No')\",\"('Credit: 1.0', 'Education: Graduate', 'Property Area: Semiurban', 'Gender: Male', 'Married: Yes', 'Education: Graduate', 'Self-Employed: No')\",\"('Credit: nan', 'Education: Graduate', 'Property Area: Urban', 'Gender: Male', 'Married: Yes', 'Education: Graduate', 'Self-Employed: No')\",\"('Credit: nan', 'Education: Graduate', 'Property Area: Semiurban', 'Gender: Female', 'Married: No', 'Education: Graduate', 'Self-Employed: No')\",\"('Credit: 1.0', 'Education: Graduate', 'Property Area: Rural', 'Gender: Male', 'Married: Yes', 'Education: Graduate', 'Self-Employed: Yes')\",\"('Credit: 1.0', 'Education: Graduate', 'Property Area: Semiurban', 'Gender: Male', 'Married: Yes', 'Education: Graduate', 'Self-Employed: No')\",\"('Credit: 1.0', 'Education: Graduate', 'Property Area: Semiurban', 'Gender: Male', 'Married: Yes', 'Education: Graduate', 'Self-Employed: No')\",\"('Credit: 1.0', 'Education: Not Graduate', 'Property Area: Rural', 'Gender: Male', 'Married: Yes', 'Education: Not Graduate', 'Self-Employed: No')\",\"('Credit: nan', 'Education: Graduate', 'Property Area: Rural', 'Gender: Female', 'Married: No', 'Education: Graduate', 'Self-Employed: No')\",\"('Credit: 1.0', 'Education: Graduate', 'Property Area: Rural', 'Gender: Male', 'Married: Yes', 'Education: Graduate', 'Self-Employed: No')\",\"('Credit: 0.0', 'Education: Graduate', 'Property Area: Rural', 'Gender: Male', 'Married: Yes', 'Education: Graduate', 'Self-Employed: Yes')\",\"('Credit: 0.0', 'Education: Graduate', 'Property Area: Rural', 'Gender: Male', 'Married: No', 'Education: Graduate', 'Self-Employed: No')\",\"('Credit: 1.0', 'Education: Graduate', 'Property Area: Semiurban', 'Gender: Male', 'Married: Yes', 'Education: Graduate', 'Self-Employed: Yes')\",\"('Credit: 1.0', 'Education: Graduate', 'Property Area: Urban', 'Gender: Female', 'Married: Yes', 'Education: Graduate', 'Self-Employed: No')\",\"('Credit: 1.0', 'Education: Graduate', 'Property Area: Urban', 'Gender: Female', 'Married: No', 'Education: Graduate', 'Self-Employed: No')\",\"('Credit: 1.0', 'Education: Graduate', 'Property Area: Urban', 'Gender: Male', 'Married: No', 'Education: Graduate', 'Self-Employed: No')\",\"('Credit: 1.0', 'Education: Graduate', 'Property Area: Semiurban', 'Gender: Male', 'Married: No', 'Education: Graduate', 'Self-Employed: No')\",\"('Credit: 1.0', 'Education: Graduate', 'Property Area: Urban', 'Gender: Male', 'Married: No', 'Education: Graduate', 'Self-Employed: No')\",\"('Credit: 1.0', 'Education: Graduate', 'Property Area: Urban', 'Gender: Male', 'Married: Yes', 'Education: Graduate', 'Self-Employed: nan')\",\"('Credit: 1.0', 'Education: Graduate', 'Property Area: Urban', 'Gender: nan', 'Married: Yes', 'Education: Graduate', 'Self-Employed: Yes')\",\"('Credit: 1.0', 'Education: Graduate', 'Property Area: Semiurban', 'Gender: Male', 'Married: Yes', 'Education: Graduate', 'Self-Employed: Yes')\",\"('Credit: 1.0', 'Education: Graduate', 'Property Area: Rural', 'Gender: Male', 'Married: Yes', 'Education: Graduate', 'Self-Employed: nan')\",\"('Credit: 1.0', 'Education: Graduate', 'Property Area: Rural', 'Gender: Male', 'Married: Yes', 'Education: Graduate', 'Self-Employed: Yes')\",\"('Credit: 0.0', 'Education: Not Graduate', 'Property Area: Urban', 'Gender: Female', 'Married: No', 'Education: Not Graduate', 'Self-Employed: No')\",\"('Credit: 1.0', 'Education: Graduate', 'Property Area: Semiurban', 'Gender: Female', 'Married: No', 'Education: Graduate', 'Self-Employed: No')\",\"('Credit: 1.0', 'Education: Not Graduate', 'Property Area: Rural', 'Gender: Male', 'Married: Yes', 'Education: Not Graduate', 'Self-Employed: No')\",\"('Credit: 1.0', 'Education: Graduate', 'Property Area: Rural', 'Gender: Female', 'Married: No', 'Education: Graduate', 'Self-Employed: No')\",\"('Credit: 1.0', 'Education: Not Graduate', 'Property Area: Urban', 'Gender: Male', 'Married: Yes', 'Education: Not Graduate', 'Self-Employed: No')\",\"('Credit: 1.0', 'Education: Not Graduate', 'Property Area: Semiurban', 'Gender: Male', 'Married: Yes', 'Education: Not Graduate', 'Self-Employed: No')\",\"('Credit: 1.0', 'Education: Graduate', 'Property Area: Rural', 'Gender: Male', 'Married: Yes', 'Education: Graduate', 'Self-Employed: nan')\",\"('Credit: 1.0', 'Education: Graduate', 'Property Area: Semiurban', 'Gender: Male', 'Married: Yes', 'Education: Graduate', 'Self-Employed: No')\",\"('Credit: 0.0', 'Education: Not Graduate', 'Property Area: Rural', 'Gender: Male', 'Married: Yes', 'Education: Not Graduate', 'Self-Employed: No')\",\"('Credit: 1.0', 'Education: Not Graduate', 'Property Area: Urban', 'Gender: Male', 'Married: Yes', 'Education: Not Graduate', 'Self-Employed: No')\",\"('Credit: nan', 'Education: Graduate', 'Property Area: Semiurban', 'Gender: Male', 'Married: Yes', 'Education: Graduate', 'Self-Employed: No')\",\"('Credit: 1.0', 'Education: Graduate', 'Property Area: Rural', 'Gender: Male', 'Married: Yes', 'Education: Graduate', 'Self-Employed: No')\",\"('Credit: 1.0', 'Education: Graduate', 'Property Area: Semiurban', 'Gender: Male', 'Married: Yes', 'Education: Graduate', 'Self-Employed: No')\",\"('Credit: 1.0', 'Education: Graduate', 'Property Area: Rural', 'Gender: Male', 'Married: No', 'Education: Graduate', 'Self-Employed: No')\",\"('Credit: 1.0', 'Education: Graduate', 'Property Area: Rural', 'Gender: Male', 'Married: Yes', 'Education: Graduate', 'Self-Employed: No')\",\"('Credit: 0.0', 'Education: Graduate', 'Property Area: Rural', 'Gender: Female', 'Married: Yes', 'Education: Graduate', 'Self-Employed: Yes')\",\"('Credit: 1.0', 'Education: Graduate', 'Property Area: Semiurban', 'Gender: Female', 'Married: Yes', 'Education: Graduate', 'Self-Employed: No')\",\"('Credit: 1.0', 'Education: Graduate', 'Property Area: Urban', 'Gender: Female', 'Married: No', 'Education: Graduate', 'Self-Employed: No')\",\"('Credit: 1.0', 'Education: Graduate', 'Property Area: Rural', 'Gender: Male', 'Married: Yes', 'Education: Graduate', 'Self-Employed: No')\",\"('Credit: 1.0', 'Education: Graduate', 'Property Area: Urban', 'Gender: Male', 'Married: Yes', 'Education: Graduate', 'Self-Employed: No')\",\"('Credit: 0.0', 'Education: Not Graduate', 'Property Area: Urban', 'Gender: Male', 'Married: Yes', 'Education: Not Graduate', 'Self-Employed: No')\",\"('Credit: 1.0', 'Education: Graduate', 'Property Area: Semiurban', 'Gender: Male', 'Married: Yes', 'Education: Graduate', 'Self-Employed: No')\",\"('Credit: 1.0', 'Education: Graduate', 'Property Area: Semiurban', 'Gender: Female', 'Married: No', 'Education: Graduate', 'Self-Employed: No')\",\"('Credit: 1.0', 'Education: Graduate', 'Property Area: Semiurban', 'Gender: Male', 'Married: Yes', 'Education: Graduate', 'Self-Employed: No')\",\"('Credit: 1.0', 'Education: Graduate', 'Property Area: Urban', 'Gender: Male', 'Married: Yes', 'Education: Graduate', 'Self-Employed: No')\",\"('Credit: nan', 'Education: Graduate', 'Property Area: Urban', 'Gender: Male', 'Married: Yes', 'Education: Graduate', 'Self-Employed: No')\",\"('Credit: 1.0', 'Education: Graduate', 'Property Area: Rural', 'Gender: Male', 'Married: No', 'Education: Graduate', 'Self-Employed: Yes')\",\"('Credit: 1.0', 'Education: Not Graduate', 'Property Area: Rural', 'Gender: Male', 'Married: No', 'Education: Not Graduate', 'Self-Employed: No')\",\"('Credit: 1.0', 'Education: Graduate', 'Property Area: Semiurban', 'Gender: Male', 'Married: No', 'Education: Graduate', 'Self-Employed: No')\",\"('Credit: 0.0', 'Education: Graduate', 'Property Area: Rural', 'Gender: Male', 'Married: No', 'Education: Graduate', 'Self-Employed: No')\",\"('Credit: 1.0', 'Education: Graduate', 'Property Area: Semiurban', 'Gender: Male', 'Married: Yes', 'Education: Graduate', 'Self-Employed: No')\",\"('Credit: 1.0', 'Education: Graduate', 'Property Area: Rural', 'Gender: Male', 'Married: Yes', 'Education: Graduate', 'Self-Employed: No')\",\"('Credit: 1.0', 'Education: Graduate', 'Property Area: Semiurban', 'Gender: Female', 'Married: No', 'Education: Graduate', 'Self-Employed: Yes')\",\"('Credit: 1.0', 'Education: Graduate', 'Property Area: Semiurban', 'Gender: Male', 'Married: Yes', 'Education: Graduate', 'Self-Employed: No')\",\"('Credit: 1.0', 'Education: Graduate', 'Property Area: Rural', 'Gender: Male', 'Married: Yes', 'Education: Graduate', 'Self-Employed: Yes')\",\"('Credit: 0.0', 'Education: Graduate', 'Property Area: Urban', 'Gender: Male', 'Married: No', 'Education: Graduate', 'Self-Employed: No')\",\"('Credit: 1.0', 'Education: Graduate', 'Property Area: Urban', 'Gender: Female', 'Married: No', 'Education: Graduate', 'Self-Employed: nan')\",\"('Credit: 1.0', 'Education: Graduate', 'Property Area: Urban', 'Gender: Male', 'Married: Yes', 'Education: Graduate', 'Self-Employed: No')\",\"('Credit: 1.0', 'Education: Graduate', 'Property Area: Rural', 'Gender: Male', 'Married: Yes', 'Education: Graduate', 'Self-Employed: No')\",\"('Credit: nan', 'Education: Graduate', 'Property Area: Semiurban', 'Gender: Male', 'Married: Yes', 'Education: Graduate', 'Self-Employed: No')\",\"('Credit: 1.0', 'Education: Graduate', 'Property Area: Urban', 'Gender: Male', 'Married: No', 'Education: Graduate', 'Self-Employed: No')\",\"('Credit: 1.0', 'Education: Graduate', 'Property Area: Urban', 'Gender: Male', 'Married: Yes', 'Education: Graduate', 'Self-Employed: No')\",\"('Credit: 1.0', 'Education: Graduate', 'Property Area: Semiurban', 'Gender: Male', 'Married: Yes', 'Education: Graduate', 'Self-Employed: nan')\",\"('Credit: 1.0', 'Education: Graduate', 'Property Area: Semiurban', 'Gender: Male', 'Married: No', 'Education: Graduate', 'Self-Employed: No')\",\"('Credit: 1.0', 'Education: Graduate', 'Property Area: Urban', 'Gender: Female', 'Married: No', 'Education: Graduate', 'Self-Employed: No')\",\"('Credit: 1.0', 'Education: Graduate', 'Property Area: Urban', 'Gender: Male', 'Married: No', 'Education: Graduate', 'Self-Employed: Yes')\",\"('Credit: 1.0', 'Education: Graduate', 'Property Area: Urban', 'Gender: Male', 'Married: Yes', 'Education: Graduate', 'Self-Employed: No')\",\"('Credit: 1.0', 'Education: Graduate', 'Property Area: Urban', 'Gender: Male', 'Married: No', 'Education: Graduate', 'Self-Employed: nan')\",\"('Credit: 1.0', 'Education: Not Graduate', 'Property Area: Semiurban', 'Gender: Male', 'Married: No', 'Education: Not Graduate', 'Self-Employed: No')\",\"('Credit: 0.0', 'Education: Not Graduate', 'Property Area: Urban', 'Gender: Male', 'Married: Yes', 'Education: Not Graduate', 'Self-Employed: No')\",\"('Credit: 1.0', 'Education: Graduate', 'Property Area: Urban', 'Gender: Male', 'Married: Yes', 'Education: Graduate', 'Self-Employed: No')\",\"('Credit: 1.0', 'Education: Graduate', 'Property Area: Rural', 'Gender: Male', 'Married: Yes', 'Education: Graduate', 'Self-Employed: No')\",\"('Credit: 1.0', 'Education: Graduate', 'Property Area: Rural', 'Gender: Male', 'Married: No', 'Education: Graduate', 'Self-Employed: No')\",\"('Credit: 1.0', 'Education: Graduate', 'Property Area: Rural', 'Gender: Male', 'Married: Yes', 'Education: Graduate', 'Self-Employed: No')\",\"('Credit: nan', 'Education: Graduate', 'Property Area: Urban', 'Gender: Male', 'Married: Yes', 'Education: Graduate', 'Self-Employed: No')\",\"('Credit: 1.0', 'Education: Not Graduate', 'Property Area: Semiurban', 'Gender: Male', 'Married: Yes', 'Education: Not Graduate', 'Self-Employed: No')\",\"('Credit: 1.0', 'Education: Graduate', 'Property Area: Urban', 'Gender: Male', 'Married: Yes', 'Education: Graduate', 'Self-Employed: No')\",\"('Credit: nan', 'Education: Graduate', 'Property Area: Semiurban', 'Gender: Male', 'Married: Yes', 'Education: Graduate', 'Self-Employed: No')\",\"('Credit: 0.0', 'Education: Graduate', 'Property Area: Urban', 'Gender: Female', 'Married: No', 'Education: Graduate', 'Self-Employed: No')\",\"('Credit: 1.0', 'Education: Graduate', 'Property Area: Urban', 'Gender: Male', 'Married: Yes', 'Education: Graduate', 'Self-Employed: No')\",\"('Credit: 1.0', 'Education: Not Graduate', 'Property Area: Rural', 'Gender: Male', 'Married: No', 'Education: Not Graduate', 'Self-Employed: No')\",\"('Credit: 0.0', 'Education: Graduate', 'Property Area: Semiurban', 'Gender: Female', 'Married: No', 'Education: Graduate', 'Self-Employed: No')\",\"('Credit: 0.0', 'Education: Not Graduate', 'Property Area: Urban', 'Gender: Male', 'Married: Yes', 'Education: Not Graduate', 'Self-Employed: No')\",\"('Credit: 1.0', 'Education: Not Graduate', 'Property Area: Rural', 'Gender: Male', 'Married: No', 'Education: Not Graduate', 'Self-Employed: No')\",\"('Credit: 1.0', 'Education: Graduate', 'Property Area: Semiurban', 'Gender: Male', 'Married: No', 'Education: Graduate', 'Self-Employed: No')\",\"('Credit: 1.0', 'Education: Not Graduate', 'Property Area: Semiurban', 'Gender: Female', 'Married: No', 'Education: Not Graduate', 'Self-Employed: No')\",\"('Credit: 1.0', 'Education: Graduate', 'Property Area: Rural', 'Gender: Female', 'Married: No', 'Education: Graduate', 'Self-Employed: Yes')\",\"('Credit: 1.0', 'Education: Graduate', 'Property Area: Semiurban', 'Gender: Female', 'Married: No', 'Education: Graduate', 'Self-Employed: No')\",\"('Credit: 1.0', 'Education: Not Graduate', 'Property Area: Urban', 'Gender: Male', 'Married: Yes', 'Education: Not Graduate', 'Self-Employed: No')\",\"('Credit: 1.0', 'Education: Not Graduate', 'Property Area: Rural', 'Gender: Female', 'Married: No', 'Education: Not Graduate', 'Self-Employed: No')\",\"('Credit: 0.0', 'Education: Graduate', 'Property Area: Semiurban', 'Gender: Male', 'Married: Yes', 'Education: Graduate', 'Self-Employed: No')\",\"('Credit: 0.0', 'Education: Graduate', 'Property Area: Rural', 'Gender: Male', 'Married: Yes', 'Education: Graduate', 'Self-Employed: No')\",\"('Credit: 1.0', 'Education: Not Graduate', 'Property Area: Semiurban', 'Gender: Female', 'Married: No', 'Education: Not Graduate', 'Self-Employed: Yes')\",\"('Credit: nan', 'Education: Graduate', 'Property Area: Urban', 'Gender: Male', 'Married: Yes', 'Education: Graduate', 'Self-Employed: nan')\",\"('Credit: 0.0', 'Education: Not Graduate', 'Property Area: Rural', 'Gender: Male', 'Married: Yes', 'Education: Not Graduate', 'Self-Employed: No')\",\"('Credit: 1.0', 'Education: Not Graduate', 'Property Area: Rural', 'Gender: Male', 'Married: Yes', 'Education: Not Graduate', 'Self-Employed: No')\",\"('Credit: 0.0', 'Education: Not Graduate', 'Property Area: Semiurban', 'Gender: Female', 'Married: Yes', 'Education: Not Graduate', 'Self-Employed: No')\",\"('Credit: 1.0', 'Education: Graduate', 'Property Area: Urban', 'Gender: Female', 'Married: No', 'Education: Graduate', 'Self-Employed: No')\",\"('Credit: 1.0', 'Education: Graduate', 'Property Area: Urban', 'Gender: Female', 'Married: No', 'Education: Graduate', 'Self-Employed: No')\",\"('Credit: 1.0', 'Education: Graduate', 'Property Area: Urban', 'Gender: Male', 'Married: Yes', 'Education: Graduate', 'Self-Employed: Yes')\",\"('Credit: 1.0', 'Education: Graduate', 'Property Area: Rural', 'Gender: Male', 'Married: Yes', 'Education: Graduate', 'Self-Employed: No')\",\"('Credit: 1.0', 'Education: Graduate', 'Property Area: Semiurban', 'Gender: Male', 'Married: Yes', 'Education: Graduate', 'Self-Employed: No')\",\"('Credit: 1.0', 'Education: Graduate', 'Property Area: Rural', 'Gender: Male', 'Married: Yes', 'Education: Graduate', 'Self-Employed: No')\",\"('Credit: 0.0', 'Education: Not Graduate', 'Property Area: Urban', 'Gender: Female', 'Married: No', 'Education: Not Graduate', 'Self-Employed: No')\",\"('Credit: 1.0', 'Education: Graduate', 'Property Area: Urban', 'Gender: Male', 'Married: Yes', 'Education: Graduate', 'Self-Employed: No')\",\"('Credit: 0.0', 'Education: Graduate', 'Property Area: Urban', 'Gender: Male', 'Married: Yes', 'Education: Graduate', 'Self-Employed: No')\",\"('Credit: 1.0', 'Education: Graduate', 'Property Area: Semiurban', 'Gender: Male', 'Married: Yes', 'Education: Graduate', 'Self-Employed: No')\",\"('Credit: 1.0', 'Education: Graduate', 'Property Area: Rural', 'Gender: Male', 'Married: Yes', 'Education: Graduate', 'Self-Employed: No')\",\"('Credit: 1.0', 'Education: Not Graduate', 'Property Area: Rural', 'Gender: Female', 'Married: No', 'Education: Not Graduate', 'Self-Employed: No')\",\"('Credit: 1.0', 'Education: Graduate', 'Property Area: Semiurban', 'Gender: Male', 'Married: Yes', 'Education: Graduate', 'Self-Employed: No')\",\"('Credit: 1.0', 'Education: Graduate', 'Property Area: Rural', 'Gender: Male', 'Married: Yes', 'Education: Graduate', 'Self-Employed: No')\",\"('Credit: 1.0', 'Education: Not Graduate', 'Property Area: Urban', 'Gender: Male', 'Married: No', 'Education: Not Graduate', 'Self-Employed: No')\",\"('Credit: 1.0', 'Education: Graduate', 'Property Area: Semiurban', 'Gender: Female', 'Married: No', 'Education: Graduate', 'Self-Employed: Yes')\",\"('Credit: 0.0', 'Education: Graduate', 'Property Area: Rural', 'Gender: Male', 'Married: No', 'Education: Graduate', 'Self-Employed: No')\",\"('Credit: 1.0', 'Education: Graduate', 'Property Area: Semiurban', 'Gender: Male', 'Married: No', 'Education: Graduate', 'Self-Employed: nan')\",\"('Credit: 1.0', 'Education: Graduate', 'Property Area: Semiurban', 'Gender: Male', 'Married: Yes', 'Education: Graduate', 'Self-Employed: No')\",\"('Credit: 1.0', 'Education: Graduate', 'Property Area: Urban', 'Gender: Male', 'Married: No', 'Education: Graduate', 'Self-Employed: No')\",\"('Credit: 1.0', 'Education: Graduate', 'Property Area: Semiurban', 'Gender: Female', 'Married: nan', 'Education: Graduate', 'Self-Employed: No')\",\"('Credit: 1.0', 'Education: Graduate', 'Property Area: Semiurban', 'Gender: Male', 'Married: No', 'Education: Graduate', 'Self-Employed: No')\",\"('Credit: 1.0', 'Education: Graduate', 'Property Area: Urban', 'Gender: Male', 'Married: Yes', 'Education: Graduate', 'Self-Employed: No')\",\"('Credit: 0.0', 'Education: Graduate', 'Property Area: Urban', 'Gender: Male', 'Married: No', 'Education: Graduate', 'Self-Employed: Yes')\",\"('Credit: 1.0', 'Education: Not Graduate', 'Property Area: Rural', 'Gender: Female', 'Married: Yes', 'Education: Not Graduate', 'Self-Employed: Yes')\",\"('Credit: 1.0', 'Education: Graduate', 'Property Area: Semiurban', 'Gender: Male', 'Married: No', 'Education: Graduate', 'Self-Employed: No')\",\"('Credit: 1.0', 'Education: Graduate', 'Property Area: Rural', 'Gender: Male', 'Married: Yes', 'Education: Graduate', 'Self-Employed: No')\",\"('Credit: 1.0', 'Education: Not Graduate', 'Property Area: Semiurban', 'Gender: Male', 'Married: No', 'Education: Not Graduate', 'Self-Employed: No')\",\"('Credit: 1.0', 'Education: Graduate', 'Property Area: Semiurban', 'Gender: Male', 'Married: No', 'Education: Graduate', 'Self-Employed: No')\",\"('Credit: nan', 'Education: Graduate', 'Property Area: Rural', 'Gender: Male', 'Married: Yes', 'Education: Graduate', 'Self-Employed: No')\",\"('Credit: 1.0', 'Education: Graduate', 'Property Area: Rural', 'Gender: Male', 'Married: Yes', 'Education: Graduate', 'Self-Employed: Yes')\",\"('Credit: 1.0', 'Education: Not Graduate', 'Property Area: Rural', 'Gender: Male', 'Married: Yes', 'Education: Not Graduate', 'Self-Employed: No')\",\"('Credit: 1.0', 'Education: Graduate', 'Property Area: Rural', 'Gender: Male', 'Married: Yes', 'Education: Graduate', 'Self-Employed: nan')\",\"('Credit: 0.0', 'Education: Graduate', 'Property Area: Rural', 'Gender: Male', 'Married: Yes', 'Education: Graduate', 'Self-Employed: No')\",\"('Credit: nan', 'Education: Not Graduate', 'Property Area: Semiurban', 'Gender: Male', 'Married: No', 'Education: Not Graduate', 'Self-Employed: Yes')\",\"('Credit: 0.0', 'Education: Not Graduate', 'Property Area: Rural', 'Gender: Male', 'Married: Yes', 'Education: Not Graduate', 'Self-Employed: No')\",\"('Credit: nan', 'Education: Not Graduate', 'Property Area: Urban', 'Gender: Male', 'Married: Yes', 'Education: Not Graduate', 'Self-Employed: No')\",\"('Credit: 0.0', 'Education: Graduate', 'Property Area: Rural', 'Gender: Male', 'Married: Yes', 'Education: Graduate', 'Self-Employed: No')\",\"('Credit: 0.0', 'Education: Graduate', 'Property Area: Rural', 'Gender: Male', 'Married: Yes', 'Education: Graduate', 'Self-Employed: No')\",\"('Credit: 1.0', 'Education: Graduate', 'Property Area: Semiurban', 'Gender: Male', 'Married: No', 'Education: Graduate', 'Self-Employed: Yes')\",\"('Credit: 1.0', 'Education: Graduate', 'Property Area: Semiurban', 'Gender: Male', 'Married: Yes', 'Education: Graduate', 'Self-Employed: No')\",\"('Credit: 1.0', 'Education: Graduate', 'Property Area: Urban', 'Gender: Male', 'Married: Yes', 'Education: Graduate', 'Self-Employed: No')\",\"('Credit: 1.0', 'Education: Graduate', 'Property Area: Urban', 'Gender: Male', 'Married: Yes', 'Education: Graduate', 'Self-Employed: No')\",\"('Credit: 1.0', 'Education: Graduate', 'Property Area: Rural', 'Gender: Male', 'Married: No', 'Education: Graduate', 'Self-Employed: No')\",\"('Credit: 1.0', 'Education: Graduate', 'Property Area: Semiurban', 'Gender: Male', 'Married: Yes', 'Education: Graduate', 'Self-Employed: No')\",\"('Credit: nan', 'Education: Graduate', 'Property Area: Semiurban', 'Gender: nan', 'Married: Yes', 'Education: Graduate', 'Self-Employed: Yes')\",\"('Credit: 1.0', 'Education: Graduate', 'Property Area: Urban', 'Gender: Male', 'Married: Yes', 'Education: Graduate', 'Self-Employed: No')\",\"('Credit: 1.0', 'Education: Graduate', 'Property Area: Rural', 'Gender: Male', 'Married: Yes', 'Education: Graduate', 'Self-Employed: No')\",\"('Credit: 1.0', 'Education: Not Graduate', 'Property Area: Semiurban', 'Gender: Female', 'Married: No', 'Education: Not Graduate', 'Self-Employed: nan')\",\"('Credit: 0.0', 'Education: Graduate', 'Property Area: Semiurban', 'Gender: Male', 'Married: No', 'Education: Graduate', 'Self-Employed: No')\",\"('Credit: 1.0', 'Education: Graduate', 'Property Area: Rural', 'Gender: Male', 'Married: No', 'Education: Graduate', 'Self-Employed: No')\",\"('Credit: 0.0', 'Education: Not Graduate', 'Property Area: Urban', 'Gender: Male', 'Married: Yes', 'Education: Not Graduate', 'Self-Employed: No')\",\"('Credit: 1.0', 'Education: Graduate', 'Property Area: Semiurban', 'Gender: nan', 'Married: Yes', 'Education: Graduate', 'Self-Employed: No')\",\"('Credit: 1.0', 'Education: Not Graduate', 'Property Area: Semiurban', 'Gender: Female', 'Married: Yes', 'Education: Not Graduate', 'Self-Employed: nan')\",\"('Credit: 1.0', 'Education: Graduate', 'Property Area: Urban', 'Gender: Male', 'Married: Yes', 'Education: Graduate', 'Self-Employed: No')\",\"('Credit: 1.0', 'Education: Graduate', 'Property Area: Semiurban', 'Gender: Male', 'Married: Yes', 'Education: Graduate', 'Self-Employed: Yes')\",\"('Credit: 0.0', 'Education: Not Graduate', 'Property Area: Rural', 'Gender: Male', 'Married: Yes', 'Education: Not Graduate', 'Self-Employed: No')\",\"('Credit: 1.0', 'Education: Graduate', 'Property Area: Semiurban', 'Gender: Male', 'Married: Yes', 'Education: Graduate', 'Self-Employed: No')\",\"('Credit: nan', 'Education: Graduate', 'Property Area: Urban', 'Gender: Female', 'Married: No', 'Education: Graduate', 'Self-Employed: Yes')\",\"('Credit: 1.0', 'Education: Graduate', 'Property Area: Rural', 'Gender: Male', 'Married: No', 'Education: Graduate', 'Self-Employed: No')\",\"('Credit: 1.0', 'Education: Graduate', 'Property Area: Rural', 'Gender: Male', 'Married: Yes', 'Education: Graduate', 'Self-Employed: Yes')\",\"('Credit: 1.0', 'Education: Graduate', 'Property Area: Semiurban', 'Gender: Male', 'Married: Yes', 'Education: Graduate', 'Self-Employed: No')\",\"('Credit: 0.0', 'Education: Graduate', 'Property Area: Semiurban', 'Gender: nan', 'Married: Yes', 'Education: Graduate', 'Self-Employed: No')\",\"('Credit: 1.0', 'Education: Graduate', 'Property Area: Semiurban', 'Gender: Male', 'Married: Yes', 'Education: Graduate', 'Self-Employed: Yes')\",\"('Credit: 1.0', 'Education: Graduate', 'Property Area: Urban', 'Gender: Male', 'Married: Yes', 'Education: Graduate', 'Self-Employed: No')\",\"('Credit: 1.0', 'Education: Not Graduate', 'Property Area: Rural', 'Gender: Female', 'Married: No', 'Education: Not Graduate', 'Self-Employed: No')\",\"('Credit: 1.0', 'Education: Not Graduate', 'Property Area: Rural', 'Gender: Male', 'Married: Yes', 'Education: Not Graduate', 'Self-Employed: No')\",\"('Credit: 1.0', 'Education: Graduate', 'Property Area: Semiurban', 'Gender: Male', 'Married: Yes', 'Education: Graduate', 'Self-Employed: No')\",\"('Credit: 1.0', 'Education: Graduate', 'Property Area: Semiurban', 'Gender: Male', 'Married: Yes', 'Education: Graduate', 'Self-Employed: No')\",\"('Credit: 1.0', 'Education: Graduate', 'Property Area: Semiurban', 'Gender: Male', 'Married: Yes', 'Education: Graduate', 'Self-Employed: No')\",\"('Credit: 1.0', 'Education: Not Graduate', 'Property Area: Rural', 'Gender: Male', 'Married: Yes', 'Education: Not Graduate', 'Self-Employed: No')\",\"('Credit: 0.0', 'Education: Graduate', 'Property Area: Rural', 'Gender: Male', 'Married: No', 'Education: Graduate', 'Self-Employed: No')\",\"('Credit: 1.0', 'Education: Graduate', 'Property Area: Urban', 'Gender: Male', 'Married: Yes', 'Education: Graduate', 'Self-Employed: No')\",\"('Credit: 1.0', 'Education: Graduate', 'Property Area: Semiurban', 'Gender: Male', 'Married: Yes', 'Education: Graduate', 'Self-Employed: Yes')\",\"('Credit: 1.0', 'Education: Graduate', 'Property Area: Urban', 'Gender: Male', 'Married: No', 'Education: Graduate', 'Self-Employed: No')\",\"('Credit: nan', 'Education: Not Graduate', 'Property Area: Semiurban', 'Gender: Male', 'Married: No', 'Education: Not Graduate', 'Self-Employed: No')\",\"('Credit: nan', 'Education: Not Graduate', 'Property Area: Urban', 'Gender: Male', 'Married: Yes', 'Education: Not Graduate', 'Self-Employed: No')\",\"('Credit: 1.0', 'Education: Not Graduate', 'Property Area: Rural', 'Gender: Male', 'Married: No', 'Education: Not Graduate', 'Self-Employed: No')\",\"('Credit: 1.0', 'Education: Not Graduate', 'Property Area: Semiurban', 'Gender: Female', 'Married: No', 'Education: Not Graduate', 'Self-Employed: Yes')\",\"('Credit: 0.0', 'Education: Graduate', 'Property Area: Rural', 'Gender: Male', 'Married: Yes', 'Education: Graduate', 'Self-Employed: No')\",\"('Credit: 1.0', 'Education: Graduate', 'Property Area: Semiurban', 'Gender: Female', 'Married: Yes', 'Education: Graduate', 'Self-Employed: No')\",\"('Credit: 1.0', 'Education: Not Graduate', 'Property Area: Rural', 'Gender: Male', 'Married: Yes', 'Education: Not Graduate', 'Self-Employed: No')\",\"('Credit: nan', 'Education: Graduate', 'Property Area: Urban', 'Gender: Male', 'Married: Yes', 'Education: Graduate', 'Self-Employed: No')\",\"('Credit: 1.0', 'Education: Graduate', 'Property Area: Semiurban', 'Gender: Male', 'Married: Yes', 'Education: Graduate', 'Self-Employed: Yes')\",\"('Credit: 0.0', 'Education: Graduate', 'Property Area: Rural', 'Gender: Male', 'Married: No', 'Education: Graduate', 'Self-Employed: No')\",\"('Credit: 1.0', 'Education: Graduate', 'Property Area: Rural', 'Gender: Female', 'Married: No', 'Education: Graduate', 'Self-Employed: No')\",\"('Credit: 1.0', 'Education: Graduate', 'Property Area: Semiurban', 'Gender: Female', 'Married: No', 'Education: Graduate', 'Self-Employed: No')\",\"('Credit: 1.0', 'Education: Graduate', 'Property Area: Semiurban', 'Gender: Male', 'Married: Yes', 'Education: Graduate', 'Self-Employed: No')\",\"('Credit: nan', 'Education: Not Graduate', 'Property Area: Rural', 'Gender: Male', 'Married: Yes', 'Education: Not Graduate', 'Self-Employed: No')\",\"('Credit: 1.0', 'Education: Not Graduate', 'Property Area: Semiurban', 'Gender: Male', 'Married: Yes', 'Education: Not Graduate', 'Self-Employed: No')\",\"('Credit: 1.0', 'Education: Graduate', 'Property Area: Rural', 'Gender: Male', 'Married: Yes', 'Education: Graduate', 'Self-Employed: No')\",\"('Credit: nan', 'Education: Graduate', 'Property Area: Urban', 'Gender: Male', 'Married: Yes', 'Education: Graduate', 'Self-Employed: No')\",\"('Credit: 1.0', 'Education: Graduate', 'Property Area: Urban', 'Gender: nan', 'Married: No', 'Education: Graduate', 'Self-Employed: No')\",\"('Credit: 1.0', 'Education: Graduate', 'Property Area: Urban', 'Gender: Male', 'Married: Yes', 'Education: Graduate', 'Self-Employed: Yes')\",\"('Credit: 1.0', 'Education: Graduate', 'Property Area: Urban', 'Gender: Female', 'Married: No', 'Education: Graduate', 'Self-Employed: No')\",\"('Credit: 1.0', 'Education: Not Graduate', 'Property Area: Rural', 'Gender: Male', 'Married: No', 'Education: Not Graduate', 'Self-Employed: No')\",\"('Credit: 1.0', 'Education: Graduate', 'Property Area: Semiurban', 'Gender: Male', 'Married: Yes', 'Education: Graduate', 'Self-Employed: No')\",\"('Credit: 1.0', 'Education: Graduate', 'Property Area: Urban', 'Gender: Male', 'Married: Yes', 'Education: Graduate', 'Self-Employed: No')\",\"('Credit: 1.0', 'Education: Graduate', 'Property Area: Semiurban', 'Gender: Male', 'Married: Yes', 'Education: Graduate', 'Self-Employed: No')\",\"('Credit: 1.0', 'Education: Graduate', 'Property Area: Rural', 'Gender: Male', 'Married: No', 'Education: Graduate', 'Self-Employed: No')\",\"('Credit: 1.0', 'Education: Graduate', 'Property Area: Rural', 'Gender: Male', 'Married: Yes', 'Education: Graduate', 'Self-Employed: No')\",\"('Credit: 1.0', 'Education: Graduate', 'Property Area: Semiurban', 'Gender: Female', 'Married: Yes', 'Education: Graduate', 'Self-Employed: No')\",\"('Credit: 0.0', 'Education: Not Graduate', 'Property Area: Semiurban', 'Gender: Male', 'Married: Yes', 'Education: Not Graduate', 'Self-Employed: No')\",\"('Credit: 1.0', 'Education: Graduate', 'Property Area: Semiurban', 'Gender: Male', 'Married: No', 'Education: Graduate', 'Self-Employed: No')\",\"('Credit: 1.0', 'Education: Not Graduate', 'Property Area: Rural', 'Gender: Female', 'Married: No', 'Education: Not Graduate', 'Self-Employed: No')\",\"('Credit: 1.0', 'Education: Not Graduate', 'Property Area: Semiurban', 'Gender: Male', 'Married: Yes', 'Education: Not Graduate', 'Self-Employed: No')\",\"('Credit: 1.0', 'Education: Graduate', 'Property Area: Semiurban', 'Gender: Male', 'Married: No', 'Education: Graduate', 'Self-Employed: No')\",\"('Credit: 1.0', 'Education: Graduate', 'Property Area: Rural', 'Gender: Male', 'Married: Yes', 'Education: Graduate', 'Self-Employed: Yes')\",\"('Credit: 1.0', 'Education: Graduate', 'Property Area: Rural', 'Gender: Male', 'Married: Yes', 'Education: Graduate', 'Self-Employed: Yes')\",\"('Credit: 1.0', 'Education: Graduate', 'Property Area: Semiurban', 'Gender: Male', 'Married: No', 'Education: Graduate', 'Self-Employed: No')\",\"('Credit: 1.0', 'Education: Graduate', 'Property Area: Rural', 'Gender: Male', 'Married: Yes', 'Education: Graduate', 'Self-Employed: Yes')\",\"('Credit: 1.0', 'Education: Graduate', 'Property Area: Semiurban', 'Gender: Male', 'Married: Yes', 'Education: Graduate', 'Self-Employed: No')\",\"('Credit: 0.0', 'Education: Not Graduate', 'Property Area: Semiurban', 'Gender: Male', 'Married: Yes', 'Education: Not Graduate', 'Self-Employed: No')\",\"('Credit: 1.0', 'Education: Not Graduate', 'Property Area: Semiurban', 'Gender: Male', 'Married: No', 'Education: Not Graduate', 'Self-Employed: No')\",\"('Credit: 1.0', 'Education: Not Graduate', 'Property Area: Semiurban', 'Gender: Male', 'Married: No', 'Education: Not Graduate', 'Self-Employed: No')\",\"('Credit: nan', 'Education: Graduate', 'Property Area: Rural', 'Gender: Male', 'Married: Yes', 'Education: Graduate', 'Self-Employed: No')\",\"('Credit: 1.0', 'Education: Graduate', 'Property Area: Urban', 'Gender: Male', 'Married: Yes', 'Education: Graduate', 'Self-Employed: No')\",\"('Credit: 0.0', 'Education: Graduate', 'Property Area: Rural', 'Gender: Male', 'Married: No', 'Education: Graduate', 'Self-Employed: No')\",\"('Credit: nan', 'Education: Graduate', 'Property Area: Semiurban', 'Gender: Male', 'Married: No', 'Education: Graduate', 'Self-Employed: No')\",\"('Credit: 1.0', 'Education: Not Graduate', 'Property Area: Urban', 'Gender: Female', 'Married: No', 'Education: Not Graduate', 'Self-Employed: Yes')\",\"('Credit: 1.0', 'Education: Not Graduate', 'Property Area: Rural', 'Gender: Male', 'Married: No', 'Education: Not Graduate', 'Self-Employed: nan')\",\"('Credit: 1.0', 'Education: Graduate', 'Property Area: Urban', 'Gender: Male', 'Married: Yes', 'Education: Graduate', 'Self-Employed: No')\",\"('Credit: 1.0', 'Education: Graduate', 'Property Area: Semiurban', 'Gender: Male', 'Married: No', 'Education: Graduate', 'Self-Employed: No')\",\"('Credit: 1.0', 'Education: Not Graduate', 'Property Area: Rural', 'Gender: Male', 'Married: Yes', 'Education: Not Graduate', 'Self-Employed: No')\",\"('Credit: 1.0', 'Education: Graduate', 'Property Area: Rural', 'Gender: Male', 'Married: Yes', 'Education: Graduate', 'Self-Employed: No')\",\"('Credit: 1.0', 'Education: Graduate', 'Property Area: Semiurban', 'Gender: Female', 'Married: Yes', 'Education: Graduate', 'Self-Employed: No')\",\"('Credit: 0.0', 'Education: Graduate', 'Property Area: Semiurban', 'Gender: Female', 'Married: No', 'Education: Graduate', 'Self-Employed: No')\",\"('Credit: 1.0', 'Education: Graduate', 'Property Area: Semiurban', 'Gender: Female', 'Married: No', 'Education: Graduate', 'Self-Employed: nan')\",\"('Credit: 1.0', 'Education: Not Graduate', 'Property Area: Urban', 'Gender: Male', 'Married: Yes', 'Education: Not Graduate', 'Self-Employed: No')\",\"('Credit: nan', 'Education: Not Graduate', 'Property Area: Semiurban', 'Gender: Female', 'Married: Yes', 'Education: Not Graduate', 'Self-Employed: No')\",\"('Credit: 1.0', 'Education: Graduate', 'Property Area: Rural', 'Gender: Male', 'Married: Yes', 'Education: Graduate', 'Self-Employed: No')\",\"('Credit: 1.0', 'Education: Not Graduate', 'Property Area: Semiurban', 'Gender: Male', 'Married: No', 'Education: Not Graduate', 'Self-Employed: No')\",\"('Credit: 1.0', 'Education: Graduate', 'Property Area: Rural', 'Gender: Male', 'Married: No', 'Education: Graduate', 'Self-Employed: No')\",\"('Credit: 0.0', 'Education: Graduate', 'Property Area: Semiurban', 'Gender: Female', 'Married: No', 'Education: Graduate', 'Self-Employed: No')\",\"('Credit: 1.0', 'Education: Graduate', 'Property Area: Rural', 'Gender: Male', 'Married: Yes', 'Education: Graduate', 'Self-Employed: No')\",\"('Credit: 0.0', 'Education: Graduate', 'Property Area: Rural', 'Gender: Male', 'Married: Yes', 'Education: Graduate', 'Self-Employed: Yes')\",\"('Credit: 1.0', 'Education: Not Graduate', 'Property Area: Rural', 'Gender: Male', 'Married: Yes', 'Education: Not Graduate', 'Self-Employed: No')\",\"('Credit: 1.0', 'Education: Graduate', 'Property Area: Urban', 'Gender: Male', 'Married: Yes', 'Education: Graduate', 'Self-Employed: No')\",\"('Credit: 0.0', 'Education: Not Graduate', 'Property Area: Urban', 'Gender: Male', 'Married: Yes', 'Education: Not Graduate', 'Self-Employed: No')\",\"('Credit: 0.0', 'Education: Graduate', 'Property Area: Rural', 'Gender: Male', 'Married: Yes', 'Education: Graduate', 'Self-Employed: No')\",\"('Credit: 1.0', 'Education: Graduate', 'Property Area: Semiurban', 'Gender: Male', 'Married: Yes', 'Education: Graduate', 'Self-Employed: No')\",\"('Credit: nan', 'Education: Graduate', 'Property Area: Urban', 'Gender: Female', 'Married: No', 'Education: Graduate', 'Self-Employed: No')\",\"('Credit: 1.0', 'Education: Graduate', 'Property Area: Semiurban', 'Gender: Male', 'Married: Yes', 'Education: Graduate', 'Self-Employed: Yes')\",\"('Credit: 1.0', 'Education: Graduate', 'Property Area: Semiurban', 'Gender: Male', 'Married: Yes', 'Education: Graduate', 'Self-Employed: No')\",\"('Credit: 1.0', 'Education: Graduate', 'Property Area: Semiurban', 'Gender: Female', 'Married: Yes', 'Education: Graduate', 'Self-Employed: No')\",\"('Credit: 1.0', 'Education: Not Graduate', 'Property Area: Semiurban', 'Gender: Male', 'Married: Yes', 'Education: Not Graduate', 'Self-Employed: No')\",\"('Credit: 1.0', 'Education: Graduate', 'Property Area: Semiurban', 'Gender: Female', 'Married: Yes', 'Education: Graduate', 'Self-Employed: Yes')\",\"('Credit: 1.0', 'Education: Graduate', 'Property Area: Rural', 'Gender: Male', 'Married: Yes', 'Education: Graduate', 'Self-Employed: No')\",\"('Credit: 1.0', 'Education: Not Graduate', 'Property Area: Semiurban', 'Gender: Male', 'Married: No', 'Education: Not Graduate', 'Self-Employed: Yes')\",\"('Credit: 0.0', 'Education: Graduate', 'Property Area: Urban', 'Gender: Male', 'Married: Yes', 'Education: Graduate', 'Self-Employed: No')\",\"('Credit: nan', 'Education: Not Graduate', 'Property Area: Rural', 'Gender: Male', 'Married: Yes', 'Education: Not Graduate', 'Self-Employed: No')\",\"('Credit: 1.0', 'Education: Graduate', 'Property Area: Urban', 'Gender: Male', 'Married: No', 'Education: Graduate', 'Self-Employed: No')\",\"('Credit: 0.0', 'Education: Graduate', 'Property Area: Rural', 'Gender: Male', 'Married: Yes', 'Education: Graduate', 'Self-Employed: No')\",\"('Credit: 1.0', 'Education: Graduate', 'Property Area: Urban', 'Gender: Female', 'Married: No', 'Education: Graduate', 'Self-Employed: No')\",\"('Credit: 0.0', 'Education: Graduate', 'Property Area: Urban', 'Gender: Male', 'Married: Yes', 'Education: Graduate', 'Self-Employed: No')\",\"('Credit: 1.0', 'Education: Graduate', 'Property Area: Urban', 'Gender: Male', 'Married: Yes', 'Education: Graduate', 'Self-Employed: No')\",\"('Credit: 0.0', 'Education: Graduate', 'Property Area: Urban', 'Gender: Male', 'Married: Yes', 'Education: Graduate', 'Self-Employed: No')\",\"('Credit: 1.0', 'Education: Graduate', 'Property Area: Urban', 'Gender: Male', 'Married: Yes', 'Education: Graduate', 'Self-Employed: No')\",\"('Credit: 1.0', 'Education: Not Graduate', 'Property Area: Semiurban', 'Gender: Male', 'Married: Yes', 'Education: Not Graduate', 'Self-Employed: No')\",\"('Credit: 1.0', 'Education: Graduate', 'Property Area: Semiurban', 'Gender: Male', 'Married: Yes', 'Education: Graduate', 'Self-Employed: No')\",\"('Credit: 1.0', 'Education: Graduate', 'Property Area: Urban', 'Gender: Male', 'Married: Yes', 'Education: Graduate', 'Self-Employed: No')\",\"('Credit: 0.0', 'Education: Graduate', 'Property Area: Semiurban', 'Gender: nan', 'Married: Yes', 'Education: Graduate', 'Self-Employed: No')\",\"('Credit: 1.0', 'Education: Graduate', 'Property Area: Urban', 'Gender: Male', 'Married: No', 'Education: Graduate', 'Self-Employed: No')\",\"('Credit: 1.0', 'Education: Graduate', 'Property Area: Rural', 'Gender: Male', 'Married: Yes', 'Education: Graduate', 'Self-Employed: No')\",\"('Credit: 1.0', 'Education: Graduate', 'Property Area: Urban', 'Gender: Male', 'Married: No', 'Education: Graduate', 'Self-Employed: nan')\",\"('Credit: 1.0', 'Education: Graduate', 'Property Area: Semiurban', 'Gender: Male', 'Married: Yes', 'Education: Graduate', 'Self-Employed: No')\",\"('Credit: 1.0', 'Education: Graduate', 'Property Area: Urban', 'Gender: Male', 'Married: No', 'Education: Graduate', 'Self-Employed: No')\",\"('Credit: 1.0', 'Education: Graduate', 'Property Area: Semiurban', 'Gender: Female', 'Married: Yes', 'Education: Graduate', 'Self-Employed: No')\",\"('Credit: nan', 'Education: Graduate', 'Property Area: Rural', 'Gender: Male', 'Married: Yes', 'Education: Graduate', 'Self-Employed: No')\",\"('Credit: 0.0', 'Education: Graduate', 'Property Area: Rural', 'Gender: Male', 'Married: Yes', 'Education: Graduate', 'Self-Employed: No')\",\"('Credit: 1.0', 'Education: Graduate', 'Property Area: Rural', 'Gender: Male', 'Married: Yes', 'Education: Graduate', 'Self-Employed: No')\",\"('Credit: 1.0', 'Education: Graduate', 'Property Area: Urban', 'Gender: Male', 'Married: Yes', 'Education: Graduate', 'Self-Employed: No')\",\"('Credit: 1.0', 'Education: Not Graduate', 'Property Area: Semiurban', 'Gender: Female', 'Married: No', 'Education: Not Graduate', 'Self-Employed: No')\",\"('Credit: 1.0', 'Education: Graduate', 'Property Area: Semiurban', 'Gender: nan', 'Married: No', 'Education: Graduate', 'Self-Employed: No')\",\"('Credit: 0.0', 'Education: Graduate', 'Property Area: Semiurban', 'Gender: Male', 'Married: Yes', 'Education: Graduate', 'Self-Employed: Yes')\",\"('Credit: 1.0', 'Education: Graduate', 'Property Area: Semiurban', 'Gender: Male', 'Married: Yes', 'Education: Graduate', 'Self-Employed: No')\",\"('Credit: 1.0', 'Education: Graduate', 'Property Area: Semiurban', 'Gender: Male', 'Married: Yes', 'Education: Graduate', 'Self-Employed: Yes')\",\"('Credit: 1.0', 'Education: Graduate', 'Property Area: Semiurban', 'Gender: nan', 'Married: No', 'Education: Graduate', 'Self-Employed: Yes')\",\"('Credit: 1.0', 'Education: Graduate', 'Property Area: Rural', 'Gender: Male', 'Married: Yes', 'Education: Graduate', 'Self-Employed: No')\",\"('Credit: 1.0', 'Education: Graduate', 'Property Area: Urban', 'Gender: Male', 'Married: Yes', 'Education: Graduate', 'Self-Employed: Yes')\",\"('Credit: 1.0', 'Education: Not Graduate', 'Property Area: Rural', 'Gender: Male', 'Married: No', 'Education: Not Graduate', 'Self-Employed: No')\",\"('Credit: 1.0', 'Education: Not Graduate', 'Property Area: Rural', 'Gender: Male', 'Married: Yes', 'Education: Not Graduate', 'Self-Employed: Yes')\",\"('Credit: 0.0', 'Education: Graduate', 'Property Area: Semiurban', 'Gender: Male', 'Married: No', 'Education: Graduate', 'Self-Employed: No')\",\"('Credit: 1.0', 'Education: Graduate', 'Property Area: Rural', 'Gender: Male', 'Married: Yes', 'Education: Graduate', 'Self-Employed: Yes')\",\"('Credit: 1.0', 'Education: Graduate', 'Property Area: Urban', 'Gender: Male', 'Married: Yes', 'Education: Graduate', 'Self-Employed: No')\",\"('Credit: nan', 'Education: Graduate', 'Property Area: Urban', 'Gender: Female', 'Married: No', 'Education: Graduate', 'Self-Employed: nan')\",\"('Credit: 1.0', 'Education: Not Graduate', 'Property Area: Rural', 'Gender: Male', 'Married: Yes', 'Education: Not Graduate', 'Self-Employed: nan')\",\"('Credit: 1.0', 'Education: Graduate', 'Property Area: Urban', 'Gender: Male', 'Married: Yes', 'Education: Graduate', 'Self-Employed: No')\",\"('Credit: 1.0', 'Education: Graduate', 'Property Area: Rural', 'Gender: Male', 'Married: No', 'Education: Graduate', 'Self-Employed: No')\",\"('Credit: 1.0', 'Education: Graduate', 'Property Area: Semiurban', 'Gender: Female', 'Married: Yes', 'Education: Graduate', 'Self-Employed: No')\",\"('Credit: 1.0', 'Education: Not Graduate', 'Property Area: Urban', 'Gender: Male', 'Married: Yes', 'Education: Not Graduate', 'Self-Employed: No')\",\"('Credit: 1.0', 'Education: Graduate', 'Property Area: Semiurban', 'Gender: Male', 'Married: Yes', 'Education: Graduate', 'Self-Employed: No')\",\"('Credit: 1.0', 'Education: Not Graduate', 'Property Area: Rural', 'Gender: Male', 'Married: Yes', 'Education: Not Graduate', 'Self-Employed: No')\",\"('Credit: 1.0', 'Education: Graduate', 'Property Area: Rural', 'Gender: Male', 'Married: Yes', 'Education: Graduate', 'Self-Employed: No')\",\"('Credit: 1.0', 'Education: Graduate', 'Property Area: Rural', 'Gender: Female', 'Married: No', 'Education: Graduate', 'Self-Employed: No')\",\"('Credit: 1.0', 'Education: Graduate', 'Property Area: Rural', 'Gender: Male', 'Married: Yes', 'Education: Graduate', 'Self-Employed: No')\",\"('Credit: 1.0', 'Education: Graduate', 'Property Area: Urban', 'Gender: Male', 'Married: Yes', 'Education: Graduate', 'Self-Employed: No')\",\"('Credit: 1.0', 'Education: Graduate', 'Property Area: Urban', 'Gender: Male', 'Married: Yes', 'Education: Graduate', 'Self-Employed: No')\",\"('Credit: 0.0', 'Education: Graduate', 'Property Area: Semiurban', 'Gender: Female', 'Married: No', 'Education: Graduate', 'Self-Employed: Yes')\"],\"x\":[128.0,158.0,114.0,76.0,133.0,104.0,116.0,112.0,151.0,35.0,201.0,74.0,106.0,100.0,80.0,120.0,112.0,134.0,286.0,135.0,165.0,116.0,258.0,126.0,136.0,95.0,113.0,176.0,110.0,180.0,167.0,265.0,120.0,216.0,152.0,175.0,160.0,182.0,290.0,84.0,242.0,129.0,185.0,225.0,118.0,244.0,113.0,275.0,121.0,112.0,63.0,81.0,87.0,102.0,180.0,67.0,66.0,164.0,160.0,170.0,83.0,127.0,214.0,128.0,135.0,72.0,60.0,170.0,138.0,255.0,140.0,120.0,201.0,138.0,192.0,115.0,94.0,128.0,155.0,135.0,158.0,99.0,127.0,143.0,151.0,113.0,93.0,104.0,159.0,155.0,110.0,173.0,46.0,152.0,105.0,67.0,100.0,81.0,133.0,96.0,124.0,111.0,71.0,100.0,71.0,103.0,45.0,65.0,194.0,152.0,62.0,218.0,178.0,160.0,239.0,80.0,110.0,81.0,105.0,187.0,55.0,150.0,190.0,125.0,149.0,173.0,160.0,98.0,70.0,110.0,113.0,132.0,80.0,75.0,119.0,209.0,138.0,96.0,100.0,70.0,123.0,185.0,95.0,110.0,196.0,66.0,99.0,80.0,103.0,181.0,132.0,258.0,123.0,9.0,104.0,165.0,187.0,150.0,136.0,61.0,146.0,172.0,106.0,205.0,187.0,88.0,133.0],\"y\":[6091.0,5540.0,4693.0,3510.0,4887.0,7660.0,4511.0,5282.0,6642.0,1442.0,7535.0,3167.0,4692.0,3158.0,3600.0,6085.0,4230.0,4616.0,11500.0,5566.0,6058.0,4166.0,10321.0,5454.0,4300.0,4755.0,3750.0,8500.0,4022.0,7167.0,3259.0,8250.0,7333.0,7400.0,7686.0,7710.0,14363.0,8649.0,11750.0,4583.0,14999.0,5630.0,7125.0,11666.0,6277.0,9166.0,2281.0,7933.0,4369.0,4583.0,2237.0,3522.0,5080.0,3784.0,13650.0,6979.0,2178.0,12000.0,6033.0,5708.0,11000.0,3418.0,10000.0,4680.0,1950.0,5000.0,2221.0,3250.0,4735.0,5746.0,4493.0,10383.0,5558.0,3427.0,16250.0,6045.0,5250.0,4931.0,3481.0,3418.0,6479.0,4317.0,4400.0,5417.0,7541.0,4939.0,4734.0,4263.0,4316.0,10000.0,6784.0,4234.0,2378.0,6753.0,5500.0,3875.0,4666.0,4723.0,6216.0,2500.0,5124.0,5049.0,3069.0,4566.0,3180.0,3300.0,2889.0,2755.0,7441.0,8300.0,3867.0,6096.0,5386.0,2600.0,21600.0,2720.0,8917.0,4606.0,6500.0,10416.0,4915.0,5050.0,4311.0,3564.0,5681.0,6277.0,8334.0,4166.0,4611.0,6784.0,4153.0,4745.0,3547.0,2435.0,5754.0,10699.0,9352.0,3583.0,4885.0,8796.0,4874.0,6598.0,3400.0,3588.0,11250.0,3453.0,2138.0,3358.0,5000.0,4787.0,7859.0,8799.0,5900.0,2378.0,5230.0,6567.0,7750.0,6406.0,5297.0,1880.0,4704.0,7283.0,2726.0,6000.0,7383.0,2987.0,4583.0],\"z\":[360.0,360.0,360.0,360.0,360.0,360.0,360.0,360.0,360.0,360.0,360.0,360.0,360.0,null,360.0,360.0,360.0,360.0,360.0,360.0,180.0,360.0,360.0,180.0,360.0,null,480.0,360.0,360.0,300.0,360.0,360.0,360.0,360.0,null,360.0,180.0,360.0,360.0,360.0,360.0,360.0,360.0,360.0,360.0,360.0,360.0,360.0,360.0,360.0,480.0,180.0,360.0,480.0,360.0,360.0,300.0,360.0,360.0,360.0,360.0,360.0,360.0,360.0,360.0,360.0,360.0,360.0,360.0,360.0,180.0,180.0,360.0,360.0,360.0,360.0,360.0,360.0,36.0,360.0,360.0,300.0,360.0,480.0,480.0,360.0,360.0,360.0,360.0,360.0,360.0,360.0,360.0,360.0,360.0,360.0,480.0,360.0,360.0,480.0,null,180.0,480.0,360.0,360.0,360.0,180.0,300.0,360.0,300.0,360.0,360.0,360.0,360.0,360.0,null,null,360.0,360.0,360.0,360.0,360.0,360.0,360.0,360.0,360.0,360.0,360.0,180.0,360.0,180.0,360.0,360.0,360.0,360.0,360.0,360.0,360.0,360.0,180.0,360.0,360.0,360.0,360.0,360.0,360.0,360.0,36.0,360.0,360.0,180.0,360.0,360.0,360.0,360.0,360.0,480.0,360.0,360.0,360.0,360.0,84.0,360.0,240.0,360.0,360.0,360.0],\"type\":\"scatter3d\"}],                        {\"scene\":{\"xaxis\":{\"title\":{\"text\":\"Loan Amount\"}},\"yaxis\":{\"title\":{\"text\":\"Combined Income\"}},\"zaxis\":{\"title\":{\"text\":\"Term\"}}},\"showlegend\":true,\"title\":{\"text\":\"Loan Status\"},\"template\":{\"data\":{\"histogram2dcontour\":[{\"type\":\"histogram2dcontour\",\"colorbar\":{\"outlinewidth\":0,\"ticks\":\"\"},\"colorscale\":[[0.0,\"#0d0887\"],[0.1111111111111111,\"#46039f\"],[0.2222222222222222,\"#7201a8\"],[0.3333333333333333,\"#9c179e\"],[0.4444444444444444,\"#bd3786\"],[0.5555555555555556,\"#d8576b\"],[0.6666666666666666,\"#ed7953\"],[0.7777777777777778,\"#fb9f3a\"],[0.8888888888888888,\"#fdca26\"],[1.0,\"#f0f921\"]]}],\"choropleth\":[{\"type\":\"choropleth\",\"colorbar\":{\"outlinewidth\":0,\"ticks\":\"\"}}],\"histogram2d\":[{\"type\":\"histogram2d\",\"colorbar\":{\"outlinewidth\":0,\"ticks\":\"\"},\"colorscale\":[[0.0,\"#0d0887\"],[0.1111111111111111,\"#46039f\"],[0.2222222222222222,\"#7201a8\"],[0.3333333333333333,\"#9c179e\"],[0.4444444444444444,\"#bd3786\"],[0.5555555555555556,\"#d8576b\"],[0.6666666666666666,\"#ed7953\"],[0.7777777777777778,\"#fb9f3a\"],[0.8888888888888888,\"#fdca26\"],[1.0,\"#f0f921\"]]}],\"heatmap\":[{\"type\":\"heatmap\",\"colorbar\":{\"outlinewidth\":0,\"ticks\":\"\"},\"colorscale\":[[0.0,\"#0d0887\"],[0.1111111111111111,\"#46039f\"],[0.2222222222222222,\"#7201a8\"],[0.3333333333333333,\"#9c179e\"],[0.4444444444444444,\"#bd3786\"],[0.5555555555555556,\"#d8576b\"],[0.6666666666666666,\"#ed7953\"],[0.7777777777777778,\"#fb9f3a\"],[0.8888888888888888,\"#fdca26\"],[1.0,\"#f0f921\"]]}],\"heatmapgl\":[{\"type\":\"heatmapgl\",\"colorbar\":{\"outlinewidth\":0,\"ticks\":\"\"},\"colorscale\":[[0.0,\"#0d0887\"],[0.1111111111111111,\"#46039f\"],[0.2222222222222222,\"#7201a8\"],[0.3333333333333333,\"#9c179e\"],[0.4444444444444444,\"#bd3786\"],[0.5555555555555556,\"#d8576b\"],[0.6666666666666666,\"#ed7953\"],[0.7777777777777778,\"#fb9f3a\"],[0.8888888888888888,\"#fdca26\"],[1.0,\"#f0f921\"]]}],\"contourcarpet\":[{\"type\":\"contourcarpet\",\"colorbar\":{\"outlinewidth\":0,\"ticks\":\"\"}}],\"contour\":[{\"type\":\"contour\",\"colorbar\":{\"outlinewidth\":0,\"ticks\":\"\"},\"colorscale\":[[0.0,\"#0d0887\"],[0.1111111111111111,\"#46039f\"],[0.2222222222222222,\"#7201a8\"],[0.3333333333333333,\"#9c179e\"],[0.4444444444444444,\"#bd3786\"],[0.5555555555555556,\"#d8576b\"],[0.6666666666666666,\"#ed7953\"],[0.7777777777777778,\"#fb9f3a\"],[0.8888888888888888,\"#fdca26\"],[1.0,\"#f0f921\"]]}],\"surface\":[{\"type\":\"surface\",\"colorbar\":{\"outlinewidth\":0,\"ticks\":\"\"},\"colorscale\":[[0.0,\"#0d0887\"],[0.1111111111111111,\"#46039f\"],[0.2222222222222222,\"#7201a8\"],[0.3333333333333333,\"#9c179e\"],[0.4444444444444444,\"#bd3786\"],[0.5555555555555556,\"#d8576b\"],[0.6666666666666666,\"#ed7953\"],[0.7777777777777778,\"#fb9f3a\"],[0.8888888888888888,\"#fdca26\"],[1.0,\"#f0f921\"]]}],\"mesh3d\":[{\"type\":\"mesh3d\",\"colorbar\":{\"outlinewidth\":0,\"ticks\":\"\"}}],\"scatter\":[{\"fillpattern\":{\"fillmode\":\"overlay\",\"size\":10,\"solidity\":0.2},\"type\":\"scatter\"}],\"parcoords\":[{\"type\":\"parcoords\",\"line\":{\"colorbar\":{\"outlinewidth\":0,\"ticks\":\"\"}}}],\"scatterpolargl\":[{\"type\":\"scatterpolargl\",\"marker\":{\"colorbar\":{\"outlinewidth\":0,\"ticks\":\"\"}}}],\"bar\":[{\"error_x\":{\"color\":\"#2a3f5f\"},\"error_y\":{\"color\":\"#2a3f5f\"},\"marker\":{\"line\":{\"color\":\"#E5ECF6\",\"width\":0.5},\"pattern\":{\"fillmode\":\"overlay\",\"size\":10,\"solidity\":0.2}},\"type\":\"bar\"}],\"scattergeo\":[{\"type\":\"scattergeo\",\"marker\":{\"colorbar\":{\"outlinewidth\":0,\"ticks\":\"\"}}}],\"scatterpolar\":[{\"type\":\"scatterpolar\",\"marker\":{\"colorbar\":{\"outlinewidth\":0,\"ticks\":\"\"}}}],\"histogram\":[{\"marker\":{\"pattern\":{\"fillmode\":\"overlay\",\"size\":10,\"solidity\":0.2}},\"type\":\"histogram\"}],\"scattergl\":[{\"type\":\"scattergl\",\"marker\":{\"colorbar\":{\"outlinewidth\":0,\"ticks\":\"\"}}}],\"scatter3d\":[{\"type\":\"scatter3d\",\"line\":{\"colorbar\":{\"outlinewidth\":0,\"ticks\":\"\"}},\"marker\":{\"colorbar\":{\"outlinewidth\":0,\"ticks\":\"\"}}}],\"scattermapbox\":[{\"type\":\"scattermapbox\",\"marker\":{\"colorbar\":{\"outlinewidth\":0,\"ticks\":\"\"}}}],\"scatterternary\":[{\"type\":\"scatterternary\",\"marker\":{\"colorbar\":{\"outlinewidth\":0,\"ticks\":\"\"}}}],\"scattercarpet\":[{\"type\":\"scattercarpet\",\"marker\":{\"colorbar\":{\"outlinewidth\":0,\"ticks\":\"\"}}}],\"carpet\":[{\"aaxis\":{\"endlinecolor\":\"#2a3f5f\",\"gridcolor\":\"white\",\"linecolor\":\"white\",\"minorgridcolor\":\"white\",\"startlinecolor\":\"#2a3f5f\"},\"baxis\":{\"endlinecolor\":\"#2a3f5f\",\"gridcolor\":\"white\",\"linecolor\":\"white\",\"minorgridcolor\":\"white\",\"startlinecolor\":\"#2a3f5f\"},\"type\":\"carpet\"}],\"table\":[{\"cells\":{\"fill\":{\"color\":\"#EBF0F8\"},\"line\":{\"color\":\"white\"}},\"header\":{\"fill\":{\"color\":\"#C8D4E3\"},\"line\":{\"color\":\"white\"}},\"type\":\"table\"}],\"barpolar\":[{\"marker\":{\"line\":{\"color\":\"#E5ECF6\",\"width\":0.5},\"pattern\":{\"fillmode\":\"overlay\",\"size\":10,\"solidity\":0.2}},\"type\":\"barpolar\"}],\"pie\":[{\"automargin\":true,\"type\":\"pie\"}]},\"layout\":{\"autotypenumbers\":\"strict\",\"colorway\":[\"#636efa\",\"#EF553B\",\"#00cc96\",\"#ab63fa\",\"#FFA15A\",\"#19d3f3\",\"#FF6692\",\"#B6E880\",\"#FF97FF\",\"#FECB52\"],\"font\":{\"color\":\"#2a3f5f\"},\"hovermode\":\"closest\",\"hoverlabel\":{\"align\":\"left\"},\"paper_bgcolor\":\"white\",\"plot_bgcolor\":\"#E5ECF6\",\"polar\":{\"bgcolor\":\"#E5ECF6\",\"angularaxis\":{\"gridcolor\":\"white\",\"linecolor\":\"white\",\"ticks\":\"\"},\"radialaxis\":{\"gridcolor\":\"white\",\"linecolor\":\"white\",\"ticks\":\"\"}},\"ternary\":{\"bgcolor\":\"#E5ECF6\",\"aaxis\":{\"gridcolor\":\"white\",\"linecolor\":\"white\",\"ticks\":\"\"},\"baxis\":{\"gridcolor\":\"white\",\"linecolor\":\"white\",\"ticks\":\"\"},\"caxis\":{\"gridcolor\":\"white\",\"linecolor\":\"white\",\"ticks\":\"\"}},\"coloraxis\":{\"colorbar\":{\"outlinewidth\":0,\"ticks\":\"\"}},\"colorscale\":{\"sequential\":[[0.0,\"#0d0887\"],[0.1111111111111111,\"#46039f\"],[0.2222222222222222,\"#7201a8\"],[0.3333333333333333,\"#9c179e\"],[0.4444444444444444,\"#bd3786\"],[0.5555555555555556,\"#d8576b\"],[0.6666666666666666,\"#ed7953\"],[0.7777777777777778,\"#fb9f3a\"],[0.8888888888888888,\"#fdca26\"],[1.0,\"#f0f921\"]],\"sequentialminus\":[[0.0,\"#0d0887\"],[0.1111111111111111,\"#46039f\"],[0.2222222222222222,\"#7201a8\"],[0.3333333333333333,\"#9c179e\"],[0.4444444444444444,\"#bd3786\"],[0.5555555555555556,\"#d8576b\"],[0.6666666666666666,\"#ed7953\"],[0.7777777777777778,\"#fb9f3a\"],[0.8888888888888888,\"#fdca26\"],[1.0,\"#f0f921\"]],\"diverging\":[[0,\"#8e0152\"],[0.1,\"#c51b7d\"],[0.2,\"#de77ae\"],[0.3,\"#f1b6da\"],[0.4,\"#fde0ef\"],[0.5,\"#f7f7f7\"],[0.6,\"#e6f5d0\"],[0.7,\"#b8e186\"],[0.8,\"#7fbc41\"],[0.9,\"#4d9221\"],[1,\"#276419\"]]},\"xaxis\":{\"gridcolor\":\"white\",\"linecolor\":\"white\",\"ticks\":\"\",\"title\":{\"standoff\":15},\"zerolinecolor\":\"white\",\"automargin\":true,\"zerolinewidth\":2},\"yaxis\":{\"gridcolor\":\"white\",\"linecolor\":\"white\",\"ticks\":\"\",\"title\":{\"standoff\":15},\"zerolinecolor\":\"white\",\"automargin\":true,\"zerolinewidth\":2},\"scene\":{\"xaxis\":{\"backgroundcolor\":\"#E5ECF6\",\"gridcolor\":\"white\",\"linecolor\":\"white\",\"showbackground\":true,\"ticks\":\"\",\"zerolinecolor\":\"white\",\"gridwidth\":2},\"yaxis\":{\"backgroundcolor\":\"#E5ECF6\",\"gridcolor\":\"white\",\"linecolor\":\"white\",\"showbackground\":true,\"ticks\":\"\",\"zerolinecolor\":\"white\",\"gridwidth\":2},\"zaxis\":{\"backgroundcolor\":\"#E5ECF6\",\"gridcolor\":\"white\",\"linecolor\":\"white\",\"showbackground\":true,\"ticks\":\"\",\"zerolinecolor\":\"white\",\"gridwidth\":2}},\"shapedefaults\":{\"line\":{\"color\":\"#2a3f5f\"}},\"annotationdefaults\":{\"arrowcolor\":\"#2a3f5f\",\"arrowhead\":0,\"arrowwidth\":1},\"geo\":{\"bgcolor\":\"white\",\"landcolor\":\"#E5ECF6\",\"subunitcolor\":\"white\",\"showland\":true,\"showlakes\":true,\"lakecolor\":\"white\"},\"title\":{\"x\":0.05},\"mapbox\":{\"style\":\"light\"}}}},                        {\"responsive\": true}                    ).then(function(){\n",
       "                            \n",
       "var gd = document.getElementById('91667786-177a-4691-9ea0-4115db776de9');\n",
       "var x = new MutationObserver(function (mutations, observer) {{\n",
       "        var display = window.getComputedStyle(gd).display;\n",
       "        if (!display || display === 'none') {{\n",
       "            console.log([gd, 'removed!']);\n",
       "            Plotly.purge(gd);\n",
       "            observer.disconnect();\n",
       "        }}\n",
       "}});\n",
       "\n",
       "// Listen for the removal of the full notebook cells\n",
       "var notebookContainer = gd.closest('#notebook-container');\n",
       "if (notebookContainer) {{\n",
       "    x.observe(notebookContainer, {childList: true});\n",
       "}}\n",
       "\n",
       "// Listen for the clearing of the current output cell\n",
       "var outputEl = gd.closest('.output');\n",
       "if (outputEl) {{\n",
       "    x.observe(outputEl, {childList: true});\n",
       "}}\n",
       "\n",
       "                        })                };                });            </script>        </div>"
      ]
     },
     "metadata": {},
     "output_type": "display_data"
    }
   ],
   "source": [
    "# plotly visualization of Loan Status\n",
    "import plotly.graph_objects as go\n",
    "\n",
    "# remove a few outliers & split\n",
    "approved=loans_df[(loans_df['LoanAmount']<300) & (loans_df['Combined_Income']<25000) & (loans_df['Loan_Status']=='Y')]\n",
    "denied=loans_df[(loans_df['LoanAmount']<300) & (loans_df['Combined_Income']<25000) & (loans_df['Loan_Status']=='N')]\n",
    "\n",
    "trace0=go.Scatter3d(\n",
    "    x=approved['LoanAmount'],\n",
    "    y=approved['Combined_Income'],\n",
    "    z=approved['Loan_Amount_Term'],\n",
    "    name='approved',\n",
    "    mode='markers',\n",
    "    text = list(zip(\n",
    "            [\"Credit: {}\".format(x) for x in loans_df['Credit_History']],\n",
    "            [\"Education: {}\".format(x) for x in loans_df['Education']],\n",
    "            [\"Property Area: {}\".format(x) for x in loans_df['Property_Area']],\n",
    "            [\"Gender: {}\".format(x) for x in loans_df['Gender']],\n",
    "            [\"Married: {}\".format(x) for x in loans_df['Married']],\n",
    "            [\"Education: {}\".format(x) for x in loans_df['Education']],\n",
    "            [\"Self-Employed: {}\".format(x) for x in loans_df['Self_Employed']]\n",
    "            )) ,\n",
    "    hoverinfo='text',\n",
    "    marker=dict(size=5, color='blue', opacity=0.4))\n",
    "\n",
    "trace1=go.Scatter3d(\n",
    "    x=denied['LoanAmount'],\n",
    "    y=denied['Combined_Income'],\n",
    "    z=denied['Loan_Amount_Term'],\n",
    "    name='denied',\n",
    "    mode='markers',\n",
    "    text = list(zip(\n",
    "            [\"Credit: {}\".format(x) for x in loans_df['Credit_History']],\n",
    "            [\"Education: {}\".format(x) for x in loans_df['Education']],\n",
    "            [\"Property Area: {}\".format(x) for x in loans_df['Property_Area']],\n",
    "            [\"Gender: {}\".format(x) for x in loans_df['Gender']],\n",
    "            [\"Married: {}\".format(x) for x in loans_df['Married']],\n",
    "            [\"Education: {}\".format(x) for x in loans_df['Education']],\n",
    "            [\"Self-Employed: {}\".format(x) for x in loans_df['Self_Employed']]\n",
    "            )) ,\n",
    "    hoverinfo='text',\n",
    "    marker=dict(size=5, color='red', opacity=0.4))\n",
    "\n",
    "layout = go.Layout(title=\"Loan Status\",\n",
    "                    showlegend=True,\n",
    "                        scene = dict(\n",
    "                        xaxis=dict(title='Loan Amount'),\n",
    "                        yaxis=dict(title='Combined Income'),\n",
    "                        zaxis=dict(title='Term')\n",
    "                ))\n",
    "fig=go.Figure([trace0, trace1], layout)\n",
    "fig"
   ]
  },
  {
   "cell_type": "code",
   "execution_count": 217,
   "id": "similar-timeline",
   "metadata": {},
   "outputs": [],
   "source": [
    "# save the figure for later use\n",
    "fig.write_json('../model_components/cube-figure.json')"
   ]
  },
  {
   "cell_type": "markdown",
   "id": "pacific-favor",
   "metadata": {},
   "source": [
    "### Data Cleaning\n",
    "- drop all NAs\n",
    "- in a future iteration, we might improve performance by imputing rather than dropping"
   ]
  },
  {
   "cell_type": "code",
   "execution_count": 218,
   "id": "geological-familiar",
   "metadata": {},
   "outputs": [
    {
     "data": {
      "text/plain": [
       "Loan_ID               0\n",
       "Gender               13\n",
       "Married               3\n",
       "Dependents           15\n",
       "Education             0\n",
       "Self_Employed        32\n",
       "ApplicantIncome       0\n",
       "CoapplicantIncome     0\n",
       "LoanAmount           22\n",
       "Loan_Amount_Term     14\n",
       "Credit_History       50\n",
       "Property_Area         0\n",
       "Loan_Status           0\n",
       "Combined_Income       0\n",
       "dtype: int64"
      ]
     },
     "execution_count": 218,
     "metadata": {},
     "output_type": "execute_result"
    }
   ],
   "source": [
    "# check for missing data\n",
    "loans_df.isnull().sum()"
   ]
  },
  {
   "cell_type": "code",
   "execution_count": 219,
   "id": "active-designation",
   "metadata": {},
   "outputs": [],
   "source": [
    "# remove missing data & reset the index\n",
    "loans_df.dropna(inplace=True)\n",
    "loans_df.reset_index(drop=True, inplace=True)"
   ]
  },
  {
   "cell_type": "markdown",
   "id": "hydraulic-calculator",
   "metadata": {},
   "source": [
    "## Categorical variables\n",
    "- each column translated to binary value\n",
    "- multi variables columns slpitted with dummy columns\n",
    "- drop the duplications in the data"
   ]
  },
  {
   "cell_type": "code",
   "execution_count": 220,
   "id": "second-calendar",
   "metadata": {},
   "outputs": [
    {
     "data": {
      "text/plain": [
       "Semiurban    191\n",
       "Urban        150\n",
       "Rural        139\n",
       "Name: Property_Area, dtype: int64"
      ]
     },
     "execution_count": 220,
     "metadata": {},
     "output_type": "execute_result"
    }
   ],
   "source": [
    "loans_df['Property_Area'].value_counts()"
   ]
  },
  {
   "cell_type": "code",
   "execution_count": 221,
   "id": "cleared-kelly",
   "metadata": {},
   "outputs": [],
   "source": [
    "# preprocess the dataset\n",
    "def categorize(df):\n",
    "    df['Gender'].replace({'Male': 1, 'Female': 0}, inplace = True)\n",
    "    df['Education'].replace({'Graduate': 1, 'Not Graduate': 0}, inplace = True)\n",
    "    df['Loan_Status'].replace({'Y': 1, 'N':0}, inplace=True)\n",
    "    df['Self_Employed'].replace({'Yes': 1, 'No': 0}, inplace = True)\n",
    "    df['Married'].replace({'Yes': 1, 'No': 0}, inplace = True)\n",
    "    return df"
   ]
  },
  {
   "cell_type": "code",
   "execution_count": 222,
   "id": "continued-exposure",
   "metadata": {},
   "outputs": [
    {
     "name": "stdout",
     "output_type": "stream",
     "text": [
      "(480, 14)\n",
      "(480, 14)\n"
     ]
    },
    {
     "data": {
      "text/html": [
       "<div>\n",
       "<style scoped>\n",
       "    .dataframe tbody tr th:only-of-type {\n",
       "        vertical-align: middle;\n",
       "    }\n",
       "\n",
       "    .dataframe tbody tr th {\n",
       "        vertical-align: top;\n",
       "    }\n",
       "\n",
       "    .dataframe thead th {\n",
       "        text-align: right;\n",
       "    }\n",
       "</style>\n",
       "<table border=\"1\" class=\"dataframe\">\n",
       "  <thead>\n",
       "    <tr style=\"text-align: right;\">\n",
       "      <th></th>\n",
       "      <th>0</th>\n",
       "      <th>1</th>\n",
       "    </tr>\n",
       "  </thead>\n",
       "  <tbody>\n",
       "    <tr>\n",
       "      <th>Loan_ID</th>\n",
       "      <td>LP001003</td>\n",
       "      <td>LP001005</td>\n",
       "    </tr>\n",
       "    <tr>\n",
       "      <th>Gender</th>\n",
       "      <td>1</td>\n",
       "      <td>1</td>\n",
       "    </tr>\n",
       "    <tr>\n",
       "      <th>Married</th>\n",
       "      <td>1</td>\n",
       "      <td>1</td>\n",
       "    </tr>\n",
       "    <tr>\n",
       "      <th>Dependents</th>\n",
       "      <td>1</td>\n",
       "      <td>0</td>\n",
       "    </tr>\n",
       "    <tr>\n",
       "      <th>Education</th>\n",
       "      <td>1</td>\n",
       "      <td>1</td>\n",
       "    </tr>\n",
       "    <tr>\n",
       "      <th>Self_Employed</th>\n",
       "      <td>0</td>\n",
       "      <td>1</td>\n",
       "    </tr>\n",
       "    <tr>\n",
       "      <th>ApplicantIncome</th>\n",
       "      <td>4583</td>\n",
       "      <td>3000</td>\n",
       "    </tr>\n",
       "    <tr>\n",
       "      <th>CoapplicantIncome</th>\n",
       "      <td>1508.0</td>\n",
       "      <td>0.0</td>\n",
       "    </tr>\n",
       "    <tr>\n",
       "      <th>LoanAmount</th>\n",
       "      <td>128.0</td>\n",
       "      <td>66.0</td>\n",
       "    </tr>\n",
       "    <tr>\n",
       "      <th>Loan_Amount_Term</th>\n",
       "      <td>360.0</td>\n",
       "      <td>360.0</td>\n",
       "    </tr>\n",
       "    <tr>\n",
       "      <th>Credit_History</th>\n",
       "      <td>1.0</td>\n",
       "      <td>1.0</td>\n",
       "    </tr>\n",
       "    <tr>\n",
       "      <th>Property_Area</th>\n",
       "      <td>Rural</td>\n",
       "      <td>Urban</td>\n",
       "    </tr>\n",
       "    <tr>\n",
       "      <th>Loan_Status</th>\n",
       "      <td>0</td>\n",
       "      <td>1</td>\n",
       "    </tr>\n",
       "    <tr>\n",
       "      <th>Combined_Income</th>\n",
       "      <td>6091.0</td>\n",
       "      <td>3000.0</td>\n",
       "    </tr>\n",
       "  </tbody>\n",
       "</table>\n",
       "</div>"
      ],
      "text/plain": [
       "                          0         1\n",
       "Loan_ID            LP001003  LP001005\n",
       "Gender                    1         1\n",
       "Married                   1         1\n",
       "Dependents                1         0\n",
       "Education                 1         1\n",
       "Self_Employed             0         1\n",
       "ApplicantIncome        4583      3000\n",
       "CoapplicantIncome    1508.0       0.0\n",
       "LoanAmount            128.0      66.0\n",
       "Loan_Amount_Term      360.0     360.0\n",
       "Credit_History          1.0       1.0\n",
       "Property_Area         Rural     Urban\n",
       "Loan_Status               0         1\n",
       "Combined_Income      6091.0    3000.0"
      ]
     },
     "execution_count": 222,
     "metadata": {},
     "output_type": "execute_result"
    }
   ],
   "source": [
    "# apply the changes\n",
    "print(loans_df.shape)\n",
    "loans_df = categorize(loans_df)\n",
    "print(loans_df.shape)\n",
    "loans_df.head(2).T"
   ]
  },
  {
   "cell_type": "markdown",
   "id": "permanent-membrane",
   "metadata": {},
   "source": [
    "### Adding new features:\n",
    "- one hot encoding\n",
    "- naive estimation of monthly loan return (LoanAmount/Loan_Amount_Term) \n",
    "- total income (ApplicantIncome + CoaplicantIncome) \n",
    "- both standardized and with ln() to get the distribution as close as possible to a normal distribution"
   ]
  },
  {
   "cell_type": "code",
   "execution_count": 223,
   "id": "revised-finance",
   "metadata": {},
   "outputs": [
    {
     "name": "stdout",
     "output_type": "stream",
     "text": [
      "['Property_Area_Semiurban', 'Property_Area_Urban', 'Property_Area_Rural']\n"
     ]
    }
   ],
   "source": [
    "# onehot encoding of categorical variables\n",
    "\n",
    "encoder1=OneHotEncoder()\n",
    "ohe=pd.DataFrame(encoder1.fit_transform(loans_df[['Property_Area']]).toarray())\n",
    "col_list = ['Property_Area_{}'.format(item) for item in loans_df['Property_Area'].value_counts().index]\n",
    "ohe.columns=col_list\n",
    "loans_df = pd.concat([loans_df, ohe],axis=1)\n",
    "print(col_list)"
   ]
  },
  {
   "cell_type": "code",
   "execution_count": 224,
   "id": "coated-adaptation",
   "metadata": {},
   "outputs": [],
   "source": [
    "# standardization\n",
    "\n",
    "ss_scaler1 = StandardScaler()\n",
    "ss_scaler2 = StandardScaler()\n",
    "ss_scaler3 = StandardScaler()\n",
    "\n",
    "\n",
    "ln_monthly_return_raw  = np.log(loans_df['LoanAmount']/loans_df['Loan_Amount_Term']).values\n",
    "loans_df['ln_monthly_return'] = ss_scaler1.fit_transform(np.array(ln_monthly_return_raw).reshape(-1, 1))\n",
    "\n",
    "ln_total_income_raw = np.log(loans_df['ApplicantIncome'] + loans_df['CoapplicantIncome'])\n",
    "loans_df['ln_total_income'] = ss_scaler2.fit_transform(np.array(ln_total_income_raw).reshape(-1, 1)) \n",
    "\n",
    "ln_LoanAmount_raw = np.log(loans_df['LoanAmount'])\n",
    "loans_df['ln_LoanAmount'] = ss_scaler3.fit_transform(np.array(ln_LoanAmount_raw).reshape(-1, 1)) "
   ]
  },
  {
   "cell_type": "code",
   "execution_count": 225,
   "id": "8913b972-d157-47f3-b925-380097a43647",
   "metadata": {},
   "outputs": [
    {
     "data": {
      "text/html": [
       "<div>\n",
       "<style scoped>\n",
       "    .dataframe tbody tr th:only-of-type {\n",
       "        vertical-align: middle;\n",
       "    }\n",
       "\n",
       "    .dataframe tbody tr th {\n",
       "        vertical-align: top;\n",
       "    }\n",
       "\n",
       "    .dataframe thead th {\n",
       "        text-align: right;\n",
       "    }\n",
       "</style>\n",
       "<table border=\"1\" class=\"dataframe\">\n",
       "  <thead>\n",
       "    <tr style=\"text-align: right;\">\n",
       "      <th></th>\n",
       "      <th>Loan_ID</th>\n",
       "      <th>Gender</th>\n",
       "      <th>Married</th>\n",
       "      <th>Dependents</th>\n",
       "      <th>Education</th>\n",
       "      <th>Self_Employed</th>\n",
       "      <th>ApplicantIncome</th>\n",
       "      <th>CoapplicantIncome</th>\n",
       "      <th>LoanAmount</th>\n",
       "      <th>Loan_Amount_Term</th>\n",
       "      <th>Credit_History</th>\n",
       "      <th>Property_Area</th>\n",
       "      <th>Loan_Status</th>\n",
       "      <th>Combined_Income</th>\n",
       "      <th>Property_Area_Semiurban</th>\n",
       "      <th>Property_Area_Urban</th>\n",
       "      <th>Property_Area_Rural</th>\n",
       "      <th>ln_monthly_return</th>\n",
       "      <th>ln_total_income</th>\n",
       "      <th>ln_LoanAmount</th>\n",
       "    </tr>\n",
       "  </thead>\n",
       "  <tbody>\n",
       "    <tr>\n",
       "      <th>0</th>\n",
       "      <td>LP001003</td>\n",
       "      <td>1</td>\n",
       "      <td>1</td>\n",
       "      <td>1</td>\n",
       "      <td>1</td>\n",
       "      <td>0</td>\n",
       "      <td>4583</td>\n",
       "      <td>1508.0</td>\n",
       "      <td>128.0</td>\n",
       "      <td>360.0</td>\n",
       "      <td>1.0</td>\n",
       "      <td>Rural</td>\n",
       "      <td>0</td>\n",
       "      <td>6091.0</td>\n",
       "      <td>1.0</td>\n",
       "      <td>0.0</td>\n",
       "      <td>0.0</td>\n",
       "      <td>-0.140781</td>\n",
       "      <td>0.082938</td>\n",
       "      <td>0.007246</td>\n",
       "    </tr>\n",
       "    <tr>\n",
       "      <th>1</th>\n",
       "      <td>LP001005</td>\n",
       "      <td>1</td>\n",
       "      <td>1</td>\n",
       "      <td>0</td>\n",
       "      <td>1</td>\n",
       "      <td>1</td>\n",
       "      <td>3000</td>\n",
       "      <td>0.0</td>\n",
       "      <td>66.0</td>\n",
       "      <td>360.0</td>\n",
       "      <td>1.0</td>\n",
       "      <td>Urban</td>\n",
       "      <td>1</td>\n",
       "      <td>3000.0</td>\n",
       "      <td>0.0</td>\n",
       "      <td>0.0</td>\n",
       "      <td>1.0</td>\n",
       "      <td>-1.317733</td>\n",
       "      <td>-1.237395</td>\n",
       "      <td>-1.292046</td>\n",
       "    </tr>\n",
       "    <tr>\n",
       "      <th>2</th>\n",
       "      <td>LP001006</td>\n",
       "      <td>1</td>\n",
       "      <td>1</td>\n",
       "      <td>0</td>\n",
       "      <td>0</td>\n",
       "      <td>0</td>\n",
       "      <td>2583</td>\n",
       "      <td>2358.0</td>\n",
       "      <td>120.0</td>\n",
       "      <td>360.0</td>\n",
       "      <td>1.0</td>\n",
       "      <td>Urban</td>\n",
       "      <td>1</td>\n",
       "      <td>4941.0</td>\n",
       "      <td>0.0</td>\n",
       "      <td>0.0</td>\n",
       "      <td>1.0</td>\n",
       "      <td>-0.255457</td>\n",
       "      <td>-0.307167</td>\n",
       "      <td>-0.119351</td>\n",
       "    </tr>\n",
       "    <tr>\n",
       "      <th>3</th>\n",
       "      <td>LP001008</td>\n",
       "      <td>1</td>\n",
       "      <td>0</td>\n",
       "      <td>0</td>\n",
       "      <td>1</td>\n",
       "      <td>0</td>\n",
       "      <td>6000</td>\n",
       "      <td>0.0</td>\n",
       "      <td>141.0</td>\n",
       "      <td>360.0</td>\n",
       "      <td>1.0</td>\n",
       "      <td>Urban</td>\n",
       "      <td>1</td>\n",
       "      <td>6000.0</td>\n",
       "      <td>0.0</td>\n",
       "      <td>0.0</td>\n",
       "      <td>1.0</td>\n",
       "      <td>0.031095</td>\n",
       "      <td>0.054874</td>\n",
       "      <td>0.196987</td>\n",
       "    </tr>\n",
       "    <tr>\n",
       "      <th>4</th>\n",
       "      <td>LP001011</td>\n",
       "      <td>1</td>\n",
       "      <td>1</td>\n",
       "      <td>2</td>\n",
       "      <td>1</td>\n",
       "      <td>1</td>\n",
       "      <td>5417</td>\n",
       "      <td>4196.0</td>\n",
       "      <td>267.0</td>\n",
       "      <td>360.0</td>\n",
       "      <td>1.0</td>\n",
       "      <td>Urban</td>\n",
       "      <td>1</td>\n",
       "      <td>9613.0</td>\n",
       "      <td>0.0</td>\n",
       "      <td>0.0</td>\n",
       "      <td>1.0</td>\n",
       "      <td>1.165604</td>\n",
       "      <td>0.933649</td>\n",
       "      <td>1.449424</td>\n",
       "    </tr>\n",
       "  </tbody>\n",
       "</table>\n",
       "</div>"
      ],
      "text/plain": [
       "    Loan_ID  Gender  Married Dependents  Education  Self_Employed  \\\n",
       "0  LP001003       1        1          1          1              0   \n",
       "1  LP001005       1        1          0          1              1   \n",
       "2  LP001006       1        1          0          0              0   \n",
       "3  LP001008       1        0          0          1              0   \n",
       "4  LP001011       1        1          2          1              1   \n",
       "\n",
       "   ApplicantIncome  CoapplicantIncome  LoanAmount  Loan_Amount_Term  \\\n",
       "0             4583             1508.0       128.0             360.0   \n",
       "1             3000                0.0        66.0             360.0   \n",
       "2             2583             2358.0       120.0             360.0   \n",
       "3             6000                0.0       141.0             360.0   \n",
       "4             5417             4196.0       267.0             360.0   \n",
       "\n",
       "   Credit_History Property_Area  Loan_Status  Combined_Income  \\\n",
       "0             1.0         Rural            0           6091.0   \n",
       "1             1.0         Urban            1           3000.0   \n",
       "2             1.0         Urban            1           4941.0   \n",
       "3             1.0         Urban            1           6000.0   \n",
       "4             1.0         Urban            1           9613.0   \n",
       "\n",
       "   Property_Area_Semiurban  Property_Area_Urban  Property_Area_Rural  \\\n",
       "0                      1.0                  0.0                  0.0   \n",
       "1                      0.0                  0.0                  1.0   \n",
       "2                      0.0                  0.0                  1.0   \n",
       "3                      0.0                  0.0                  1.0   \n",
       "4                      0.0                  0.0                  1.0   \n",
       "\n",
       "   ln_monthly_return  ln_total_income  ln_LoanAmount  \n",
       "0          -0.140781         0.082938       0.007246  \n",
       "1          -1.317733        -1.237395      -1.292046  \n",
       "2          -0.255457        -0.307167      -0.119351  \n",
       "3           0.031095         0.054874       0.196987  \n",
       "4           1.165604         0.933649       1.449424  "
      ]
     },
     "execution_count": 225,
     "metadata": {},
     "output_type": "execute_result"
    }
   ],
   "source": [
    "loans_df.head()"
   ]
  },
  {
   "cell_type": "code",
   "execution_count": 226,
   "id": "satellite-diving",
   "metadata": {},
   "outputs": [
    {
     "name": "stdout",
     "output_type": "stream",
     "text": [
      "['Loan_ID', 'Dependents', 'Property_Area', 'LoanAmount', 'Loan_Amount_Term', 'ApplicantIncome', 'CoapplicantIncome']\n"
     ]
    }
   ],
   "source": [
    "# drop additional variables that are reformatted or don't add much to the analysis.\n",
    "dropit=['Loan_ID', 'Dependents', 'Property_Area', 'LoanAmount',\n",
    "        'Loan_Amount_Term','ApplicantIncome','CoapplicantIncome']\n",
    "print(dropit)"
   ]
  },
  {
   "cell_type": "code",
   "execution_count": 227,
   "id": "combined-terrorism",
   "metadata": {},
   "outputs": [
    {
     "data": {
      "text/html": [
       "<div>\n",
       "<style scoped>\n",
       "    .dataframe tbody tr th:only-of-type {\n",
       "        vertical-align: middle;\n",
       "    }\n",
       "\n",
       "    .dataframe tbody tr th {\n",
       "        vertical-align: top;\n",
       "    }\n",
       "\n",
       "    .dataframe thead th {\n",
       "        text-align: right;\n",
       "    }\n",
       "</style>\n",
       "<table border=\"1\" class=\"dataframe\">\n",
       "  <thead>\n",
       "    <tr style=\"text-align: right;\">\n",
       "      <th></th>\n",
       "      <th>Gender</th>\n",
       "      <th>Married</th>\n",
       "      <th>Education</th>\n",
       "      <th>Self_Employed</th>\n",
       "      <th>Credit_History</th>\n",
       "      <th>Loan_Status</th>\n",
       "      <th>Combined_Income</th>\n",
       "      <th>Property_Area_Semiurban</th>\n",
       "      <th>Property_Area_Urban</th>\n",
       "      <th>Property_Area_Rural</th>\n",
       "      <th>ln_monthly_return</th>\n",
       "      <th>ln_total_income</th>\n",
       "      <th>ln_LoanAmount</th>\n",
       "    </tr>\n",
       "  </thead>\n",
       "  <tbody>\n",
       "    <tr>\n",
       "      <th>0</th>\n",
       "      <td>1</td>\n",
       "      <td>1</td>\n",
       "      <td>1</td>\n",
       "      <td>0</td>\n",
       "      <td>1.0</td>\n",
       "      <td>0</td>\n",
       "      <td>6091.0</td>\n",
       "      <td>1.0</td>\n",
       "      <td>0.0</td>\n",
       "      <td>0.0</td>\n",
       "      <td>-0.140781</td>\n",
       "      <td>0.082938</td>\n",
       "      <td>0.007246</td>\n",
       "    </tr>\n",
       "    <tr>\n",
       "      <th>1</th>\n",
       "      <td>1</td>\n",
       "      <td>1</td>\n",
       "      <td>1</td>\n",
       "      <td>1</td>\n",
       "      <td>1.0</td>\n",
       "      <td>1</td>\n",
       "      <td>3000.0</td>\n",
       "      <td>0.0</td>\n",
       "      <td>0.0</td>\n",
       "      <td>1.0</td>\n",
       "      <td>-1.317733</td>\n",
       "      <td>-1.237395</td>\n",
       "      <td>-1.292046</td>\n",
       "    </tr>\n",
       "    <tr>\n",
       "      <th>2</th>\n",
       "      <td>1</td>\n",
       "      <td>1</td>\n",
       "      <td>0</td>\n",
       "      <td>0</td>\n",
       "      <td>1.0</td>\n",
       "      <td>1</td>\n",
       "      <td>4941.0</td>\n",
       "      <td>0.0</td>\n",
       "      <td>0.0</td>\n",
       "      <td>1.0</td>\n",
       "      <td>-0.255457</td>\n",
       "      <td>-0.307167</td>\n",
       "      <td>-0.119351</td>\n",
       "    </tr>\n",
       "    <tr>\n",
       "      <th>3</th>\n",
       "      <td>1</td>\n",
       "      <td>0</td>\n",
       "      <td>1</td>\n",
       "      <td>0</td>\n",
       "      <td>1.0</td>\n",
       "      <td>1</td>\n",
       "      <td>6000.0</td>\n",
       "      <td>0.0</td>\n",
       "      <td>0.0</td>\n",
       "      <td>1.0</td>\n",
       "      <td>0.031095</td>\n",
       "      <td>0.054874</td>\n",
       "      <td>0.196987</td>\n",
       "    </tr>\n",
       "    <tr>\n",
       "      <th>4</th>\n",
       "      <td>1</td>\n",
       "      <td>1</td>\n",
       "      <td>1</td>\n",
       "      <td>1</td>\n",
       "      <td>1.0</td>\n",
       "      <td>1</td>\n",
       "      <td>9613.0</td>\n",
       "      <td>0.0</td>\n",
       "      <td>0.0</td>\n",
       "      <td>1.0</td>\n",
       "      <td>1.165604</td>\n",
       "      <td>0.933649</td>\n",
       "      <td>1.449424</td>\n",
       "    </tr>\n",
       "  </tbody>\n",
       "</table>\n",
       "</div>"
      ],
      "text/plain": [
       "   Gender  Married  Education  Self_Employed  Credit_History  Loan_Status  \\\n",
       "0       1        1          1              0             1.0            0   \n",
       "1       1        1          1              1             1.0            1   \n",
       "2       1        1          0              0             1.0            1   \n",
       "3       1        0          1              0             1.0            1   \n",
       "4       1        1          1              1             1.0            1   \n",
       "\n",
       "   Combined_Income  Property_Area_Semiurban  Property_Area_Urban  \\\n",
       "0           6091.0                      1.0                  0.0   \n",
       "1           3000.0                      0.0                  0.0   \n",
       "2           4941.0                      0.0                  0.0   \n",
       "3           6000.0                      0.0                  0.0   \n",
       "4           9613.0                      0.0                  0.0   \n",
       "\n",
       "   Property_Area_Rural  ln_monthly_return  ln_total_income  ln_LoanAmount  \n",
       "0                  0.0          -0.140781         0.082938       0.007246  \n",
       "1                  1.0          -1.317733        -1.237395      -1.292046  \n",
       "2                  1.0          -0.255457        -0.307167      -0.119351  \n",
       "3                  1.0           0.031095         0.054874       0.196987  \n",
       "4                  1.0           1.165604         0.933649       1.449424  "
      ]
     },
     "execution_count": 227,
     "metadata": {},
     "output_type": "execute_result"
    }
   ],
   "source": [
    "loans_df.drop(columns=dropit, inplace=True)\n",
    "loans_df.head()"
   ]
  },
  {
   "cell_type": "markdown",
   "id": "centered-commercial",
   "metadata": {},
   "source": [
    "## Model evaluation "
   ]
  },
  {
   "cell_type": "code",
   "execution_count": 228,
   "id": "conditional-collector",
   "metadata": {},
   "outputs": [],
   "source": [
    "def mod_eval(df,predictions, y_test, title):\n",
    "    # prints confusion matrix heatmap    \n",
    "    cm = confusion_matrix(df['Loan_Status'][y_test.index], predictions)\n",
    "    sns.heatmap(cm, annot=True, fmt='.3g', xticklabels=['No', 'Yes'], yticklabels=['No', 'Yes']).set_title(title)\n",
    "    plt.xlabel('Real')\n",
    "    plt.ylabel('Predict')\n",
    "    \n",
    "    print(classification_report(df['Loan_Status'][y_test.index], predictions))"
   ]
  },
  {
   "cell_type": "code",
   "execution_count": 229,
   "id": "floppy-personal",
   "metadata": {},
   "outputs": [],
   "source": [
    "# train-test split\n",
    "X=loans_df.drop(columns=['Loan_Status', 'Combined_Income'])\n",
    "y=loans_df['Loan_Status']\n",
    "X_train, X_test, y_train, y_test = train_test_split(X, y,\n",
    "                                                     test_size=.3,\n",
    "                                                     stratify=loans_df['Loan_Status'])"
   ]
  },
  {
   "cell_type": "markdown",
   "id": "young-skating",
   "metadata": {},
   "source": [
    "## RandomForest"
   ]
  },
  {
   "cell_type": "code",
   "execution_count": 230,
   "id": "signed-clear",
   "metadata": {},
   "outputs": [],
   "source": [
    "# grid search for optimal hyperparameters\n",
    "grid_values = {'max_features': [4, 5, 6, 7],\n",
    "              'max_depth': [3, 7, 11, 13],\n",
    "               'n_estimators':[50,100,150]\n",
    "              }"
   ]
  },
  {
   "cell_type": "code",
   "execution_count": 231,
   "id": "growing-graham",
   "metadata": {},
   "outputs": [
    {
     "name": "stdout",
     "output_type": "stream",
     "text": [
      "{'max_depth': 3, 'max_features': 4, 'n_estimators': 100}\n",
      "0.7946444249341529\n"
     ]
    }
   ],
   "source": [
    "# grid search for optimal hyperparameters\n",
    "model = RandomForestClassifier(random_state=42, \n",
    "                               n_jobs=4)\n",
    "rf = GridSearchCV(model, param_grid=grid_values, scoring='accuracy', cv=5)\n",
    "rf.fit(X_train,y_train)\n",
    "print(rf.best_params_)\n",
    "print(rf.best_score_)"
   ]
  },
  {
   "cell_type": "code",
   "execution_count": 232,
   "id": "concerned-transfer",
   "metadata": {},
   "outputs": [
    {
     "name": "stdout",
     "output_type": "stream",
     "text": [
      "              precision    recall  f1-score   support\n",
      "\n",
      "           0       0.92      0.55      0.69        44\n",
      "           1       0.83      0.98      0.90       100\n",
      "\n",
      "    accuracy                           0.85       144\n",
      "   macro avg       0.88      0.76      0.79       144\n",
      "weighted avg       0.86      0.85      0.83       144\n",
      "\n"
     ]
    },
    {
     "data": {
      "image/png": "[encoded data removed]",
      "text/plain": [
       "<Figure size 432x288 with 2 Axes>"
      ]
     },
     "metadata": {
      "needs_background": "light"
     },
     "output_type": "display_data"
    }
   ],
   "source": [
    "# evaluate the model\n",
    "predprob = rf.predict_proba(X_test)\n",
    "mod_eval(loans_df, rf.predict(X_test),  y_test, 'RandomForest')"
   ]
  },
  {
   "cell_type": "markdown",
   "id": "developed-malaysia",
   "metadata": {},
   "source": [
    "## LogisticRegression"
   ]
  },
  {
   "cell_type": "code",
   "execution_count": 233,
   "id": "forty-piece",
   "metadata": {},
   "outputs": [],
   "source": [
    "# grid search for optimal hyperparameters\n",
    "grid_values = {'C': [0.01, 0.1, 1, 10, 100],\n",
    "              'penalty': ['l1', 'l2'],\n",
    "               'solver':['liblinear'] # this is the only solver that allow parameters\n",
    "              }"
   ]
  },
  {
   "cell_type": "code",
   "execution_count": 234,
   "id": "imported-austin",
   "metadata": {},
   "outputs": [
    {
     "name": "stdout",
     "output_type": "stream",
     "text": [
      "{'C': 10, 'penalty': 'l1', 'solver': 'liblinear'}\n",
      "0.7917032484635647\n"
     ]
    }
   ],
   "source": [
    "# grid search for optimal hyperparameters\n",
    "model = LogisticRegression(max_iter=1000)\n",
    "lr = GridSearchCV(model, param_grid=grid_values, scoring='accuracy', cv=5)\n",
    "lr.fit(X_train,y_train)\n",
    "print(lr.best_params_)\n",
    "print(lr.best_score_)"
   ]
  },
  {
   "cell_type": "code",
   "execution_count": 235,
   "id": "compatible-ceramic",
   "metadata": {},
   "outputs": [
    {
     "name": "stdout",
     "output_type": "stream",
     "text": [
      "              precision    recall  f1-score   support\n",
      "\n",
      "           0       0.92      0.55      0.69        44\n",
      "           1       0.83      0.98      0.90       100\n",
      "\n",
      "    accuracy                           0.85       144\n",
      "   macro avg       0.88      0.76      0.79       144\n",
      "weighted avg       0.86      0.85      0.83       144\n",
      "\n"
     ]
    },
    {
     "data": {
      "image/png": "[encoded data removed]",
      "text/plain": [
       "<Figure size 432x288 with 2 Axes>"
      ]
     },
     "metadata": {
      "needs_background": "light"
     },
     "output_type": "display_data"
    }
   ],
   "source": [
    "# evaluate the model\n",
    "predprob = lr.predict_proba(X_test)\n",
    "mod_eval(loans_df, lr.predict(X_test), y_test, 'LogisticRegression') "
   ]
  },
  {
   "cell_type": "markdown",
   "id": "unique-smoke",
   "metadata": {},
   "source": [
    "## NaiveBayes"
   ]
  },
  {
   "cell_type": "code",
   "execution_count": 236,
   "id": "handled-worth",
   "metadata": {},
   "outputs": [
    {
     "name": "stdout",
     "output_type": "stream",
     "text": [
      "              precision    recall  f1-score   support\n",
      "\n",
      "           0       0.83      0.55      0.66        44\n",
      "           1       0.83      0.95      0.88       100\n",
      "\n",
      "    accuracy                           0.83       144\n",
      "   macro avg       0.83      0.75      0.77       144\n",
      "weighted avg       0.83      0.83      0.81       144\n",
      "\n"
     ]
    },
    {
     "data": {
      "image/png": "[encoded data removed]",
      "text/plain": [
       "<Figure size 432x288 with 2 Axes>"
      ]
     },
     "metadata": {
      "needs_background": "light"
     },
     "output_type": "display_data"
    }
   ],
   "source": [
    "# there are no hyperparameters to gridsearch\n",
    "gnb = GaussianNB()\n",
    "gnb.fit(X_train, y_train)\n",
    "mod_eval(loans_df, gnb.predict(X_test),  y_test, 'GaussianNB')"
   ]
  },
  {
   "cell_type": "markdown",
   "id": "tutorial-conclusion",
   "metadata": {},
   "source": [
    "## SVC"
   ]
  },
  {
   "cell_type": "code",
   "execution_count": 237,
   "id": "opened-animation",
   "metadata": {},
   "outputs": [],
   "source": [
    "# grid search for optimal hyperparameters\n",
    "grid_values = {'C': [1, 10],\n",
    "              'gamma': [0.5, 0.7, 0.9, 0.95],\n",
    "              'kernel':['linear','poly','rbf']\n",
    "              }"
   ]
  },
  {
   "cell_type": "code",
   "execution_count": 238,
   "id": "determined-daily",
   "metadata": {},
   "outputs": [
    {
     "name": "stdout",
     "output_type": "stream",
     "text": [
      "{'C': 1, 'gamma': 0.5, 'kernel': 'rbf'}\n",
      "0.7083406496927129\n"
     ]
    }
   ],
   "source": [
    "# grid search for optimal hyperparameters\n",
    "model = SVC(class_weight='balanced',probability=True)\n",
    "svc = GridSearchCV(model, param_grid=grid_values, scoring='accuracy', cv=5)\n",
    "svc.fit(X_train,y_train)\n",
    "print(svc.best_params_)\n",
    "print(svc.best_score_)"
   ]
  },
  {
   "cell_type": "code",
   "execution_count": 239,
   "id": "czech-comfort",
   "metadata": {},
   "outputs": [
    {
     "name": "stdout",
     "output_type": "stream",
     "text": [
      "              precision    recall  f1-score   support\n",
      "\n",
      "           0       0.69      0.66      0.67        44\n",
      "           1       0.85      0.87      0.86       100\n",
      "\n",
      "    accuracy                           0.81       144\n",
      "   macro avg       0.77      0.76      0.77       144\n",
      "weighted avg       0.80      0.81      0.80       144\n",
      "\n"
     ]
    },
    {
     "data": {
      "image/png": "[encoded data removed]",
      "text/plain": [
       "<Figure size 432x288 with 2 Axes>"
      ]
     },
     "metadata": {
      "needs_background": "light"
     },
     "output_type": "display_data"
    }
   ],
   "source": [
    "# evaluate\n",
    "predprob = svc.predict_proba(X_test)\n",
    "mod_eval(loans_df,svc.predict(X_test), y_test, 'SVC')\n",
    "plt.show()"
   ]
  },
  {
   "cell_type": "markdown",
   "id": "ultimate-diameter",
   "metadata": {},
   "source": [
    "## Adaboost"
   ]
  },
  {
   "cell_type": "code",
   "execution_count": 240,
   "id": "surrounded-reunion",
   "metadata": {},
   "outputs": [],
   "source": [
    "# grid search for optimal hyperparameters\n",
    "grid_values = {'learning_rate': [1, 2, 3],\n",
    "               'n_estimators':[50,100,150]}"
   ]
  },
  {
   "cell_type": "code",
   "execution_count": 241,
   "id": "collective-stability",
   "metadata": {},
   "outputs": [
    {
     "name": "stdout",
     "output_type": "stream",
     "text": [
      "{'learning_rate': 1, 'n_estimators': 50}\n",
      "0.7589113257243195\n"
     ]
    }
   ],
   "source": [
    "# grid search for optimal hyperparameters\n",
    "model = AdaBoostClassifier()\n",
    "boost = GridSearchCV(model, param_grid=grid_values, scoring='accuracy', cv=5)\n",
    "boost.fit(X_train,y_train)\n",
    "print(boost.best_params_)\n",
    "print(boost.best_score_)"
   ]
  },
  {
   "cell_type": "code",
   "execution_count": 242,
   "id": "diagnostic-regulation",
   "metadata": {},
   "outputs": [
    {
     "name": "stdout",
     "output_type": "stream",
     "text": [
      "              precision    recall  f1-score   support\n",
      "\n",
      "           0       0.66      0.52      0.58        44\n",
      "           1       0.81      0.88      0.84       100\n",
      "\n",
      "    accuracy                           0.77       144\n",
      "   macro avg       0.73      0.70      0.71       144\n",
      "weighted avg       0.76      0.77      0.76       144\n",
      "\n"
     ]
    },
    {
     "data": {
      "image/png": "[encoded data removed]",
      "text/plain": [
       "<Figure size 432x288 with 2 Axes>"
      ]
     },
     "metadata": {
      "needs_background": "light"
     },
     "output_type": "display_data"
    }
   ],
   "source": [
    "# evaluate the model\n",
    "predprob = boost.predict_proba(X_test)\n",
    "mod_eval(loans_df,boost.predict(X_test),  y_test, 'boost')\n",
    "plt.show()"
   ]
  },
  {
   "cell_type": "markdown",
   "id": "dried-malaysia",
   "metadata": {},
   "source": [
    "## Compare Models"
   ]
  },
  {
   "cell_type": "code",
   "execution_count": 243,
   "id": "vertical-preservation",
   "metadata": {},
   "outputs": [
    {
     "data": {
      "text/plain": [
       "[0.8472222222222222,\n",
       " 0.8472222222222222,\n",
       " 0.8263888888888888,\n",
       " 0.8055555555555556,\n",
       " 0.7708333333333334]"
      ]
     },
     "execution_count": 243,
     "metadata": {},
     "output_type": "execute_result"
    }
   ],
   "source": [
    "# compare final models: accuracy\n",
    "import sklearn\n",
    "accuracy_vals=[]\n",
    "for val in [rf.predict(X_test),\n",
    "lr.predict(X_test),\n",
    "gnb.predict(X_test),\n",
    "svc.predict(X_test),\n",
    "boost.predict(X_test),      \n",
    "           ]:\n",
    "    accuracy_vals.append(sklearn.metrics.accuracy_score(val, y_test.values))\n",
    "accuracy_vals"
   ]
  },
  {
   "cell_type": "code",
   "execution_count": 244,
   "id": "pressed-holder",
   "metadata": {},
   "outputs": [
    {
     "data": {
      "text/plain": [
       "[0.8767926988265972,\n",
       " 0.8767926988265972,\n",
       " 0.8268365817091454,\n",
       " 0.7717086834733894,\n",
       " 0.7322411533420707]"
      ]
     },
     "execution_count": 244,
     "metadata": {},
     "output_type": "execute_result"
    }
   ],
   "source": [
    "# compare final models: ROCAUC\n",
    "roc_vals=[]\n",
    "for val in [rf.predict(X_test),\n",
    "            lr.predict(X_test),\n",
    "            gnb.predict(X_test),\n",
    "            svc.predict(X_test),\n",
    "           boost.predict(X_test)]:\n",
    "    roc_vals.append(sklearn.metrics.roc_auc_score(val, y_test.values))\n",
    "roc_vals"
   ]
  },
  {
   "cell_type": "code",
   "execution_count": 245,
   "id": "immune-aspect",
   "metadata": {},
   "outputs": [
    {
     "data": {
      "text/html": [
       "<div>\n",
       "<style scoped>\n",
       "    .dataframe tbody tr th:only-of-type {\n",
       "        vertical-align: middle;\n",
       "    }\n",
       "\n",
       "    .dataframe tbody tr th {\n",
       "        vertical-align: top;\n",
       "    }\n",
       "\n",
       "    .dataframe thead th {\n",
       "        text-align: right;\n",
       "    }\n",
       "</style>\n",
       "<table border=\"1\" class=\"dataframe\">\n",
       "  <thead>\n",
       "    <tr style=\"text-align: right;\">\n",
       "      <th></th>\n",
       "      <th>accuracy</th>\n",
       "      <th>rocauc</th>\n",
       "    </tr>\n",
       "    <tr>\n",
       "      <th>model</th>\n",
       "      <th></th>\n",
       "      <th></th>\n",
       "    </tr>\n",
       "  </thead>\n",
       "  <tbody>\n",
       "    <tr>\n",
       "      <th>random forest</th>\n",
       "      <td>0.847222</td>\n",
       "      <td>0.876793</td>\n",
       "    </tr>\n",
       "    <tr>\n",
       "      <th>logistic regression</th>\n",
       "      <td>0.847222</td>\n",
       "      <td>0.876793</td>\n",
       "    </tr>\n",
       "    <tr>\n",
       "      <th>naive bayes</th>\n",
       "      <td>0.826389</td>\n",
       "      <td>0.826837</td>\n",
       "    </tr>\n",
       "    <tr>\n",
       "      <th>support vector</th>\n",
       "      <td>0.805556</td>\n",
       "      <td>0.771709</td>\n",
       "    </tr>\n",
       "    <tr>\n",
       "      <th>boosted</th>\n",
       "      <td>0.770833</td>\n",
       "      <td>0.732241</td>\n",
       "    </tr>\n",
       "  </tbody>\n",
       "</table>\n",
       "</div>"
      ],
      "text/plain": [
       "                     accuracy    rocauc\n",
       "model                                  \n",
       "random forest        0.847222  0.876793\n",
       "logistic regression  0.847222  0.876793\n",
       "naive bayes          0.826389  0.826837\n",
       "support vector       0.805556  0.771709\n",
       "boosted              0.770833  0.732241"
      ]
     },
     "execution_count": 245,
     "metadata": {},
     "output_type": "execute_result"
    }
   ],
   "source": [
    "# display final values\n",
    "models = ['random forest', 'logistic regression', 'naive bayes', 'support vector', 'boosted']\n",
    "evaldf = pd.DataFrame(list(zip(models, accuracy_vals, roc_vals)))\n",
    "evaldf.columns=['model', 'accuracy', 'rocauc']\n",
    "evaldf=evaldf.set_index('model', drop=True)\n",
    "evaldf"
   ]
  },
  {
   "cell_type": "code",
   "execution_count": 246,
   "id": "sophisticated-alloy",
   "metadata": {},
   "outputs": [
    {
     "data": {
      "application/vnd.plotly.v1+json": {
       "config": {
        "plotlyServerURL": "https://plot.ly"
       },
       "data": [
        {
         "marker": {
          "color": "rgb(100,200,300)"
         },
         "name": "accuracy",
         "type": "bar",
         "x": [
          "random forest",
          "logistic regression",
          "naive bayes",
          "support vector",
          "boosted"
         ],
         "y": [
          0.8472222222222222,
          0.8472222222222222,
          0.8263888888888888,
          0.8055555555555556,
          0.7708333333333334
         ]
        },
        {
         "marker": {
          "color": "rgb(300,200,100)"
         },
         "name": "roc-auc",
         "type": "bar",
         "x": [
          "random forest",
          "logistic regression",
          "naive bayes",
          "support vector",
          "boosted"
         ],
         "y": [
          0.8767926988265972,
          0.8767926988265972,
          0.8268365817091454,
          0.7717086834733894,
          0.7322411533420707
         ]
        }
       ],
       "layout": {
        "autosize": true,
        "template": {
         "data": {
          "bar": [
           {
            "error_x": {
             "color": "#2a3f5f"
            },
            "error_y": {
             "color": "#2a3f5f"
            },
            "marker": {
             "line": {
              "color": "#E5ECF6",
              "width": 0.5
             },
             "pattern": {
              "fillmode": "overlay",
              "size": 10,
              "solidity": 0.2
             }
            },
            "type": "bar"
           }
          ],
          "barpolar": [
           {
            "marker": {
             "line": {
              "color": "#E5ECF6",
              "width": 0.5
             },
             "pattern": {
              "fillmode": "overlay",
              "size": 10,
              "solidity": 0.2
             }
            },
            "type": "barpolar"
           }
          ],
          "carpet": [
           {
            "aaxis": {
             "endlinecolor": "#2a3f5f",
             "gridcolor": "white",
             "linecolor": "white",
             "minorgridcolor": "white",
             "startlinecolor": "#2a3f5f"
            },
            "baxis": {
             "endlinecolor": "#2a3f5f",
             "gridcolor": "white",
             "linecolor": "white",
             "minorgridcolor": "white",
             "startlinecolor": "#2a3f5f"
            },
            "type": "carpet"
           }
          ],
          "choropleth": [
           {
            "colorbar": {
             "outlinewidth": 0,
             "ticks": ""
            },
            "type": "choropleth"
           }
          ],
          "contour": [
           {
            "colorbar": {
             "outlinewidth": 0,
             "ticks": ""
            },
            "colorscale": [
             [
              0,
              "#0d0887"
             ],
             [
              0.1111111111111111,
              "#46039f"
             ],
             [
              0.2222222222222222,
              "#7201a8"
             ],
             [
              0.3333333333333333,
              "#9c179e"
             ],
             [
              0.4444444444444444,
              "#bd3786"
             ],
             [
              0.5555555555555556,
              "#d8576b"
             ],
             [
              0.6666666666666666,
              "#ed7953"
             ],
             [
              0.7777777777777778,
              "#fb9f3a"
             ],
             [
              0.8888888888888888,
              "#fdca26"
             ],
             [
              1,
              "#f0f921"
             ]
            ],
            "type": "contour"
           }
          ],
          "contourcarpet": [
           {
            "colorbar": {
             "outlinewidth": 0,
             "ticks": ""
            },
            "type": "contourcarpet"
           }
          ],
          "heatmap": [
           {
            "colorbar": {
             "outlinewidth": 0,
             "ticks": ""
            },
            "colorscale": [
             [
              0,
              "#0d0887"
             ],
             [
              0.1111111111111111,
              "#46039f"
             ],
             [
              0.2222222222222222,
              "#7201a8"
             ],
             [
              0.3333333333333333,
              "#9c179e"
             ],
             [
              0.4444444444444444,
              "#bd3786"
             ],
             [
              0.5555555555555556,
              "#d8576b"
             ],
             [
              0.6666666666666666,
              "#ed7953"
             ],
             [
              0.7777777777777778,
              "#fb9f3a"
             ],
             [
              0.8888888888888888,
              "#fdca26"
             ],
             [
              1,
              "#f0f921"
             ]
            ],
            "type": "heatmap"
           }
          ],
          "heatmapgl": [
           {
            "colorbar": {
             "outlinewidth": 0,
             "ticks": ""
            },
            "colorscale": [
             [
              0,
              "#0d0887"
             ],
             [
              0.1111111111111111,
              "#46039f"
             ],
             [
              0.2222222222222222,
              "#7201a8"
             ],
             [
              0.3333333333333333,
              "#9c179e"
             ],
             [
              0.4444444444444444,
              "#bd3786"
             ],
             [
              0.5555555555555556,
              "#d8576b"
             ],
             [
              0.6666666666666666,
              "#ed7953"
             ],
             [
              0.7777777777777778,
              "#fb9f3a"
             ],
             [
              0.8888888888888888,
              "#fdca26"
             ],
             [
              1,
              "#f0f921"
             ]
            ],
            "type": "heatmapgl"
           }
          ],
          "histogram": [
           {
            "marker": {
             "pattern": {
              "fillmode": "overlay",
              "size": 10,
              "solidity": 0.2
             }
            },
            "type": "histogram"
           }
          ],
          "histogram2d": [
           {
            "colorbar": {
             "outlinewidth": 0,
             "ticks": ""
            },
            "colorscale": [
             [
              0,
              "#0d0887"
             ],
             [
              0.1111111111111111,
              "#46039f"
             ],
             [
              0.2222222222222222,
              "#7201a8"
             ],
             [
              0.3333333333333333,
              "#9c179e"
             ],
             [
              0.4444444444444444,
              "#bd3786"
             ],
             [
              0.5555555555555556,
              "#d8576b"
             ],
             [
              0.6666666666666666,
              "#ed7953"
             ],
             [
              0.7777777777777778,
              "#fb9f3a"
             ],
             [
              0.8888888888888888,
              "#fdca26"
             ],
             [
              1,
              "#f0f921"
             ]
            ],
            "type": "histogram2d"
           }
          ],
          "histogram2dcontour": [
           {
            "colorbar": {
             "outlinewidth": 0,
             "ticks": ""
            },
            "colorscale": [
             [
              0,
              "#0d0887"
             ],
             [
              0.1111111111111111,
              "#46039f"
             ],
             [
              0.2222222222222222,
              "#7201a8"
             ],
             [
              0.3333333333333333,
              "#9c179e"
             ],
             [
              0.4444444444444444,
              "#bd3786"
             ],
             [
              0.5555555555555556,
              "#d8576b"
             ],
             [
              0.6666666666666666,
              "#ed7953"
             ],
             [
              0.7777777777777778,
              "#fb9f3a"
             ],
             [
              0.8888888888888888,
              "#fdca26"
             ],
             [
              1,
              "#f0f921"
             ]
            ],
            "type": "histogram2dcontour"
           }
          ],
          "mesh3d": [
           {
            "colorbar": {
             "outlinewidth": 0,
             "ticks": ""
            },
            "type": "mesh3d"
           }
          ],
          "parcoords": [
           {
            "line": {
             "colorbar": {
              "outlinewidth": 0,
              "ticks": ""
             }
            },
            "type": "parcoords"
           }
          ],
          "pie": [
           {
            "automargin": true,
            "type": "pie"
           }
          ],
          "scatter": [
           {
            "fillpattern": {
             "fillmode": "overlay",
             "size": 10,
             "solidity": 0.2
            },
            "type": "scatter"
           }
          ],
          "scatter3d": [
           {
            "line": {
             "colorbar": {
              "outlinewidth": 0,
              "ticks": ""
             }
            },
            "marker": {
             "colorbar": {
              "outlinewidth": 0,
              "ticks": ""
             }
            },
            "type": "scatter3d"
           }
          ],
          "scattercarpet": [
           {
            "marker": {
             "colorbar": {
              "outlinewidth": 0,
              "ticks": ""
             }
            },
            "type": "scattercarpet"
           }
          ],
          "scattergeo": [
           {
            "marker": {
             "colorbar": {
              "outlinewidth": 0,
              "ticks": ""
             }
            },
            "type": "scattergeo"
           }
          ],
          "scattergl": [
           {
            "marker": {
             "colorbar": {
              "outlinewidth": 0,
              "ticks": ""
             }
            },
            "type": "scattergl"
           }
          ],
          "scattermapbox": [
           {
            "marker": {
             "colorbar": {
              "outlinewidth": 0,
              "ticks": ""
             }
            },
            "type": "scattermapbox"
           }
          ],
          "scatterpolar": [
           {
            "marker": {
             "colorbar": {
              "outlinewidth": 0,
              "ticks": ""
             }
            },
            "type": "scatterpolar"
           }
          ],
          "scatterpolargl": [
           {
            "marker": {
             "colorbar": {
              "outlinewidth": 0,
              "ticks": ""
             }
            },
            "type": "scatterpolargl"
           }
          ],
          "scatterternary": [
           {
            "marker": {
             "colorbar": {
              "outlinewidth": 0,
              "ticks": ""
             }
            },
            "type": "scatterternary"
           }
          ],
          "surface": [
           {
            "colorbar": {
             "outlinewidth": 0,
             "ticks": ""
            },
            "colorscale": [
             [
              0,
              "#0d0887"
             ],
             [
              0.1111111111111111,
              "#46039f"
             ],
             [
              0.2222222222222222,
              "#7201a8"
             ],
             [
              0.3333333333333333,
              "#9c179e"
             ],
             [
              0.4444444444444444,
              "#bd3786"
             ],
             [
              0.5555555555555556,
              "#d8576b"
             ],
             [
              0.6666666666666666,
              "#ed7953"
             ],
             [
              0.7777777777777778,
              "#fb9f3a"
             ],
             [
              0.8888888888888888,
              "#fdca26"
             ],
             [
              1,
              "#f0f921"
             ]
            ],
            "type": "surface"
           }
          ],
          "table": [
           {
            "cells": {
             "fill": {
              "color": "#EBF0F8"
             },
             "line": {
              "color": "white"
             }
            },
            "header": {
             "fill": {
              "color": "#C8D4E3"
             },
             "line": {
              "color": "white"
             }
            },
            "type": "table"
           }
          ]
         },
         "layout": {
          "annotationdefaults": {
           "arrowcolor": "#2a3f5f",
           "arrowhead": 0,
           "arrowwidth": 1
          },
          "autotypenumbers": "strict",
          "coloraxis": {
           "colorbar": {
            "outlinewidth": 0,
            "ticks": ""
           }
          },
          "colorscale": {
           "diverging": [
            [
             0,
             "#8e0152"
            ],
            [
             0.1,
             "#c51b7d"
            ],
            [
             0.2,
             "#de77ae"
            ],
            [
             0.3,
             "#f1b6da"
            ],
            [
             0.4,
             "#fde0ef"
            ],
            [
             0.5,
             "#f7f7f7"
            ],
            [
             0.6,
             "#e6f5d0"
            ],
            [
             0.7,
             "#b8e186"
            ],
            [
             0.8,
             "#7fbc41"
            ],
            [
             0.9,
             "#4d9221"
            ],
            [
             1,
             "#276419"
            ]
           ],
           "sequential": [
            [
             0,
             "#0d0887"
            ],
            [
             0.1111111111111111,
             "#46039f"
            ],
            [
             0.2222222222222222,
             "#7201a8"
            ],
            [
             0.3333333333333333,
             "#9c179e"
            ],
            [
             0.4444444444444444,
             "#bd3786"
            ],
            [
             0.5555555555555556,
             "#d8576b"
            ],
            [
             0.6666666666666666,
             "#ed7953"
            ],
            [
             0.7777777777777778,
             "#fb9f3a"
            ],
            [
             0.8888888888888888,
             "#fdca26"
            ],
            [
             1,
             "#f0f921"
            ]
           ],
           "sequentialminus": [
            [
             0,
             "#0d0887"
            ],
            [
             0.1111111111111111,
             "#46039f"
            ],
            [
             0.2222222222222222,
             "#7201a8"
            ],
            [
             0.3333333333333333,
             "#9c179e"
            ],
            [
             0.4444444444444444,
             "#bd3786"
            ],
            [
             0.5555555555555556,
             "#d8576b"
            ],
            [
             0.6666666666666666,
             "#ed7953"
            ],
            [
             0.7777777777777778,
             "#fb9f3a"
            ],
            [
             0.8888888888888888,
             "#fdca26"
            ],
            [
             1,
             "#f0f921"
            ]
           ]
          },
          "colorway": [
           "#636efa",
           "#EF553B",
           "#00cc96",
           "#ab63fa",
           "#FFA15A",
           "#19d3f3",
           "#FF6692",
           "#B6E880",
           "#FF97FF",
           "#FECB52"
          ],
          "font": {
           "color": "#2a3f5f"
          },
          "geo": {
           "bgcolor": "white",
           "lakecolor": "white",
           "landcolor": "#E5ECF6",
           "showlakes": true,
           "showland": true,
           "subunitcolor": "white"
          },
          "hoverlabel": {
           "align": "left"
          },
          "hovermode": "closest",
          "mapbox": {
           "style": "light"
          },
          "paper_bgcolor": "white",
          "plot_bgcolor": "#E5ECF6",
          "polar": {
           "angularaxis": {
            "gridcolor": "white",
            "linecolor": "white",
            "ticks": ""
           },
           "bgcolor": "#E5ECF6",
           "radialaxis": {
            "gridcolor": "white",
            "linecolor": "white",
            "ticks": ""
           }
          },
          "scene": {
           "xaxis": {
            "backgroundcolor": "#E5ECF6",
            "gridcolor": "white",
            "gridwidth": 2,
            "linecolor": "white",
            "showbackground": true,
            "ticks": "",
            "zerolinecolor": "white"
           },
           "yaxis": {
            "backgroundcolor": "#E5ECF6",
            "gridcolor": "white",
            "gridwidth": 2,
            "linecolor": "white",
            "showbackground": true,
            "ticks": "",
            "zerolinecolor": "white"
           },
           "zaxis": {
            "backgroundcolor": "#E5ECF6",
            "gridcolor": "white",
            "gridwidth": 2,
            "linecolor": "white",
            "showbackground": true,
            "ticks": "",
            "zerolinecolor": "white"
           }
          },
          "shapedefaults": {
           "line": {
            "color": "#2a3f5f"
           }
          },
          "ternary": {
           "aaxis": {
            "gridcolor": "white",
            "linecolor": "white",
            "ticks": ""
           },
           "baxis": {
            "gridcolor": "white",
            "linecolor": "white",
            "ticks": ""
           },
           "bgcolor": "#E5ECF6",
           "caxis": {
            "gridcolor": "white",
            "linecolor": "white",
            "ticks": ""
           }
          },
          "title": {
           "x": 0.05
          },
          "xaxis": {
           "automargin": true,
           "gridcolor": "white",
           "linecolor": "white",
           "ticks": "",
           "title": {
            "standoff": 15
           },
           "zerolinecolor": "white",
           "zerolinewidth": 2
          },
          "yaxis": {
           "automargin": true,
           "gridcolor": "white",
           "linecolor": "white",
           "ticks": "",
           "title": {
            "standoff": 15
           },
           "zerolinecolor": "white",
           "zerolinewidth": 2
          }
         }
        },
        "title": {
         "text": "Model Comparison"
        },
        "xaxis": {
         "autorange": true,
         "range": [
          -0.5,
          4.5
         ],
         "title": {
          "text": "Model"
         },
         "type": "category"
        },
        "yaxis": {
         "autorange": true,
         "range": [
          0,
          0.9229396829753654
         ],
         "title": {
          "text": "Score"
         },
         "type": "linear"
        }
       }
      },
      "image/png": "[encoded data removed]",
      "text/html": [
       "<div>                            <div id=\"98b48405-b508-4b24-9b29-7bc8adc72ca0\" class=\"plotly-graph-div\" style=\"height:525px; width:100%;\"></div>            <script type=\"text/javascript\">                require([\"plotly\"], function(Plotly) {                    window.PLOTLYENV=window.PLOTLYENV || {};                                    if (document.getElementById(\"98b48405-b508-4b24-9b29-7bc8adc72ca0\")) {                    Plotly.newPlot(                        \"98b48405-b508-4b24-9b29-7bc8adc72ca0\",                        [{\"marker\":{\"color\":\"rgb(100,200,300)\"},\"name\":\"accuracy\",\"x\":[\"random forest\",\"logistic regression\",\"naive bayes\",\"support vector\",\"boosted\"],\"y\":[0.8472222222222222,0.8472222222222222,0.8263888888888888,0.8055555555555556,0.7708333333333334],\"type\":\"bar\"},{\"marker\":{\"color\":\"rgb(300,200,100)\"},\"name\":\"roc-auc\",\"x\":[\"random forest\",\"logistic regression\",\"naive bayes\",\"support vector\",\"boosted\"],\"y\":[0.8767926988265972,0.8767926988265972,0.8268365817091454,0.7717086834733894,0.7322411533420707],\"type\":\"bar\"}],                        {\"title\":{\"text\":\"Model Comparison\"},\"xaxis\":{\"title\":{\"text\":\"Model\"}},\"yaxis\":{\"title\":{\"text\":\"Score\"}},\"template\":{\"data\":{\"histogram2dcontour\":[{\"type\":\"histogram2dcontour\",\"colorbar\":{\"outlinewidth\":0,\"ticks\":\"\"},\"colorscale\":[[0.0,\"#0d0887\"],[0.1111111111111111,\"#46039f\"],[0.2222222222222222,\"#7201a8\"],[0.3333333333333333,\"#9c179e\"],[0.4444444444444444,\"#bd3786\"],[0.5555555555555556,\"#d8576b\"],[0.6666666666666666,\"#ed7953\"],[0.7777777777777778,\"#fb9f3a\"],[0.8888888888888888,\"#fdca26\"],[1.0,\"#f0f921\"]]}],\"choropleth\":[{\"type\":\"choropleth\",\"colorbar\":{\"outlinewidth\":0,\"ticks\":\"\"}}],\"histogram2d\":[{\"type\":\"histogram2d\",\"colorbar\":{\"outlinewidth\":0,\"ticks\":\"\"},\"colorscale\":[[0.0,\"#0d0887\"],[0.1111111111111111,\"#46039f\"],[0.2222222222222222,\"#7201a8\"],[0.3333333333333333,\"#9c179e\"],[0.4444444444444444,\"#bd3786\"],[0.5555555555555556,\"#d8576b\"],[0.6666666666666666,\"#ed7953\"],[0.7777777777777778,\"#fb9f3a\"],[0.8888888888888888,\"#fdca26\"],[1.0,\"#f0f921\"]]}],\"heatmap\":[{\"type\":\"heatmap\",\"colorbar\":{\"outlinewidth\":0,\"ticks\":\"\"},\"colorscale\":[[0.0,\"#0d0887\"],[0.1111111111111111,\"#46039f\"],[0.2222222222222222,\"#7201a8\"],[0.3333333333333333,\"#9c179e\"],[0.4444444444444444,\"#bd3786\"],[0.5555555555555556,\"#d8576b\"],[0.6666666666666666,\"#ed7953\"],[0.7777777777777778,\"#fb9f3a\"],[0.8888888888888888,\"#fdca26\"],[1.0,\"#f0f921\"]]}],\"heatmapgl\":[{\"type\":\"heatmapgl\",\"colorbar\":{\"outlinewidth\":0,\"ticks\":\"\"},\"colorscale\":[[0.0,\"#0d0887\"],[0.1111111111111111,\"#46039f\"],[0.2222222222222222,\"#7201a8\"],[0.3333333333333333,\"#9c179e\"],[0.4444444444444444,\"#bd3786\"],[0.5555555555555556,\"#d8576b\"],[0.6666666666666666,\"#ed7953\"],[0.7777777777777778,\"#fb9f3a\"],[0.8888888888888888,\"#fdca26\"],[1.0,\"#f0f921\"]]}],\"contourcarpet\":[{\"type\":\"contourcarpet\",\"colorbar\":{\"outlinewidth\":0,\"ticks\":\"\"}}],\"contour\":[{\"type\":\"contour\",\"colorbar\":{\"outlinewidth\":0,\"ticks\":\"\"},\"colorscale\":[[0.0,\"#0d0887\"],[0.1111111111111111,\"#46039f\"],[0.2222222222222222,\"#7201a8\"],[0.3333333333333333,\"#9c179e\"],[0.4444444444444444,\"#bd3786\"],[0.5555555555555556,\"#d8576b\"],[0.6666666666666666,\"#ed7953\"],[0.7777777777777778,\"#fb9f3a\"],[0.8888888888888888,\"#fdca26\"],[1.0,\"#f0f921\"]]}],\"surface\":[{\"type\":\"surface\",\"colorbar\":{\"outlinewidth\":0,\"ticks\":\"\"},\"colorscale\":[[0.0,\"#0d0887\"],[0.1111111111111111,\"#46039f\"],[0.2222222222222222,\"#7201a8\"],[0.3333333333333333,\"#9c179e\"],[0.4444444444444444,\"#bd3786\"],[0.5555555555555556,\"#d8576b\"],[0.6666666666666666,\"#ed7953\"],[0.7777777777777778,\"#fb9f3a\"],[0.8888888888888888,\"#fdca26\"],[1.0,\"#f0f921\"]]}],\"mesh3d\":[{\"type\":\"mesh3d\",\"colorbar\":{\"outlinewidth\":0,\"ticks\":\"\"}}],\"scatter\":[{\"fillpattern\":{\"fillmode\":\"overlay\",\"size\":10,\"solidity\":0.2},\"type\":\"scatter\"}],\"parcoords\":[{\"type\":\"parcoords\",\"line\":{\"colorbar\":{\"outlinewidth\":0,\"ticks\":\"\"}}}],\"scatterpolargl\":[{\"type\":\"scatterpolargl\",\"marker\":{\"colorbar\":{\"outlinewidth\":0,\"ticks\":\"\"}}}],\"bar\":[{\"error_x\":{\"color\":\"#2a3f5f\"},\"error_y\":{\"color\":\"#2a3f5f\"},\"marker\":{\"line\":{\"color\":\"#E5ECF6\",\"width\":0.5},\"pattern\":{\"fillmode\":\"overlay\",\"size\":10,\"solidity\":0.2}},\"type\":\"bar\"}],\"scattergeo\":[{\"type\":\"scattergeo\",\"marker\":{\"colorbar\":{\"outlinewidth\":0,\"ticks\":\"\"}}}],\"scatterpolar\":[{\"type\":\"scatterpolar\",\"marker\":{\"colorbar\":{\"outlinewidth\":0,\"ticks\":\"\"}}}],\"histogram\":[{\"marker\":{\"pattern\":{\"fillmode\":\"overlay\",\"size\":10,\"solidity\":0.2}},\"type\":\"histogram\"}],\"scattergl\":[{\"type\":\"scattergl\",\"marker\":{\"colorbar\":{\"outlinewidth\":0,\"ticks\":\"\"}}}],\"scatter3d\":[{\"type\":\"scatter3d\",\"line\":{\"colorbar\":{\"outlinewidth\":0,\"ticks\":\"\"}},\"marker\":{\"colorbar\":{\"outlinewidth\":0,\"ticks\":\"\"}}}],\"scattermapbox\":[{\"type\":\"scattermapbox\",\"marker\":{\"colorbar\":{\"outlinewidth\":0,\"ticks\":\"\"}}}],\"scatterternary\":[{\"type\":\"scatterternary\",\"marker\":{\"colorbar\":{\"outlinewidth\":0,\"ticks\":\"\"}}}],\"scattercarpet\":[{\"type\":\"scattercarpet\",\"marker\":{\"colorbar\":{\"outlinewidth\":0,\"ticks\":\"\"}}}],\"carpet\":[{\"aaxis\":{\"endlinecolor\":\"#2a3f5f\",\"gridcolor\":\"white\",\"linecolor\":\"white\",\"minorgridcolor\":\"white\",\"startlinecolor\":\"#2a3f5f\"},\"baxis\":{\"endlinecolor\":\"#2a3f5f\",\"gridcolor\":\"white\",\"linecolor\":\"white\",\"minorgridcolor\":\"white\",\"startlinecolor\":\"#2a3f5f\"},\"type\":\"carpet\"}],\"table\":[{\"cells\":{\"fill\":{\"color\":\"#EBF0F8\"},\"line\":{\"color\":\"white\"}},\"header\":{\"fill\":{\"color\":\"#C8D4E3\"},\"line\":{\"color\":\"white\"}},\"type\":\"table\"}],\"barpolar\":[{\"marker\":{\"line\":{\"color\":\"#E5ECF6\",\"width\":0.5},\"pattern\":{\"fillmode\":\"overlay\",\"size\":10,\"solidity\":0.2}},\"type\":\"barpolar\"}],\"pie\":[{\"automargin\":true,\"type\":\"pie\"}]},\"layout\":{\"autotypenumbers\":\"strict\",\"colorway\":[\"#636efa\",\"#EF553B\",\"#00cc96\",\"#ab63fa\",\"#FFA15A\",\"#19d3f3\",\"#FF6692\",\"#B6E880\",\"#FF97FF\",\"#FECB52\"],\"font\":{\"color\":\"#2a3f5f\"},\"hovermode\":\"closest\",\"hoverlabel\":{\"align\":\"left\"},\"paper_bgcolor\":\"white\",\"plot_bgcolor\":\"#E5ECF6\",\"polar\":{\"bgcolor\":\"#E5ECF6\",\"angularaxis\":{\"gridcolor\":\"white\",\"linecolor\":\"white\",\"ticks\":\"\"},\"radialaxis\":{\"gridcolor\":\"white\",\"linecolor\":\"white\",\"ticks\":\"\"}},\"ternary\":{\"bgcolor\":\"#E5ECF6\",\"aaxis\":{\"gridcolor\":\"white\",\"linecolor\":\"white\",\"ticks\":\"\"},\"baxis\":{\"gridcolor\":\"white\",\"linecolor\":\"white\",\"ticks\":\"\"},\"caxis\":{\"gridcolor\":\"white\",\"linecolor\":\"white\",\"ticks\":\"\"}},\"coloraxis\":{\"colorbar\":{\"outlinewidth\":0,\"ticks\":\"\"}},\"colorscale\":{\"sequential\":[[0.0,\"#0d0887\"],[0.1111111111111111,\"#46039f\"],[0.2222222222222222,\"#7201a8\"],[0.3333333333333333,\"#9c179e\"],[0.4444444444444444,\"#bd3786\"],[0.5555555555555556,\"#d8576b\"],[0.6666666666666666,\"#ed7953\"],[0.7777777777777778,\"#fb9f3a\"],[0.8888888888888888,\"#fdca26\"],[1.0,\"#f0f921\"]],\"sequentialminus\":[[0.0,\"#0d0887\"],[0.1111111111111111,\"#46039f\"],[0.2222222222222222,\"#7201a8\"],[0.3333333333333333,\"#9c179e\"],[0.4444444444444444,\"#bd3786\"],[0.5555555555555556,\"#d8576b\"],[0.6666666666666666,\"#ed7953\"],[0.7777777777777778,\"#fb9f3a\"],[0.8888888888888888,\"#fdca26\"],[1.0,\"#f0f921\"]],\"diverging\":[[0,\"#8e0152\"],[0.1,\"#c51b7d\"],[0.2,\"#de77ae\"],[0.3,\"#f1b6da\"],[0.4,\"#fde0ef\"],[0.5,\"#f7f7f7\"],[0.6,\"#e6f5d0\"],[0.7,\"#b8e186\"],[0.8,\"#7fbc41\"],[0.9,\"#4d9221\"],[1,\"#276419\"]]},\"xaxis\":{\"gridcolor\":\"white\",\"linecolor\":\"white\",\"ticks\":\"\",\"title\":{\"standoff\":15},\"zerolinecolor\":\"white\",\"automargin\":true,\"zerolinewidth\":2},\"yaxis\":{\"gridcolor\":\"white\",\"linecolor\":\"white\",\"ticks\":\"\",\"title\":{\"standoff\":15},\"zerolinecolor\":\"white\",\"automargin\":true,\"zerolinewidth\":2},\"scene\":{\"xaxis\":{\"backgroundcolor\":\"#E5ECF6\",\"gridcolor\":\"white\",\"linecolor\":\"white\",\"showbackground\":true,\"ticks\":\"\",\"zerolinecolor\":\"white\",\"gridwidth\":2},\"yaxis\":{\"backgroundcolor\":\"#E5ECF6\",\"gridcolor\":\"white\",\"linecolor\":\"white\",\"showbackground\":true,\"ticks\":\"\",\"zerolinecolor\":\"white\",\"gridwidth\":2},\"zaxis\":{\"backgroundcolor\":\"#E5ECF6\",\"gridcolor\":\"white\",\"linecolor\":\"white\",\"showbackground\":true,\"ticks\":\"\",\"zerolinecolor\":\"white\",\"gridwidth\":2}},\"shapedefaults\":{\"line\":{\"color\":\"#2a3f5f\"}},\"annotationdefaults\":{\"arrowcolor\":\"#2a3f5f\",\"arrowhead\":0,\"arrowwidth\":1},\"geo\":{\"bgcolor\":\"white\",\"landcolor\":\"#E5ECF6\",\"subunitcolor\":\"white\",\"showland\":true,\"showlakes\":true,\"lakecolor\":\"white\"},\"title\":{\"x\":0.05},\"mapbox\":{\"style\":\"light\"}}}},                        {\"responsive\": true}                    ).then(function(){\n",
       "                            \n",
       "var gd = document.getElementById('98b48405-b508-4b24-9b29-7bc8adc72ca0');\n",
       "var x = new MutationObserver(function (mutations, observer) {{\n",
       "        var display = window.getComputedStyle(gd).display;\n",
       "        if (!display || display === 'none') {{\n",
       "            console.log([gd, 'removed!']);\n",
       "            Plotly.purge(gd);\n",
       "            observer.disconnect();\n",
       "        }}\n",
       "}});\n",
       "\n",
       "// Listen for the removal of the full notebook cells\n",
       "var notebookContainer = gd.closest('#notebook-container');\n",
       "if (notebookContainer) {{\n",
       "    x.observe(notebookContainer, {childList: true});\n",
       "}}\n",
       "\n",
       "// Listen for the clearing of the current output cell\n",
       "var outputEl = gd.closest('.output');\n",
       "if (outputEl) {{\n",
       "    x.observe(outputEl, {childList: true});\n",
       "}}\n",
       "\n",
       "                        })                };                });            </script>        </div>"
      ]
     },
     "metadata": {},
     "output_type": "display_data"
    }
   ],
   "source": [
    "# display results with plotly\n",
    "trace0 = go.Bar(x= evaldf.index,\n",
    "                y= evaldf['accuracy'].values,\n",
    "                name='accuracy',\n",
    "                marker=dict(color='rgb(100,200,300)'))\n",
    "trace1 = go.Bar(x= evaldf.index,\n",
    "                y= evaldf['rocauc'].values,\n",
    "                name='roc-auc',\n",
    "                marker=dict(color='rgb(300,200,100)'))\n",
    "# now the layout\n",
    "layout=go.Layout(title='Model Comparison',\n",
    "                   xaxis= dict(title='Model'),\n",
    "                   yaxis=dict(title='Score'))\n",
    "# bind using go.Figure\n",
    "fig = go.Figure(data=[trace0, trace1], layout=layout)\n",
    "fig"
   ]
  },
  {
   "cell_type": "markdown",
   "id": "formed-static",
   "metadata": {},
   "source": [
    "### Side note: Visualize the ROC-AUC curve"
   ]
  },
  {
   "cell_type": "code",
   "execution_count": 247,
   "id": "functional-delicious",
   "metadata": {},
   "outputs": [
    {
     "data": {
      "text/html": [
       "<div>\n",
       "<style scoped>\n",
       "    .dataframe tbody tr th:only-of-type {\n",
       "        vertical-align: middle;\n",
       "    }\n",
       "\n",
       "    .dataframe tbody tr th {\n",
       "        vertical-align: top;\n",
       "    }\n",
       "\n",
       "    .dataframe thead th {\n",
       "        text-align: right;\n",
       "    }\n",
       "</style>\n",
       "<table border=\"1\" class=\"dataframe\">\n",
       "  <thead>\n",
       "    <tr style=\"text-align: right;\">\n",
       "      <th></th>\n",
       "      <th>FPR</th>\n",
       "      <th>TPR</th>\n",
       "      <th>Threshold</th>\n",
       "    </tr>\n",
       "  </thead>\n",
       "  <tbody>\n",
       "    <tr>\n",
       "      <th>0</th>\n",
       "      <td>0.000000</td>\n",
       "      <td>0.00</td>\n",
       "      <td>1.852952</td>\n",
       "    </tr>\n",
       "    <tr>\n",
       "      <th>1</th>\n",
       "      <td>0.000000</td>\n",
       "      <td>0.01</td>\n",
       "      <td>0.852952</td>\n",
       "    </tr>\n",
       "    <tr>\n",
       "      <th>2</th>\n",
       "      <td>0.022727</td>\n",
       "      <td>0.01</td>\n",
       "      <td>0.849809</td>\n",
       "    </tr>\n",
       "    <tr>\n",
       "      <th>3</th>\n",
       "      <td>0.022727</td>\n",
       "      <td>0.05</td>\n",
       "      <td>0.843915</td>\n",
       "    </tr>\n",
       "    <tr>\n",
       "      <th>4</th>\n",
       "      <td>0.022727</td>\n",
       "      <td>0.07</td>\n",
       "      <td>0.843751</td>\n",
       "    </tr>\n",
       "  </tbody>\n",
       "</table>\n",
       "</div>"
      ],
      "text/plain": [
       "        FPR   TPR  Threshold\n",
       "0  0.000000  0.00   1.852952\n",
       "1  0.000000  0.01   0.852952\n",
       "2  0.022727  0.01   0.849809\n",
       "3  0.022727  0.05   0.843915\n",
       "4  0.022727  0.07   0.843751"
      ]
     },
     "execution_count": 247,
     "metadata": {},
     "output_type": "execute_result"
    }
   ],
   "source": [
    "# true positives, etc.\n",
    "y_score = rf.predict_proba(X_test)[:, 1]\n",
    "fpr, tpr, thresh=roc_curve(y_test, y_score)\n",
    "roc_df=pd.DataFrame(zip(fpr, tpr, thresh), columns=['FPR','TPR','Threshold'])\n",
    "roc_df.head()\n"
   ]
  },
  {
   "cell_type": "code",
   "execution_count": 248,
   "id": "detected-photographer",
   "metadata": {},
   "outputs": [],
   "source": [
    "import plotly.express as px\n",
    "\n",
    "def make_rocauc(i):\n",
    "    nearest=roc_df.iloc[(roc_df['Threshold']-i).abs().argsort()[:1]]['Threshold'].values[0]\n",
    "    q=roc_df[roc_df['Threshold']==nearest].index[0]\n",
    "    print(nearest, q)\n",
    "    fig = px.area(roc_df, x=\"FPR\", y=\"TPR\",\n",
    "                  title=f'ROC Curve (AUC={auc(fpr, tpr):.3f})',\n",
    "                  hover_data={'Threshold':':.2f',\n",
    "                              'FPR':':.2f',\n",
    "                              'TPR':':.2f',\n",
    "                             },width=800, height=700)\n",
    "\n",
    "    fig.add_annotation(x=roc_df.iloc[q][0], y=roc_df.iloc[q][1],\n",
    "            text=f\"Threshold nearest {i*100:.0f}% = {roc_df.iloc[q][2]:.2f}\",\n",
    "                showarrow=True,\n",
    "                arrowhead=1)\n",
    "\n",
    "    fig.add_shape(\n",
    "        type='line', line=dict(dash='dash'),\n",
    "        x0=0, x1=1, y0=0, y1=1\n",
    "    )\n",
    "    fig.update_yaxes(scaleanchor=\"x\", scaleratio=1)\n",
    "    fig.update_xaxes(constrain='domain')\n",
    "    return fig"
   ]
  },
  {
   "cell_type": "code",
   "execution_count": 249,
   "id": "blond-jurisdiction",
   "metadata": {},
   "outputs": [
    {
     "name": "stdout",
     "output_type": "stream",
     "text": [
      "0.6465546904342595 40\n"
     ]
    },
    {
     "data": {
      "application/vnd.plotly.v1+json": {
       "config": {
        "plotlyServerURL": "https://plot.ly"
       },
       "data": [
        {
         "customdata": [
          [
           1.8529515770463767
          ],
          [
           0.8529515770463767
          ],
          [
           0.8498089846169465
          ],
          [
           0.8439152610891454
          ],
          [
           0.8437509437149735
          ],
          [
           0.8143955674412307
          ],
          [
           0.8140922269812559
          ],
          [
           0.8140438389602196
          ],
          [
           0.8139947590548415
          ],
          [
           0.797993288539597
          ],
          [
           0.7971560012023872
          ],
          [
           0.7801656956701525
          ],
          [
           0.7794586766168199
          ],
          [
           0.7773620171521651
          ],
          [
           0.7766164693309285
          ],
          [
           0.7717031902018624
          ],
          [
           0.7702131045769312
          ],
          [
           0.7695553841467522
          ],
          [
           0.7694030690602591
          ],
          [
           0.7598741212122416
          ],
          [
           0.7597703915898939
          ],
          [
           0.7542906662500225
          ],
          [
           0.7530875535190218
          ],
          [
           0.7530488160409683
          ],
          [
           0.7510706581590321
          ],
          [
           0.745455713508654
          ],
          [
           0.743778269478455
          ],
          [
           0.7418582490655663
          ],
          [
           0.7396470844708881
          ],
          [
           0.724699236929283
          ],
          [
           0.7246872042705441
          ],
          [
           0.7193879995549592
          ],
          [
           0.7183341907011367
          ],
          [
           0.6893935547858936
          ],
          [
           0.6875789052550804
          ],
          [
           0.6815457803548053
          ],
          [
           0.6809676775021175
          ],
          [
           0.6800774048447282
          ],
          [
           0.676021970777366
          ],
          [
           0.6545061984504039
          ],
          [
           0.6465546904342595
          ],
          [
           0.5344823042359165
          ],
          [
           0.37910254167038815
          ],
          [
           0.3471444286487678
          ],
          [
           0.2130757334642114
          ],
          [
           0.21300664534535785
          ]
         ],
         "fillpattern": {
          "shape": ""
         },
         "hovertemplate": "FPR=%{x:.2f}<br>TPR=%{y:.2f}<br>Threshold=%{customdata[0]:.2f}<extra></extra>",
         "legendgroup": "",
         "line": {
          "color": "#636efa"
         },
         "marker": {
          "symbol": "circle"
         },
         "mode": "lines",
         "name": "",
         "orientation": "v",
         "showlegend": false,
         "stackgroup": "1",
         "type": "scatter",
         "x": [
          0,
          0,
          0.022727272727272728,
          0.022727272727272728,
          0.022727272727272728,
          0.022727272727272728,
          0.045454545454545456,
          0.045454545454545456,
          0.06818181818181818,
          0.06818181818181818,
          0.09090909090909091,
          0.09090909090909091,
          0.11363636363636363,
          0.11363636363636363,
          0.13636363636363635,
          0.13636363636363635,
          0.13636363636363635,
          0.1590909090909091,
          0.1590909090909091,
          0.1590909090909091,
          0.18181818181818182,
          0.18181818181818182,
          0.20454545454545456,
          0.20454545454545456,
          0.22727272727272727,
          0.22727272727272727,
          0.25,
          0.25,
          0.2727272727272727,
          0.2727272727272727,
          0.29545454545454547,
          0.29545454545454547,
          0.3181818181818182,
          0.3181818181818182,
          0.3409090909090909,
          0.3409090909090909,
          0.36363636363636365,
          0.36363636363636365,
          0.4090909090909091,
          0.4090909090909091,
          0.4318181818181818,
          0.4318181818181818,
          0.5681818181818182,
          0.5681818181818182,
          1,
          1
         ],
         "xaxis": "x",
         "y": [
          0,
          0.01,
          0.01,
          0.05,
          0.07,
          0.19,
          0.19,
          0.2,
          0.2,
          0.24,
          0.24,
          0.37,
          0.37,
          0.4,
          0.4,
          0.47,
          0.49,
          0.49,
          0.51,
          0.57,
          0.57,
          0.6,
          0.6,
          0.61,
          0.61,
          0.65,
          0.65,
          0.66,
          0.66,
          0.72,
          0.72,
          0.75,
          0.75,
          0.81,
          0.81,
          0.84,
          0.84,
          0.85,
          0.85,
          0.88,
          0.88,
          0.98,
          0.98,
          0.99,
          0.99,
          1
         ],
         "yaxis": "y"
        }
       ],
       "layout": {
        "annotations": [
         {
          "arrowhead": 1,
          "showarrow": true,
          "text": "Threshold nearest 60% = 0.65",
          "x": 0.4318181818181818,
          "y": 0.88
         }
        ],
        "height": 700,
        "legend": {
         "tracegroupgap": 0
        },
        "shapes": [
         {
          "line": {
           "dash": "dash"
          },
          "type": "line",
          "x0": 0,
          "x1": 1,
          "y0": 0,
          "y1": 1
         }
        ],
        "template": {
         "data": {
          "bar": [
           {
            "error_x": {
             "color": "#2a3f5f"
            },
            "error_y": {
             "color": "#2a3f5f"
            },
            "marker": {
             "line": {
              "color": "#E5ECF6",
              "width": 0.5
             },
             "pattern": {
              "fillmode": "overlay",
              "size": 10,
              "solidity": 0.2
             }
            },
            "type": "bar"
           }
          ],
          "barpolar": [
           {
            "marker": {
             "line": {
              "color": "#E5ECF6",
              "width": 0.5
             },
             "pattern": {
              "fillmode": "overlay",
              "size": 10,
              "solidity": 0.2
             }
            },
            "type": "barpolar"
           }
          ],
          "carpet": [
           {
            "aaxis": {
             "endlinecolor": "#2a3f5f",
             "gridcolor": "white",
             "linecolor": "white",
             "minorgridcolor": "white",
             "startlinecolor": "#2a3f5f"
            },
            "baxis": {
             "endlinecolor": "#2a3f5f",
             "gridcolor": "white",
             "linecolor": "white",
             "minorgridcolor": "white",
             "startlinecolor": "#2a3f5f"
            },
            "type": "carpet"
           }
          ],
          "choropleth": [
           {
            "colorbar": {
             "outlinewidth": 0,
             "ticks": ""
            },
            "type": "choropleth"
           }
          ],
          "contour": [
           {
            "colorbar": {
             "outlinewidth": 0,
             "ticks": ""
            },
            "colorscale": [
             [
              0,
              "#0d0887"
             ],
             [
              0.1111111111111111,
              "#46039f"
             ],
             [
              0.2222222222222222,
              "#7201a8"
             ],
             [
              0.3333333333333333,
              "#9c179e"
             ],
             [
              0.4444444444444444,
              "#bd3786"
             ],
             [
              0.5555555555555556,
              "#d8576b"
             ],
             [
              0.6666666666666666,
              "#ed7953"
             ],
             [
              0.7777777777777778,
              "#fb9f3a"
             ],
             [
              0.8888888888888888,
              "#fdca26"
             ],
             [
              1,
              "#f0f921"
             ]
            ],
            "type": "contour"
           }
          ],
          "contourcarpet": [
           {
            "colorbar": {
             "outlinewidth": 0,
             "ticks": ""
            },
            "type": "contourcarpet"
           }
          ],
          "heatmap": [
           {
            "colorbar": {
             "outlinewidth": 0,
             "ticks": ""
            },
            "colorscale": [
             [
              0,
              "#0d0887"
             ],
             [
              0.1111111111111111,
              "#46039f"
             ],
             [
              0.2222222222222222,
              "#7201a8"
             ],
             [
              0.3333333333333333,
              "#9c179e"
             ],
             [
              0.4444444444444444,
              "#bd3786"
             ],
             [
              0.5555555555555556,
              "#d8576b"
             ],
             [
              0.6666666666666666,
              "#ed7953"
             ],
             [
              0.7777777777777778,
              "#fb9f3a"
             ],
             [
              0.8888888888888888,
              "#fdca26"
             ],
             [
              1,
              "#f0f921"
             ]
            ],
            "type": "heatmap"
           }
          ],
          "heatmapgl": [
           {
            "colorbar": {
             "outlinewidth": 0,
             "ticks": ""
            },
            "colorscale": [
             [
              0,
              "#0d0887"
             ],
             [
              0.1111111111111111,
              "#46039f"
             ],
             [
              0.2222222222222222,
              "#7201a8"
             ],
             [
              0.3333333333333333,
              "#9c179e"
             ],
             [
              0.4444444444444444,
              "#bd3786"
             ],
             [
              0.5555555555555556,
              "#d8576b"
             ],
             [
              0.6666666666666666,
              "#ed7953"
             ],
             [
              0.7777777777777778,
              "#fb9f3a"
             ],
             [
              0.8888888888888888,
              "#fdca26"
             ],
             [
              1,
              "#f0f921"
             ]
            ],
            "type": "heatmapgl"
           }
          ],
          "histogram": [
           {
            "marker": {
             "pattern": {
              "fillmode": "overlay",
              "size": 10,
              "solidity": 0.2
             }
            },
            "type": "histogram"
           }
          ],
          "histogram2d": [
           {
            "colorbar": {
             "outlinewidth": 0,
             "ticks": ""
            },
            "colorscale": [
             [
              0,
              "#0d0887"
             ],
             [
              0.1111111111111111,
              "#46039f"
             ],
             [
              0.2222222222222222,
              "#7201a8"
             ],
             [
              0.3333333333333333,
              "#9c179e"
             ],
             [
              0.4444444444444444,
              "#bd3786"
             ],
             [
              0.5555555555555556,
              "#d8576b"
             ],
             [
              0.6666666666666666,
              "#ed7953"
             ],
             [
              0.7777777777777778,
              "#fb9f3a"
             ],
             [
              0.8888888888888888,
              "#fdca26"
             ],
             [
              1,
              "#f0f921"
             ]
            ],
            "type": "histogram2d"
           }
          ],
          "histogram2dcontour": [
           {
            "colorbar": {
             "outlinewidth": 0,
             "ticks": ""
            },
            "colorscale": [
             [
              0,
              "#0d0887"
             ],
             [
              0.1111111111111111,
              "#46039f"
             ],
             [
              0.2222222222222222,
              "#7201a8"
             ],
             [
              0.3333333333333333,
              "#9c179e"
             ],
             [
              0.4444444444444444,
              "#bd3786"
             ],
             [
              0.5555555555555556,
              "#d8576b"
             ],
             [
              0.6666666666666666,
              "#ed7953"
             ],
             [
              0.7777777777777778,
              "#fb9f3a"
             ],
             [
              0.8888888888888888,
              "#fdca26"
             ],
             [
              1,
              "#f0f921"
             ]
            ],
            "type": "histogram2dcontour"
           }
          ],
          "mesh3d": [
           {
            "colorbar": {
             "outlinewidth": 0,
             "ticks": ""
            },
            "type": "mesh3d"
           }
          ],
          "parcoords": [
           {
            "line": {
             "colorbar": {
              "outlinewidth": 0,
              "ticks": ""
             }
            },
            "type": "parcoords"
           }
          ],
          "pie": [
           {
            "automargin": true,
            "type": "pie"
           }
          ],
          "scatter": [
           {
            "fillpattern": {
             "fillmode": "overlay",
             "size": 10,
             "solidity": 0.2
            },
            "type": "scatter"
           }
          ],
          "scatter3d": [
           {
            "line": {
             "colorbar": {
              "outlinewidth": 0,
              "ticks": ""
             }
            },
            "marker": {
             "colorbar": {
              "outlinewidth": 0,
              "ticks": ""
             }
            },
            "type": "scatter3d"
           }
          ],
          "scattercarpet": [
           {
            "marker": {
             "colorbar": {
              "outlinewidth": 0,
              "ticks": ""
             }
            },
            "type": "scattercarpet"
           }
          ],
          "scattergeo": [
           {
            "marker": {
             "colorbar": {
              "outlinewidth": 0,
              "ticks": ""
             }
            },
            "type": "scattergeo"
           }
          ],
          "scattergl": [
           {
            "marker": {
             "colorbar": {
              "outlinewidth": 0,
              "ticks": ""
             }
            },
            "type": "scattergl"
           }
          ],
          "scattermapbox": [
           {
            "marker": {
             "colorbar": {
              "outlinewidth": 0,
              "ticks": ""
             }
            },
            "type": "scattermapbox"
           }
          ],
          "scatterpolar": [
           {
            "marker": {
             "colorbar": {
              "outlinewidth": 0,
              "ticks": ""
             }
            },
            "type": "scatterpolar"
           }
          ],
          "scatterpolargl": [
           {
            "marker": {
             "colorbar": {
              "outlinewidth": 0,
              "ticks": ""
             }
            },
            "type": "scatterpolargl"
           }
          ],
          "scatterternary": [
           {
            "marker": {
             "colorbar": {
              "outlinewidth": 0,
              "ticks": ""
             }
            },
            "type": "scatterternary"
           }
          ],
          "surface": [
           {
            "colorbar": {
             "outlinewidth": 0,
             "ticks": ""
            },
            "colorscale": [
             [
              0,
              "#0d0887"
             ],
             [
              0.1111111111111111,
              "#46039f"
             ],
             [
              0.2222222222222222,
              "#7201a8"
             ],
             [
              0.3333333333333333,
              "#9c179e"
             ],
             [
              0.4444444444444444,
              "#bd3786"
             ],
             [
              0.5555555555555556,
              "#d8576b"
             ],
             [
              0.6666666666666666,
              "#ed7953"
             ],
             [
              0.7777777777777778,
              "#fb9f3a"
             ],
             [
              0.8888888888888888,
              "#fdca26"
             ],
             [
              1,
              "#f0f921"
             ]
            ],
            "type": "surface"
           }
          ],
          "table": [
           {
            "cells": {
             "fill": {
              "color": "#EBF0F8"
             },
             "line": {
              "color": "white"
             }
            },
            "header": {
             "fill": {
              "color": "#C8D4E3"
             },
             "line": {
              "color": "white"
             }
            },
            "type": "table"
           }
          ]
         },
         "layout": {
          "annotationdefaults": {
           "arrowcolor": "#2a3f5f",
           "arrowhead": 0,
           "arrowwidth": 1
          },
          "autotypenumbers": "strict",
          "coloraxis": {
           "colorbar": {
            "outlinewidth": 0,
            "ticks": ""
           }
          },
          "colorscale": {
           "diverging": [
            [
             0,
             "#8e0152"
            ],
            [
             0.1,
             "#c51b7d"
            ],
            [
             0.2,
             "#de77ae"
            ],
            [
             0.3,
             "#f1b6da"
            ],
            [
             0.4,
             "#fde0ef"
            ],
            [
             0.5,
             "#f7f7f7"
            ],
            [
             0.6,
             "#e6f5d0"
            ],
            [
             0.7,
             "#b8e186"
            ],
            [
             0.8,
             "#7fbc41"
            ],
            [
             0.9,
             "#4d9221"
            ],
            [
             1,
             "#276419"
            ]
           ],
           "sequential": [
            [
             0,
             "#0d0887"
            ],
            [
             0.1111111111111111,
             "#46039f"
            ],
            [
             0.2222222222222222,
             "#7201a8"
            ],
            [
             0.3333333333333333,
             "#9c179e"
            ],
            [
             0.4444444444444444,
             "#bd3786"
            ],
            [
             0.5555555555555556,
             "#d8576b"
            ],
            [
             0.6666666666666666,
             "#ed7953"
            ],
            [
             0.7777777777777778,
             "#fb9f3a"
            ],
            [
             0.8888888888888888,
             "#fdca26"
            ],
            [
             1,
             "#f0f921"
            ]
           ],
           "sequentialminus": [
            [
             0,
             "#0d0887"
            ],
            [
             0.1111111111111111,
             "#46039f"
            ],
            [
             0.2222222222222222,
             "#7201a8"
            ],
            [
             0.3333333333333333,
             "#9c179e"
            ],
            [
             0.4444444444444444,
             "#bd3786"
            ],
            [
             0.5555555555555556,
             "#d8576b"
            ],
            [
             0.6666666666666666,
             "#ed7953"
            ],
            [
             0.7777777777777778,
             "#fb9f3a"
            ],
            [
             0.8888888888888888,
             "#fdca26"
            ],
            [
             1,
             "#f0f921"
            ]
           ]
          },
          "colorway": [
           "#636efa",
           "#EF553B",
           "#00cc96",
           "#ab63fa",
           "#FFA15A",
           "#19d3f3",
           "#FF6692",
           "#B6E880",
           "#FF97FF",
           "#FECB52"
          ],
          "font": {
           "color": "#2a3f5f"
          },
          "geo": {
           "bgcolor": "white",
           "lakecolor": "white",
           "landcolor": "#E5ECF6",
           "showlakes": true,
           "showland": true,
           "subunitcolor": "white"
          },
          "hoverlabel": {
           "align": "left"
          },
          "hovermode": "closest",
          "mapbox": {
           "style": "light"
          },
          "paper_bgcolor": "white",
          "plot_bgcolor": "#E5ECF6",
          "polar": {
           "angularaxis": {
            "gridcolor": "white",
            "linecolor": "white",
            "ticks": ""
           },
           "bgcolor": "#E5ECF6",
           "radialaxis": {
            "gridcolor": "white",
            "linecolor": "white",
            "ticks": ""
           }
          },
          "scene": {
           "xaxis": {
            "backgroundcolor": "#E5ECF6",
            "gridcolor": "white",
            "gridwidth": 2,
            "linecolor": "white",
            "showbackground": true,
            "ticks": "",
            "zerolinecolor": "white"
           },
           "yaxis": {
            "backgroundcolor": "#E5ECF6",
            "gridcolor": "white",
            "gridwidth": 2,
            "linecolor": "white",
            "showbackground": true,
            "ticks": "",
            "zerolinecolor": "white"
           },
           "zaxis": {
            "backgroundcolor": "#E5ECF6",
            "gridcolor": "white",
            "gridwidth": 2,
            "linecolor": "white",
            "showbackground": true,
            "ticks": "",
            "zerolinecolor": "white"
           }
          },
          "shapedefaults": {
           "line": {
            "color": "#2a3f5f"
           }
          },
          "ternary": {
           "aaxis": {
            "gridcolor": "white",
            "linecolor": "white",
            "ticks": ""
           },
           "baxis": {
            "gridcolor": "white",
            "linecolor": "white",
            "ticks": ""
           },
           "bgcolor": "#E5ECF6",
           "caxis": {
            "gridcolor": "white",
            "linecolor": "white",
            "ticks": ""
           }
          },
          "title": {
           "x": 0.05
          },
          "xaxis": {
           "automargin": true,
           "gridcolor": "white",
           "linecolor": "white",
           "ticks": "",
           "title": {
            "standoff": 15
           },
           "zerolinecolor": "white",
           "zerolinewidth": 2
          },
          "yaxis": {
           "automargin": true,
           "gridcolor": "white",
           "linecolor": "white",
           "ticks": "",
           "title": {
            "standoff": 15
           },
           "zerolinecolor": "white",
           "zerolinewidth": 2
          }
         }
        },
        "title": {
         "text": "ROC Curve (AUC=0.804)"
        },
        "width": 800,
        "xaxis": {
         "anchor": "y",
         "autorange": true,
         "constrain": "domain",
         "domain": [
          0.11328125000000006,
          0.88671875
         ],
         "range": [
          -0.0020283975659229213,
          1.002028397565923
         ],
         "title": {
          "text": "FPR"
         },
         "type": "linear"
        },
        "yaxis": {
         "anchor": "x",
         "autorange": true,
         "domain": [
          0,
          1
         ],
         "range": [
          -0.002028397565922921,
          1.052738336713996
         ],
         "scaleanchor": "x",
         "scaleratio": 1,
         "title": {
          "text": "TPR"
         },
         "type": "linear"
        }
       }
      },
      "image/png": "[encoded data removed]",
      "text/html": [
       "<div>                            <div id=\"124ee274-4321-4e1b-8d82-ab103977632c\" class=\"plotly-graph-div\" style=\"height:700px; width:800px;\"></div>            <script type=\"text/javascript\">                require([\"plotly\"], function(Plotly) {                    window.PLOTLYENV=window.PLOTLYENV || {};                                    if (document.getElementById(\"124ee274-4321-4e1b-8d82-ab103977632c\")) {                    Plotly.newPlot(                        \"124ee274-4321-4e1b-8d82-ab103977632c\",                        [{\"customdata\":[[1.8529515770463767],[0.8529515770463767],[0.8498089846169465],[0.8439152610891454],[0.8437509437149735],[0.8143955674412307],[0.8140922269812559],[0.8140438389602196],[0.8139947590548415],[0.797993288539597],[0.7971560012023872],[0.7801656956701525],[0.7794586766168199],[0.7773620171521651],[0.7766164693309285],[0.7717031902018624],[0.7702131045769312],[0.7695553841467522],[0.7694030690602591],[0.7598741212122416],[0.7597703915898939],[0.7542906662500225],[0.7530875535190218],[0.7530488160409683],[0.7510706581590321],[0.745455713508654],[0.743778269478455],[0.7418582490655663],[0.7396470844708881],[0.724699236929283],[0.7246872042705441],[0.7193879995549592],[0.7183341907011367],[0.6893935547858936],[0.6875789052550804],[0.6815457803548053],[0.6809676775021175],[0.6800774048447282],[0.676021970777366],[0.6545061984504039],[0.6465546904342595],[0.5344823042359165],[0.37910254167038815],[0.3471444286487678],[0.2130757334642114],[0.21300664534535785]],\"fillpattern\":{\"shape\":\"\"},\"hovertemplate\":\"FPR=%{x:.2f}<br>TPR=%{y:.2f}<br>Threshold=%{customdata[0]:.2f}<extra></extra>\",\"legendgroup\":\"\",\"line\":{\"color\":\"#636efa\"},\"marker\":{\"symbol\":\"circle\"},\"mode\":\"lines\",\"name\":\"\",\"orientation\":\"v\",\"showlegend\":false,\"stackgroup\":\"1\",\"x\":[0.0,0.0,0.022727272727272728,0.022727272727272728,0.022727272727272728,0.022727272727272728,0.045454545454545456,0.045454545454545456,0.06818181818181818,0.06818181818181818,0.09090909090909091,0.09090909090909091,0.11363636363636363,0.11363636363636363,0.13636363636363635,0.13636363636363635,0.13636363636363635,0.1590909090909091,0.1590909090909091,0.1590909090909091,0.18181818181818182,0.18181818181818182,0.20454545454545456,0.20454545454545456,0.22727272727272727,0.22727272727272727,0.25,0.25,0.2727272727272727,0.2727272727272727,0.29545454545454547,0.29545454545454547,0.3181818181818182,0.3181818181818182,0.3409090909090909,0.3409090909090909,0.36363636363636365,0.36363636363636365,0.4090909090909091,0.4090909090909091,0.4318181818181818,0.4318181818181818,0.5681818181818182,0.5681818181818182,1.0,1.0],\"xaxis\":\"x\",\"y\":[0.0,0.01,0.01,0.05,0.07,0.19,0.19,0.2,0.2,0.24,0.24,0.37,0.37,0.4,0.4,0.47,0.49,0.49,0.51,0.57,0.57,0.6,0.6,0.61,0.61,0.65,0.65,0.66,0.66,0.72,0.72,0.75,0.75,0.81,0.81,0.84,0.84,0.85,0.85,0.88,0.88,0.98,0.98,0.99,0.99,1.0],\"yaxis\":\"y\",\"type\":\"scatter\"}],                        {\"template\":{\"data\":{\"histogram2dcontour\":[{\"type\":\"histogram2dcontour\",\"colorbar\":{\"outlinewidth\":0,\"ticks\":\"\"},\"colorscale\":[[0.0,\"#0d0887\"],[0.1111111111111111,\"#46039f\"],[0.2222222222222222,\"#7201a8\"],[0.3333333333333333,\"#9c179e\"],[0.4444444444444444,\"#bd3786\"],[0.5555555555555556,\"#d8576b\"],[0.6666666666666666,\"#ed7953\"],[0.7777777777777778,\"#fb9f3a\"],[0.8888888888888888,\"#fdca26\"],[1.0,\"#f0f921\"]]}],\"choropleth\":[{\"type\":\"choropleth\",\"colorbar\":{\"outlinewidth\":0,\"ticks\":\"\"}}],\"histogram2d\":[{\"type\":\"histogram2d\",\"colorbar\":{\"outlinewidth\":0,\"ticks\":\"\"},\"colorscale\":[[0.0,\"#0d0887\"],[0.1111111111111111,\"#46039f\"],[0.2222222222222222,\"#7201a8\"],[0.3333333333333333,\"#9c179e\"],[0.4444444444444444,\"#bd3786\"],[0.5555555555555556,\"#d8576b\"],[0.6666666666666666,\"#ed7953\"],[0.7777777777777778,\"#fb9f3a\"],[0.8888888888888888,\"#fdca26\"],[1.0,\"#f0f921\"]]}],\"heatmap\":[{\"type\":\"heatmap\",\"colorbar\":{\"outlinewidth\":0,\"ticks\":\"\"},\"colorscale\":[[0.0,\"#0d0887\"],[0.1111111111111111,\"#46039f\"],[0.2222222222222222,\"#7201a8\"],[0.3333333333333333,\"#9c179e\"],[0.4444444444444444,\"#bd3786\"],[0.5555555555555556,\"#d8576b\"],[0.6666666666666666,\"#ed7953\"],[0.7777777777777778,\"#fb9f3a\"],[0.8888888888888888,\"#fdca26\"],[1.0,\"#f0f921\"]]}],\"heatmapgl\":[{\"type\":\"heatmapgl\",\"colorbar\":{\"outlinewidth\":0,\"ticks\":\"\"},\"colorscale\":[[0.0,\"#0d0887\"],[0.1111111111111111,\"#46039f\"],[0.2222222222222222,\"#7201a8\"],[0.3333333333333333,\"#9c179e\"],[0.4444444444444444,\"#bd3786\"],[0.5555555555555556,\"#d8576b\"],[0.6666666666666666,\"#ed7953\"],[0.7777777777777778,\"#fb9f3a\"],[0.8888888888888888,\"#fdca26\"],[1.0,\"#f0f921\"]]}],\"contourcarpet\":[{\"type\":\"contourcarpet\",\"colorbar\":{\"outlinewidth\":0,\"ticks\":\"\"}}],\"contour\":[{\"type\":\"contour\",\"colorbar\":{\"outlinewidth\":0,\"ticks\":\"\"},\"colorscale\":[[0.0,\"#0d0887\"],[0.1111111111111111,\"#46039f\"],[0.2222222222222222,\"#7201a8\"],[0.3333333333333333,\"#9c179e\"],[0.4444444444444444,\"#bd3786\"],[0.5555555555555556,\"#d8576b\"],[0.6666666666666666,\"#ed7953\"],[0.7777777777777778,\"#fb9f3a\"],[0.8888888888888888,\"#fdca26\"],[1.0,\"#f0f921\"]]}],\"surface\":[{\"type\":\"surface\",\"colorbar\":{\"outlinewidth\":0,\"ticks\":\"\"},\"colorscale\":[[0.0,\"#0d0887\"],[0.1111111111111111,\"#46039f\"],[0.2222222222222222,\"#7201a8\"],[0.3333333333333333,\"#9c179e\"],[0.4444444444444444,\"#bd3786\"],[0.5555555555555556,\"#d8576b\"],[0.6666666666666666,\"#ed7953\"],[0.7777777777777778,\"#fb9f3a\"],[0.8888888888888888,\"#fdca26\"],[1.0,\"#f0f921\"]]}],\"mesh3d\":[{\"type\":\"mesh3d\",\"colorbar\":{\"outlinewidth\":0,\"ticks\":\"\"}}],\"scatter\":[{\"fillpattern\":{\"fillmode\":\"overlay\",\"size\":10,\"solidity\":0.2},\"type\":\"scatter\"}],\"parcoords\":[{\"type\":\"parcoords\",\"line\":{\"colorbar\":{\"outlinewidth\":0,\"ticks\":\"\"}}}],\"scatterpolargl\":[{\"type\":\"scatterpolargl\",\"marker\":{\"colorbar\":{\"outlinewidth\":0,\"ticks\":\"\"}}}],\"bar\":[{\"error_x\":{\"color\":\"#2a3f5f\"},\"error_y\":{\"color\":\"#2a3f5f\"},\"marker\":{\"line\":{\"color\":\"#E5ECF6\",\"width\":0.5},\"pattern\":{\"fillmode\":\"overlay\",\"size\":10,\"solidity\":0.2}},\"type\":\"bar\"}],\"scattergeo\":[{\"type\":\"scattergeo\",\"marker\":{\"colorbar\":{\"outlinewidth\":0,\"ticks\":\"\"}}}],\"scatterpolar\":[{\"type\":\"scatterpolar\",\"marker\":{\"colorbar\":{\"outlinewidth\":0,\"ticks\":\"\"}}}],\"histogram\":[{\"marker\":{\"pattern\":{\"fillmode\":\"overlay\",\"size\":10,\"solidity\":0.2}},\"type\":\"histogram\"}],\"scattergl\":[{\"type\":\"scattergl\",\"marker\":{\"colorbar\":{\"outlinewidth\":0,\"ticks\":\"\"}}}],\"scatter3d\":[{\"type\":\"scatter3d\",\"line\":{\"colorbar\":{\"outlinewidth\":0,\"ticks\":\"\"}},\"marker\":{\"colorbar\":{\"outlinewidth\":0,\"ticks\":\"\"}}}],\"scattermapbox\":[{\"type\":\"scattermapbox\",\"marker\":{\"colorbar\":{\"outlinewidth\":0,\"ticks\":\"\"}}}],\"scatterternary\":[{\"type\":\"scatterternary\",\"marker\":{\"colorbar\":{\"outlinewidth\":0,\"ticks\":\"\"}}}],\"scattercarpet\":[{\"type\":\"scattercarpet\",\"marker\":{\"colorbar\":{\"outlinewidth\":0,\"ticks\":\"\"}}}],\"carpet\":[{\"aaxis\":{\"endlinecolor\":\"#2a3f5f\",\"gridcolor\":\"white\",\"linecolor\":\"white\",\"minorgridcolor\":\"white\",\"startlinecolor\":\"#2a3f5f\"},\"baxis\":{\"endlinecolor\":\"#2a3f5f\",\"gridcolor\":\"white\",\"linecolor\":\"white\",\"minorgridcolor\":\"white\",\"startlinecolor\":\"#2a3f5f\"},\"type\":\"carpet\"}],\"table\":[{\"cells\":{\"fill\":{\"color\":\"#EBF0F8\"},\"line\":{\"color\":\"white\"}},\"header\":{\"fill\":{\"color\":\"#C8D4E3\"},\"line\":{\"color\":\"white\"}},\"type\":\"table\"}],\"barpolar\":[{\"marker\":{\"line\":{\"color\":\"#E5ECF6\",\"width\":0.5},\"pattern\":{\"fillmode\":\"overlay\",\"size\":10,\"solidity\":0.2}},\"type\":\"barpolar\"}],\"pie\":[{\"automargin\":true,\"type\":\"pie\"}]},\"layout\":{\"autotypenumbers\":\"strict\",\"colorway\":[\"#636efa\",\"#EF553B\",\"#00cc96\",\"#ab63fa\",\"#FFA15A\",\"#19d3f3\",\"#FF6692\",\"#B6E880\",\"#FF97FF\",\"#FECB52\"],\"font\":{\"color\":\"#2a3f5f\"},\"hovermode\":\"closest\",\"hoverlabel\":{\"align\":\"left\"},\"paper_bgcolor\":\"white\",\"plot_bgcolor\":\"#E5ECF6\",\"polar\":{\"bgcolor\":\"#E5ECF6\",\"angularaxis\":{\"gridcolor\":\"white\",\"linecolor\":\"white\",\"ticks\":\"\"},\"radialaxis\":{\"gridcolor\":\"white\",\"linecolor\":\"white\",\"ticks\":\"\"}},\"ternary\":{\"bgcolor\":\"#E5ECF6\",\"aaxis\":{\"gridcolor\":\"white\",\"linecolor\":\"white\",\"ticks\":\"\"},\"baxis\":{\"gridcolor\":\"white\",\"linecolor\":\"white\",\"ticks\":\"\"},\"caxis\":{\"gridcolor\":\"white\",\"linecolor\":\"white\",\"ticks\":\"\"}},\"coloraxis\":{\"colorbar\":{\"outlinewidth\":0,\"ticks\":\"\"}},\"colorscale\":{\"sequential\":[[0.0,\"#0d0887\"],[0.1111111111111111,\"#46039f\"],[0.2222222222222222,\"#7201a8\"],[0.3333333333333333,\"#9c179e\"],[0.4444444444444444,\"#bd3786\"],[0.5555555555555556,\"#d8576b\"],[0.6666666666666666,\"#ed7953\"],[0.7777777777777778,\"#fb9f3a\"],[0.8888888888888888,\"#fdca26\"],[1.0,\"#f0f921\"]],\"sequentialminus\":[[0.0,\"#0d0887\"],[0.1111111111111111,\"#46039f\"],[0.2222222222222222,\"#7201a8\"],[0.3333333333333333,\"#9c179e\"],[0.4444444444444444,\"#bd3786\"],[0.5555555555555556,\"#d8576b\"],[0.6666666666666666,\"#ed7953\"],[0.7777777777777778,\"#fb9f3a\"],[0.8888888888888888,\"#fdca26\"],[1.0,\"#f0f921\"]],\"diverging\":[[0,\"#8e0152\"],[0.1,\"#c51b7d\"],[0.2,\"#de77ae\"],[0.3,\"#f1b6da\"],[0.4,\"#fde0ef\"],[0.5,\"#f7f7f7\"],[0.6,\"#e6f5d0\"],[0.7,\"#b8e186\"],[0.8,\"#7fbc41\"],[0.9,\"#4d9221\"],[1,\"#276419\"]]},\"xaxis\":{\"gridcolor\":\"white\",\"linecolor\":\"white\",\"ticks\":\"\",\"title\":{\"standoff\":15},\"zerolinecolor\":\"white\",\"automargin\":true,\"zerolinewidth\":2},\"yaxis\":{\"gridcolor\":\"white\",\"linecolor\":\"white\",\"ticks\":\"\",\"title\":{\"standoff\":15},\"zerolinecolor\":\"white\",\"automargin\":true,\"zerolinewidth\":2},\"scene\":{\"xaxis\":{\"backgroundcolor\":\"#E5ECF6\",\"gridcolor\":\"white\",\"linecolor\":\"white\",\"showbackground\":true,\"ticks\":\"\",\"zerolinecolor\":\"white\",\"gridwidth\":2},\"yaxis\":{\"backgroundcolor\":\"#E5ECF6\",\"gridcolor\":\"white\",\"linecolor\":\"white\",\"showbackground\":true,\"ticks\":\"\",\"zerolinecolor\":\"white\",\"gridwidth\":2},\"zaxis\":{\"backgroundcolor\":\"#E5ECF6\",\"gridcolor\":\"white\",\"linecolor\":\"white\",\"showbackground\":true,\"ticks\":\"\",\"zerolinecolor\":\"white\",\"gridwidth\":2}},\"shapedefaults\":{\"line\":{\"color\":\"#2a3f5f\"}},\"annotationdefaults\":{\"arrowcolor\":\"#2a3f5f\",\"arrowhead\":0,\"arrowwidth\":1},\"geo\":{\"bgcolor\":\"white\",\"landcolor\":\"#E5ECF6\",\"subunitcolor\":\"white\",\"showland\":true,\"showlakes\":true,\"lakecolor\":\"white\"},\"title\":{\"x\":0.05},\"mapbox\":{\"style\":\"light\"}}},\"xaxis\":{\"anchor\":\"y\",\"domain\":[0.0,1.0],\"title\":{\"text\":\"FPR\"},\"constrain\":\"domain\"},\"yaxis\":{\"anchor\":\"x\",\"domain\":[0.0,1.0],\"title\":{\"text\":\"TPR\"},\"scaleanchor\":\"x\",\"scaleratio\":1},\"legend\":{\"tracegroupgap\":0},\"title\":{\"text\":\"ROC Curve (AUC=0.804)\"},\"height\":700,\"width\":800,\"annotations\":[{\"arrowhead\":1,\"showarrow\":true,\"text\":\"Threshold nearest 60% = 0.65\",\"x\":0.4318181818181818,\"y\":0.88}],\"shapes\":[{\"line\":{\"dash\":\"dash\"},\"type\":\"line\",\"x0\":0,\"x1\":1,\"y0\":0,\"y1\":1}]},                        {\"responsive\": true}                    ).then(function(){\n",
       "                            \n",
       "var gd = document.getElementById('124ee274-4321-4e1b-8d82-ab103977632c');\n",
       "var x = new MutationObserver(function (mutations, observer) {{\n",
       "        var display = window.getComputedStyle(gd).display;\n",
       "        if (!display || display === 'none') {{\n",
       "            console.log([gd, 'removed!']);\n",
       "            Plotly.purge(gd);\n",
       "            observer.disconnect();\n",
       "        }}\n",
       "}});\n",
       "\n",
       "// Listen for the removal of the full notebook cells\n",
       "var notebookContainer = gd.closest('#notebook-container');\n",
       "if (notebookContainer) {{\n",
       "    x.observe(notebookContainer, {childList: true});\n",
       "}}\n",
       "\n",
       "// Listen for the clearing of the current output cell\n",
       "var outputEl = gd.closest('.output');\n",
       "if (outputEl) {{\n",
       "    x.observe(outputEl, {childList: true});\n",
       "}}\n",
       "\n",
       "                        })                };                });            </script>        </div>"
      ]
     },
     "metadata": {},
     "output_type": "display_data"
    }
   ],
   "source": [
    "# choose a threshold for prediction.\n",
    "make_rocauc(.60)"
   ]
  },
  {
   "cell_type": "markdown",
   "id": "dependent-surge",
   "metadata": {},
   "source": [
    "## Take a look at the final results"
   ]
  },
  {
   "cell_type": "code",
   "execution_count": 250,
   "id": "initial-enclosure",
   "metadata": {},
   "outputs": [
    {
     "data": {
      "text/html": [
       "<div>\n",
       "<style scoped>\n",
       "    .dataframe tbody tr th:only-of-type {\n",
       "        vertical-align: middle;\n",
       "    }\n",
       "\n",
       "    .dataframe tbody tr th {\n",
       "        vertical-align: top;\n",
       "    }\n",
       "\n",
       "    .dataframe thead th {\n",
       "        text-align: right;\n",
       "    }\n",
       "</style>\n",
       "<table border=\"1\" class=\"dataframe\">\n",
       "  <thead>\n",
       "    <tr style=\"text-align: right;\">\n",
       "      <th></th>\n",
       "      <th>fi</th>\n",
       "    </tr>\n",
       "  </thead>\n",
       "  <tbody>\n",
       "    <tr>\n",
       "      <th>Credit_History</th>\n",
       "      <td>0.547725</td>\n",
       "    </tr>\n",
       "    <tr>\n",
       "      <th>ln_total_income</th>\n",
       "      <td>0.113051</td>\n",
       "    </tr>\n",
       "    <tr>\n",
       "      <th>ln_monthly_return</th>\n",
       "      <td>0.102738</td>\n",
       "    </tr>\n",
       "    <tr>\n",
       "      <th>ln_LoanAmount</th>\n",
       "      <td>0.095459</td>\n",
       "    </tr>\n",
       "    <tr>\n",
       "      <th>Property_Area_Urban</th>\n",
       "      <td>0.047244</td>\n",
       "    </tr>\n",
       "    <tr>\n",
       "      <th>Married</th>\n",
       "      <td>0.037632</td>\n",
       "    </tr>\n",
       "    <tr>\n",
       "      <th>Property_Area_Semiurban</th>\n",
       "      <td>0.019667</td>\n",
       "    </tr>\n",
       "    <tr>\n",
       "      <th>Gender</th>\n",
       "      <td>0.013626</td>\n",
       "    </tr>\n",
       "    <tr>\n",
       "      <th>Property_Area_Rural</th>\n",
       "      <td>0.012691</td>\n",
       "    </tr>\n",
       "    <tr>\n",
       "      <th>Self_Employed</th>\n",
       "      <td>0.005214</td>\n",
       "    </tr>\n",
       "    <tr>\n",
       "      <th>Education</th>\n",
       "      <td>0.004953</td>\n",
       "    </tr>\n",
       "  </tbody>\n",
       "</table>\n",
       "</div>"
      ],
      "text/plain": [
       "                               fi\n",
       "Credit_History           0.547725\n",
       "ln_total_income          0.113051\n",
       "ln_monthly_return        0.102738\n",
       "ln_LoanAmount            0.095459\n",
       "Property_Area_Urban      0.047244\n",
       "Married                  0.037632\n",
       "Property_Area_Semiurban  0.019667\n",
       "Gender                   0.013626\n",
       "Property_Area_Rural      0.012691\n",
       "Self_Employed            0.005214\n",
       "Education                0.004953"
      ]
     },
     "execution_count": 250,
     "metadata": {},
     "output_type": "execute_result"
    }
   ],
   "source": [
    "# Random Forest feature importance\n",
    "fi_df = pd.DataFrame({'fi': rf.best_estimator_.feature_importances_},index=X_train.columns).sort_values(by='fi', ascending=False)\n",
    "fi_df"
   ]
  },
  {
   "cell_type": "code",
   "execution_count": 251,
   "id": "fitting-boards",
   "metadata": {},
   "outputs": [
    {
     "data": {
      "application/vnd.plotly.v1+json": {
       "config": {
        "plotlyServerURL": "https://plot.ly"
       },
       "data": [
        {
         "marker": {
          "color": "rgb(100,200,300)"
         },
         "type": "bar",
         "x": [
          "Credit_History",
          "ln_total_income",
          "ln_monthly_return",
          "ln_LoanAmount",
          "Property_Area_Urban",
          "Married",
          "Property_Area_Semiurban",
          "Gender",
          "Property_Area_Rural",
          "Self_Employed",
          "Education"
         ],
         "y": [
          0.5477250997181282,
          0.11305074456134852,
          0.10273768422484233,
          0.09545854023504921,
          0.047244476521378156,
          0.03763174604230731,
          0.019667302766852815,
          0.013626463233857158,
          0.012690997778835618,
          0.005214057323179746,
          0.004952887594221009
         ]
        }
       ],
       "layout": {
        "autosize": true,
        "template": {
         "data": {
          "bar": [
           {
            "error_x": {
             "color": "#2a3f5f"
            },
            "error_y": {
             "color": "#2a3f5f"
            },
            "marker": {
             "line": {
              "color": "#E5ECF6",
              "width": 0.5
             },
             "pattern": {
              "fillmode": "overlay",
              "size": 10,
              "solidity": 0.2
             }
            },
            "type": "bar"
           }
          ],
          "barpolar": [
           {
            "marker": {
             "line": {
              "color": "#E5ECF6",
              "width": 0.5
             },
             "pattern": {
              "fillmode": "overlay",
              "size": 10,
              "solidity": 0.2
             }
            },
            "type": "barpolar"
           }
          ],
          "carpet": [
           {
            "aaxis": {
             "endlinecolor": "#2a3f5f",
             "gridcolor": "white",
             "linecolor": "white",
             "minorgridcolor": "white",
             "startlinecolor": "#2a3f5f"
            },
            "baxis": {
             "endlinecolor": "#2a3f5f",
             "gridcolor": "white",
             "linecolor": "white",
             "minorgridcolor": "white",
             "startlinecolor": "#2a3f5f"
            },
            "type": "carpet"
           }
          ],
          "choropleth": [
           {
            "colorbar": {
             "outlinewidth": 0,
             "ticks": ""
            },
            "type": "choropleth"
           }
          ],
          "contour": [
           {
            "colorbar": {
             "outlinewidth": 0,
             "ticks": ""
            },
            "colorscale": [
             [
              0,
              "#0d0887"
             ],
             [
              0.1111111111111111,
              "#46039f"
             ],
             [
              0.2222222222222222,
              "#7201a8"
             ],
             [
              0.3333333333333333,
              "#9c179e"
             ],
             [
              0.4444444444444444,
              "#bd3786"
             ],
             [
              0.5555555555555556,
              "#d8576b"
             ],
             [
              0.6666666666666666,
              "#ed7953"
             ],
             [
              0.7777777777777778,
              "#fb9f3a"
             ],
             [
              0.8888888888888888,
              "#fdca26"
             ],
             [
              1,
              "#f0f921"
             ]
            ],
            "type": "contour"
           }
          ],
          "contourcarpet": [
           {
            "colorbar": {
             "outlinewidth": 0,
             "ticks": ""
            },
            "type": "contourcarpet"
           }
          ],
          "heatmap": [
           {
            "colorbar": {
             "outlinewidth": 0,
             "ticks": ""
            },
            "colorscale": [
             [
              0,
              "#0d0887"
             ],
             [
              0.1111111111111111,
              "#46039f"
             ],
             [
              0.2222222222222222,
              "#7201a8"
             ],
             [
              0.3333333333333333,
              "#9c179e"
             ],
             [
              0.4444444444444444,
              "#bd3786"
             ],
             [
              0.5555555555555556,
              "#d8576b"
             ],
             [
              0.6666666666666666,
              "#ed7953"
             ],
             [
              0.7777777777777778,
              "#fb9f3a"
             ],
             [
              0.8888888888888888,
              "#fdca26"
             ],
             [
              1,
              "#f0f921"
             ]
            ],
            "type": "heatmap"
           }
          ],
          "heatmapgl": [
           {
            "colorbar": {
             "outlinewidth": 0,
             "ticks": ""
            },
            "colorscale": [
             [
              0,
              "#0d0887"
             ],
             [
              0.1111111111111111,
              "#46039f"
             ],
             [
              0.2222222222222222,
              "#7201a8"
             ],
             [
              0.3333333333333333,
              "#9c179e"
             ],
             [
              0.4444444444444444,
              "#bd3786"
             ],
             [
              0.5555555555555556,
              "#d8576b"
             ],
             [
              0.6666666666666666,
              "#ed7953"
             ],
             [
              0.7777777777777778,
              "#fb9f3a"
             ],
             [
              0.8888888888888888,
              "#fdca26"
             ],
             [
              1,
              "#f0f921"
             ]
            ],
            "type": "heatmapgl"
           }
          ],
          "histogram": [
           {
            "marker": {
             "pattern": {
              "fillmode": "overlay",
              "size": 10,
              "solidity": 0.2
             }
            },
            "type": "histogram"
           }
          ],
          "histogram2d": [
           {
            "colorbar": {
             "outlinewidth": 0,
             "ticks": ""
            },
            "colorscale": [
             [
              0,
              "#0d0887"
             ],
             [
              0.1111111111111111,
              "#46039f"
             ],
             [
              0.2222222222222222,
              "#7201a8"
             ],
             [
              0.3333333333333333,
              "#9c179e"
             ],
             [
              0.4444444444444444,
              "#bd3786"
             ],
             [
              0.5555555555555556,
              "#d8576b"
             ],
             [
              0.6666666666666666,
              "#ed7953"
             ],
             [
              0.7777777777777778,
              "#fb9f3a"
             ],
             [
              0.8888888888888888,
              "#fdca26"
             ],
             [
              1,
              "#f0f921"
             ]
            ],
            "type": "histogram2d"
           }
          ],
          "histogram2dcontour": [
           {
            "colorbar": {
             "outlinewidth": 0,
             "ticks": ""
            },
            "colorscale": [
             [
              0,
              "#0d0887"
             ],
             [
              0.1111111111111111,
              "#46039f"
             ],
             [
              0.2222222222222222,
              "#7201a8"
             ],
             [
              0.3333333333333333,
              "#9c179e"
             ],
             [
              0.4444444444444444,
              "#bd3786"
             ],
             [
              0.5555555555555556,
              "#d8576b"
             ],
             [
              0.6666666666666666,
              "#ed7953"
             ],
             [
              0.7777777777777778,
              "#fb9f3a"
             ],
             [
              0.8888888888888888,
              "#fdca26"
             ],
             [
              1,
              "#f0f921"
             ]
            ],
            "type": "histogram2dcontour"
           }
          ],
          "mesh3d": [
           {
            "colorbar": {
             "outlinewidth": 0,
             "ticks": ""
            },
            "type": "mesh3d"
           }
          ],
          "parcoords": [
           {
            "line": {
             "colorbar": {
              "outlinewidth": 0,
              "ticks": ""
             }
            },
            "type": "parcoords"
           }
          ],
          "pie": [
           {
            "automargin": true,
            "type": "pie"
           }
          ],
          "scatter": [
           {
            "fillpattern": {
             "fillmode": "overlay",
             "size": 10,
             "solidity": 0.2
            },
            "type": "scatter"
           }
          ],
          "scatter3d": [
           {
            "line": {
             "colorbar": {
              "outlinewidth": 0,
              "ticks": ""
             }
            },
            "marker": {
             "colorbar": {
              "outlinewidth": 0,
              "ticks": ""
             }
            },
            "type": "scatter3d"
           }
          ],
          "scattercarpet": [
           {
            "marker": {
             "colorbar": {
              "outlinewidth": 0,
              "ticks": ""
             }
            },
            "type": "scattercarpet"
           }
          ],
          "scattergeo": [
           {
            "marker": {
             "colorbar": {
              "outlinewidth": 0,
              "ticks": ""
             }
            },
            "type": "scattergeo"
           }
          ],
          "scattergl": [
           {
            "marker": {
             "colorbar": {
              "outlinewidth": 0,
              "ticks": ""
             }
            },
            "type": "scattergl"
           }
          ],
          "scattermapbox": [
           {
            "marker": {
             "colorbar": {
              "outlinewidth": 0,
              "ticks": ""
             }
            },
            "type": "scattermapbox"
           }
          ],
          "scatterpolar": [
           {
            "marker": {
             "colorbar": {
              "outlinewidth": 0,
              "ticks": ""
             }
            },
            "type": "scatterpolar"
           }
          ],
          "scatterpolargl": [
           {
            "marker": {
             "colorbar": {
              "outlinewidth": 0,
              "ticks": ""
             }
            },
            "type": "scatterpolargl"
           }
          ],
          "scatterternary": [
           {
            "marker": {
             "colorbar": {
              "outlinewidth": 0,
              "ticks": ""
             }
            },
            "type": "scatterternary"
           }
          ],
          "surface": [
           {
            "colorbar": {
             "outlinewidth": 0,
             "ticks": ""
            },
            "colorscale": [
             [
              0,
              "#0d0887"
             ],
             [
              0.1111111111111111,
              "#46039f"
             ],
             [
              0.2222222222222222,
              "#7201a8"
             ],
             [
              0.3333333333333333,
              "#9c179e"
             ],
             [
              0.4444444444444444,
              "#bd3786"
             ],
             [
              0.5555555555555556,
              "#d8576b"
             ],
             [
              0.6666666666666666,
              "#ed7953"
             ],
             [
              0.7777777777777778,
              "#fb9f3a"
             ],
             [
              0.8888888888888888,
              "#fdca26"
             ],
             [
              1,
              "#f0f921"
             ]
            ],
            "type": "surface"
           }
          ],
          "table": [
           {
            "cells": {
             "fill": {
              "color": "#EBF0F8"
             },
             "line": {
              "color": "white"
             }
            },
            "header": {
             "fill": {
              "color": "#C8D4E3"
             },
             "line": {
              "color": "white"
             }
            },
            "type": "table"
           }
          ]
         },
         "layout": {
          "annotationdefaults": {
           "arrowcolor": "#2a3f5f",
           "arrowhead": 0,
           "arrowwidth": 1
          },
          "autotypenumbers": "strict",
          "coloraxis": {
           "colorbar": {
            "outlinewidth": 0,
            "ticks": ""
           }
          },
          "colorscale": {
           "diverging": [
            [
             0,
             "#8e0152"
            ],
            [
             0.1,
             "#c51b7d"
            ],
            [
             0.2,
             "#de77ae"
            ],
            [
             0.3,
             "#f1b6da"
            ],
            [
             0.4,
             "#fde0ef"
            ],
            [
             0.5,
             "#f7f7f7"
            ],
            [
             0.6,
             "#e6f5d0"
            ],
            [
             0.7,
             "#b8e186"
            ],
            [
             0.8,
             "#7fbc41"
            ],
            [
             0.9,
             "#4d9221"
            ],
            [
             1,
             "#276419"
            ]
           ],
           "sequential": [
            [
             0,
             "#0d0887"
            ],
            [
             0.1111111111111111,
             "#46039f"
            ],
            [
             0.2222222222222222,
             "#7201a8"
            ],
            [
             0.3333333333333333,
             "#9c179e"
            ],
            [
             0.4444444444444444,
             "#bd3786"
            ],
            [
             0.5555555555555556,
             "#d8576b"
            ],
            [
             0.6666666666666666,
             "#ed7953"
            ],
            [
             0.7777777777777778,
             "#fb9f3a"
            ],
            [
             0.8888888888888888,
             "#fdca26"
            ],
            [
             1,
             "#f0f921"
            ]
           ],
           "sequentialminus": [
            [
             0,
             "#0d0887"
            ],
            [
             0.1111111111111111,
             "#46039f"
            ],
            [
             0.2222222222222222,
             "#7201a8"
            ],
            [
             0.3333333333333333,
             "#9c179e"
            ],
            [
             0.4444444444444444,
             "#bd3786"
            ],
            [
             0.5555555555555556,
             "#d8576b"
            ],
            [
             0.6666666666666666,
             "#ed7953"
            ],
            [
             0.7777777777777778,
             "#fb9f3a"
            ],
            [
             0.8888888888888888,
             "#fdca26"
            ],
            [
             1,
             "#f0f921"
            ]
           ]
          },
          "colorway": [
           "#636efa",
           "#EF553B",
           "#00cc96",
           "#ab63fa",
           "#FFA15A",
           "#19d3f3",
           "#FF6692",
           "#B6E880",
           "#FF97FF",
           "#FECB52"
          ],
          "font": {
           "color": "#2a3f5f"
          },
          "geo": {
           "bgcolor": "white",
           "lakecolor": "white",
           "landcolor": "#E5ECF6",
           "showlakes": true,
           "showland": true,
           "subunitcolor": "white"
          },
          "hoverlabel": {
           "align": "left"
          },
          "hovermode": "closest",
          "mapbox": {
           "style": "light"
          },
          "paper_bgcolor": "white",
          "plot_bgcolor": "#E5ECF6",
          "polar": {
           "angularaxis": {
            "gridcolor": "white",
            "linecolor": "white",
            "ticks": ""
           },
           "bgcolor": "#E5ECF6",
           "radialaxis": {
            "gridcolor": "white",
            "linecolor": "white",
            "ticks": ""
           }
          },
          "scene": {
           "xaxis": {
            "backgroundcolor": "#E5ECF6",
            "gridcolor": "white",
            "gridwidth": 2,
            "linecolor": "white",
            "showbackground": true,
            "ticks": "",
            "zerolinecolor": "white"
           },
           "yaxis": {
            "backgroundcolor": "#E5ECF6",
            "gridcolor": "white",
            "gridwidth": 2,
            "linecolor": "white",
            "showbackground": true,
            "ticks": "",
            "zerolinecolor": "white"
           },
           "zaxis": {
            "backgroundcolor": "#E5ECF6",
            "gridcolor": "white",
            "gridwidth": 2,
            "linecolor": "white",
            "showbackground": true,
            "ticks": "",
            "zerolinecolor": "white"
           }
          },
          "shapedefaults": {
           "line": {
            "color": "#2a3f5f"
           }
          },
          "ternary": {
           "aaxis": {
            "gridcolor": "white",
            "linecolor": "white",
            "ticks": ""
           },
           "baxis": {
            "gridcolor": "white",
            "linecolor": "white",
            "ticks": ""
           },
           "bgcolor": "#E5ECF6",
           "caxis": {
            "gridcolor": "white",
            "linecolor": "white",
            "ticks": ""
           }
          },
          "title": {
           "x": 0.05
          },
          "xaxis": {
           "automargin": true,
           "gridcolor": "white",
           "linecolor": "white",
           "ticks": "",
           "title": {
            "standoff": 15
           },
           "zerolinecolor": "white",
           "zerolinewidth": 2
          },
          "yaxis": {
           "automargin": true,
           "gridcolor": "white",
           "linecolor": "white",
           "ticks": "",
           "title": {
            "standoff": 15
           },
           "zerolinecolor": "white",
           "zerolinewidth": 2
          }
         }
        },
        "title": {
         "text": "Feature Importance"
        },
        "xaxis": {
         "autorange": true,
         "range": [
          -0.5,
          10.5
         ],
         "title": {
          "text": "Feature"
         },
         "type": "category"
        },
        "yaxis": {
         "autorange": true,
         "range": [
          0,
          0.5765527365453982
         ],
         "title": {
          "text": "Score"
         },
         "type": "linear"
        }
       }
      },
      "image/png": "[encoded data removed]",
      "text/html": [
       "<div>                            <div id=\"87def96a-5a86-4f7d-b585-4472a09a14e4\" class=\"plotly-graph-div\" style=\"height:525px; width:100%;\"></div>            <script type=\"text/javascript\">                require([\"plotly\"], function(Plotly) {                    window.PLOTLYENV=window.PLOTLYENV || {};                                    if (document.getElementById(\"87def96a-5a86-4f7d-b585-4472a09a14e4\")) {                    Plotly.newPlot(                        \"87def96a-5a86-4f7d-b585-4472a09a14e4\",                        [{\"marker\":{\"color\":\"rgb(100,200,300)\"},\"x\":[\"Credit_History\",\"ln_total_income\",\"ln_monthly_return\",\"ln_LoanAmount\",\"Property_Area_Urban\",\"Married\",\"Property_Area_Semiurban\",\"Gender\",\"Property_Area_Rural\",\"Self_Employed\",\"Education\"],\"y\":[0.5477250997181282,0.11305074456134852,0.10273768422484233,0.09545854023504921,0.047244476521378156,0.03763174604230731,0.019667302766852815,0.013626463233857158,0.012690997778835618,0.005214057323179746,0.004952887594221009],\"type\":\"bar\"}],                        {\"title\":{\"text\":\"Feature Importance\"},\"xaxis\":{\"title\":{\"text\":\"Feature\"}},\"yaxis\":{\"title\":{\"text\":\"Score\"}},\"template\":{\"data\":{\"histogram2dcontour\":[{\"type\":\"histogram2dcontour\",\"colorbar\":{\"outlinewidth\":0,\"ticks\":\"\"},\"colorscale\":[[0.0,\"#0d0887\"],[0.1111111111111111,\"#46039f\"],[0.2222222222222222,\"#7201a8\"],[0.3333333333333333,\"#9c179e\"],[0.4444444444444444,\"#bd3786\"],[0.5555555555555556,\"#d8576b\"],[0.6666666666666666,\"#ed7953\"],[0.7777777777777778,\"#fb9f3a\"],[0.8888888888888888,\"#fdca26\"],[1.0,\"#f0f921\"]]}],\"choropleth\":[{\"type\":\"choropleth\",\"colorbar\":{\"outlinewidth\":0,\"ticks\":\"\"}}],\"histogram2d\":[{\"type\":\"histogram2d\",\"colorbar\":{\"outlinewidth\":0,\"ticks\":\"\"},\"colorscale\":[[0.0,\"#0d0887\"],[0.1111111111111111,\"#46039f\"],[0.2222222222222222,\"#7201a8\"],[0.3333333333333333,\"#9c179e\"],[0.4444444444444444,\"#bd3786\"],[0.5555555555555556,\"#d8576b\"],[0.6666666666666666,\"#ed7953\"],[0.7777777777777778,\"#fb9f3a\"],[0.8888888888888888,\"#fdca26\"],[1.0,\"#f0f921\"]]}],\"heatmap\":[{\"type\":\"heatmap\",\"colorbar\":{\"outlinewidth\":0,\"ticks\":\"\"},\"colorscale\":[[0.0,\"#0d0887\"],[0.1111111111111111,\"#46039f\"],[0.2222222222222222,\"#7201a8\"],[0.3333333333333333,\"#9c179e\"],[0.4444444444444444,\"#bd3786\"],[0.5555555555555556,\"#d8576b\"],[0.6666666666666666,\"#ed7953\"],[0.7777777777777778,\"#fb9f3a\"],[0.8888888888888888,\"#fdca26\"],[1.0,\"#f0f921\"]]}],\"heatmapgl\":[{\"type\":\"heatmapgl\",\"colorbar\":{\"outlinewidth\":0,\"ticks\":\"\"},\"colorscale\":[[0.0,\"#0d0887\"],[0.1111111111111111,\"#46039f\"],[0.2222222222222222,\"#7201a8\"],[0.3333333333333333,\"#9c179e\"],[0.4444444444444444,\"#bd3786\"],[0.5555555555555556,\"#d8576b\"],[0.6666666666666666,\"#ed7953\"],[0.7777777777777778,\"#fb9f3a\"],[0.8888888888888888,\"#fdca26\"],[1.0,\"#f0f921\"]]}],\"contourcarpet\":[{\"type\":\"contourcarpet\",\"colorbar\":{\"outlinewidth\":0,\"ticks\":\"\"}}],\"contour\":[{\"type\":\"contour\",\"colorbar\":{\"outlinewidth\":0,\"ticks\":\"\"},\"colorscale\":[[0.0,\"#0d0887\"],[0.1111111111111111,\"#46039f\"],[0.2222222222222222,\"#7201a8\"],[0.3333333333333333,\"#9c179e\"],[0.4444444444444444,\"#bd3786\"],[0.5555555555555556,\"#d8576b\"],[0.6666666666666666,\"#ed7953\"],[0.7777777777777778,\"#fb9f3a\"],[0.8888888888888888,\"#fdca26\"],[1.0,\"#f0f921\"]]}],\"surface\":[{\"type\":\"surface\",\"colorbar\":{\"outlinewidth\":0,\"ticks\":\"\"},\"colorscale\":[[0.0,\"#0d0887\"],[0.1111111111111111,\"#46039f\"],[0.2222222222222222,\"#7201a8\"],[0.3333333333333333,\"#9c179e\"],[0.4444444444444444,\"#bd3786\"],[0.5555555555555556,\"#d8576b\"],[0.6666666666666666,\"#ed7953\"],[0.7777777777777778,\"#fb9f3a\"],[0.8888888888888888,\"#fdca26\"],[1.0,\"#f0f921\"]]}],\"mesh3d\":[{\"type\":\"mesh3d\",\"colorbar\":{\"outlinewidth\":0,\"ticks\":\"\"}}],\"scatter\":[{\"fillpattern\":{\"fillmode\":\"overlay\",\"size\":10,\"solidity\":0.2},\"type\":\"scatter\"}],\"parcoords\":[{\"type\":\"parcoords\",\"line\":{\"colorbar\":{\"outlinewidth\":0,\"ticks\":\"\"}}}],\"scatterpolargl\":[{\"type\":\"scatterpolargl\",\"marker\":{\"colorbar\":{\"outlinewidth\":0,\"ticks\":\"\"}}}],\"bar\":[{\"error_x\":{\"color\":\"#2a3f5f\"},\"error_y\":{\"color\":\"#2a3f5f\"},\"marker\":{\"line\":{\"color\":\"#E5ECF6\",\"width\":0.5},\"pattern\":{\"fillmode\":\"overlay\",\"size\":10,\"solidity\":0.2}},\"type\":\"bar\"}],\"scattergeo\":[{\"type\":\"scattergeo\",\"marker\":{\"colorbar\":{\"outlinewidth\":0,\"ticks\":\"\"}}}],\"scatterpolar\":[{\"type\":\"scatterpolar\",\"marker\":{\"colorbar\":{\"outlinewidth\":0,\"ticks\":\"\"}}}],\"histogram\":[{\"marker\":{\"pattern\":{\"fillmode\":\"overlay\",\"size\":10,\"solidity\":0.2}},\"type\":\"histogram\"}],\"scattergl\":[{\"type\":\"scattergl\",\"marker\":{\"colorbar\":{\"outlinewidth\":0,\"ticks\":\"\"}}}],\"scatter3d\":[{\"type\":\"scatter3d\",\"line\":{\"colorbar\":{\"outlinewidth\":0,\"ticks\":\"\"}},\"marker\":{\"colorbar\":{\"outlinewidth\":0,\"ticks\":\"\"}}}],\"scattermapbox\":[{\"type\":\"scattermapbox\",\"marker\":{\"colorbar\":{\"outlinewidth\":0,\"ticks\":\"\"}}}],\"scatterternary\":[{\"type\":\"scatterternary\",\"marker\":{\"colorbar\":{\"outlinewidth\":0,\"ticks\":\"\"}}}],\"scattercarpet\":[{\"type\":\"scattercarpet\",\"marker\":{\"colorbar\":{\"outlinewidth\":0,\"ticks\":\"\"}}}],\"carpet\":[{\"aaxis\":{\"endlinecolor\":\"#2a3f5f\",\"gridcolor\":\"white\",\"linecolor\":\"white\",\"minorgridcolor\":\"white\",\"startlinecolor\":\"#2a3f5f\"},\"baxis\":{\"endlinecolor\":\"#2a3f5f\",\"gridcolor\":\"white\",\"linecolor\":\"white\",\"minorgridcolor\":\"white\",\"startlinecolor\":\"#2a3f5f\"},\"type\":\"carpet\"}],\"table\":[{\"cells\":{\"fill\":{\"color\":\"#EBF0F8\"},\"line\":{\"color\":\"white\"}},\"header\":{\"fill\":{\"color\":\"#C8D4E3\"},\"line\":{\"color\":\"white\"}},\"type\":\"table\"}],\"barpolar\":[{\"marker\":{\"line\":{\"color\":\"#E5ECF6\",\"width\":0.5},\"pattern\":{\"fillmode\":\"overlay\",\"size\":10,\"solidity\":0.2}},\"type\":\"barpolar\"}],\"pie\":[{\"automargin\":true,\"type\":\"pie\"}]},\"layout\":{\"autotypenumbers\":\"strict\",\"colorway\":[\"#636efa\",\"#EF553B\",\"#00cc96\",\"#ab63fa\",\"#FFA15A\",\"#19d3f3\",\"#FF6692\",\"#B6E880\",\"#FF97FF\",\"#FECB52\"],\"font\":{\"color\":\"#2a3f5f\"},\"hovermode\":\"closest\",\"hoverlabel\":{\"align\":\"left\"},\"paper_bgcolor\":\"white\",\"plot_bgcolor\":\"#E5ECF6\",\"polar\":{\"bgcolor\":\"#E5ECF6\",\"angularaxis\":{\"gridcolor\":\"white\",\"linecolor\":\"white\",\"ticks\":\"\"},\"radialaxis\":{\"gridcolor\":\"white\",\"linecolor\":\"white\",\"ticks\":\"\"}},\"ternary\":{\"bgcolor\":\"#E5ECF6\",\"aaxis\":{\"gridcolor\":\"white\",\"linecolor\":\"white\",\"ticks\":\"\"},\"baxis\":{\"gridcolor\":\"white\",\"linecolor\":\"white\",\"ticks\":\"\"},\"caxis\":{\"gridcolor\":\"white\",\"linecolor\":\"white\",\"ticks\":\"\"}},\"coloraxis\":{\"colorbar\":{\"outlinewidth\":0,\"ticks\":\"\"}},\"colorscale\":{\"sequential\":[[0.0,\"#0d0887\"],[0.1111111111111111,\"#46039f\"],[0.2222222222222222,\"#7201a8\"],[0.3333333333333333,\"#9c179e\"],[0.4444444444444444,\"#bd3786\"],[0.5555555555555556,\"#d8576b\"],[0.6666666666666666,\"#ed7953\"],[0.7777777777777778,\"#fb9f3a\"],[0.8888888888888888,\"#fdca26\"],[1.0,\"#f0f921\"]],\"sequentialminus\":[[0.0,\"#0d0887\"],[0.1111111111111111,\"#46039f\"],[0.2222222222222222,\"#7201a8\"],[0.3333333333333333,\"#9c179e\"],[0.4444444444444444,\"#bd3786\"],[0.5555555555555556,\"#d8576b\"],[0.6666666666666666,\"#ed7953\"],[0.7777777777777778,\"#fb9f3a\"],[0.8888888888888888,\"#fdca26\"],[1.0,\"#f0f921\"]],\"diverging\":[[0,\"#8e0152\"],[0.1,\"#c51b7d\"],[0.2,\"#de77ae\"],[0.3,\"#f1b6da\"],[0.4,\"#fde0ef\"],[0.5,\"#f7f7f7\"],[0.6,\"#e6f5d0\"],[0.7,\"#b8e186\"],[0.8,\"#7fbc41\"],[0.9,\"#4d9221\"],[1,\"#276419\"]]},\"xaxis\":{\"gridcolor\":\"white\",\"linecolor\":\"white\",\"ticks\":\"\",\"title\":{\"standoff\":15},\"zerolinecolor\":\"white\",\"automargin\":true,\"zerolinewidth\":2},\"yaxis\":{\"gridcolor\":\"white\",\"linecolor\":\"white\",\"ticks\":\"\",\"title\":{\"standoff\":15},\"zerolinecolor\":\"white\",\"automargin\":true,\"zerolinewidth\":2},\"scene\":{\"xaxis\":{\"backgroundcolor\":\"#E5ECF6\",\"gridcolor\":\"white\",\"linecolor\":\"white\",\"showbackground\":true,\"ticks\":\"\",\"zerolinecolor\":\"white\",\"gridwidth\":2},\"yaxis\":{\"backgroundcolor\":\"#E5ECF6\",\"gridcolor\":\"white\",\"linecolor\":\"white\",\"showbackground\":true,\"ticks\":\"\",\"zerolinecolor\":\"white\",\"gridwidth\":2},\"zaxis\":{\"backgroundcolor\":\"#E5ECF6\",\"gridcolor\":\"white\",\"linecolor\":\"white\",\"showbackground\":true,\"ticks\":\"\",\"zerolinecolor\":\"white\",\"gridwidth\":2}},\"shapedefaults\":{\"line\":{\"color\":\"#2a3f5f\"}},\"annotationdefaults\":{\"arrowcolor\":\"#2a3f5f\",\"arrowhead\":0,\"arrowwidth\":1},\"geo\":{\"bgcolor\":\"white\",\"landcolor\":\"#E5ECF6\",\"subunitcolor\":\"white\",\"showland\":true,\"showlakes\":true,\"lakecolor\":\"white\"},\"title\":{\"x\":0.05},\"mapbox\":{\"style\":\"light\"}}}},                        {\"responsive\": true}                    ).then(function(){\n",
       "                            \n",
       "var gd = document.getElementById('87def96a-5a86-4f7d-b585-4472a09a14e4');\n",
       "var x = new MutationObserver(function (mutations, observer) {{\n",
       "        var display = window.getComputedStyle(gd).display;\n",
       "        if (!display || display === 'none') {{\n",
       "            console.log([gd, 'removed!']);\n",
       "            Plotly.purge(gd);\n",
       "            observer.disconnect();\n",
       "        }}\n",
       "}});\n",
       "\n",
       "// Listen for the removal of the full notebook cells\n",
       "var notebookContainer = gd.closest('#notebook-container');\n",
       "if (notebookContainer) {{\n",
       "    x.observe(notebookContainer, {childList: true});\n",
       "}}\n",
       "\n",
       "// Listen for the clearing of the current output cell\n",
       "var outputEl = gd.closest('.output');\n",
       "if (outputEl) {{\n",
       "    x.observe(outputEl, {childList: true});\n",
       "}}\n",
       "\n",
       "                        })                };                });            </script>        </div>"
      ]
     },
     "metadata": {},
     "output_type": "display_data"
    }
   ],
   "source": [
    "# display results with plotly\n",
    "trace0 = go.Bar(x= fi_df.index,\n",
    "                y= fi_df['fi'].values,\n",
    "                marker=dict(color='rgb(100,200,300)'))\n",
    "\n",
    "# now the layout\n",
    "layout=go.Layout(title='Feature Importance',\n",
    "                   xaxis= dict(title='Feature'),\n",
    "                   yaxis=dict(title='Score'))\n",
    "# bind using go.Figure\n",
    "fig = go.Figure(data=[trace0], layout=layout)\n",
    "fig"
   ]
  },
  {
   "cell_type": "code",
   "execution_count": 252,
   "id": "patent-baker",
   "metadata": {},
   "outputs": [
    {
     "data": {
      "text/html": [
       "<div>\n",
       "<style scoped>\n",
       "    .dataframe tbody tr th:only-of-type {\n",
       "        vertical-align: middle;\n",
       "    }\n",
       "\n",
       "    .dataframe tbody tr th {\n",
       "        vertical-align: top;\n",
       "    }\n",
       "\n",
       "    .dataframe thead th {\n",
       "        text-align: right;\n",
       "    }\n",
       "</style>\n",
       "<table border=\"1\" class=\"dataframe\">\n",
       "  <thead>\n",
       "    <tr style=\"text-align: right;\">\n",
       "      <th></th>\n",
       "      <th>453</th>\n",
       "      <th>338</th>\n",
       "      <th>370</th>\n",
       "    </tr>\n",
       "  </thead>\n",
       "  <tbody>\n",
       "    <tr>\n",
       "      <th>Credit_History</th>\n",
       "      <td>1.000000</td>\n",
       "      <td>0.000000</td>\n",
       "      <td>1.000000</td>\n",
       "    </tr>\n",
       "    <tr>\n",
       "      <th>ln_total_income</th>\n",
       "      <td>0.215540</td>\n",
       "      <td>0.204102</td>\n",
       "      <td>2.054703</td>\n",
       "    </tr>\n",
       "    <tr>\n",
       "      <th>ln_monthly_return</th>\n",
       "      <td>0.696087</td>\n",
       "      <td>-0.492724</td>\n",
       "      <td>0.141039</td>\n",
       "    </tr>\n",
       "    <tr>\n",
       "      <th>ln_LoanAmount</th>\n",
       "      <td>0.931103</td>\n",
       "      <td>-0.381281</td>\n",
       "      <td>0.318360</td>\n",
       "    </tr>\n",
       "  </tbody>\n",
       "</table>\n",
       "</div>"
      ],
      "text/plain": [
       "                        453       338       370\n",
       "Credit_History     1.000000  0.000000  1.000000\n",
       "ln_total_income    0.215540  0.204102  2.054703\n",
       "ln_monthly_return  0.696087 -0.492724  0.141039\n",
       "ln_LoanAmount      0.931103 -0.381281  0.318360"
      ]
     },
     "execution_count": 252,
     "metadata": {},
     "output_type": "execute_result"
    }
   ],
   "source": [
    "# what are the key variables like?\n",
    "X_test[['Credit_History', 'ln_total_income', 'ln_monthly_return', 'ln_LoanAmount']].sample(3).T"
   ]
  },
  {
   "cell_type": "markdown",
   "id": "textile-louis",
   "metadata": {},
   "source": [
    "## Pickle the model and its preprocessing steps"
   ]
  },
  {
   "cell_type": "code",
   "execution_count": 253,
   "id": "gorgeous-resort",
   "metadata": {},
   "outputs": [],
   "source": [
    "# save the dataframes for visualization\n",
    "approved.to_csv('../model_components/approved_loans.csv', index=False)\n",
    "denied.to_csv('../model_components/denied_loans.csv', index=False)"
   ]
  },
  {
   "cell_type": "code",
   "execution_count": 254,
   "id": "accessible-software",
   "metadata": {},
   "outputs": [],
   "source": [
    "# pickle your random forest model\n",
    "filename = open('../model_components/loan_approval_rf_model_new.pkl', 'wb')\n",
    "pickle.dump(rf, filename)\n",
    "filename.close()"
   ]
  },
  {
   "cell_type": "code",
   "execution_count": 255,
   "id": "incorrect-amazon",
   "metadata": {},
   "outputs": [],
   "source": [
    "# encoder1\n",
    "filename = open('../model_components/loan_approval_onehot_encoder_new.pkl', 'wb')\n",
    "pickle.dump(encoder1, filename)\n",
    "filename.close()"
   ]
  },
  {
   "cell_type": "code",
   "execution_count": 256,
   "id": "norman-doctrine",
   "metadata": {},
   "outputs": [],
   "source": [
    "# ss_scaler1: monthly_return\n",
    "filename = open('../model_components/loan_approval_ss_scaler1_new.pkl', 'wb')\n",
    "pickle.dump(ss_scaler1, filename)\n",
    "filename.close()"
   ]
  },
  {
   "cell_type": "code",
   "execution_count": 257,
   "id": "handy-actress",
   "metadata": {},
   "outputs": [],
   "source": [
    "# ss_scaler2: ln_total_income\n",
    "filename = open('../model_components/loan_approval_total_income_new.pkl', 'wb')\n",
    "pickle.dump(ss_scaler2, filename)\n",
    "filename.close()"
   ]
  },
  {
   "cell_type": "code",
   "execution_count": 258,
   "id": "finite-navigation",
   "metadata": {},
   "outputs": [],
   "source": [
    "# ss_scaler3: loan_amount\n",
    "filename = open('../model_components/loan_approval_loan_amount_new.pkl', 'wb')\n",
    "pickle.dump(ss_scaler3, filename)\n",
    "filename.close()"
   ]
  },
  {
   "cell_type": "code",
   "execution_count": null,
   "id": "97599645-1bda-4646-a8c5-9ec73315b2df",
   "metadata": {},
   "outputs": [],
   "source": []
  }
 ],
 "metadata": {
  "kernelspec": {
   "display_name": "default:Python",
   "language": "python",
   "name": "conda-env-default-py"
  },
  "language_info": {
   "codemirror_mode": {
    "name": "ipython",
    "version": 3
   },
   "file_extension": ".py",
   "mimetype": "text/x-python",
   "name": "python",
   "nbconvert_exporter": "python",
   "pygments_lexer": "ipython3",
   "version": "3.9.12"
  }
 },
 "nbformat": 4,
 "nbformat_minor": 5
}
